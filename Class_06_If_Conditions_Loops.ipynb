{
 "cells": [
  {
   "cell_type": "code",
   "execution_count": null,
   "id": "1abe94d2",
   "metadata": {},
   "outputs": [],
   "source": [
    "# Conditional Statements - else is optional\n",
    "\n",
    "# if\n",
    "# if-else\n",
    "# if-elif-else\n",
    "\n"
   ]
  },
  {
   "cell_type": "code",
   "execution_count": 2,
   "id": "5b4459dc",
   "metadata": {
    "ExecuteTime": {
     "end_time": "2022-01-17T14:11:03.328334Z",
     "start_time": "2022-01-17T14:11:00.496574Z"
    }
   },
   "outputs": [
    {
     "name": "stdout",
     "output_type": "stream",
     "text": [
      "Enter first number: 8\n",
      "True\n"
     ]
    }
   ],
   "source": [
    "# Write a program which prints True if number is even else prints False\n",
    "\n",
    "num = int(input('Enter first number: '))\n",
    "if num%2 == 0:\n",
    "    print(True)\n",
    "else:\n",
    "    print(False)\n",
    "\n",
    "\n"
   ]
  },
  {
   "cell_type": "code",
   "execution_count": 38,
   "id": "8002d409",
   "metadata": {
    "ExecuteTime": {
     "end_time": "2022-01-17T14:38:50.248934Z",
     "start_time": "2022-01-17T14:38:46.414696Z"
    }
   },
   "outputs": [
    {
     "name": "stdout",
     "output_type": "stream",
     "text": [
      "Enter your age: 'ajhvas'\n",
      "Age is not in correct format\n"
     ]
    }
   ],
   "source": [
    "age = input('Enter your age: ')\n",
    "if type(eval(age)) == float or type(eval(age)) == int:\n",
    "    print(f'age is {int(float(age))}')\n",
    "else:\n",
    "    print('Age is not in correct format')\n",
    "\n",
    "    \n",
    "# age = \"jhsavdja\"\n",
    "# eval('jhsavdja')"
   ]
  },
  {
   "cell_type": "code",
   "execution_count": 12,
   "id": "426b2d81",
   "metadata": {
    "ExecuteTime": {
     "end_time": "2022-01-17T14:19:13.042170Z",
     "start_time": "2022-01-17T14:19:13.028835Z"
    }
   },
   "outputs": [
    {
     "name": "stdout",
     "output_type": "stream",
     "text": [
      "20\n",
      "PythonPython\n",
      "20.4\n",
      "ClassClass\n"
     ]
    }
   ],
   "source": [
    "lst = [10, 'Python', 10.20, 'Class']\n",
    "for i in lst:\n",
    "    if type(i) == str:\n",
    "        print(i*2)\n",
    "    else:\n",
    "        print(i*2)"
   ]
  },
  {
   "cell_type": "code",
   "execution_count": 14,
   "id": "32690f7f",
   "metadata": {
    "ExecuteTime": {
     "end_time": "2022-01-17T14:20:16.403697Z",
     "start_time": "2022-01-17T14:20:14.214229Z"
    }
   },
   "outputs": [
    {
     "name": "stdout",
     "output_type": "stream",
     "text": [
      "Enter first number: 90\n",
      "True\n"
     ]
    }
   ],
   "source": [
    "num = int(input('Enter first number: '))\n",
    "if num%2 == 0:\n",
    "    print(True)"
   ]
  },
  {
   "cell_type": "code",
   "execution_count": 25,
   "id": "c79c8a89",
   "metadata": {
    "ExecuteTime": {
     "end_time": "2022-01-17T14:23:59.647109Z",
     "start_time": "2022-01-17T14:23:57.120868Z"
    }
   },
   "outputs": [
    {
     "name": "stdout",
     "output_type": "stream",
     "text": [
      "Enter first number: 90\n"
     ]
    }
   ],
   "source": [
    "num = int(input('Enter first number: '))\n",
    "if '':\n",
    "    print(True)\n",
    "\n",
    "    "
   ]
  },
  {
   "cell_type": "code",
   "execution_count": 24,
   "id": "9a37a40c",
   "metadata": {
    "ExecuteTime": {
     "end_time": "2022-01-17T14:23:50.588526Z",
     "start_time": "2022-01-17T14:23:50.566092Z"
    }
   },
   "outputs": [
    {
     "data": {
      "text/plain": [
       "False"
      ]
     },
     "execution_count": 24,
     "metadata": {},
     "output_type": "execute_result"
    }
   ],
   "source": [
    "bool('')"
   ]
  },
  {
   "cell_type": "code",
   "execution_count": null,
   "id": "bb22dda6",
   "metadata": {},
   "outputs": [],
   "source": [
    "# We can not have multiple else for one.\n",
    "# One if can have only one else\n",
    "# One if lese may have multiple elif"
   ]
  },
  {
   "cell_type": "code",
   "execution_count": 29,
   "id": "764e4866",
   "metadata": {
    "ExecuteTime": {
     "end_time": "2022-01-17T14:28:59.158821Z",
     "start_time": "2022-01-17T14:28:57.589134Z"
    }
   },
   "outputs": [
    {
     "name": "stdout",
     "output_type": "stream",
     "text": [
      "Enter the number of days[1-7]: 7\n",
      "Sunday\n"
     ]
    }
   ],
   "source": [
    "# When we have multiple conditions to check then we go for if-elif-else\n",
    "\n",
    "day_num = int(input('Enter the number of days[1-7]: '))\n",
    "if day_num == 1:\n",
    "    print('Monday')\n",
    "if day_num == 2:\n",
    "    print('Tuesday')\n",
    "if day_num == 3:\n",
    "    print('Wednesday')\n",
    "if day_num == 4:\n",
    "    print('Thursday')\n",
    "if day_num == 5:\n",
    "    print('Friday')\n",
    "if day_num == 6:\n",
    "    print('Saturday')\n",
    "if day_num == 7:\n",
    "    print('Sunday')\n",
    "else:\n",
    "    print('Number is outside of range')\n",
    "\n",
    "\n"
   ]
  },
  {
   "cell_type": "code",
   "execution_count": 33,
   "id": "e79732ee",
   "metadata": {
    "ExecuteTime": {
     "end_time": "2022-01-17T14:32:33.208885Z",
     "start_time": "2022-01-17T14:32:31.496278Z"
    }
   },
   "outputs": [
    {
     "name": "stdout",
     "output_type": "stream",
     "text": [
      "Enter the number of days[1-7]: 9\n",
      "Number is outside of range\n"
     ]
    }
   ],
   "source": [
    "day_num = int(input('Enter the number of days[1-7]: '))\n",
    "if day_num == 1:\n",
    "    print('Monday')\n",
    "elif day_num == 2:\n",
    "    print('Tuesday')\n",
    "elif day_num == 3:\n",
    "    print('Wednesday')\n",
    "elif day_num == 4:\n",
    "    print('Thursday')\n",
    "elif day_num == 5:\n",
    "    print('Friday')\n",
    "elif day_num == 6:\n",
    "    print('Saturday')\n",
    "elif day_num == 7:\n",
    "    print('Sunday')\n",
    "else:\n",
    "    print('Number is outside of range')"
   ]
  },
  {
   "cell_type": "code",
   "execution_count": 36,
   "id": "b215fd49",
   "metadata": {
    "ExecuteTime": {
     "end_time": "2022-01-17T14:36:47.670975Z",
     "start_time": "2022-01-17T14:36:47.654995Z"
    }
   },
   "outputs": [
    {
     "name": "stdout",
     "output_type": "stream",
     "text": [
      "<class 'str'>\n"
     ]
    },
    {
     "data": {
      "text/plain": [
       "int"
      ]
     },
     "execution_count": 36,
     "metadata": {},
     "output_type": "execute_result"
    }
   ],
   "source": [
    "age = '10.20'\n",
    "print(type(age))\n",
    "type(int(float(age)))\n"
   ]
  },
  {
   "cell_type": "code",
   "execution_count": 41,
   "id": "fb0ec4ba",
   "metadata": {
    "ExecuteTime": {
     "end_time": "2022-01-17T14:59:33.154192Z",
     "start_time": "2022-01-17T14:59:28.830178Z"
    }
   },
   "outputs": [
    {
     "name": "stdout",
     "output_type": "stream",
     "text": [
      "Enter Mark1 85\n",
      "Enter Mark2 85\n",
      "Enter Mark3 85\n",
      "85.0\n",
      "Average : A\n"
     ]
    }
   ],
   "source": [
    "# WAP where we take input for 3 different subjects(MPC) from user and print the grade based on average marks\n",
    "\n",
    "# Average.      Grade\n",
    "# 91-100         A+\n",
    "# 81-90          A\n",
    "# 71-80          B+\n",
    "# 61-70          B\n",
    "# 51-60          C\n",
    "# 41-50          D\n",
    "# <=40           F\n",
    "\n",
    "mark1 = input('Enter Mark1 ')\n",
    "mark2 = input('Enter Mark2 ')\n",
    "mark3 = input('Enter Mark3 ')\n",
    "avg = ((float(mark1)+float(mark2)+float(mark3))/3)\n",
    "print(avg)\n",
    "if avg >90 and avg<=100 :\n",
    "    print('Average : A+')\n",
    "elif 80<avg<=90:\n",
    "    print('Average : A')\n",
    "elif avg >70 and avg<=80 :\n",
    "    print('Average : B+')\n",
    "elif avg >60 and avg<=70 :\n",
    "    print('Average : B')\n",
    "elif avg >50 and avg<=60 :\n",
    "    print('Average : C')\n",
    "elif avg >40 and avg<=50 :\n",
    "    print('Average : D')\n",
    "elif avg <=40 :\n",
    "    print('Average : F')"
   ]
  },
  {
   "cell_type": "code",
   "execution_count": 44,
   "id": "8f36aa8d",
   "metadata": {
    "ExecuteTime": {
     "end_time": "2022-01-17T15:09:07.413812Z",
     "start_time": "2022-01-17T15:09:05.183438Z"
    }
   },
   "outputs": [
    {
     "name": "stdout",
     "output_type": "stream",
     "text": [
      "Enter the Number of Calls In A Month300\n",
      "Bill Amount is :  285.0\n"
     ]
    }
   ],
   "source": [
    "# WAP where user enters the no of calls made in a month.\n",
    "\n",
    "# 1. If no of calls is upto 100 then bill amountis 200.\n",
    "# 2. from 101-150 - 0.75/per call + 200\n",
    "# 3. from 151-200 - 0.60 + \n",
    "# 4. from 201-250 - 0.25\n",
    "# 4. >250 = 0.10\n",
    "\n",
    "no_calls_month = int(input(\"Enter the Number of Calls In A Month\"))\n",
    "if no_calls_month <=100:\n",
    "    print(\"Bill Amount: 200\")\n",
    "elif no_calls_month>=101 and no_calls_month<=150:\n",
    "    print(\"Bill Amount is : \", ((0.75)*(no_calls_month-100)) + 200)\n",
    "elif no_calls_month>=151 and no_calls_month<=200:\n",
    "    print(\"Bill Amount is : \", (0.60 * (no_calls_month-150)) + (0.75)*50 + 200)\n",
    "elif no_calls_month>=201 and no_calls_month<=250:\n",
    "    print(\"Bill Amount is : \", (0.25 * (no_calls_month-200)) + (0.60 * 50) + (0.75)*50 + 200)\n",
    "elif no_calls_month > 250:\n",
    "    print(\"Bill Amount is : \", 0.10 * (no_calls_month-250) + (0.25 * 50) + (0.60 * 50) + (0.75)*50 + 200)"
   ]
  },
  {
   "cell_type": "code",
   "execution_count": null,
   "id": "e32373a8",
   "metadata": {},
   "outputs": [],
   "source": []
  },
  {
   "cell_type": "code",
   "execution_count": 43,
   "id": "e1c533ab",
   "metadata": {
    "ExecuteTime": {
     "end_time": "2022-01-17T15:03:56.953567Z",
     "start_time": "2022-01-17T15:03:56.934278Z"
    }
   },
   "outputs": [
    {
     "data": {
      "text/plain": [
       "283.9"
      ]
     },
     "execution_count": 43,
     "metadata": {},
     "output_type": "execute_result"
    }
   ],
   "source": [
    "200 + (0.75*50) + (0.60*50) + (0.25*50) + (39*0.10)"
   ]
  },
  {
   "cell_type": "code",
   "execution_count": null,
   "id": "821b5efa",
   "metadata": {},
   "outputs": [],
   "source": [
    "# Nested if else\n",
    "\n",
    "# if cond1:\n",
    "#     code1\n",
    "#     code2\n",
    "#     if cond2:\n",
    "#         code3\n",
    "#         code4\n",
    "#         if cond3:\n",
    "#             code5\n",
    "#             code6\n",
    "#         else:\n",
    "#             code7\n",
    "#             code8\n",
    "#     else:\n",
    "#         code9\n",
    "#         code10\n",
    "# else:\n",
    "#     code11\n",
    "#     code12\n",
    "    \n",
    "# if cond1, cond2 and cond3 all are True - Code1-6\n",
    "# if cond1, cond2 is True and cond3 is False - Code1-4, 7-8\n",
    "# if cond1 is True and cond2 and cond3 is False - Code1-2, 9-10\n",
    "# if cond1 is True and cond2 is False and cond3 is True - Code1-2, 9-10\n",
    "# if cond1 is False and cond2 is True and cond3 is True - Code11-22\n",
    "\n"
   ]
  },
  {
   "cell_type": "code",
   "execution_count": 49,
   "id": "15c26c8f",
   "metadata": {
    "ExecuteTime": {
     "end_time": "2022-01-17T15:29:57.462064Z",
     "start_time": "2022-01-17T15:29:57.452520Z"
    }
   },
   "outputs": [],
   "source": [
    "# WAP using nested if else to find out an year is a leap year or not\n",
    "\n",
    "# Leap year - 1600, 2000, 2004, 2020\n",
    "# NonLeap year - 1800, 1900, 1967\n",
    "# year = int(input('Enter an year: '))\n",
    "# if year%4 == 0:\n",
    "#     if year%100 == 0:\n",
    "#         if year%400 == 0:\n",
    "#             print(f'{year} is a leap year')\n",
    "#         else:\n",
    "#             print(f'{year} is not a leap Year')\n",
    "#     else:\n",
    "#         print(f'{year} is a leap year')\n",
    "# else:\n",
    "#     print(f'{year} is not a leap year')\n",
    "\n",
    "\n",
    "\n"
   ]
  },
  {
   "cell_type": "markdown",
   "id": "fa851e8e",
   "metadata": {},
   "source": [
    "# Loops in Python"
   ]
  },
  {
   "cell_type": "code",
   "execution_count": 52,
   "id": "5583c078",
   "metadata": {
    "ExecuteTime": {
     "end_time": "2022-01-17T15:31:13.622245Z",
     "start_time": "2022-01-17T15:31:13.610321Z"
    }
   },
   "outputs": [],
   "source": [
    "# print('Hi')\n",
    "# print('Hi')\n",
    "# print('Hi')\n",
    "# print('Hi')\n",
    "# print('Hi')\n",
    "# print('Hi')\n",
    "# print('Hi')\n",
    "# print('Hi')\n",
    "# print('Hi')\n",
    "# print('Hi')"
   ]
  },
  {
   "cell_type": "code",
   "execution_count": null,
   "id": "160437df",
   "metadata": {},
   "outputs": [],
   "source": [
    "# for loop\n",
    "# while loop"
   ]
  },
  {
   "cell_type": "code",
   "execution_count": 87,
   "id": "3c3d78c7",
   "metadata": {
    "ExecuteTime": {
     "end_time": "2022-01-17T15:53:42.690452Z",
     "start_time": "2022-01-17T15:53:42.683854Z"
    }
   },
   "outputs": [
    {
     "name": "stdout",
     "output_type": "stream",
     "text": [
      "[0, -1, -2, -3, -4]\n"
     ]
    }
   ],
   "source": [
    "# range(start, stop, step) - returns a range object - list\n",
    "\n",
    "#                                      Step size is +ve\n",
    "#      --------------------------------------------------------------------------------->\n",
    "# -inf ----------------------------------------0---------------------------------------- +inf\n",
    "#                                      Step size is -ve\n",
    "#      <---------------------------------------------------------------------------------\n",
    "        \n",
    "        \n",
    "# If step is +ve then start should be on left of stop\n",
    "# If step is -ve then start should be on right of stop\n",
    "\n",
    "\n",
    "# Step +/-1, +/-2, +/-3...\n",
    "\n",
    "# Default step is +1\n",
    "\n",
    "# print(list(range(1, 10)))\n",
    "# print(list(range(1, 10, 1)))\n",
    "# print(list(range(1, 10, 2)))\n",
    "# print(list(range(1, 10, 3)))\n",
    "\n",
    "# print(list(range(1, -10, -3)))\n",
    "\n",
    "# print(list(range(2, 21, 2)))\n",
    "# print(list(range(1, 21, 2)))\n",
    "\n",
    "# range(stop) - default start = 0, step =1\n",
    "# print(list(range(5)))\n",
    "# print(list(range(0, 5, 2)))\n",
    "\n",
    "print(list(range(0, -5, -1)))\n",
    "\n",
    "\n",
    "\n"
   ]
  },
  {
   "cell_type": "markdown",
   "id": "485ee85e",
   "metadata": {},
   "source": [
    "# for loop"
   ]
  },
  {
   "cell_type": "code",
   "execution_count": null,
   "id": "18058b0d",
   "metadata": {
    "ExecuteTime": {
     "start_time": "2022-01-17T15:58:40.298Z"
    }
   },
   "outputs": [
    {
     "name": "stdout",
     "output_type": "stream",
     "text": [
      "Enter employee name: ABC\n",
      "Enter employee ID: 101\n",
      "Enter Employee location: abc\n",
      "For employee no 0 the details are: \n",
      "\tABC\n",
      "\t101\n",
      "\tabc\n",
      "Enter employee name: BCA\n",
      "Enter employee ID: 102\n",
      "Enter Employee location: bca\n",
      "For employee no 1 the details are: \n",
      "\tBCA\n",
      "\t102\n",
      "\tbca\n",
      "Enter employee name: XYZ\n",
      "Enter employee ID: 103\n",
      "Enter Employee location: xyz\n",
      "For employee no 2 the details are: \n",
      "\tXYZ\n",
      "\t103\n",
      "\txyz\n"
     ]
    }
   ],
   "source": [
    "# Syntax - \n",
    "# for var in iterable:\n",
    "#     code\n",
    "\n",
    "# Iterable - any object which implememnts __iter__\n",
    "\n",
    "# for i in 10:      # TypeError: 'int' object is not iterable\n",
    "#     print(i)\n",
    "\n",
    "# my_str = 'Python Class'\n",
    "# for a in my_str:\n",
    "#     print(a)\n",
    "\n",
    "# my_lst = [10, 'Python', 10.20, None, 10+20j]\n",
    "# for i in my_lst:\n",
    "#     print(i)\n",
    "\n",
    "\n",
    "# my_tpl = (10, 'Python', 10.20, None, 10+20j)\n",
    "# for i in my_tpl:\n",
    "#     print(i)\n",
    "\n",
    "\n",
    "# my_dict = {10:100, True:None, 10.20:'Python', 10+20j:False}\n",
    "# for i in my_dict:\n",
    "#     print(i)\n",
    "#     print(my_dict[i])\n",
    "#     print()\n",
    "\n",
    "\n",
    "# for i in range(5):\n",
    "#     print('Hi')\n",
    "\n",
    "\n",
    "# WAP which takes emp_name, emp_id, emp_loc for 10 employees and prints the value for each employee\n",
    "for i in range(10):\n",
    "    emp_name = input('Enter employee name: ')\n",
    "    emp_id = input('Enter employee ID: ')\n",
    "    emp_loc = input('Enter Employee location: ')\n",
    "    print(f'For employee no {i+1} the details are: ', end = '\\n\\t')\n",
    "    print(emp_name, end = '\\n\\t')\n",
    "    print(emp_id, end = '\\n\\t')\n",
    "    print(emp_loc, end = '\\n')\n",
    "    \n",
    "\n",
    "\n"
   ]
  },
  {
   "cell_type": "code",
   "execution_count": 74,
   "id": "90803c2d",
   "metadata": {
    "ExecuteTime": {
     "end_time": "2022-01-17T15:47:45.964150Z",
     "start_time": "2022-01-17T15:47:45.945592Z"
    }
   },
   "outputs": [
    {
     "name": "stdout",
     "output_type": "stream",
     "text": [
      "['__add__', '__class__', '__contains__', '__delattr__', '__dir__', '__doc__', '__eq__', '__format__', '__ge__', '__getattribute__', '__getitem__', '__getnewargs__', '__gt__', '__hash__', '__init__', '__init_subclass__', '__iter__', '__le__', '__len__', '__lt__', '__mul__', '__ne__', '__new__', '__reduce__', '__reduce_ex__', '__repr__', '__rmul__', '__setattr__', '__sizeof__', '__str__', '__subclasshook__', 'count', 'index']\n"
     ]
    }
   ],
   "source": [
    "# TO check an object is iterable or not\n",
    "\n",
    "# print(dir(int))\n",
    "# print(dir(complex))\n",
    "\n",
    "# print(dir(str))\n",
    "\n",
    "# print(dir(list))\n",
    "\n",
    "# print(dir(dict))\n",
    "\n",
    "# print(dir(range))\n",
    "\n",
    "print(dir(tuple))"
   ]
  },
  {
   "cell_type": "code",
   "execution_count": null,
   "id": "87b6e9b6",
   "metadata": {},
   "outputs": [],
   "source": []
  },
  {
   "cell_type": "code",
   "execution_count": null,
   "id": "8aa83d9b",
   "metadata": {},
   "outputs": [],
   "source": []
  },
  {
   "cell_type": "code",
   "execution_count": null,
   "id": "bf186ba5",
   "metadata": {},
   "outputs": [],
   "source": []
  },
  {
   "cell_type": "code",
   "execution_count": null,
   "id": "914c4155",
   "metadata": {},
   "outputs": [],
   "source": []
  },
  {
   "cell_type": "code",
   "execution_count": null,
   "id": "25727f9a",
   "metadata": {},
   "outputs": [],
   "source": []
  },
  {
   "cell_type": "code",
   "execution_count": null,
   "id": "9487c253",
   "metadata": {},
   "outputs": [],
   "source": []
  },
  {
   "cell_type": "code",
   "execution_count": null,
   "id": "67dbe9aa",
   "metadata": {},
   "outputs": [],
   "source": []
  },
  {
   "cell_type": "code",
   "execution_count": null,
   "id": "f96a64db",
   "metadata": {},
   "outputs": [],
   "source": []
  },
  {
   "cell_type": "code",
   "execution_count": null,
   "id": "0312729b",
   "metadata": {},
   "outputs": [],
   "source": []
  },
  {
   "cell_type": "code",
   "execution_count": null,
   "id": "2807b9c7",
   "metadata": {},
   "outputs": [],
   "source": []
  },
  {
   "cell_type": "code",
   "execution_count": null,
   "id": "d741df33",
   "metadata": {},
   "outputs": [],
   "source": []
  },
  {
   "cell_type": "code",
   "execution_count": null,
   "id": "0fd54e87",
   "metadata": {},
   "outputs": [],
   "source": []
  },
  {
   "cell_type": "code",
   "execution_count": null,
   "id": "fa15bb1b",
   "metadata": {},
   "outputs": [],
   "source": []
  },
  {
   "cell_type": "code",
   "execution_count": null,
   "id": "ae6defdf",
   "metadata": {},
   "outputs": [],
   "source": []
  },
  {
   "cell_type": "code",
   "execution_count": null,
   "id": "50c7a5d9",
   "metadata": {},
   "outputs": [],
   "source": []
  },
  {
   "cell_type": "code",
   "execution_count": null,
   "id": "de4bd83f",
   "metadata": {},
   "outputs": [],
   "source": []
  },
  {
   "cell_type": "code",
   "execution_count": null,
   "id": "ee3d3375",
   "metadata": {},
   "outputs": [],
   "source": []
  },
  {
   "cell_type": "code",
   "execution_count": null,
   "id": "033fc370",
   "metadata": {},
   "outputs": [],
   "source": []
  },
  {
   "cell_type": "code",
   "execution_count": null,
   "id": "8e5f2e52",
   "metadata": {},
   "outputs": [],
   "source": []
  },
  {
   "cell_type": "code",
   "execution_count": null,
   "id": "3e12f297",
   "metadata": {},
   "outputs": [],
   "source": []
  },
  {
   "cell_type": "code",
   "execution_count": null,
   "id": "3a719146",
   "metadata": {},
   "outputs": [],
   "source": []
  },
  {
   "cell_type": "code",
   "execution_count": null,
   "id": "b89aba2d",
   "metadata": {},
   "outputs": [],
   "source": []
  },
  {
   "cell_type": "code",
   "execution_count": null,
   "id": "2694280a",
   "metadata": {},
   "outputs": [],
   "source": []
  },
  {
   "cell_type": "code",
   "execution_count": null,
   "id": "83a10d19",
   "metadata": {},
   "outputs": [],
   "source": []
  },
  {
   "cell_type": "code",
   "execution_count": null,
   "id": "15f903cd",
   "metadata": {},
   "outputs": [],
   "source": []
  },
  {
   "cell_type": "code",
   "execution_count": null,
   "id": "3d6e34e9",
   "metadata": {},
   "outputs": [],
   "source": []
  },
  {
   "cell_type": "code",
   "execution_count": null,
   "id": "378f9b8d",
   "metadata": {},
   "outputs": [],
   "source": []
  },
  {
   "cell_type": "code",
   "execution_count": null,
   "id": "c9762bb8",
   "metadata": {},
   "outputs": [],
   "source": []
  },
  {
   "cell_type": "code",
   "execution_count": null,
   "id": "044d50bd",
   "metadata": {},
   "outputs": [],
   "source": []
  },
  {
   "cell_type": "code",
   "execution_count": null,
   "id": "a7de6a1b",
   "metadata": {},
   "outputs": [],
   "source": []
  },
  {
   "cell_type": "code",
   "execution_count": null,
   "id": "cc8c103e",
   "metadata": {},
   "outputs": [],
   "source": []
  },
  {
   "cell_type": "code",
   "execution_count": null,
   "id": "d0426d9d",
   "metadata": {},
   "outputs": [],
   "source": []
  }
 ],
 "metadata": {
  "kernelspec": {
   "display_name": "Python 3 (ipykernel)",
   "language": "python",
   "name": "python3"
  },
  "language_info": {
   "codemirror_mode": {
    "name": "ipython",
    "version": 3
   },
   "file_extension": ".py",
   "mimetype": "text/x-python",
   "name": "python",
   "nbconvert_exporter": "python",
   "pygments_lexer": "ipython3",
   "version": "3.9.7"
  }
 },
 "nbformat": 4,
 "nbformat_minor": 5
}
