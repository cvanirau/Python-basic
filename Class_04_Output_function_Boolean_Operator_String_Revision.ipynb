{
 "cells": [
  {
   "cell_type": "code",
   "execution_count": 12,
   "id": "bd2e3d7a",
   "metadata": {
    "ExecuteTime": {
     "end_time": "2022-01-11T14:19:26.974394Z",
     "start_time": "2022-01-11T14:19:11.170505Z"
    }
   },
   "outputs": [
    {
     "name": "stdout",
     "output_type": "stream",
     "text": [
      "Enter a list: ['Python', 10, 'Class', [1, 2, 3]]\n",
      "['Python', 10, 'Class', [1, 2, 3]] <class 'list'>\n"
     ]
    }
   ],
   "source": [
    "lst = eval(input('Enter a list: '))\n",
    "print(lst, type(lst))"
   ]
  },
  {
   "cell_type": "code",
   "execution_count": 2,
   "id": "dee21878",
   "metadata": {
    "ExecuteTime": {
     "end_time": "2022-01-11T14:13:05.631463Z",
     "start_time": "2022-01-11T14:13:05.608494Z"
    }
   },
   "outputs": [
    {
     "data": {
      "text/plain": [
       "['P', 'y', 't', 'h', 'o', 'n']"
      ]
     },
     "execution_count": 2,
     "metadata": {},
     "output_type": "execute_result"
    }
   ],
   "source": [
    "list('Python')"
   ]
  },
  {
   "cell_type": "code",
   "execution_count": 5,
   "id": "3d31f834",
   "metadata": {
    "ExecuteTime": {
     "end_time": "2022-01-11T14:13:50.140779Z",
     "start_time": "2022-01-11T14:13:50.129688Z"
    }
   },
   "outputs": [
    {
     "name": "stdout",
     "output_type": "stream",
     "text": [
      "[10, 20, 30, 40] <class 'list'>\n"
     ]
    }
   ],
   "source": [
    "lst = [10,20,30,40]\n",
    "print(lst, type(lst))"
   ]
  },
  {
   "cell_type": "code",
   "execution_count": 8,
   "id": "0b27beff",
   "metadata": {
    "ExecuteTime": {
     "end_time": "2022-01-11T14:16:36.532897Z",
     "start_time": "2022-01-11T14:16:36.522016Z"
    }
   },
   "outputs": [
    {
     "data": {
      "text/plain": [
       "[10, 20, 30, 40]"
      ]
     },
     "execution_count": 8,
     "metadata": {},
     "output_type": "execute_result"
    }
   ],
   "source": [
    "list([10,20,30,40])"
   ]
  },
  {
   "cell_type": "code",
   "execution_count": 11,
   "id": "94dd1f42",
   "metadata": {
    "ExecuteTime": {
     "end_time": "2022-01-11T14:17:40.292335Z",
     "start_time": "2022-01-11T14:17:40.281992Z"
    }
   },
   "outputs": [
    {
     "name": "stdout",
     "output_type": "stream",
     "text": [
      "10.0 <class 'float'>\n"
     ]
    }
   ],
   "source": [
    "a  = eval(\"10.0\")\n",
    "print(a, type(a))"
   ]
  },
  {
   "cell_type": "code",
   "execution_count": null,
   "id": "843be925",
   "metadata": {},
   "outputs": [],
   "source": [
    "# eval('')"
   ]
  },
  {
   "cell_type": "code",
   "execution_count": 40,
   "id": "135d4a85",
   "metadata": {
    "ExecuteTime": {
     "end_time": "2022-01-11T14:41:36.016068Z",
     "start_time": "2022-01-11T14:41:33.676561Z"
    }
   },
   "outputs": [
    {
     "name": "stdout",
     "output_type": "stream",
     "text": [
      "ENter first number: 111\n",
      "ENter second number: 222\n",
      "The sum of 111 and 222 is 333\n",
      "The sum of 111 and 222 is 333\n"
     ]
    }
   ],
   "source": [
    "# Output function - print()\n",
    "\n",
    "# print(10, 20, 30, 40)\n",
    "# print(10, 20, 30, 40, sep = '-->')\n",
    "# print('CISCO', 'HP', 'JUNYPRE', 'IBM', sep = '==')\n",
    "\n",
    "# print(10, end = '\\t')\n",
    "# print(20, end = '\\t')\n",
    "# print(30, end = '\\t')\n",
    "# print(40, end = '\\t')\n",
    "\n",
    "# my_str = 'peter piper picked a peck of pickled peppers'\n",
    "# word = ''\n",
    "# for i in range(-1, -len(my_str)-1, -1):\n",
    "#     if my_str[i] == ' ':\n",
    "#         print(word)\n",
    "#         word = ''\n",
    "#     else:\n",
    "#         word += my_str[i]\n",
    "        \n",
    "# print()\n",
    "\n",
    "# Learnbay\n",
    "#     Learnbay\n",
    "#         Learnbay\n",
    "#     Learnbay\n",
    "# Learnbay\n",
    "\n",
    "# print('Learnbay', end = '\\n\\t')\n",
    "# print('Learnbay', end = '\\n\\t\\t')\n",
    "# print('Learnbay', end = '\\n\\t')\n",
    "# print('Learnbay')\n",
    "# print('Learnbay')\n",
    "\n",
    "# String output formatting\n",
    "num1 = int(input('ENter first number: '))\n",
    "num2 = int(input('ENter second number: '))\n",
    "res = num1 + num2\n",
    "print(f'The sum of {num1} and {num2} is {res}')\n",
    "print('The sum of {} and {} is {}'.format(num1, num2, res))\n",
    "\n",
    "\n",
    "\n",
    "\n",
    "\n"
   ]
  },
  {
   "cell_type": "code",
   "execution_count": 39,
   "id": "5758d11a",
   "metadata": {
    "ExecuteTime": {
     "end_time": "2022-01-11T14:40:14.273871Z",
     "start_time": "2022-01-11T14:40:14.267035Z"
    }
   },
   "outputs": [],
   "source": [
    "# The sum of 100 and 20 is 120"
   ]
  },
  {
   "cell_type": "code",
   "execution_count": 42,
   "id": "82e6fbc2",
   "metadata": {
    "ExecuteTime": {
     "end_time": "2022-01-11T14:42:18.223485Z",
     "start_time": "2022-01-11T14:42:18.206798Z"
    }
   },
   "outputs": [
    {
     "name": "stdout",
     "output_type": "stream",
     "text": [
      "10\n",
      "20\n",
      "30\n"
     ]
    }
   ],
   "source": [
    "print(10, 20, 30, sep = '\\n')"
   ]
  },
  {
   "cell_type": "code",
   "execution_count": 67,
   "id": "9e1f0b9a",
   "metadata": {
    "ExecuteTime": {
     "end_time": "2022-01-11T14:57:37.712832Z",
     "start_time": "2022-01-11T14:57:35.343358Z"
    }
   },
   "outputs": [
    {
     "name": "stdout",
     "output_type": "stream",
     "text": [
      "Enter a list: []\n",
      "Length of the list is  0\n"
     ]
    }
   ],
   "source": [
    "# Boolean - True, False\n",
    "# True == 1\n",
    "# False == 0\n",
    "# print(True + True)\n",
    "# print(100 * False)\n",
    "\n",
    "# Int to boolean - 0 is always False rest all are True\n",
    "# Float to boolean - 0.0 is always False rest all are True\n",
    "# Complex to boolean - 0.0+0.0j is always False rest all are True\n",
    "# String to boolean - '' is always False rest all are True\n",
    "# None is always False\n",
    "# List, Tuple, Set, Dictionary - [], (), (), set() - False, Rest all True\n",
    "\n",
    "# print(bool(-20))\n",
    "# print(bool(-20.0987))\n",
    "# print(bool(0+0.1j))\n",
    "# print(bool(None))\n",
    "\n",
    "# print(bool(' '))\n",
    "# print(bool(None))\n",
    "\n",
    "# print(bool([None]))\n",
    "\n",
    "\n",
    "# a = bool(int(input('Enyter First Number: ')))\n",
    "# print(a)\n",
    "\n",
    "# bool('_')\n",
    "\n",
    "# Take a list as input and if list is empty then return empty list does not have length else print the length of list\n",
    "lst = eval(input('Enter a list: '))\n",
    "if 1:\n",
    "    print('Length of the list is ', len(lst))\n",
    "else:\n",
    "    print('Empty list does not have length')\n",
    "\n"
   ]
  },
  {
   "cell_type": "code",
   "execution_count": 102,
   "id": "36086967",
   "metadata": {
    "ExecuteTime": {
     "end_time": "2022-01-11T15:22:16.627003Z",
     "start_time": "2022-01-11T15:22:16.616326Z"
    }
   },
   "outputs": [
    {
     "name": "stdout",
     "output_type": "stream",
     "text": [
      "0.30000000000000004\n"
     ]
    }
   ],
   "source": [
    "# Arithmetic - +, -, *, /(Float Division), //(Floor Division), %(Modulo), **(Exponent)\n",
    "\n",
    "a = 100\n",
    "b = 3\n",
    "# print(a/b)      # Float value - Float division\n",
    "# print(a//b)     # Floor value of float division result\n",
    "\n",
    "\n",
    "# Ceil - Highest Nearest Whole number - 11\n",
    "# num = 10.99\n",
    "# Floor - Lowest nearest whole number - 10\n",
    "\n",
    "# print(a%b)\n",
    "\n",
    "# print(a**b)\n",
    "\n",
    "# Comparison Operator - <, <=,>, >=\n",
    "# Works with similar data type, Exception ist and float\n",
    "# Returns Boolean value\n",
    "\n",
    "# print('Abc'< 'abc')\n",
    "\n",
    "# print(10<20)\n",
    "# print(10 < 10.20)\n",
    "\n",
    "# print(ord('A'))\n",
    "# print(ord('='))\n",
    "# print(ord('<'))\n",
    "\n",
    "\n",
    "# print(chr(65))\n",
    "# print(chr(61))\n",
    "# print(chr(60))\n",
    "\n",
    "# print('A' <= chr(65))\n",
    "\n",
    "# print('axy' < 'a')\n",
    "\n",
    "\n",
    "# [100, 2, 3] < [10,20,30]\n",
    "\n",
    "# \n",
    "\n",
    "# print(10+20j<5+5j)\n",
    "\n",
    "\n",
    "# Equality Operator ==, !=\n",
    "# Return Boolean Value\n",
    "# Works with different data type\n",
    "# Compares the value and type(excpet int and float)\n",
    "\n",
    "# print(10==10.0)\n",
    "\n",
    "# print(10 == '10')\n",
    "\n",
    "\n",
    "# print('10' == '10')\n",
    "\n",
    "# print(0.1+0.2)\n",
    "\n",
    "# https://www.youtube.com/watch?v=PZRI1IfStY0\n"
   ]
  },
  {
   "cell_type": "code",
   "execution_count": 105,
   "id": "aed16072",
   "metadata": {
    "ExecuteTime": {
     "end_time": "2022-01-11T15:30:11.321532Z",
     "start_time": "2022-01-11T15:30:11.308670Z"
    }
   },
   "outputs": [
    {
     "name": "stdout",
     "output_type": "stream",
     "text": [
      "0\n",
      "10\n"
     ]
    }
   ],
   "source": [
    "\n",
    "#and - False\n",
    "# False and True = False\n",
    "# True and False = False\n",
    "# False and False = False\n",
    "# True and True = True\n",
    "\n",
    "\n",
    "# #or - True\n",
    "# False or True = True\n",
    "# True or False = True\n",
    "# False or False = False\n",
    "# True or True = True\n",
    "\n",
    "\n",
    "print(0 and 0.0)\n",
    "print(10 or 0)\n",
    "\n",
    "\n",
    "# print((10==10) and (10<20))"
   ]
  },
  {
   "cell_type": "code",
   "execution_count": 124,
   "id": "d5886f77",
   "metadata": {
    "ExecuteTime": {
     "end_time": "2022-01-11T15:42:02.946640Z",
     "start_time": "2022-01-11T15:42:02.937185Z"
    }
   },
   "outputs": [
    {
     "name": "stdout",
     "output_type": "stream",
     "text": [
      "-3104\n",
      "-4\n"
     ]
    }
   ],
   "source": [
    "# Bitwise Operator - &, |, ^, ~, << ,>>\n",
    "# Works only with integers, integers can be converted to binary values\n",
    "# Works only with the binary values\n",
    "\n",
    "# & Truth Table\n",
    "# 0 & 0 = 0\n",
    "# 0 & 1 = 0\n",
    "# 1 & 0 = 0\n",
    "# 1 & 1 = 1\n",
    "\n",
    "# | Truth Table\n",
    "# 0 | 0 = 0\n",
    "# 0 | 1 = 1\n",
    "# 1 | 0 = 1\n",
    "# 1 | 1 = 1\n",
    "\n",
    "# ^ Truth Table\n",
    "# 0 & 0 = 0\n",
    "# 0 & 1 = 1\n",
    "# 1 & 0 = 1\n",
    "# 1 & 1 = 0\n",
    "\n",
    "# print(39 | 49)\n",
    "\n",
    "# print(bin(49))\n",
    "\n",
    "# 39 = 100111\n",
    "# 49 = 110001\n",
    "# ============\n",
    "# &  = 100001\n",
    "# |  = 110111\n",
    "\n",
    "\n",
    "# print(0b100001)\n",
    "# print(0b110111)\n",
    "\n",
    "# print(0b101010)\n",
    "\n",
    "\n",
    "# Bitwise Negation - ~\n",
    "# ~num = -(num+1)\n",
    "\n",
    "# print(~10)\n",
    "# print(~-9)\n",
    "# print(~True)\n",
    "\n",
    "\n",
    "# Bitwise Left shift -> <<\n",
    "# num << no of bits => num * (2 ** no of bits)\n",
    "\n",
    "print(-97 << 5)\n",
    "# print(97 * 2 ** 5)\n",
    "\n",
    "\n",
    "# Bitwise Left shift -> <<\n",
    "# num << no of bits => num // (2 ** no of bits)\n",
    "\n",
    "print(-97 >> 5)\n",
    "# print(97 // 2 ** 5)\n",
    "\n",
    "\n"
   ]
  },
  {
   "cell_type": "code",
   "execution_count": null,
   "id": "65b2cfdb",
   "metadata": {},
   "outputs": [],
   "source": [
    "# Ternary Operator\n",
    "# Membership"
   ]
  },
  {
   "cell_type": "code",
   "execution_count": null,
   "id": "384a04cd",
   "metadata": {},
   "outputs": [],
   "source": [
    "# Compound Assignment Operator - +=, -=, *="
   ]
  },
  {
   "cell_type": "code",
   "execution_count": 132,
   "id": "b273177a",
   "metadata": {
    "ExecuteTime": {
     "end_time": "2022-01-11T15:54:49.228229Z",
     "start_time": "2022-01-11T15:54:46.204286Z"
    }
   },
   "outputs": [
    {
     "name": "stdout",
     "output_type": "stream",
     "text": [
      "Enter First Number: 10\n",
      "Enter First Number: 100\n",
      "100\n"
     ]
    }
   ],
   "source": [
    "# Ternary Operator - expr1 if cond else expr2\n",
    "# expr1 if cond1 else expr2 if cond2 else expr3 if cond3 else expr4 if cond4 else expr5\n",
    "\n",
    "# num1 = int(input('ENter a number: '))\n",
    "# print('Even' if num1%2 == 0 else 'Odd')\n",
    "\n",
    "# Take two number as input from user and print the largest number\n",
    "num1 = int(input('Enter First Number: '))\n",
    "num2 = int(input('Enter First Number: '))\n",
    "print(num1 if num1>num2 else num2)\n",
    "\n",
    "\n",
    "\n",
    "\n",
    "# Take 3 number as input from user and print the largest number\n",
    "\n",
    "\n",
    "\n",
    "\n"
   ]
  },
  {
   "cell_type": "code",
   "execution_count": 130,
   "id": "b829ab7f",
   "metadata": {
    "ExecuteTime": {
     "end_time": "2022-01-11T15:49:09.865012Z",
     "start_time": "2022-01-11T15:49:09.856571Z"
    }
   },
   "outputs": [
    {
     "name": "stdout",
     "output_type": "stream",
     "text": [
      "Even\n"
     ]
    }
   ],
   "source": [
    "if num1%2 == 0:print('Even')\n"
   ]
  },
  {
   "cell_type": "code",
   "execution_count": null,
   "id": "2a24bc86",
   "metadata": {},
   "outputs": [],
   "source": [
    "\n",
    "# operator Precedence\n",
    "# Operators                                     \tMeaning\n",
    "# ()      \tParentheses\n",
    "# **      \tExponent\n",
    "# +x, -x, ~x\tUnary plus, Unary minus, Bitwise NOT\n",
    "# *, /, //, %\tMultiplication, Division, Floor division, Modulus\n",
    "# +, -    \tAddition, Subtraction\n",
    "# <<, >>  \tBitwise shift operators\n",
    "# &       \tBitwise AND\n",
    "# ^       \tBitwise XOR\n",
    "# |       \tBitwise OR\n",
    "# ==, !=, >, >=, <, <=, is, is not, in, not in  \tComparisons, Identity, Membership operators\n",
    "# not     \tLogical NOT\n",
    "# and     \tLogical AND\n",
    "# or      \tLogical OR\n"
   ]
  },
  {
   "cell_type": "code",
   "execution_count": 133,
   "id": "eaed125d",
   "metadata": {
    "ExecuteTime": {
     "end_time": "2022-01-11T15:55:41.419856Z",
     "start_time": "2022-01-11T15:55:41.390612Z"
    }
   },
   "outputs": [
    {
     "data": {
      "text/plain": [
       "-10"
      ]
     },
     "execution_count": 133,
     "metadata": {},
     "output_type": "execute_result"
    }
   ],
   "source": [
    "+-10"
   ]
  },
  {
   "cell_type": "code",
   "execution_count": 134,
   "id": "557911b0",
   "metadata": {
    "ExecuteTime": {
     "end_time": "2022-01-11T15:55:44.098659Z",
     "start_time": "2022-01-11T15:55:44.082308Z"
    }
   },
   "outputs": [
    {
     "data": {
      "text/plain": [
       "10"
      ]
     },
     "execution_count": 134,
     "metadata": {},
     "output_type": "execute_result"
    }
   ],
   "source": [
    "--10"
   ]
  },
  {
   "cell_type": "code",
   "execution_count": null,
   "id": "fa5feddb",
   "metadata": {},
   "outputs": [],
   "source": []
  },
  {
   "cell_type": "code",
   "execution_count": null,
   "id": "0701638f",
   "metadata": {},
   "outputs": [],
   "source": []
  },
  {
   "cell_type": "code",
   "execution_count": null,
   "id": "a335eafa",
   "metadata": {},
   "outputs": [],
   "source": []
  },
  {
   "cell_type": "code",
   "execution_count": null,
   "id": "82bc5709",
   "metadata": {},
   "outputs": [],
   "source": []
  },
  {
   "cell_type": "code",
   "execution_count": null,
   "id": "da506860",
   "metadata": {},
   "outputs": [],
   "source": []
  },
  {
   "cell_type": "code",
   "execution_count": null,
   "id": "bbfcdf1a",
   "metadata": {},
   "outputs": [],
   "source": []
  },
  {
   "cell_type": "code",
   "execution_count": null,
   "id": "0bf78f2a",
   "metadata": {},
   "outputs": [],
   "source": []
  },
  {
   "cell_type": "code",
   "execution_count": null,
   "id": "b82f8325",
   "metadata": {},
   "outputs": [],
   "source": []
  },
  {
   "cell_type": "code",
   "execution_count": null,
   "id": "f304f536",
   "metadata": {},
   "outputs": [],
   "source": []
  },
  {
   "cell_type": "code",
   "execution_count": null,
   "id": "0ba67fed",
   "metadata": {},
   "outputs": [],
   "source": []
  },
  {
   "cell_type": "code",
   "execution_count": null,
   "id": "98675736",
   "metadata": {},
   "outputs": [],
   "source": []
  },
  {
   "cell_type": "code",
   "execution_count": null,
   "id": "82fa122e",
   "metadata": {},
   "outputs": [],
   "source": []
  },
  {
   "cell_type": "code",
   "execution_count": null,
   "id": "a3e1adf6",
   "metadata": {},
   "outputs": [],
   "source": []
  },
  {
   "cell_type": "code",
   "execution_count": null,
   "id": "6851c9a1",
   "metadata": {},
   "outputs": [],
   "source": []
  },
  {
   "cell_type": "code",
   "execution_count": null,
   "id": "21171a04",
   "metadata": {},
   "outputs": [],
   "source": []
  },
  {
   "cell_type": "code",
   "execution_count": null,
   "id": "904e7729",
   "metadata": {},
   "outputs": [],
   "source": []
  },
  {
   "cell_type": "code",
   "execution_count": null,
   "id": "36dbfde4",
   "metadata": {},
   "outputs": [],
   "source": []
  },
  {
   "cell_type": "code",
   "execution_count": null,
   "id": "348e779f",
   "metadata": {},
   "outputs": [],
   "source": []
  },
  {
   "cell_type": "code",
   "execution_count": null,
   "id": "69be6721",
   "metadata": {},
   "outputs": [],
   "source": []
  },
  {
   "cell_type": "code",
   "execution_count": null,
   "id": "cbc41bdf",
   "metadata": {},
   "outputs": [],
   "source": []
  },
  {
   "cell_type": "code",
   "execution_count": null,
   "id": "12b3ffd5",
   "metadata": {},
   "outputs": [],
   "source": []
  },
  {
   "cell_type": "code",
   "execution_count": null,
   "id": "fede5b5f",
   "metadata": {},
   "outputs": [],
   "source": []
  },
  {
   "cell_type": "code",
   "execution_count": null,
   "id": "b7ae4032",
   "metadata": {},
   "outputs": [],
   "source": []
  },
  {
   "cell_type": "code",
   "execution_count": null,
   "id": "bd6e0ae4",
   "metadata": {},
   "outputs": [],
   "source": []
  },
  {
   "cell_type": "code",
   "execution_count": null,
   "id": "6752a6fd",
   "metadata": {},
   "outputs": [],
   "source": []
  },
  {
   "cell_type": "code",
   "execution_count": null,
   "id": "7e69040b",
   "metadata": {},
   "outputs": [],
   "source": []
  },
  {
   "cell_type": "code",
   "execution_count": null,
   "id": "72284dd1",
   "metadata": {},
   "outputs": [],
   "source": []
  },
  {
   "cell_type": "code",
   "execution_count": null,
   "id": "c9518533",
   "metadata": {},
   "outputs": [],
   "source": []
  },
  {
   "cell_type": "code",
   "execution_count": null,
   "id": "7cbc2cc2",
   "metadata": {},
   "outputs": [],
   "source": []
  },
  {
   "cell_type": "code",
   "execution_count": null,
   "id": "9462d274",
   "metadata": {},
   "outputs": [],
   "source": []
  },
  {
   "cell_type": "code",
   "execution_count": null,
   "id": "24184fb4",
   "metadata": {},
   "outputs": [],
   "source": []
  },
  {
   "cell_type": "code",
   "execution_count": null,
   "id": "0b7dbad5",
   "metadata": {},
   "outputs": [],
   "source": []
  },
  {
   "cell_type": "code",
   "execution_count": null,
   "id": "332e7ad7",
   "metadata": {},
   "outputs": [],
   "source": []
  },
  {
   "cell_type": "code",
   "execution_count": null,
   "id": "cf58c74a",
   "metadata": {},
   "outputs": [],
   "source": []
  },
  {
   "cell_type": "code",
   "execution_count": null,
   "id": "3de43098",
   "metadata": {},
   "outputs": [],
   "source": []
  },
  {
   "cell_type": "code",
   "execution_count": null,
   "id": "6514aa44",
   "metadata": {},
   "outputs": [],
   "source": []
  },
  {
   "cell_type": "code",
   "execution_count": null,
   "id": "dde8de44",
   "metadata": {},
   "outputs": [],
   "source": []
  },
  {
   "cell_type": "code",
   "execution_count": null,
   "id": "d1670105",
   "metadata": {},
   "outputs": [],
   "source": []
  },
  {
   "cell_type": "code",
   "execution_count": null,
   "id": "e4fb2155",
   "metadata": {},
   "outputs": [],
   "source": []
  },
  {
   "cell_type": "code",
   "execution_count": null,
   "id": "9e2defe3",
   "metadata": {},
   "outputs": [],
   "source": []
  },
  {
   "cell_type": "code",
   "execution_count": null,
   "id": "5120ffdd",
   "metadata": {},
   "outputs": [],
   "source": []
  },
  {
   "cell_type": "code",
   "execution_count": null,
   "id": "1dec94c8",
   "metadata": {},
   "outputs": [],
   "source": []
  },
  {
   "cell_type": "code",
   "execution_count": null,
   "id": "df8aca58",
   "metadata": {},
   "outputs": [],
   "source": []
  },
  {
   "cell_type": "code",
   "execution_count": null,
   "id": "3a28a5d8",
   "metadata": {},
   "outputs": [],
   "source": []
  },
  {
   "cell_type": "code",
   "execution_count": null,
   "id": "72ce6068",
   "metadata": {},
   "outputs": [],
   "source": []
  },
  {
   "cell_type": "code",
   "execution_count": null,
   "id": "e17c41b8",
   "metadata": {},
   "outputs": [],
   "source": []
  },
  {
   "cell_type": "code",
   "execution_count": null,
   "id": "418f139d",
   "metadata": {},
   "outputs": [],
   "source": []
  },
  {
   "cell_type": "code",
   "execution_count": null,
   "id": "006f228c",
   "metadata": {},
   "outputs": [],
   "source": []
  }
 ],
 "metadata": {
  "kernelspec": {
   "display_name": "Python 3",
   "language": "python",
   "name": "python3"
  },
  "language_info": {
   "codemirror_mode": {
    "name": "ipython",
    "version": 3
   },
   "file_extension": ".py",
   "mimetype": "text/x-python",
   "name": "python",
   "nbconvert_exporter": "python",
   "pygments_lexer": "ipython3",
   "version": "3.8.2"
  }
 },
 "nbformat": 4,
 "nbformat_minor": 5
}
