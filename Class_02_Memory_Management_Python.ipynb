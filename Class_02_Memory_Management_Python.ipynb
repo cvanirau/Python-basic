{
 "cells": [
  {
   "cell_type": "code",
   "execution_count": 1,
   "id": "08bf581b",
   "metadata": {
    "ExecuteTime": {
     "end_time": "2022-01-07T14:20:20.678473Z",
     "start_time": "2022-01-07T14:20:20.644859Z"
    }
   },
   "outputs": [
    {
     "data": {
      "text/plain": [
       "True"
      ]
     },
     "execution_count": 1,
     "metadata": {},
     "output_type": "execute_result"
    }
   ],
   "source": [
    "id(5) in [id(5)]"
   ]
  },
  {
   "cell_type": "code",
   "execution_count": 2,
   "id": "a063d539",
   "metadata": {
    "ExecuteTime": {
     "end_time": "2022-01-07T14:20:35.933249Z",
     "start_time": "2022-01-07T14:20:35.913523Z"
    }
   },
   "outputs": [
    {
     "name": "stdout",
     "output_type": "stream",
     "text": [
      "4319361824\n",
      "[4319361824]\n"
     ]
    }
   ],
   "source": [
    "print(id(5))\n",
    "print([id(5)])\n"
   ]
  },
  {
   "cell_type": "code",
   "execution_count": 3,
   "id": "11ba916e",
   "metadata": {
    "ExecuteTime": {
     "end_time": "2022-01-07T14:21:15.057764Z",
     "start_time": "2022-01-07T14:21:15.048620Z"
    }
   },
   "outputs": [],
   "source": [
    "lst1 = [id(5), 10]\n"
   ]
  },
  {
   "cell_type": "code",
   "execution_count": 4,
   "id": "a9691cfd",
   "metadata": {
    "ExecuteTime": {
     "end_time": "2022-01-07T14:21:24.357054Z",
     "start_time": "2022-01-07T14:21:24.345485Z"
    }
   },
   "outputs": [
    {
     "data": {
      "text/plain": [
       "True"
      ]
     },
     "execution_count": 4,
     "metadata": {},
     "output_type": "execute_result"
    }
   ],
   "source": [
    "id(5) in lst1"
   ]
  },
  {
   "cell_type": "code",
   "execution_count": 7,
   "id": "335254e5",
   "metadata": {
    "ExecuteTime": {
     "end_time": "2022-01-07T14:23:34.644079Z",
     "start_time": "2022-01-07T14:23:34.631499Z"
    }
   },
   "outputs": [
    {
     "data": {
      "text/plain": [
       "True"
      ]
     },
     "execution_count": 7,
     "metadata": {},
     "output_type": "execute_result"
    }
   ],
   "source": [
    "id(500) in [id(500)]"
   ]
  },
  {
   "cell_type": "code",
   "execution_count": 8,
   "id": "373aee0a",
   "metadata": {
    "ExecuteTime": {
     "end_time": "2022-01-07T14:24:10.527043Z",
     "start_time": "2022-01-07T14:24:10.521665Z"
    }
   },
   "outputs": [
    {
     "name": "stdout",
     "output_type": "stream",
     "text": [
      "4359556784\n",
      "[4359554544]\n"
     ]
    }
   ],
   "source": [
    "print(id(500))\n",
    "print([id(500)])"
   ]
  },
  {
   "cell_type": "code",
   "execution_count": null,
   "id": "8afa80ce",
   "metadata": {},
   "outputs": [],
   "source": [
    "# Object Reusability\n",
    "    # Integer Caching - -5 to 256\n",
    "    # String Interning - A-Z, a-z, 0-9, _\n",
    "    # True False None"
   ]
  },
  {
   "cell_type": "code",
   "execution_count": 14,
   "id": "421fba2f",
   "metadata": {
    "ExecuteTime": {
     "end_time": "2022-01-07T14:29:30.283219Z",
     "start_time": "2022-01-07T14:29:30.275334Z"
    }
   },
   "outputs": [
    {
     "data": {
      "text/plain": [
       "False"
      ]
     },
     "execution_count": 14,
     "metadata": {},
     "output_type": "execute_result"
    }
   ],
   "source": [
    "id(500) is [id(500)][0]"
   ]
  },
  {
   "cell_type": "code",
   "execution_count": 10,
   "id": "a727e9e3",
   "metadata": {
    "ExecuteTime": {
     "end_time": "2022-01-07T14:28:14.374156Z",
     "start_time": "2022-01-07T14:28:14.361597Z"
    }
   },
   "outputs": [
    {
     "name": "stdout",
     "output_type": "stream",
     "text": [
      "<class 'int'>\n",
      "<class 'list'>\n"
     ]
    }
   ],
   "source": [
    "a = id(500)\n",
    "b = [id(500)]\n",
    "print(type(a))\n",
    "print(type(b))"
   ]
  },
  {
   "cell_type": "code",
   "execution_count": 15,
   "id": "448c9c29",
   "metadata": {
    "ExecuteTime": {
     "end_time": "2022-01-07T14:30:14.544708Z",
     "start_time": "2022-01-07T14:30:14.536217Z"
    }
   },
   "outputs": [
    {
     "name": "stdout",
     "output_type": "stream",
     "text": [
      "False\n"
     ]
    }
   ],
   "source": [
    "a = id(500)\n",
    "b = id(500)\n",
    "print(a is b)"
   ]
  },
  {
   "cell_type": "code",
   "execution_count": 40,
   "id": "f82c4876",
   "metadata": {
    "ExecuteTime": {
     "end_time": "2022-01-07T14:48:37.372620Z",
     "start_time": "2022-01-07T14:48:37.360260Z"
    }
   },
   "outputs": [
    {
     "data": {
      "text/plain": [
       "False"
      ]
     },
     "execution_count": 40,
     "metadata": {},
     "output_type": "execute_result"
    }
   ],
   "source": [
    "id(500) is [id(500)][0]"
   ]
  },
  {
   "cell_type": "code",
   "execution_count": 17,
   "id": "997bbd83",
   "metadata": {
    "ExecuteTime": {
     "end_time": "2022-01-07T14:30:56.275506Z",
     "start_time": "2022-01-07T14:30:56.263924Z"
    }
   },
   "outputs": [
    {
     "name": "stdout",
     "output_type": "stream",
     "text": [
      "['__abs__', '__add__', '__and__', '__bool__', '__ceil__', '__class__', '__delattr__', '__dir__', '__divmod__', '__doc__', '__eq__', '__float__', '__floor__', '__floordiv__', '__format__', '__ge__', '__getattribute__', '__getnewargs__', '__gt__', '__hash__', '__index__', '__init__', '__init_subclass__', '__int__', '__invert__', '__le__', '__lshift__', '__lt__', '__mod__', '__mul__', '__ne__', '__neg__', '__new__', '__or__', '__pos__', '__pow__', '__radd__', '__rand__', '__rdivmod__', '__reduce__', '__reduce_ex__', '__repr__', '__rfloordiv__', '__rlshift__', '__rmod__', '__rmul__', '__ror__', '__round__', '__rpow__', '__rrshift__', '__rshift__', '__rsub__', '__rtruediv__', '__rxor__', '__setattr__', '__sizeof__', '__str__', '__sub__', '__subclasshook__', '__truediv__', '__trunc__', '__xor__', 'as_integer_ratio', 'bit_length', 'conjugate', 'denominator', 'from_bytes', 'imag', 'numerator', 'real', 'to_bytes']\n"
     ]
    }
   ],
   "source": [
    "print(dir(int))"
   ]
  },
  {
   "cell_type": "code",
   "execution_count": 20,
   "id": "20a0871f",
   "metadata": {
    "ExecuteTime": {
     "end_time": "2022-01-07T14:35:06.797622Z",
     "start_time": "2022-01-07T14:35:06.780360Z"
    }
   },
   "outputs": [
    {
     "data": {
      "text/plain": [
       "4319361824"
      ]
     },
     "execution_count": 20,
     "metadata": {},
     "output_type": "execute_result"
    }
   ],
   "source": [
    "id(5)"
   ]
  },
  {
   "cell_type": "code",
   "execution_count": 21,
   "id": "61867b2d",
   "metadata": {
    "ExecuteTime": {
     "end_time": "2022-01-07T14:35:17.520042Z",
     "start_time": "2022-01-07T14:35:17.509241Z"
    }
   },
   "outputs": [
    {
     "data": {
      "text/plain": [
       "[4319361824]"
      ]
     },
     "execution_count": 21,
     "metadata": {},
     "output_type": "execute_result"
    }
   ],
   "source": [
    "[id(5)]"
   ]
  },
  {
   "cell_type": "code",
   "execution_count": 29,
   "id": "273a67bf",
   "metadata": {
    "ExecuteTime": {
     "end_time": "2022-01-07T14:43:20.773262Z",
     "start_time": "2022-01-07T14:43:20.757623Z"
    }
   },
   "outputs": [
    {
     "name": "stderr",
     "output_type": "stream",
     "text": [
      "<>:1: SyntaxWarning: \"is\" with a literal. Did you mean \"==\"?\n",
      "<>:1: SyntaxWarning: \"is\" with a literal. Did you mean \"==\"?\n",
      "<ipython-input-29-8eb1f0d39be0>:1: SyntaxWarning: \"is\" with a literal. Did you mean \"==\"?\n",
      "  4319361824 is 4319361824\n"
     ]
    },
    {
     "data": {
      "text/plain": [
       "True"
      ]
     },
     "execution_count": 29,
     "metadata": {},
     "output_type": "execute_result"
    }
   ],
   "source": [
    "4319361824 is 4319361824"
   ]
  },
  {
   "cell_type": "code",
   "execution_count": 27,
   "id": "220cb098",
   "metadata": {
    "ExecuteTime": {
     "end_time": "2022-01-07T14:41:36.172854Z",
     "start_time": "2022-01-07T14:41:36.159704Z"
    }
   },
   "outputs": [
    {
     "name": "stderr",
     "output_type": "stream",
     "text": [
      "<>:1: SyntaxWarning: \"is\" with a literal. Did you mean \"==\"?\n",
      "<>:1: SyntaxWarning: \"is\" with a literal. Did you mean \"==\"?\n",
      "<ipython-input-27-6f9c62f52733>:1: SyntaxWarning: \"is\" with a literal. Did you mean \"==\"?\n",
      "  1000 is 1000\n"
     ]
    },
    {
     "data": {
      "text/plain": [
       "True"
      ]
     },
     "execution_count": 27,
     "metadata": {},
     "output_type": "execute_result"
    }
   ],
   "source": [
    "1000 is 1000"
   ]
  },
  {
   "cell_type": "code",
   "execution_count": 28,
   "id": "149e8fd7",
   "metadata": {
    "ExecuteTime": {
     "end_time": "2022-01-07T14:42:28.374039Z",
     "start_time": "2022-01-07T14:42:28.361665Z"
    }
   },
   "outputs": [
    {
     "name": "stdout",
     "output_type": "stream",
     "text": [
      "4360361296\n",
      "4360361328\n"
     ]
    }
   ],
   "source": [
    "a = 1000\n",
    "b = 1000\n",
    "print(id(a))\n",
    "print(id(b))"
   ]
  },
  {
   "cell_type": "code",
   "execution_count": 37,
   "id": "4bb3e567",
   "metadata": {
    "ExecuteTime": {
     "end_time": "2022-01-07T14:48:03.524678Z",
     "start_time": "2022-01-07T14:48:03.502310Z"
    }
   },
   "outputs": [
    {
     "name": "stdout",
     "output_type": "stream",
     "text": [
      "4360362352\n",
      "4360361776\n"
     ]
    }
   ],
   "source": [
    "def f1():\n",
    "    return 500\n",
    "\n",
    "def f2():\n",
    "    return 500\n",
    "\n",
    "print(id(f1()))\n",
    "\n",
    "print(id(f2()))"
   ]
  },
  {
   "cell_type": "code",
   "execution_count": 38,
   "id": "af56d202",
   "metadata": {
    "ExecuteTime": {
     "end_time": "2022-01-07T14:48:05.288151Z",
     "start_time": "2022-01-07T14:48:05.274908Z"
    }
   },
   "outputs": [
    {
     "data": {
      "text/plain": [
       "False"
      ]
     },
     "execution_count": 38,
     "metadata": {},
     "output_type": "execute_result"
    }
   ],
   "source": [
    "f1() is f2()"
   ]
  },
  {
   "cell_type": "code",
   "execution_count": 45,
   "id": "981dfd9d",
   "metadata": {
    "ExecuteTime": {
     "end_time": "2022-01-07T14:52:38.101247Z",
     "start_time": "2022-01-07T14:52:38.084575Z"
    }
   },
   "outputs": [
    {
     "name": "stdout",
     "output_type": "stream",
     "text": [
      "4360362672\n",
      "4360362928\n"
     ]
    },
    {
     "data": {
      "text/plain": [
       "False"
      ]
     },
     "execution_count": 45,
     "metadata": {},
     "output_type": "execute_result"
    }
   ],
   "source": [
    "a = 1000\n",
    "b = 1000\n",
    "print(id(a))\n",
    "print(id(b))\n",
    "\n",
    "id(a) is id(a)"
   ]
  },
  {
   "cell_type": "code",
   "execution_count": null,
   "id": "d71aeefe",
   "metadata": {},
   "outputs": [],
   "source": [
    "# Memory Management\n",
    "    1. Memory Allocation - Raw Memory Allocator, PVM, Object Specific Allocator - \n",
    "    2. Memory Deallocation - Garbage Collector"
   ]
  },
  {
   "cell_type": "code",
   "execution_count": null,
   "id": "8d70bf0c",
   "metadata": {},
   "outputs": [],
   "source": [
    "Object - Heap Area - PVM, Object Specific Allocator\n",
    "    int, float, complex, Boolean, String, List, Tuple, Set, Frozenset, Dictionary etc"
   ]
  },
  {
   "cell_type": "code",
   "execution_count": 47,
   "id": "796cee9b",
   "metadata": {
    "ExecuteTime": {
     "end_time": "2022-01-07T15:02:17.475784Z",
     "start_time": "2022-01-07T15:02:17.442705Z"
    }
   },
   "outputs": [
    {
     "name": "stdout",
     "output_type": "stream",
     "text": [
      "28 <class 'int'>\n",
      "64 <class 'int'>\n"
     ]
    }
   ],
   "source": [
    "import sys\n",
    "a = 100\n",
    "print(sys.getsizeof(a), type(a))\n",
    "a = 18297365743125813254712983654182365482317954863512481354856196543286451328549832548136943\n",
    "print(sys.getsizeof(a), type(a))"
   ]
  },
  {
   "cell_type": "code",
   "execution_count": 48,
   "id": "20e5cf50",
   "metadata": {
    "ExecuteTime": {
     "end_time": "2022-01-07T15:03:58.439768Z",
     "start_time": "2022-01-07T15:03:58.431208Z"
    }
   },
   "outputs": [
    {
     "name": "stdout",
     "output_type": "stream",
     "text": [
      "24 <class 'float'>\n",
      "24 <class 'float'>\n"
     ]
    }
   ],
   "source": [
    "a = 100.20\n",
    "print(sys.getsizeof(a), type(a))\n",
    "a = 1829736574312581325471298365418236548231795486351248135485619654328.64513285498325481369439872365734568273659872340\n",
    "print(sys.getsizeof(a), type(a))"
   ]
  },
  {
   "cell_type": "code",
   "execution_count": null,
   "id": "c6931cdf",
   "metadata": {},
   "outputs": [],
   "source": [
    "4436384176\n",
    "4436383728"
   ]
  },
  {
   "cell_type": "code",
   "execution_count": null,
   "id": "24b30ccc",
   "metadata": {},
   "outputs": [],
   "source": [
    "# Car\n",
    "\n",
    "class Car:\n",
    "    seats = 4\n",
    "    steering = 1\n",
    "    wheel 4\n",
    "    engine = 1\n",
    "    \n",
    "    start_engine()\n",
    "    stop_engine()\n",
    "    accelearte()\n",
    "    apply_break()\n",
    "    \n",
    "audi = Car()\n",
    "\n"
   ]
  },
  {
   "cell_type": "code",
   "execution_count": 49,
   "id": "31340f32",
   "metadata": {
    "ExecuteTime": {
     "end_time": "2022-01-07T15:52:35.031878Z",
     "start_time": "2022-01-07T15:52:35.023790Z"
    }
   },
   "outputs": [
    {
     "name": "stdout",
     "output_type": "stream",
     "text": [
      "<class 'int'>\n"
     ]
    }
   ],
   "source": [
    "a = 10\n",
    "print(type(a))"
   ]
  },
  {
   "cell_type": "code",
   "execution_count": null,
   "id": "e2fedf7e",
   "metadata": {},
   "outputs": [],
   "source": [
    "a = 10\n",
    "instance"
   ]
  },
  {
   "cell_type": "code",
   "execution_count": 51,
   "id": "ab171f43",
   "metadata": {
    "ExecuteTime": {
     "end_time": "2022-01-07T15:56:49.390007Z",
     "start_time": "2022-01-07T15:56:49.378497Z"
    }
   },
   "outputs": [
    {
     "name": "stdout",
     "output_type": "stream",
     "text": [
      "4360361008\n",
      "4360362512\n",
      "10.0\n"
     ]
    }
   ],
   "source": [
    "a=10.0\n",
    "b=10.0\n",
    "print(id(a))\n",
    "print(id(b))\n",
    "d=5.0\n",
    "c=(d)*2\n",
    "print(c)\n",
    "\n",
    "# here a and c are in different mem address, but when they all are int they are in same mem address"
   ]
  },
  {
   "cell_type": "code",
   "execution_count": 54,
   "id": "abc4cff8",
   "metadata": {
    "ExecuteTime": {
     "end_time": "2022-01-07T15:58:09.640601Z",
     "start_time": "2022-01-07T15:58:09.633657Z"
    }
   },
   "outputs": [
    {
     "name": "stdout",
     "output_type": "stream",
     "text": [
      "True\n",
      "False\n"
     ]
    }
   ],
   "source": [
    "import gc\n",
    "print(gc.isenabled())\n",
    "gc.disable()\n",
    "print(gc.isenabled())"
   ]
  },
  {
   "cell_type": "code",
   "execution_count": null,
   "id": "ceb999a2",
   "metadata": {},
   "outputs": [],
   "source": []
  }
 ],
 "metadata": {
  "kernelspec": {
   "display_name": "Python 3",
   "language": "python",
   "name": "python3"
  },
  "language_info": {
   "codemirror_mode": {
    "name": "ipython",
    "version": 3
   },
   "file_extension": ".py",
   "mimetype": "text/x-python",
   "name": "python",
   "nbconvert_exporter": "python",
   "pygments_lexer": "ipython3",
   "version": "3.8.2"
  }
 },
 "nbformat": 4,
 "nbformat_minor": 5
}
