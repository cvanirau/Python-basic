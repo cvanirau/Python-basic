{
 "cells": [
  {
   "cell_type": "code",
   "execution_count": 11,
   "id": "a2029744",
   "metadata": {
    "ExecuteTime": {
     "end_time": "2022-01-19T14:27:07.241355Z",
     "start_time": "2022-01-19T14:27:07.230393Z"
    }
   },
   "outputs": [
    {
     "name": "stdout",
     "output_type": "stream",
     "text": [
      "['peter', 'piper', 'picked', 'a', 'peck', 'of', 'pickled', 'peppers.']\n"
     ]
    }
   ],
   "source": [
    "# Q. Write a python program to find below output using loop:-\n",
    "# Input:- 'peter piper picked a peck of pickled peppers.'\n",
    "# Output:- ['peter', 'piper', 'picked', 'a', 'peck', 'of', 'pickled',\n",
    "# 'peppers.']\n",
    "\n",
    "my_str = 'peter piper picked a peck of pickled peppers.'\n",
    "my_word = ''\n",
    "out_lst = []\n",
    "for ind in range(len(my_str)):\n",
    "    if my_str[ind] == ' ':\n",
    "        out_lst += [my_word]\n",
    "        my_word = ''\n",
    "    else:\n",
    "        my_word = my_word + my_str[ind]\n",
    "out_lst += [my_word]\n",
    "print(out_lst)\n"
   ]
  },
  {
   "cell_type": "code",
   "execution_count": 9,
   "id": "32625b62",
   "metadata": {
    "ExecuteTime": {
     "end_time": "2022-01-19T14:23:57.052663Z",
     "start_time": "2022-01-19T14:23:57.027383Z"
    }
   },
   "outputs": [
    {
     "data": {
      "text/plain": [
       "range(0, 45)"
      ]
     },
     "execution_count": 9,
     "metadata": {},
     "output_type": "execute_result"
    }
   ],
   "source": [
    "range(45)"
   ]
  },
  {
   "cell_type": "code",
   "execution_count": 14,
   "id": "55551313",
   "metadata": {
    "ExecuteTime": {
     "end_time": "2022-01-19T14:37:23.995270Z",
     "start_time": "2022-01-19T14:37:23.985482Z"
    }
   },
   "outputs": [
    {
     "name": "stdout",
     "output_type": "stream",
     "text": [
      "['peppers.', 'pickled', 'of', 'peck', 'a', 'picked', 'piper', 'peter']\n"
     ]
    }
   ],
   "source": [
    "# Q. Write a python program to find below output using loop:-\n",
    "# Input:- 'peter piper picked a peck of pickled peppers.'\n",
    "# Output:- 'peppers pickled of peck a picked piper peter'\n",
    "\n",
    "my_str = 'peter piper picked a peck of pickled peppers.'\n",
    "my_word = ''\n",
    "out_lst = []\n",
    "for ind in range(len(my_str)):\n",
    "    if my_str[ind] == ' ':\n",
    "        out_lst = [my_word] + out_lst\n",
    "        my_word = ''\n",
    "    else:\n",
    "        my_word = my_word + my_str[ind]\n",
    "out_lst = [my_word] + out_lst\n",
    "print(out_lst)"
   ]
  },
  {
   "cell_type": "code",
   "execution_count": 1,
   "id": "2e548bfe",
   "metadata": {},
   "outputs": [
    {
     "name": "stdout",
     "output_type": "stream",
     "text": [
      "['peter', 'piper', 'picked', 'a', 'peck', 'of', 'pickled', 'peppers.']\n"
     ]
    }
   ],
   "source": [
    "my_str = 'peter piper picked a peck of pickled peppers.'\n",
    "my_word = ''\n",
    "out_lst = []\n",
    "for ind in range(len(my_str)):\n",
    "    if my_str[ind] == ' ':\n",
    "        out_lst = out_lst + [my_word]    # just changing the order from above code\n",
    "        my_word = ''\n",
    "    else:\n",
    "        my_word = my_word + my_str[ind]\n",
    "out_lst = out_lst = out_lst + [my_word]  # changing order here also\n",
    "print(out_lst)"
   ]
  },
  {
   "cell_type": "code",
   "execution_count": 16,
   "id": "6a657a3a",
   "metadata": {
    "ExecuteTime": {
     "end_time": "2022-01-19T14:40:16.528961Z",
     "start_time": "2022-01-19T14:40:16.520727Z"
    }
   },
   "outputs": [
    {
     "name": "stdout",
     "output_type": "stream",
     "text": [
      "[10, 20]\n"
     ]
    }
   ],
   "source": [
    "a = [10]\n",
    "a = a + [20]\n",
    "print(a)"
   ]
  },
  {
   "cell_type": "code",
   "execution_count": 17,
   "id": "1b03b936",
   "metadata": {
    "ExecuteTime": {
     "end_time": "2022-01-19T14:40:26.359791Z",
     "start_time": "2022-01-19T14:40:26.349925Z"
    }
   },
   "outputs": [
    {
     "name": "stdout",
     "output_type": "stream",
     "text": [
      "[20, 10]\n"
     ]
    }
   ],
   "source": [
    "a = [10]\n",
    "a = [20] + a\n",
    "print(a)"
   ]
  },
  {
   "cell_type": "code",
   "execution_count": 2,
   "id": "58fd4806",
   "metadata": {
    "ExecuteTime": {
     "end_time": "2022-01-19T14:40:50.194480Z",
     "start_time": "2022-01-19T14:40:50.184807Z"
    }
   },
   "outputs": [
    {
     "ename": "TypeError",
     "evalue": "can only concatenate str (not \"list\") to str",
     "output_type": "error",
     "traceback": [
      "\u001b[1;31m---------------------------------------------------------------------------\u001b[0m",
      "\u001b[1;31mTypeError\u001b[0m                                 Traceback (most recent call last)",
      "\u001b[1;32m~\\AppData\\Local\\Temp/ipykernel_18544/1910965888.py\u001b[0m in \u001b[0;36m<module>\u001b[1;34m\u001b[0m\n\u001b[0;32m      4\u001b[0m \u001b[1;32mfor\u001b[0m \u001b[0mind\u001b[0m \u001b[1;32min\u001b[0m \u001b[0mrange\u001b[0m\u001b[1;33m(\u001b[0m\u001b[1;33m-\u001b[0m\u001b[1;36m1\u001b[0m\u001b[1;33m,\u001b[0m \u001b[1;33m-\u001b[0m\u001b[0mlen\u001b[0m\u001b[1;33m(\u001b[0m\u001b[0mmy_input\u001b[0m\u001b[1;33m)\u001b[0m\u001b[1;33m-\u001b[0m\u001b[1;36m1\u001b[0m\u001b[1;33m,\u001b[0m \u001b[1;33m-\u001b[0m\u001b[1;36m1\u001b[0m\u001b[1;33m)\u001b[0m\u001b[1;33m:\u001b[0m\u001b[1;33m\u001b[0m\u001b[1;33m\u001b[0m\u001b[0m\n\u001b[0;32m      5\u001b[0m     \u001b[1;32mif\u001b[0m \u001b[0mmy_input\u001b[0m\u001b[1;33m[\u001b[0m\u001b[0mind\u001b[0m\u001b[1;33m]\u001b[0m \u001b[1;33m==\u001b[0m \u001b[1;34m\" \"\u001b[0m\u001b[1;33m:\u001b[0m\u001b[1;33m\u001b[0m\u001b[1;33m\u001b[0m\u001b[0m\n\u001b[1;32m----> 6\u001b[1;33m         \u001b[0mmy_output\u001b[0m \u001b[1;33m=\u001b[0m \u001b[0mmy_input\u001b[0m\u001b[1;33m[\u001b[0m\u001b[0mind\u001b[0m\u001b[1;33m]\u001b[0m \u001b[1;33m+\u001b[0m \u001b[0meach_word\u001b[0m \u001b[1;33m+\u001b[0m \u001b[0mmy_output\u001b[0m \u001b[1;33m+\u001b[0m \u001b[1;34m\",\"\u001b[0m\u001b[1;33m\u001b[0m\u001b[1;33m\u001b[0m\u001b[0m\n\u001b[0m\u001b[0;32m      7\u001b[0m         \u001b[0meach_word\u001b[0m \u001b[1;33m=\u001b[0m \u001b[1;34m\"\"\u001b[0m\u001b[1;33m\u001b[0m\u001b[1;33m\u001b[0m\u001b[0m\n\u001b[0;32m      8\u001b[0m     \u001b[1;32melse\u001b[0m\u001b[1;33m:\u001b[0m\u001b[1;33m\u001b[0m\u001b[1;33m\u001b[0m\u001b[0m\n",
      "\u001b[1;31mTypeError\u001b[0m: can only concatenate str (not \"list\") to str"
     ]
    }
   ],
   "source": [
    "my_input = 'Peter piper picked a peck of pickled peppers'\n",
    "my_output = []\n",
    "each_word = \"\"\n",
    "for ind in range(-1, -len(my_input)-1, -1):\n",
    "    if my_input[ind] == \" \":\n",
    "        my_output = my_input[ind] + each_word + my_output + \",\"\n",
    "        each_word = \"\"\n",
    "    else:\n",
    "        each_word = each_word + my_input[ind]\n",
    "        \n",
    "        \n",
    "   # my_output = my_output + \"]\"\n",
    "print(my_output)"
   ]
  },
  {
   "cell_type": "code",
   "execution_count": 25,
   "id": "6a1f2641",
   "metadata": {
    "ExecuteTime": {
     "end_time": "2022-01-19T14:44:29.447891Z",
     "start_time": "2022-01-19T14:44:29.426307Z"
    }
   },
   "outputs": [
    {
     "name": "stdout",
     "output_type": "stream",
     "text": [
      "sreppep delkcip fo kcep a dekcip repip reteP"
     ]
    }
   ],
   "source": [
    "my_input = 'Peter piper picked a peck of pickled peppers'\n",
    "my_output = []\n",
    "each_word = \"\"\n",
    "for ind in range(-1, -len(my_input)-1, -1):\n",
    "    print(my_input[ind], end = '')"
   ]
  },
  {
   "cell_type": "code",
   "execution_count": 22,
   "id": "192416dc",
   "metadata": {
    "ExecuteTime": {
     "end_time": "2022-01-19T14:43:26.373916Z",
     "start_time": "2022-01-19T14:43:26.363340Z"
    }
   },
   "outputs": [
    {
     "data": {
      "text/plain": [
       "[-1, -2, -3, -4, -5, -6]"
      ]
     },
     "execution_count": 22,
     "metadata": {},
     "output_type": "execute_result"
    }
   ],
   "source": [
    "my_str = 'Python'\n",
    "list(range(-1, -len(my_str)-1, -1))"
   ]
  },
  {
   "cell_type": "code",
   "execution_count": 27,
   "id": "728c699a",
   "metadata": {
    "ExecuteTime": {
     "end_time": "2022-01-19T14:46:18.128719Z",
     "start_time": "2022-01-19T14:46:18.114458Z"
    }
   },
   "outputs": [
    {
     "data": {
      "text/plain": [
       "[0, 1, 2, 3, 4, 5]"
      ]
     },
     "execution_count": 27,
     "metadata": {},
     "output_type": "execute_result"
    }
   ],
   "source": [
    "my_str = 'Python'\n",
    "# index of n is 5, Generate a range object which has index from 0 to 5 both are inclusive\n",
    "\n",
    "list(range())\n"
   ]
  },
  {
   "cell_type": "markdown",
   "id": "ece08478",
   "metadata": {},
   "source": [
    "# While Loop in Python"
   ]
  },
  {
   "cell_type": "code",
   "execution_count": 31,
   "id": "a59df55f",
   "metadata": {
    "ExecuteTime": {
     "end_time": "2022-01-19T14:52:05.469580Z",
     "start_time": "2022-01-19T14:52:05.447803Z"
    }
   },
   "outputs": [
    {
     "name": "stdout",
     "output_type": "stream",
     "text": [
      "Hi\n",
      "Hi\n",
      "Hi\n",
      "Hi\n",
      "Hi\n",
      "Hi\n",
      "Hi\n",
      "Hi\n",
      "Hi\n",
      "Hi\n",
      "Hi\n",
      "Hi\n",
      "Hi\n",
      "Hi\n",
      "Hi\n",
      "Hi\n",
      "Hi\n",
      "Hi\n",
      "Hi\n",
      "Hi\n",
      "Hi\n",
      "Hi\n",
      "Hi\n",
      "Hi\n",
      "Hi\n",
      "Hi\n",
      "Hi\n",
      "Hi\n",
      "Hi\n",
      "Hi\n",
      "Hi\n",
      "Hi\n",
      "Hi\n",
      "Hi\n",
      "Hi\n",
      "Hi\n",
      "Hi\n",
      "Hi\n",
      "Hi\n",
      "Hi\n",
      "Hi\n",
      "Hi\n",
      "Hi\n",
      "Hi\n",
      "Hi\n",
      "length is 45\n"
     ]
    }
   ],
   "source": [
    "# Initialization\n",
    "# Condition checking\n",
    "# Increment/Decrement\n",
    "\n",
    "# Find the length of the string using while loop\n",
    "# my_str = 'peter piper picked a peck of pickled peppers.'\n",
    "# ind = 0\n",
    "# while ind < len(my_str):\n",
    "#     print('Hi')\n",
    "#     ind += 1\n",
    "    \n",
    "# print('length is', ind)\n",
    "\n"
   ]
  },
  {
   "cell_type": "code",
   "execution_count": 29,
   "id": "eda3930b",
   "metadata": {
    "ExecuteTime": {
     "end_time": "2022-01-19T14:50:53.791084Z",
     "start_time": "2022-01-19T14:50:53.776675Z"
    }
   },
   "outputs": [
    {
     "name": "stdout",
     "output_type": "stream",
     "text": [
      "45\n"
     ]
    }
   ],
   "source": [
    "print(len(my_str))"
   ]
  },
  {
   "cell_type": "code",
   "execution_count": 35,
   "id": "e6daa1d7",
   "metadata": {
    "ExecuteTime": {
     "end_time": "2022-01-19T14:58:28.674300Z",
     "start_time": "2022-01-19T14:58:28.661899Z"
    }
   },
   "outputs": [
    {
     "name": "stdout",
     "output_type": "stream",
     "text": [
      "['peppers.', 'pickled', 'of', 'peck', 'a', 'picked', 'piper', 'peter']\n"
     ]
    }
   ],
   "source": [
    "# Q. Write a python program to find below output using loop:-\n",
    "# Input:- 'peter piper picked a peck of pickled peppers.'\n",
    "# Output:- ['peter', 'piper', 'picked', 'a', 'peck', 'of', 'pickled',\n",
    "# 'peppers.']\n",
    "\n",
    "# my_str = 'peter piper picked a peck of pickled peppers.'\n",
    "# my_word = ''\n",
    "# out_lst = []\n",
    "# for ind in range(len(my_str)):\n",
    "#     if my_str[ind] == ' ':\n",
    "#         out_lst += [my_word]\n",
    "#         my_word = ''\n",
    "#     else:\n",
    "#         my_word = my_word + my_str[ind]\n",
    "# out_lst += [my_word]\n",
    "# print(out_lst)\n",
    "\n",
    "\n",
    "str1 = \"peter piper picked a peck of pickled peppers.\"\n",
    "lst = []\n",
    "k=\"\"\n",
    "i=0\n",
    "while i< len(str1):    \n",
    "    if str1[i] != \" \":\n",
    "        k=k+str1[i]\n",
    "    else:\n",
    "        lst = [k] + lst\n",
    "        k=\"\"\n",
    "    i+=1       \n",
    "if k!= \"\":\n",
    "    lst = [k] + lst\n",
    "        \n",
    "print(lst)\n"
   ]
  },
  {
   "cell_type": "code",
   "execution_count": 39,
   "id": "17307af8",
   "metadata": {
    "ExecuteTime": {
     "end_time": "2022-01-19T15:10:27.498395Z",
     "start_time": "2022-01-19T15:10:22.919549Z"
    }
   },
   "outputs": [
    {
     "name": "stdout",
     "output_type": "stream",
     "text": [
      "Enter the password: Learnbay@123\n",
      "Correct password\n"
     ]
    }
   ],
   "source": [
    "# Ask the user to enter the password and prompt user to enter the password \n",
    "# until he enters the cirrect password\n",
    "\n",
    "password = 'Learnbay@123'\n",
    "user_input = input('Enter the password: ')\n",
    "while ' ':\n",
    "    if user_input == password:\n",
    "        print('Correct password')\n",
    "        break\n",
    "    else:\n",
    "        print('Incorrect passowrd!!!')\n",
    "        print('Re-enter the password!!!!')\n",
    "        user_input = input()\n",
    "\n",
    "\n"
   ]
  },
  {
   "cell_type": "code",
   "execution_count": 42,
   "id": "01d71f66",
   "metadata": {
    "ExecuteTime": {
     "end_time": "2022-01-19T15:12:16.671997Z",
     "start_time": "2022-01-19T15:12:03.242878Z"
    }
   },
   "outputs": [
    {
     "name": "stdout",
     "output_type": "stream",
     "text": [
      "Enter your password: ABC@123\n",
      "Enter the correct password\n",
      "vcd@123\n",
      "Enter the correct password\n",
      "Learnbay@123\n",
      "correct password\n"
     ]
    }
   ],
   "source": [
    "user_input = input(\"Enter your password: \")\n",
    "\n",
    "password = 'Learnbay@123'\n",
    "\n",
    "while True:\n",
    "    if user_input != password:\n",
    "        print (\"Enter the correct password\")\n",
    "        user_input = input()\n",
    " \n",
    "    else:\n",
    "        print (\"correct password\")\n",
    "        break"
   ]
  },
  {
   "cell_type": "code",
   "execution_count": 43,
   "id": "98bc7991",
   "metadata": {
    "ExecuteTime": {
     "end_time": "2022-01-19T15:15:44.264731Z",
     "start_time": "2022-01-19T15:15:44.257540Z"
    }
   },
   "outputs": [
    {
     "name": "stdout",
     "output_type": "stream",
     "text": [
      "688\n"
     ]
    }
   ],
   "source": [
    "# Continue - skips the current iteration\n",
    "\n",
    "my_lst = [10, 110, 20, 90, 990, 80, 78, 708, 300]\n",
    "total_price = 0\n",
    "for ele in my_lst:\n",
    "    if ele >= 500:\n",
    "        continue\n",
    "    else:\n",
    "        total_price += ele\n",
    "print(total_price)\n",
    "\n"
   ]
  },
  {
   "cell_type": "code",
   "execution_count": null,
   "id": "6ba7c66e",
   "metadata": {},
   "outputs": [],
   "source": [
    "# break and continue are used in case of loop, \n",
    "\n",
    "for Loop:\n",
    "    for Loop:\n",
    "        if cond:\n",
    "            break\n",
    "    break"
   ]
  },
  {
   "cell_type": "code",
   "execution_count": 45,
   "id": "ee5e7d68",
   "metadata": {
    "ExecuteTime": {
     "end_time": "2022-01-19T15:20:43.359264Z",
     "start_time": "2022-01-19T15:20:43.353316Z"
    }
   },
   "outputs": [],
   "source": [
    "def f1():\n",
    "    pass"
   ]
  },
  {
   "cell_type": "code",
   "execution_count": 46,
   "id": "56214002",
   "metadata": {
    "ExecuteTime": {
     "end_time": "2022-01-19T15:27:35.835215Z",
     "start_time": "2022-01-19T15:27:35.822496Z"
    }
   },
   "outputs": [
    {
     "name": "stdout",
     "output_type": "stream",
     "text": [
      "1\n",
      "1\n",
      "100\n",
      "20\n",
      "2\n",
      "200\n",
      "2\n",
      "100\n"
     ]
    }
   ],
   "source": [
    "lst1 = [1, 2]\n",
    "lst2 = [10, 100]\n",
    "for i in lst1:\n",
    "    for j in lst2:\n",
    "        if i%2 == 0:\n",
    "            print(i*j)\n",
    "        print(i)\n",
    "    print(j)\n",
    "    \n",
    "# i = 2\n",
    "# j = 100\n",
    "\n",
    "# 1\n",
    "# 1\n",
    "# 100\n",
    "# 20\n",
    "# 2\n",
    "# 200\n",
    "# 2\n",
    "# 100"
   ]
  },
  {
   "cell_type": "code",
   "execution_count": 47,
   "id": "1de6fc20",
   "metadata": {
    "ExecuteTime": {
     "end_time": "2022-01-19T15:30:12.452697Z",
     "start_time": "2022-01-19T15:30:12.441729Z"
    }
   },
   "outputs": [
    {
     "name": "stdout",
     "output_type": "stream",
     "text": [
      "1\n",
      "1\n",
      "100\n",
      "20\n",
      "10\n"
     ]
    }
   ],
   "source": [
    "lst1 = [1, 2]\n",
    "lst2 = [10, 100]\n",
    "for i in lst1:\n",
    "    for j in lst2:\n",
    "        if i%2 == 0:\n",
    "            print(i*j)\n",
    "            break\n",
    "        print(i)\n",
    "    print(j)\n",
    "    \n",
    "# i = 2\n",
    "# j = 10\n",
    "# 1\n",
    "# 1\n",
    "# 100\n",
    "# 20\n",
    "# 10"
   ]
  },
  {
   "cell_type": "code",
   "execution_count": 48,
   "id": "d8538a2b",
   "metadata": {
    "ExecuteTime": {
     "end_time": "2022-01-19T15:35:47.095645Z",
     "start_time": "2022-01-19T15:35:47.087803Z"
    }
   },
   "outputs": [
    {
     "name": "stdout",
     "output_type": "stream",
     "text": [
      "1\n",
      "1\n",
      "100\n",
      "10\n"
     ]
    }
   ],
   "source": [
    "lst1 = [1, 2]\n",
    "lst2 = [10, 100]\n",
    "for i in lst1:\n",
    "    for j in lst2:\n",
    "        if i%2 == 0:\n",
    "            break\n",
    "            print(i*j)\n",
    "        print(i)\n",
    "    print(j)\n",
    "    \n",
    "# i = 2\n",
    "# j = 10\n",
    "# 1\n",
    "# 1\n",
    "# 100\n",
    "# 10"
   ]
  },
  {
   "cell_type": "code",
   "execution_count": 49,
   "id": "b61d7a81",
   "metadata": {
    "ExecuteTime": {
     "end_time": "2022-01-19T15:40:51.464411Z",
     "start_time": "2022-01-19T15:40:51.447167Z"
    }
   },
   "outputs": [
    {
     "name": "stdout",
     "output_type": "stream",
     "text": [
      "1\n",
      "1\n",
      "100\n",
      "20\n",
      "200\n",
      "100\n"
     ]
    }
   ],
   "source": [
    "lst1 = [1, 2]\n",
    "lst2 = [10, 100]\n",
    "for i in lst1:\n",
    "    for j in lst2:\n",
    "        if i%2 == 0:\n",
    "            print(i*j)\n",
    "            continue\n",
    "        print(i)\n",
    "    print(j)\n",
    "    \n",
    "# i = 2\n",
    "# j = 100\n",
    "# 1\n",
    "# 1\n",
    "# 100\n",
    "# 20\n",
    "# 200\n",
    "# 100"
   ]
  },
  {
   "cell_type": "code",
   "execution_count": null,
   "id": "682cb092",
   "metadata": {},
   "outputs": [],
   "source": []
  },
  {
   "cell_type": "code",
   "execution_count": null,
   "id": "2dac4db7",
   "metadata": {},
   "outputs": [],
   "source": []
  },
  {
   "cell_type": "code",
   "execution_count": null,
   "id": "deb2ee54",
   "metadata": {},
   "outputs": [],
   "source": []
  }
 ],
 "metadata": {
  "kernelspec": {
   "display_name": "Python 3 (ipykernel)",
   "language": "python",
   "name": "python3"
  },
  "language_info": {
   "codemirror_mode": {
    "name": "ipython",
    "version": 3
   },
   "file_extension": ".py",
   "mimetype": "text/x-python",
   "name": "python",
   "nbconvert_exporter": "python",
   "pygments_lexer": "ipython3",
   "version": "3.9.7"
  }
 },
 "nbformat": 4,
 "nbformat_minor": 5
}
