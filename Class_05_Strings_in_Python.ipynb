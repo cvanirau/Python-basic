{
 "cells": [
  {
   "cell_type": "code",
   "execution_count": 2,
   "id": "60790455",
   "metadata": {
    "ExecuteTime": {
     "end_time": "2022-01-13T14:09:09.294301Z",
     "start_time": "2022-01-13T14:09:09.287896Z"
    }
   },
   "outputs": [],
   "source": [
    "# String - '...', \"...\", '''...''', \"\"\"...\"\"\"\n",
    "\n",
    "# a = 'Python'\n",
    "# print(a, type(a))\n",
    "\n",
    "# a = \"Python\"\n",
    "# print(a, type(a))\n",
    "\n",
    "# a = '''Python'''\n",
    "# print(a, type(a))\n",
    "\n",
    "# a = \"\"\"Python\"\"\"\n",
    "# print(a, type(a))"
   ]
  },
  {
   "cell_type": "code",
   "execution_count": 13,
   "id": "f0caefe3",
   "metadata": {
    "ExecuteTime": {
     "end_time": "2022-01-13T14:15:41.238733Z",
     "start_time": "2022-01-13T14:15:41.232782Z"
    }
   },
   "outputs": [
    {
     "name": "stdout",
     "output_type": "stream",
     "text": [
      "This is python class This is python class This is python class This is python class This is python classThis is python class\n"
     ]
    }
   ],
   "source": [
    "# a = \"This is Python's class\"\n",
    "# print(a)\n",
    "\n",
    "# a = 'This is \"Python\" class'\n",
    "# print(a)\n",
    "\n",
    "# a = '''This is 'Python' and \"Java\" class'''\n",
    "# print(a)\n",
    "\n",
    "'''Case 2\n",
    "To define lultiline string we use triple quotation'''\n",
    "\n",
    "a = 'This is python class This is python class This is python class This is python class This is python class\\\n",
    "This is python class'\n",
    "print(a)\n"
   ]
  },
  {
   "cell_type": "code",
   "execution_count": 1,
   "id": "13bf6ee1",
   "metadata": {
    "ExecuteTime": {
     "end_time": "2022-01-13T14:33:08.190470Z",
     "start_time": "2022-01-13T14:33:08.169629Z"
    }
   },
   "outputs": [
    {
     "name": "stdout",
     "output_type": "stream",
     "text": [
      "This is Python class 4567177216\n",
      "P 4530208816\n",
      "P 4530208816\n"
     ]
    }
   ],
   "source": [
    "a = 'This is Python class'\n",
    "print(a, id(a))\n",
    "print(a[8], id(a[8]))\n",
    "b = 'P'\n",
    "print(b, id(b))"
   ]
  },
  {
   "cell_type": "code",
   "execution_count": 2,
   "id": "093bd983",
   "metadata": {
    "ExecuteTime": {
     "end_time": "2022-01-13T14:33:10.262092Z",
     "start_time": "2022-01-13T14:33:10.256489Z"
    }
   },
   "outputs": [
    {
     "name": "stdout",
     "output_type": "stream",
     "text": [
      "P 4530208816\n"
     ]
    }
   ],
   "source": [
    "b = 'P'\n",
    "print(b, id(b))"
   ]
  },
  {
   "cell_type": "code",
   "execution_count": 21,
   "id": "fca6aa29",
   "metadata": {
    "ExecuteTime": {
     "end_time": "2022-01-13T14:46:08.964602Z",
     "start_time": "2022-01-13T14:46:08.951571Z"
    }
   },
   "outputs": [
    {
     "data": {
      "text/plain": [
       "'This is 1 class'"
      ]
     },
     "execution_count": 21,
     "metadata": {},
     "output_type": "execute_result"
    }
   ],
   "source": [
    "# Indexing, slicing, Concatenation, repetition\n",
    "\n",
    "# Capitalize, Swapcase. lower, upper, title\n",
    "# isalnum, isalpha, isnumeric, isdigit, isdecimal, islower, isupper, isttitle, isidentifier, etc\n",
    "# # count, index, find, rfind, rindex, split, join, strip, rstrip, lstrip, replace\n",
    "\n",
    "f'This is {1} class'"
   ]
  },
  {
   "cell_type": "code",
   "execution_count": 3,
   "id": "2ee8e3d1",
   "metadata": {
    "ExecuteTime": {
     "end_time": "2022-01-13T14:35:39.167012Z",
     "start_time": "2022-01-13T14:35:39.148613Z"
    }
   },
   "outputs": [
    {
     "data": {
      "text/plain": [
       "'tHIS IS pYTHON CLASS'"
      ]
     },
     "execution_count": 3,
     "metadata": {},
     "output_type": "execute_result"
    }
   ],
   "source": [
    "a = 'This is Python class'\n",
    "a.swapcase()"
   ]
  },
  {
   "cell_type": "code",
   "execution_count": 5,
   "id": "fda2ea6b",
   "metadata": {
    "ExecuteTime": {
     "end_time": "2022-01-13T14:36:35.594260Z",
     "start_time": "2022-01-13T14:36:35.584337Z"
    }
   },
   "outputs": [
    {
     "name": "stdout",
     "output_type": "stream",
     "text": [
      "False\n",
      "True\n",
      "True\n"
     ]
    }
   ],
   "source": [
    "a = 'jhewvfehjw28#$%654862354x'\n",
    "b = 'skdhbfskhd'\n",
    "c = '9783563974'\n",
    "print(a.isalnum())     # Either Alpha, or numeric or alphanumeric\n",
    "print(b.isalnum())\n",
    "print(c.isalnum())"
   ]
  },
  {
   "cell_type": "code",
   "execution_count": 7,
   "id": "2e49a446",
   "metadata": {
    "ExecuteTime": {
     "end_time": "2022-01-13T14:38:15.369021Z",
     "start_time": "2022-01-13T14:38:15.358872Z"
    }
   },
   "outputs": [
    {
     "name": "stdout",
     "output_type": "stream",
     "text": [
      "This is python class\n",
      "This Is Python Class\n"
     ]
    }
   ],
   "source": [
    "# Capitalize - capitalizes the first letter of the string\n",
    "\n",
    "a = 'this is Python class'\n",
    "print(a.capitalize())\n",
    "print(a.title())          # Capitalizes first l;etter of each word\n",
    "\n"
   ]
  },
  {
   "cell_type": "code",
   "execution_count": 11,
   "id": "85236529",
   "metadata": {
    "ExecuteTime": {
     "end_time": "2022-01-13T14:40:53.431449Z",
     "start_time": "2022-01-13T14:40:53.418985Z"
    }
   },
   "outputs": [
    {
     "name": "stdout",
     "output_type": "stream",
     "text": [
      "Pythonclass\tPythonclass\tPython\tclass\n"
     ]
    }
   ],
   "source": [
    "# STring concatenation - uses +\n",
    "# Both the operand should be string type\n",
    "# Returns a new string object\n",
    "\n",
    "str1 = 'Python'\n",
    "str2 = 'class'\n",
    "print(str1+str2, end = '\\t')\n",
    "print(str3, end = '\\t')\n",
    "print(str1, end = '\\t')\n",
    "print(str2)"
   ]
  },
  {
   "cell_type": "code",
   "execution_count": 19,
   "id": "aac6dfde",
   "metadata": {
    "ExecuteTime": {
     "end_time": "2022-01-13T14:44:01.317931Z",
     "start_time": "2022-01-13T14:44:01.310469Z"
    }
   },
   "outputs": [],
   "source": [
    "# isidentifier - it checks the string is a valid identifieror not\n",
    "# Returns Boolean value\n",
    "# Exception is keyword\n",
    "\n",
    "# print('num'.isidentifier())\n",
    "# print('num1'.isidentifier())\n",
    "# print('num_1'.isidentifier())\n",
    "# print('2num_1'.isidentifier())\n",
    "# print('#num_1'.isidentifier())\n",
    "\n",
    "# print('for'.isidentifier())\n",
    "\n",
    "\n",
    "# import keyword\n",
    "# print(keyword.iskeyword('for'))\n",
    "\n",
    "\n"
   ]
  },
  {
   "cell_type": "code",
   "execution_count": null,
   "id": "74958eca",
   "metadata": {},
   "outputs": [],
   "source": [
    "+-<"
   ]
  },
  {
   "cell_type": "code",
   "execution_count": 24,
   "id": "a8705557",
   "metadata": {
    "ExecuteTime": {
     "end_time": "2022-01-13T14:51:32.961529Z",
     "start_time": "2022-01-13T14:51:32.944298Z"
    }
   },
   "outputs": [
    {
     "name": "stdout",
     "output_type": "stream",
     "text": [
      "Python Python Python \n"
     ]
    },
    {
     "ename": "TypeError",
     "evalue": "can't multiply sequence by non-int of type 'float'",
     "output_type": "error",
     "traceback": [
      "\u001b[0;31m---------------------------------------------------------------------------\u001b[0m",
      "\u001b[0;31mTypeError\u001b[0m                                 Traceback (most recent call last)",
      "\u001b[0;32m<ipython-input-24-92dbcfe5f7fd>\u001b[0m in \u001b[0;36m<module>\u001b[0;34m\u001b[0m\n\u001b[1;32m      5\u001b[0m \u001b[0ma\u001b[0m \u001b[0;34m=\u001b[0m \u001b[0;34m'Python '\u001b[0m\u001b[0;34m\u001b[0m\u001b[0;34m\u001b[0m\u001b[0m\n\u001b[1;32m      6\u001b[0m \u001b[0mprint\u001b[0m\u001b[0;34m(\u001b[0m\u001b[0ma\u001b[0m \u001b[0;34m*\u001b[0m \u001b[0;36m3\u001b[0m\u001b[0;34m)\u001b[0m\u001b[0;34m\u001b[0m\u001b[0;34m\u001b[0m\u001b[0m\n\u001b[0;32m----> 7\u001b[0;31m \u001b[0mprint\u001b[0m\u001b[0;34m(\u001b[0m\u001b[0ma\u001b[0m \u001b[0;34m*\u001b[0m \u001b[0;36m3.0\u001b[0m\u001b[0;34m)\u001b[0m\u001b[0;34m\u001b[0m\u001b[0;34m\u001b[0m\u001b[0m\n\u001b[0m",
      "\u001b[0;31mTypeError\u001b[0m: can't multiply sequence by non-int of type 'float'"
     ]
    }
   ],
   "source": [
    "# Repetition - *\n",
    "# One of the operand should be string and other should be int type\n",
    "# This also creates a new string object\n",
    "\n",
    "a = 'Python '\n",
    "print(a * 3)\n",
    "print(a * 3.0)"
   ]
  },
  {
   "cell_type": "code",
   "execution_count": null,
   "id": "90d5d11a",
   "metadata": {},
   "outputs": [],
   "source": []
  },
  {
   "cell_type": "code",
   "execution_count": null,
   "id": "07bd4a2f",
   "metadata": {},
   "outputs": [],
   "source": []
  },
  {
   "cell_type": "code",
   "execution_count": null,
   "id": "86907129",
   "metadata": {},
   "outputs": [],
   "source": []
  },
  {
   "cell_type": "code",
   "execution_count": null,
   "id": "488284e0",
   "metadata": {},
   "outputs": [],
   "source": []
  },
  {
   "cell_type": "code",
   "execution_count": null,
   "id": "20b3e9ee",
   "metadata": {},
   "outputs": [],
   "source": []
  },
  {
   "cell_type": "code",
   "execution_count": null,
   "id": "b0e4fed4",
   "metadata": {},
   "outputs": [],
   "source": []
  },
  {
   "cell_type": "code",
   "execution_count": null,
   "id": "3c9a3c84",
   "metadata": {},
   "outputs": [],
   "source": []
  },
  {
   "cell_type": "code",
   "execution_count": null,
   "id": "de59fda8",
   "metadata": {},
   "outputs": [],
   "source": []
  },
  {
   "cell_type": "code",
   "execution_count": null,
   "id": "c6d18d83",
   "metadata": {},
   "outputs": [],
   "source": []
  },
  {
   "cell_type": "code",
   "execution_count": null,
   "id": "200fafa8",
   "metadata": {},
   "outputs": [],
   "source": []
  },
  {
   "cell_type": "code",
   "execution_count": null,
   "id": "dda173b1",
   "metadata": {},
   "outputs": [],
   "source": []
  },
  {
   "cell_type": "code",
   "execution_count": null,
   "id": "652f4bd7",
   "metadata": {},
   "outputs": [],
   "source": []
  },
  {
   "cell_type": "code",
   "execution_count": null,
   "id": "8467cf5c",
   "metadata": {},
   "outputs": [],
   "source": []
  },
  {
   "cell_type": "code",
   "execution_count": null,
   "id": "d2dffae1",
   "metadata": {},
   "outputs": [],
   "source": []
  },
  {
   "cell_type": "code",
   "execution_count": null,
   "id": "02cb96e8",
   "metadata": {},
   "outputs": [],
   "source": []
  },
  {
   "cell_type": "code",
   "execution_count": null,
   "id": "f406c857",
   "metadata": {},
   "outputs": [],
   "source": []
  },
  {
   "cell_type": "code",
   "execution_count": null,
   "id": "73b1be77",
   "metadata": {},
   "outputs": [],
   "source": []
  },
  {
   "cell_type": "code",
   "execution_count": null,
   "id": "51f92095",
   "metadata": {},
   "outputs": [],
   "source": []
  },
  {
   "cell_type": "code",
   "execution_count": null,
   "id": "eab6e1cc",
   "metadata": {},
   "outputs": [],
   "source": []
  },
  {
   "cell_type": "code",
   "execution_count": null,
   "id": "44695617",
   "metadata": {},
   "outputs": [],
   "source": []
  },
  {
   "cell_type": "code",
   "execution_count": null,
   "id": "1057d179",
   "metadata": {},
   "outputs": [],
   "source": []
  },
  {
   "cell_type": "code",
   "execution_count": null,
   "id": "8defbbea",
   "metadata": {},
   "outputs": [],
   "source": []
  },
  {
   "cell_type": "code",
   "execution_count": null,
   "id": "c30ddc73",
   "metadata": {},
   "outputs": [],
   "source": []
  },
  {
   "cell_type": "code",
   "execution_count": null,
   "id": "8cc1e871",
   "metadata": {},
   "outputs": [],
   "source": []
  },
  {
   "cell_type": "code",
   "execution_count": null,
   "id": "e3dcaefc",
   "metadata": {},
   "outputs": [],
   "source": []
  },
  {
   "cell_type": "code",
   "execution_count": null,
   "id": "8f4b58e7",
   "metadata": {},
   "outputs": [],
   "source": []
  },
  {
   "cell_type": "code",
   "execution_count": null,
   "id": "6027cbc4",
   "metadata": {},
   "outputs": [],
   "source": []
  },
  {
   "cell_type": "code",
   "execution_count": null,
   "id": "d8ea41ed",
   "metadata": {},
   "outputs": [],
   "source": []
  },
  {
   "cell_type": "code",
   "execution_count": null,
   "id": "4eb32031",
   "metadata": {},
   "outputs": [],
   "source": []
  },
  {
   "cell_type": "code",
   "execution_count": null,
   "id": "850f371d",
   "metadata": {},
   "outputs": [],
   "source": []
  },
  {
   "cell_type": "code",
   "execution_count": null,
   "id": "c17075f7",
   "metadata": {},
   "outputs": [],
   "source": []
  },
  {
   "cell_type": "code",
   "execution_count": null,
   "id": "1d52e79e",
   "metadata": {},
   "outputs": [],
   "source": []
  },
  {
   "cell_type": "code",
   "execution_count": null,
   "id": "644d2cc6",
   "metadata": {},
   "outputs": [],
   "source": []
  },
  {
   "cell_type": "code",
   "execution_count": null,
   "id": "56694551",
   "metadata": {},
   "outputs": [],
   "source": []
  },
  {
   "cell_type": "code",
   "execution_count": null,
   "id": "b506ec90",
   "metadata": {},
   "outputs": [],
   "source": []
  },
  {
   "cell_type": "code",
   "execution_count": null,
   "id": "eccaacb4",
   "metadata": {},
   "outputs": [],
   "source": []
  },
  {
   "cell_type": "code",
   "execution_count": null,
   "id": "29ea9697",
   "metadata": {},
   "outputs": [],
   "source": []
  },
  {
   "cell_type": "code",
   "execution_count": null,
   "id": "8278ec2f",
   "metadata": {},
   "outputs": [],
   "source": []
  },
  {
   "cell_type": "code",
   "execution_count": null,
   "id": "e51d6f37",
   "metadata": {},
   "outputs": [],
   "source": []
  },
  {
   "cell_type": "code",
   "execution_count": null,
   "id": "248a9d1f",
   "metadata": {},
   "outputs": [],
   "source": []
  },
  {
   "cell_type": "code",
   "execution_count": null,
   "id": "b6859875",
   "metadata": {},
   "outputs": [],
   "source": []
  }
 ],
 "metadata": {
  "kernelspec": {
   "display_name": "Python 3 (ipykernel)",
   "language": "python",
   "name": "python3"
  },
  "language_info": {
   "codemirror_mode": {
    "name": "ipython",
    "version": 3
   },
   "file_extension": ".py",
   "mimetype": "text/x-python",
   "name": "python",
   "nbconvert_exporter": "python",
   "pygments_lexer": "ipython3",
   "version": "3.9.7"
  }
 },
 "nbformat": 4,
 "nbformat_minor": 5
}
