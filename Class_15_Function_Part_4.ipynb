{
 "cells": [
  {
   "cell_type": "code",
   "execution_count": null,
   "id": "6852c7ff",
   "metadata": {},
   "outputs": [],
   "source": [
    "# map, sum, max, min, prod"
   ]
  },
  {
   "cell_type": "code",
   "execution_count": null,
   "id": "15f7fc09",
   "metadata": {},
   "outputs": [],
   "source": [
    "# map(func, iterable)\n",
    "# map object\n",
    "# list, for - for realization of the values"
   ]
  },
  {
   "cell_type": "code",
   "execution_count": 6,
   "id": "70f39723",
   "metadata": {
    "ExecuteTime": {
     "end_time": "2022-02-01T14:16:00.072822Z",
     "start_time": "2022-02-01T14:16:00.058911Z"
    }
   },
   "outputs": [
    {
     "name": "stdout",
     "output_type": "stream",
     "text": [
      "[100, 121, 144, 169, 196, 225, 256, 289, 324, 361, 400]\n"
     ]
    },
    {
     "data": {
      "text/plain": [
       "[10, 11, 12, 13, 14, 15, 16, 17, 18, 19, 20]"
      ]
     },
     "execution_count": 6,
     "metadata": {},
     "output_type": "execute_result"
    }
   ],
   "source": [
    "lst = [10,11,12,13,14,15,16,17,18,19,20]\n",
    "# list of square of each element from lst\n",
    "print(list(map(lambda num: num**2, lst)))\n",
    "list(filter(lambda num:num*2, lst))"
   ]
  },
  {
   "cell_type": "code",
   "execution_count": 8,
   "id": "5c5158f3",
   "metadata": {
    "ExecuteTime": {
     "end_time": "2022-02-01T14:24:02.216690Z",
     "start_time": "2022-02-01T14:24:02.207988Z"
    }
   },
   "outputs": [
    {
     "name": "stdout",
     "output_type": "stream",
     "text": [
      "['support', 'sales', 'info', 'careers', 'enquiries', 'news']\n"
     ]
    }
   ],
   "source": [
    "lst_email = ['support@domain.com',\n",
    "'sales@domain.com',\n",
    "'info@domain.com',\n",
    "'careers@domain.com',\n",
    "'enquiries@domain.com',\n",
    "'news@domain.com' ]\n",
    "\n",
    "# 1. Find the user name of each email id \n",
    "print(list(map(lambda ID: ID.split('@')[0] ,lst_email)))"
   ]
  },
  {
   "cell_type": "code",
   "execution_count": 18,
   "id": "135b63e9",
   "metadata": {
    "ExecuteTime": {
     "end_time": "2022-02-01T14:33:53.310748Z",
     "start_time": "2022-02-01T14:33:53.300222Z"
    }
   },
   "outputs": [
    {
     "data": {
      "text/plain": [
       "['support', 'info', 'careers']"
      ]
     },
     "execution_count": 18,
     "metadata": {},
     "output_type": "execute_result"
    }
   ],
   "source": [
    "lst_email = ['support@domain.com',\n",
    "'sales@domain.com',\n",
    "'info@domain.com',\n",
    "'careers@domain.com',\n",
    "'enquiries@domain.com',\n",
    "'news@domain.com' ]\n",
    "\n",
    "lst_id = [101, None, 901, 899, None, None]\n",
    "\n",
    "# 2. foind the user name of all those email id where id is not None\n",
    "\n",
    "a = filter(lambda email:lst_id[lst_email.index(email)], lst_email)\n",
    "list(map(lambda email:email.split('@')[0], a))\n",
    "\n",
    "\n"
   ]
  },
  {
   "cell_type": "code",
   "execution_count": 9,
   "id": "1c5e79b3",
   "metadata": {
    "ExecuteTime": {
     "end_time": "2022-02-01T14:24:43.621369Z",
     "start_time": "2022-02-01T14:24:43.602919Z"
    }
   },
   "outputs": [
    {
     "data": {
      "text/plain": [
       "['sales@domain.com', 'enquiries@domain.com', 'news@domain.com']"
      ]
     },
     "execution_count": 9,
     "metadata": {},
     "output_type": "execute_result"
    }
   ],
   "source": [
    "lst_email = ['support@domain.com',\n",
    "'sales@domain.com',\n",
    "'info@domain.com',\n",
    "'careers@domain.com',\n",
    "'enquiries@domain.com',\n",
    "'news@domain.com' ]\n",
    "\n",
    "lst_id = [101, None, 901, 899, None, None]\n",
    "\n",
    "list(filter(lambda email: not lst_id[lst_email.index(email)],lst_email))"
   ]
  },
  {
   "cell_type": "code",
   "execution_count": 16,
   "id": "3e13aba8",
   "metadata": {
    "ExecuteTime": {
     "end_time": "2022-02-01T14:33:37.391779Z",
     "start_time": "2022-02-01T14:33:37.385954Z"
    }
   },
   "outputs": [],
   "source": [
    "lst_email = ['support@domain.com',\n",
    "'sales@domain.com',\n",
    "'info@domain.com',\n",
    "'careers@domain.com',\n",
    "'enquiries@domain.com',\n",
    "'news@domain.com' ]\n",
    "\n",
    "lst_id = [101, None, 901, 899, None, None]\n",
    "\n",
    "a = filter(lambda email:lst_id[lst_email.index(email)], lst_email)\n",
    "# list(a)"
   ]
  },
  {
   "cell_type": "code",
   "execution_count": 28,
   "id": "fec0ee85",
   "metadata": {
    "ExecuteTime": {
     "end_time": "2022-02-01T14:44:55.407444Z",
     "start_time": "2022-02-01T14:44:55.387614Z"
    }
   },
   "outputs": [
    {
     "name": "stdout",
     "output_type": "stream",
     "text": [
      "165\n",
      "6704425728000\n"
     ]
    },
    {
     "data": {
      "text/plain": [
       "15"
      ]
     },
     "execution_count": 28,
     "metadata": {},
     "output_type": "execute_result"
    }
   ],
   "source": [
    "# Finding the aggregate value - reduce\n",
    "# 3.5 - functolls\n",
    "# sum, max, min, prod\n",
    "# from math import prod\n",
    "# lst = [10,11,12,13,14,15,16,17,18,19,20]\n",
    "# print(sum(lst))\n",
    "# print(max(lst))\n",
    "# print(min(lst))\n",
    "# print(prod(lst))\n",
    "\n",
    "\n",
    "# reduce - returns a single value after aggregating\n",
    "# has to be imported from functools module\n",
    "# reduce(func, iterable)\n",
    "from functools import reduce\n",
    "lst = [10,11,12,13,14,15,16,17,18,19,20]\n",
    "print(reduce(lambda x, y:x+y, lst))\n",
    "print(reduce(lambda x, y:x*y, lst))\n",
    "# print(reduce(lambda x, y : x>y, lst))\n",
    "from functools import reduce \n",
    "\n",
    "lst = [10,11,12,13,14,15]\n",
    "\n",
    "reduce (lambda x,y:x+y,lst) \n",
    "\n",
    "reduce (lambda x,y: (y if x>y else x),lst)\n",
    "reduce (lambda x,y: (y if x<y else x),lst)\n",
    "\n",
    "# x = 46\n",
    "# y = 14\n",
    "# x+y = 60\n",
    "\n"
   ]
  },
  {
   "cell_type": "code",
   "execution_count": 20,
   "id": "379bf283",
   "metadata": {
    "ExecuteTime": {
     "end_time": "2022-02-01T14:36:40.249189Z",
     "start_time": "2022-02-01T14:36:40.244160Z"
    }
   },
   "outputs": [],
   "source": [
    "# print(dir(__builtins__))"
   ]
  },
  {
   "cell_type": "code",
   "execution_count": null,
   "id": "8e92d959",
   "metadata": {},
   "outputs": [],
   "source": [
    "# Iterators and Iterables"
   ]
  },
  {
   "cell_type": "code",
   "execution_count": 39,
   "id": "6f96cbec",
   "metadata": {
    "ExecuteTime": {
     "end_time": "2022-02-01T14:50:30.799224Z",
     "start_time": "2022-02-01T14:50:30.792455Z"
    }
   },
   "outputs": [],
   "source": [
    "# Iterable - any object which implements __iter__\n",
    "\n",
    "# print(dir(int))\n",
    "# for i in 10:\n",
    "#     print(i)\n",
    "\n",
    "# print(dir(10+20j))\n",
    "# for i in 10+20j:\n",
    "#     print(i)\n",
    "\n",
    "# print(dir(str))\n",
    "# for i in 'Python':\n",
    "#     print(i)\n",
    "\n",
    "# print(dir(list))\n",
    "\n",
    "# print(dir(tuple))\n",
    "\n",
    "# print(dir(dict))\n",
    "\n",
    "# print(dir(set))\n",
    "\n"
   ]
  },
  {
   "cell_type": "code",
   "execution_count": 44,
   "id": "565ba8c8",
   "metadata": {
    "ExecuteTime": {
     "end_time": "2022-02-01T14:52:38.998779Z",
     "start_time": "2022-02-01T14:52:38.992794Z"
    }
   },
   "outputs": [
    {
     "name": "stdout",
     "output_type": "stream",
     "text": [
      "['__add__', '__class__', '__contains__', '__delattr__', '__delitem__', '__dir__', '__doc__', '__eq__', '__format__', '__ge__', '__getattribute__', '__getitem__', '__gt__', '__hash__', '__iadd__', '__imul__', '__init__', '__init_subclass__', '__iter__', '__le__', '__len__', '__lt__', '__mul__', '__ne__', '__new__', '__reduce__', '__reduce_ex__', '__repr__', '__reversed__', '__rmul__', '__setattr__', '__setitem__', '__sizeof__', '__str__', '__subclasshook__', 'append', 'clear', 'copy', 'count', 'extend', 'index', 'insert', 'pop', 'remove', 'reverse', 'sort']\n"
     ]
    }
   ],
   "source": [
    "# Iterator - any object which implements __iter__ and __next__\n",
    "# All iterator are iterables but all iterables are not iterators\n",
    "\n",
    "# print(dir(filter))\n",
    "\n",
    "# print(dir(map))\n",
    "\n",
    "# print(dir(enumerate))\n",
    "\n",
    "# print(dir(zip))\n",
    "\n",
    "# print(dir(list)) # not an iterator\n",
    "\n"
   ]
  },
  {
   "cell_type": "code",
   "execution_count": 52,
   "id": "8b6d2819",
   "metadata": {
    "ExecuteTime": {
     "end_time": "2022-02-01T15:02:16.190199Z",
     "start_time": "2022-02-01T15:02:12.935425Z"
    }
   },
   "outputs": [
    {
     "name": "stdout",
     "output_type": "stream",
     "text": [
      "40.2 ns ± 13.1 ns per loop (mean ± std. dev. of 7 runs, 10000000 loops each)\n"
     ]
    }
   ],
   "source": [
    "# Ietartors are memory efficient\n",
    "# from sys import getsizeof\n",
    "# lst = [i for i in range(1000)]\n",
    "# print(lst, getsizeof(lst))\n",
    "\n",
    "# tpl = (i for i in range(1000))\n",
    "# print(tpl, getsizeof(tpl))\n",
    "# for i in tpl:\n",
    "#     print(i)\n",
    "\n",
    "\n",
    "\n",
    "\n",
    "# Iterators are faster\n",
    "\n",
    "def f1():\n",
    "    a = [i for i in range(1000000)]\n",
    "    return a\n",
    "\n",
    "%timeit f1\n",
    "    \n",
    "\n",
    "\n"
   ]
  },
  {
   "cell_type": "code",
   "execution_count": 51,
   "id": "ec2e18ed",
   "metadata": {
    "ExecuteTime": {
     "end_time": "2022-02-01T14:59:09.835396Z",
     "start_time": "2022-02-01T14:59:09.824674Z"
    }
   },
   "outputs": [],
   "source": [
    "def f1():\n",
    "    a = 10\n",
    "    b = 20"
   ]
  },
  {
   "cell_type": "code",
   "execution_count": 55,
   "id": "4680e2ab",
   "metadata": {
    "ExecuteTime": {
     "end_time": "2022-02-01T15:06:56.141408Z",
     "start_time": "2022-02-01T15:06:53.429292Z"
    }
   },
   "outputs": [
    {
     "name": "stdout",
     "output_type": "stream",
     "text": [
      "31 ns ± 2.71 ns per loop (mean ± std. dev. of 7 runs, 10000000 loops each)\n"
     ]
    }
   ],
   "source": [
    "def f1():\n",
    "    a = (i for i in range(1000000))\n",
    "    return a\n",
    "\n",
    "%timeit f1"
   ]
  },
  {
   "cell_type": "code",
   "execution_count": 60,
   "id": "1da2b5a3",
   "metadata": {
    "ExecuteTime": {
     "end_time": "2022-02-01T15:12:31.774006Z",
     "start_time": "2022-02-01T15:12:31.765768Z"
    }
   },
   "outputs": [
    {
     "name": "stdout",
     "output_type": "stream",
     "text": [
      "(0, 'P')\n",
      "(1, 'y')\n",
      "(2, 't')\n",
      "(3, 'h')\n",
      "(4, 'o')\n",
      "(5, 'n')\n"
     ]
    }
   ],
   "source": [
    "# Realization of the value inside the iterator\n",
    "\n",
    "# list(enumerate('Python'))\n",
    "\n",
    "# for i in enumerate('Python'):\n",
    "#     print(i)\n"
   ]
  },
  {
   "cell_type": "code",
   "execution_count": 68,
   "id": "fc159d77",
   "metadata": {
    "ExecuteTime": {
     "end_time": "2022-02-01T15:16:20.087662Z",
     "start_time": "2022-02-01T15:16:20.078351Z"
    }
   },
   "outputs": [
    {
     "name": "stdout",
     "output_type": "stream",
     "text": [
      "(0, 'P')\n",
      "(1, 'y')\n",
      "(2, 't')\n",
      "(3, 'h')\n",
      "(4, 'o')\n",
      "(5, 'n')\n",
      "\n",
      "(0, 'P')\n",
      "(1, 'y')\n",
      "(2, 't')\n",
      "(3, 'h')\n",
      "(4, 'o')\n",
      "(5, 'n')\n"
     ]
    }
   ],
   "source": [
    "a = enumerate('Python')\n",
    "# print(next(a))\n",
    "# print(next(a))\n",
    "# print(next(a))\n",
    "# print(next(a))\n",
    "# print(next(a))\n",
    "# print(next(a))\n",
    "# print(next(a))\n",
    "\n",
    "for i in a:\n",
    "    print(i)\n",
    "print()\n",
    "a = enumerate('Python')\n",
    "for j in a:\n",
    "    print(j)\n"
   ]
  },
  {
   "cell_type": "code",
   "execution_count": 66,
   "id": "1b132f15",
   "metadata": {
    "ExecuteTime": {
     "end_time": "2022-02-01T15:15:40.358367Z",
     "start_time": "2022-02-01T15:15:40.345123Z"
    }
   },
   "outputs": [
    {
     "name": "stdout",
     "output_type": "stream",
     "text": [
      "10\n",
      "20\n",
      "30\n",
      "40\n",
      "10\n",
      "20\n",
      "30\n",
      "40\n"
     ]
    }
   ],
   "source": [
    "b = [10,20,30,40]\n",
    "for i in b:\n",
    "    print(i)\n",
    "for j in b:\n",
    "    print(j)"
   ]
  },
  {
   "cell_type": "code",
   "execution_count": 70,
   "id": "a057436b",
   "metadata": {
    "ExecuteTime": {
     "end_time": "2022-02-01T15:18:12.843467Z",
     "start_time": "2022-02-01T15:18:12.836824Z"
    }
   },
   "outputs": [
    {
     "name": "stdout",
     "output_type": "stream",
     "text": [
      "(0, 'P')\n",
      "(1, 'y')\n"
     ]
    }
   ],
   "source": [
    "# Lazy evaluation\n",
    "\n",
    "a = enumerate('Python')\n",
    "print(next(a))\n",
    "print(next(a))\n",
    "\n",
    "\n",
    "lst = [10, 90, 80, 99, 89, 0, 10, 23, 10, ]"
   ]
  },
  {
   "cell_type": "code",
   "execution_count": 71,
   "id": "2374c826",
   "metadata": {
    "ExecuteTime": {
     "end_time": "2022-02-01T15:23:59.143438Z",
     "start_time": "2022-02-01T15:23:59.116066Z"
    }
   },
   "outputs": [
    {
     "name": "stdout",
     "output_type": "stream",
     "text": [
      "10\n",
      "90\n",
      "80\n",
      "99\n",
      "89\n"
     ]
    }
   ],
   "source": [
    "\n",
    "my_iter = iter(lst)\n",
    "for a in my_iter:\n",
    "    if a == 0:\n",
    "        break\n",
    "    else:\n",
    "        print(a)\n",
    "\n"
   ]
  },
  {
   "cell_type": "code",
   "execution_count": 72,
   "id": "27a75369",
   "metadata": {
    "ExecuteTime": {
     "end_time": "2022-02-01T15:29:23.042787Z",
     "start_time": "2022-02-01T15:29:23.037244Z"
    }
   },
   "outputs": [
    {
     "name": "stdout",
     "output_type": "stream",
     "text": [
      "(0, 'P')\n",
      "(1, 'y')\n",
      "(2, 't')\n",
      "(3, 'h')\n",
      "(4, 'o')\n",
      "(5, 'n')\n"
     ]
    }
   ],
   "source": [
    "a = enumerate('Python')\n",
    "for i in a:\n",
    "    print(i)"
   ]
  },
  {
   "cell_type": "code",
   "execution_count": 75,
   "id": "e8580e17",
   "metadata": {
    "ExecuteTime": {
     "end_time": "2022-02-01T15:35:16.915549Z",
     "start_time": "2022-02-01T15:35:13.332816Z"
    }
   },
   "outputs": [
    {
     "data": {
      "text/html": [
       "<div>\n",
       "<style scoped>\n",
       "    .dataframe tbody tr th:only-of-type {\n",
       "        vertical-align: middle;\n",
       "    }\n",
       "\n",
       "    .dataframe tbody tr th {\n",
       "        vertical-align: top;\n",
       "    }\n",
       "\n",
       "    .dataframe thead th {\n",
       "        text-align: right;\n",
       "    }\n",
       "</style>\n",
       "<table border=\"1\" class=\"dataframe\">\n",
       "  <thead>\n",
       "    <tr style=\"text-align: right;\">\n",
       "      <th></th>\n",
       "      <th>total_bill</th>\n",
       "      <th>tip</th>\n",
       "      <th>sex</th>\n",
       "      <th>smoker</th>\n",
       "      <th>day</th>\n",
       "      <th>time</th>\n",
       "      <th>size</th>\n",
       "    </tr>\n",
       "  </thead>\n",
       "  <tbody>\n",
       "    <tr>\n",
       "      <th>0</th>\n",
       "      <td>16.99</td>\n",
       "      <td>1.01</td>\n",
       "      <td>Female</td>\n",
       "      <td>No</td>\n",
       "      <td>Sun</td>\n",
       "      <td>Dinner</td>\n",
       "      <td>2</td>\n",
       "    </tr>\n",
       "    <tr>\n",
       "      <th>1</th>\n",
       "      <td>10.34</td>\n",
       "      <td>1.66</td>\n",
       "      <td>Male</td>\n",
       "      <td>No</td>\n",
       "      <td>Sun</td>\n",
       "      <td>Dinner</td>\n",
       "      <td>3</td>\n",
       "    </tr>\n",
       "    <tr>\n",
       "      <th>2</th>\n",
       "      <td>21.01</td>\n",
       "      <td>3.50</td>\n",
       "      <td>Male</td>\n",
       "      <td>No</td>\n",
       "      <td>Sun</td>\n",
       "      <td>Dinner</td>\n",
       "      <td>3</td>\n",
       "    </tr>\n",
       "    <tr>\n",
       "      <th>3</th>\n",
       "      <td>23.68</td>\n",
       "      <td>3.31</td>\n",
       "      <td>Male</td>\n",
       "      <td>No</td>\n",
       "      <td>Sun</td>\n",
       "      <td>Dinner</td>\n",
       "      <td>2</td>\n",
       "    </tr>\n",
       "    <tr>\n",
       "      <th>4</th>\n",
       "      <td>24.59</td>\n",
       "      <td>3.61</td>\n",
       "      <td>Female</td>\n",
       "      <td>No</td>\n",
       "      <td>Sun</td>\n",
       "      <td>Dinner</td>\n",
       "      <td>4</td>\n",
       "    </tr>\n",
       "  </tbody>\n",
       "</table>\n",
       "</div>"
      ],
      "text/plain": [
       "   total_bill   tip     sex smoker  day    time  size\n",
       "0       16.99  1.01  Female     No  Sun  Dinner     2\n",
       "1       10.34  1.66    Male     No  Sun  Dinner     3\n",
       "2       21.01  3.50    Male     No  Sun  Dinner     3\n",
       "3       23.68  3.31    Male     No  Sun  Dinner     2\n",
       "4       24.59  3.61  Female     No  Sun  Dinner     4"
      ]
     },
     "execution_count": 75,
     "metadata": {},
     "output_type": "execute_result"
    }
   ],
   "source": [
    "import seaborn as sns\n",
    "data = sns.load_dataset('tips')\n",
    "data.head()"
   ]
  },
  {
   "cell_type": "code",
   "execution_count": 78,
   "id": "f9998901",
   "metadata": {
    "ExecuteTime": {
     "end_time": "2022-02-01T15:36:13.920113Z",
     "start_time": "2022-02-01T15:36:13.854252Z"
    }
   },
   "outputs": [
    {
     "name": "stdout",
     "output_type": "stream",
     "text": [
      "1.01\n",
      "1.66\n",
      "3.5\n",
      "3.31\n",
      "3.61\n",
      "4.71\n",
      "2.0\n",
      "3.12\n",
      "1.96\n",
      "3.23\n",
      "1.71\n",
      "5.0\n",
      "1.57\n",
      "3.0\n",
      "3.02\n",
      "3.92\n",
      "1.67\n",
      "3.71\n",
      "3.5\n",
      "3.35\n",
      "4.08\n",
      "2.75\n",
      "2.23\n",
      "7.58\n",
      "3.18\n",
      "2.34\n",
      "2.0\n",
      "2.0\n",
      "4.3\n",
      "3.0\n",
      "1.45\n",
      "2.5\n",
      "3.0\n",
      "2.45\n",
      "3.27\n",
      "3.6\n",
      "2.0\n",
      "3.07\n",
      "2.31\n",
      "5.0\n",
      "2.24\n",
      "2.54\n",
      "3.06\n",
      "1.32\n",
      "5.6\n",
      "3.0\n",
      "5.0\n",
      "6.0\n",
      "2.05\n",
      "3.0\n",
      "2.5\n",
      "2.6\n",
      "5.2\n",
      "1.56\n",
      "4.34\n",
      "3.51\n",
      "3.0\n",
      "1.5\n",
      "1.76\n",
      "6.73\n",
      "3.21\n",
      "2.0\n",
      "1.98\n",
      "3.76\n",
      "2.64\n",
      "3.15\n",
      "2.47\n",
      "1.0\n",
      "2.01\n",
      "2.09\n",
      "1.97\n",
      "3.0\n",
      "3.14\n",
      "5.0\n",
      "2.2\n",
      "1.25\n",
      "3.08\n",
      "4.0\n",
      "3.0\n",
      "2.71\n",
      "3.0\n",
      "3.4\n",
      "1.83\n",
      "5.0\n",
      "2.03\n",
      "5.17\n",
      "2.0\n",
      "4.0\n",
      "5.85\n",
      "3.0\n",
      "3.0\n",
      "3.5\n",
      "1.0\n",
      "4.3\n",
      "3.25\n",
      "4.73\n",
      "4.0\n",
      "1.5\n",
      "3.0\n",
      "1.5\n",
      "2.5\n",
      "3.0\n",
      "2.5\n",
      "3.48\n",
      "4.08\n",
      "1.64\n",
      "4.06\n",
      "4.29\n",
      "3.76\n",
      "4.0\n",
      "3.0\n",
      "1.0\n",
      "4.0\n",
      "2.55\n",
      "4.0\n",
      "3.5\n",
      "5.07\n",
      "1.5\n",
      "1.8\n",
      "2.92\n",
      "2.31\n",
      "1.68\n",
      "2.5\n",
      "2.0\n",
      "2.52\n",
      "4.2\n",
      "1.48\n",
      "2.0\n",
      "2.0\n",
      "2.18\n",
      "1.5\n",
      "2.83\n",
      "1.5\n",
      "2.0\n",
      "3.25\n",
      "1.25\n",
      "2.0\n",
      "2.0\n",
      "2.0\n",
      "2.75\n",
      "3.5\n",
      "6.7\n",
      "5.0\n",
      "5.0\n",
      "2.3\n",
      "1.5\n",
      "1.36\n",
      "1.63\n",
      "1.73\n",
      "2.0\n",
      "2.5\n",
      "2.0\n",
      "2.74\n",
      "2.0\n",
      "2.0\n",
      "5.14\n",
      "5.0\n",
      "3.75\n",
      "2.61\n",
      "2.0\n",
      "3.5\n",
      "2.5\n",
      "2.0\n",
      "2.0\n",
      "3.0\n",
      "3.48\n",
      "2.24\n",
      "4.5\n",
      "1.61\n",
      "2.0\n",
      "10.0\n",
      "3.16\n",
      "5.15\n",
      "3.18\n",
      "4.0\n",
      "3.11\n",
      "2.0\n",
      "2.0\n",
      "4.0\n",
      "3.55\n",
      "3.68\n",
      "5.65\n",
      "3.5\n",
      "6.5\n",
      "3.0\n",
      "5.0\n",
      "3.5\n",
      "2.0\n",
      "3.5\n",
      "4.0\n",
      "1.5\n",
      "4.19\n",
      "2.56\n",
      "2.02\n",
      "4.0\n",
      "1.44\n",
      "2.0\n",
      "5.0\n",
      "2.0\n",
      "2.0\n",
      "4.0\n",
      "2.01\n",
      "2.0\n",
      "2.5\n",
      "4.0\n",
      "3.23\n",
      "3.41\n",
      "3.0\n",
      "2.03\n",
      "2.23\n",
      "2.0\n",
      "5.16\n",
      "9.0\n",
      "2.5\n",
      "6.5\n",
      "1.1\n",
      "3.0\n",
      "1.5\n",
      "1.44\n",
      "3.09\n",
      "2.2\n",
      "3.48\n",
      "1.92\n",
      "3.0\n",
      "1.58\n",
      "2.5\n",
      "2.0\n",
      "3.0\n",
      "2.72\n",
      "2.88\n",
      "2.0\n",
      "3.0\n",
      "3.39\n",
      "1.47\n",
      "3.0\n",
      "1.25\n",
      "1.0\n",
      "1.17\n",
      "4.67\n",
      "5.92\n",
      "2.0\n",
      "2.0\n",
      "1.75\n",
      "3.0\n"
     ]
    }
   ],
   "source": [
    "for i in iter(data.tip):\n",
    "    print(i)"
   ]
  },
  {
   "cell_type": "code",
   "execution_count": 91,
   "id": "55cec04f",
   "metadata": {
    "ExecuteTime": {
     "end_time": "2022-02-01T15:43:21.487886Z",
     "start_time": "2022-02-01T15:43:21.475216Z"
    }
   },
   "outputs": [
    {
     "data": {
      "text/plain": [
       "60"
      ]
     },
     "execution_count": 91,
     "metadata": {},
     "output_type": "execute_result"
    }
   ],
   "source": [
    "def f1(a, b, c, k =9):\n",
    "    return a+b+c\n",
    "\n",
    "lst = [10, 20, 30]\n",
    "f1(*lst)"
   ]
  },
  {
   "cell_type": "code",
   "execution_count": 85,
   "id": "0defc3d8",
   "metadata": {
    "ExecuteTime": {
     "end_time": "2022-02-01T15:38:41.522306Z",
     "start_time": "2022-02-01T15:38:41.519067Z"
    }
   },
   "outputs": [],
   "source": [
    "# a, b, c = lst\n",
    "# a"
   ]
  },
  {
   "cell_type": "code",
   "execution_count": 95,
   "id": "47de2d65",
   "metadata": {
    "ExecuteTime": {
     "end_time": "2022-02-01T15:44:59.227264Z",
     "start_time": "2022-02-01T15:44:59.207665Z"
    }
   },
   "outputs": [
    {
     "ename": "TypeError",
     "evalue": "f1() missing 1 required positional argument: 'c'",
     "output_type": "error",
     "traceback": [
      "\u001b[0;31m---------------------------------------------------------------------------\u001b[0m",
      "\u001b[0;31mTypeError\u001b[0m                                 Traceback (most recent call last)",
      "\u001b[0;32m<ipython-input-95-65b6a6c891dc>\u001b[0m in \u001b[0;36m<module>\u001b[0;34m\u001b[0m\n\u001b[1;32m      1\u001b[0m \u001b[0ma\u001b[0m \u001b[0;34m=\u001b[0m \u001b[0;34m[\u001b[0m\u001b[0;36m10.98\u001b[0m\u001b[0;34m,\u001b[0m \u001b[0;36m89.09\u001b[0m\u001b[0;34m,\u001b[0m \u001b[0;36m78.99\u001b[0m\u001b[0;34m]\u001b[0m\u001b[0;34m\u001b[0m\u001b[0;34m\u001b[0m\u001b[0m\n\u001b[1;32m      2\u001b[0m \u001b[0mb\u001b[0m \u001b[0;34m=\u001b[0m \u001b[0mmap\u001b[0m\u001b[0;34m(\u001b[0m\u001b[0mround\u001b[0m\u001b[0;34m,\u001b[0m \u001b[0ma\u001b[0m\u001b[0;34m)\u001b[0m\u001b[0;34m\u001b[0m\u001b[0;34m\u001b[0m\u001b[0m\n\u001b[0;32m----> 3\u001b[0;31m \u001b[0mf1\u001b[0m\u001b[0;34m(\u001b[0m\u001b[0mb\u001b[0m\u001b[0;34m,\u001b[0m \u001b[0;36m9\u001b[0m\u001b[0;34m)\u001b[0m\u001b[0;34m\u001b[0m\u001b[0;34m\u001b[0m\u001b[0m\n\u001b[0m",
      "\u001b[0;31mTypeError\u001b[0m: f1() missing 1 required positional argument: 'c'"
     ]
    }
   ],
   "source": [
    "a = [10.98, 89.09, 78.99]\n",
    "b = map(round, a)\n",
    "f1(b, 9)"
   ]
  },
  {
   "cell_type": "code",
   "execution_count": 96,
   "id": "e59934bd",
   "metadata": {
    "ExecuteTime": {
     "end_time": "2022-02-01T15:45:04.174293Z",
     "start_time": "2022-02-01T15:45:04.168630Z"
    }
   },
   "outputs": [
    {
     "name": "stdout",
     "output_type": "stream",
     "text": [
      "11 89 79\n"
     ]
    }
   ],
   "source": [
    "print(*b)"
   ]
  },
  {
   "cell_type": "code",
   "execution_count": 100,
   "id": "67efa950",
   "metadata": {
    "ExecuteTime": {
     "end_time": "2022-02-01T15:57:15.849576Z",
     "start_time": "2022-02-01T15:57:15.805588Z"
    }
   },
   "outputs": [
    {
     "name": "stdout",
     "output_type": "stream",
     "text": [
      "Hi\n",
      "30\n",
      "(10+20j)\n"
     ]
    },
    {
     "ename": "TypeError",
     "evalue": "'NoneType' object is not iterable",
     "output_type": "error",
     "traceback": [
      "\u001b[0;31m---------------------------------------------------------------------------\u001b[0m",
      "\u001b[0;31mTypeError\u001b[0m                                 Traceback (most recent call last)",
      "\u001b[0;32m<ipython-input-100-bb0e08884511>\u001b[0m in \u001b[0;36m<module>\u001b[0;34m\u001b[0m\n\u001b[1;32m     19\u001b[0m \u001b[0;31m#     yield [1, 2, 3]\u001b[0m\u001b[0;34m\u001b[0m\u001b[0;34m\u001b[0m\u001b[0;34m\u001b[0m\u001b[0m\n\u001b[1;32m     20\u001b[0m \u001b[0;34m\u001b[0m\u001b[0m\n\u001b[0;32m---> 21\u001b[0;31m \u001b[0;32mfor\u001b[0m \u001b[0mi\u001b[0m \u001b[0;32min\u001b[0m \u001b[0mmy_gen\u001b[0m\u001b[0;34m(\u001b[0m\u001b[0;34m)\u001b[0m\u001b[0;34m:\u001b[0m\u001b[0;34m\u001b[0m\u001b[0;34m\u001b[0m\u001b[0m\n\u001b[0m\u001b[1;32m     22\u001b[0m     \u001b[0mprint\u001b[0m\u001b[0;34m(\u001b[0m\u001b[0mi\u001b[0m\u001b[0;34m)\u001b[0m\u001b[0;34m\u001b[0m\u001b[0;34m\u001b[0m\u001b[0m\n\u001b[1;32m     23\u001b[0m \u001b[0;34m\u001b[0m\u001b[0m\n",
      "\u001b[0;31mTypeError\u001b[0m: 'NoneType' object is not iterable"
     ]
    }
   ],
   "source": [
    "# Generator - \n",
    "\n",
    "# Tuple comprehension\n",
    "# def - yield\n",
    "\n",
    "# a = (i for i in range(10))\n",
    "# print(a)\n",
    "\n",
    "\n",
    "def my_gen():\n",
    "    print('Hi')\n",
    "    print(10+20)\n",
    "    print(10+20j)\n",
    "#     yield 10\n",
    "#     yield 20.30\n",
    "#     yield 40+50j\n",
    "#     yield None\n",
    "#     yield 'Python'\n",
    "#     yield [1, 2, 3]\n",
    "    \n",
    "for i in my_gen():\n",
    "    print(i)\n",
    "\n",
    "\n"
   ]
  },
  {
   "cell_type": "code",
   "execution_count": 102,
   "id": "90bfd5b9",
   "metadata": {
    "ExecuteTime": {
     "end_time": "2022-02-01T15:58:22.126516Z",
     "start_time": "2022-02-01T15:58:22.119864Z"
    }
   },
   "outputs": [
    {
     "name": "stdout",
     "output_type": "stream",
     "text": [
      "<generator object test at 0x12605f580>\n",
      "first comment\n",
      "First yield\n",
      "Second print statement\n",
      "second yield\n"
     ]
    }
   ],
   "source": [
    "def test():\n",
    "    print(\"first comment\")\n",
    "    yield \"First yield\"\n",
    "    \n",
    "    print(\"Second print statement\")\n",
    "    yield \"second yield\"\n",
    "\n",
    "for i in test():\n",
    "    print(i)"
   ]
  },
  {
   "cell_type": "code",
   "execution_count": null,
   "id": "80f6e2af",
   "metadata": {},
   "outputs": [],
   "source": []
  },
  {
   "cell_type": "code",
   "execution_count": null,
   "id": "3779dd6b",
   "metadata": {},
   "outputs": [],
   "source": []
  },
  {
   "cell_type": "code",
   "execution_count": null,
   "id": "d75df98f",
   "metadata": {},
   "outputs": [],
   "source": []
  },
  {
   "cell_type": "code",
   "execution_count": null,
   "id": "7be55df3",
   "metadata": {},
   "outputs": [],
   "source": []
  },
  {
   "cell_type": "code",
   "execution_count": null,
   "id": "45a873ec",
   "metadata": {},
   "outputs": [],
   "source": []
  },
  {
   "cell_type": "code",
   "execution_count": null,
   "id": "ccd064ba",
   "metadata": {},
   "outputs": [],
   "source": []
  },
  {
   "cell_type": "code",
   "execution_count": null,
   "id": "52a92fb8",
   "metadata": {},
   "outputs": [],
   "source": []
  },
  {
   "cell_type": "code",
   "execution_count": null,
   "id": "d5bc5a68",
   "metadata": {},
   "outputs": [],
   "source": []
  },
  {
   "cell_type": "code",
   "execution_count": null,
   "id": "60c7606d",
   "metadata": {},
   "outputs": [],
   "source": []
  },
  {
   "cell_type": "code",
   "execution_count": null,
   "id": "0e1786de",
   "metadata": {},
   "outputs": [],
   "source": []
  },
  {
   "cell_type": "code",
   "execution_count": null,
   "id": "ec91be9e",
   "metadata": {},
   "outputs": [],
   "source": []
  },
  {
   "cell_type": "code",
   "execution_count": null,
   "id": "107363f8",
   "metadata": {},
   "outputs": [],
   "source": []
  },
  {
   "cell_type": "code",
   "execution_count": null,
   "id": "d060e897",
   "metadata": {},
   "outputs": [],
   "source": []
  },
  {
   "cell_type": "code",
   "execution_count": null,
   "id": "edc3ab4c",
   "metadata": {},
   "outputs": [],
   "source": []
  },
  {
   "cell_type": "code",
   "execution_count": null,
   "id": "d6b77fcb",
   "metadata": {},
   "outputs": [],
   "source": []
  },
  {
   "cell_type": "code",
   "execution_count": null,
   "id": "c00e4b07",
   "metadata": {},
   "outputs": [],
   "source": []
  },
  {
   "cell_type": "code",
   "execution_count": null,
   "id": "9cca66f4",
   "metadata": {},
   "outputs": [],
   "source": []
  },
  {
   "cell_type": "code",
   "execution_count": null,
   "id": "1654e277",
   "metadata": {},
   "outputs": [],
   "source": []
  },
  {
   "cell_type": "code",
   "execution_count": null,
   "id": "7f37720b",
   "metadata": {},
   "outputs": [],
   "source": []
  },
  {
   "cell_type": "code",
   "execution_count": null,
   "id": "9fb53f8a",
   "metadata": {},
   "outputs": [],
   "source": []
  },
  {
   "cell_type": "code",
   "execution_count": null,
   "id": "aa38e890",
   "metadata": {},
   "outputs": [],
   "source": []
  },
  {
   "cell_type": "code",
   "execution_count": null,
   "id": "550d9484",
   "metadata": {},
   "outputs": [],
   "source": []
  },
  {
   "cell_type": "code",
   "execution_count": null,
   "id": "486dadfc",
   "metadata": {},
   "outputs": [],
   "source": []
  },
  {
   "cell_type": "code",
   "execution_count": null,
   "id": "b1fc8531",
   "metadata": {},
   "outputs": [],
   "source": []
  },
  {
   "cell_type": "code",
   "execution_count": null,
   "id": "21069b2b",
   "metadata": {},
   "outputs": [],
   "source": []
  },
  {
   "cell_type": "code",
   "execution_count": null,
   "id": "b7237a38",
   "metadata": {},
   "outputs": [],
   "source": []
  },
  {
   "cell_type": "code",
   "execution_count": null,
   "id": "c33a50df",
   "metadata": {},
   "outputs": [],
   "source": []
  },
  {
   "cell_type": "code",
   "execution_count": null,
   "id": "5089da65",
   "metadata": {},
   "outputs": [],
   "source": []
  },
  {
   "cell_type": "code",
   "execution_count": null,
   "id": "e807d798",
   "metadata": {},
   "outputs": [],
   "source": []
  },
  {
   "cell_type": "code",
   "execution_count": null,
   "id": "264cface",
   "metadata": {},
   "outputs": [],
   "source": []
  },
  {
   "cell_type": "code",
   "execution_count": null,
   "id": "801dee05",
   "metadata": {},
   "outputs": [],
   "source": []
  },
  {
   "cell_type": "code",
   "execution_count": null,
   "id": "beefe588",
   "metadata": {},
   "outputs": [],
   "source": []
  },
  {
   "cell_type": "code",
   "execution_count": null,
   "id": "0058dfaf",
   "metadata": {},
   "outputs": [],
   "source": []
  },
  {
   "cell_type": "code",
   "execution_count": null,
   "id": "1740c825",
   "metadata": {},
   "outputs": [],
   "source": []
  }
 ],
 "metadata": {
  "kernelspec": {
   "display_name": "Python 3",
   "language": "python",
   "name": "python3"
  },
  "language_info": {
   "codemirror_mode": {
    "name": "ipython",
    "version": 3
   },
   "file_extension": ".py",
   "mimetype": "text/x-python",
   "name": "python",
   "nbconvert_exporter": "python",
   "pygments_lexer": "ipython3",
   "version": "3.8.2"
  }
 },
 "nbformat": 4,
 "nbformat_minor": 5
}
