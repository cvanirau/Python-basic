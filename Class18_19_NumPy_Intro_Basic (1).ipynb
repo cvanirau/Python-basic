{
 "cells": [
  {
   "cell_type": "markdown",
   "id": "b8fcd053",
   "metadata": {},
   "source": [
    "Arrays: Sequence of adjacent memory locations assinged in a single variable:\n",
    "- complex data type - built from group of simple data types like int, char, float etc.\n",
    "- int arrays - [1,2,3,4,5]\n",
    "- char arrays - ['a','b','c','d']\n",
    "- float arrays - [1.2,3.67,3.4,9.6,6.578]\n",
    "\n",
    "```arr = [0,1,2,3,4,5]```\n",
    "\n",
    "Array indicies starts from 0 till N-1 where N is the length of the Array.\n",
    "\n",
    "Arrays will consume less memory for similar data as compared to a list/tupple.\n",
    "\n",
    "NumPy - library/packages to process such arrays/complex numeric types.\n",
    "\n",
    "ILATE - Inverse/Imaginary Logarithmic Algebric Trignometric Exponencial\n",
    "\n",
    "Matrix computations can also be done in numpy \n",
    "\n",
    "\n",
    "Why NumPy?\n",
    "- NumPy has already things coded for you to directly use and its 50x faster than traditional list processing in python.\n",
    "- Faster because it is not producing any object directly producing memory sequences with raw data.\n",
    "- Locality of reference: adjacent memory locations\n",
    "- NumPy is written in C/C++ | runs directly on hardware.\n",
    "\n",
    "The code is available at https://github.com/numpy/numpy\n",
    "\n",
    "PIP - Python Index package | App/Win/Play Store for python | Package Manager\n",
    "\n",
    "Anaconda - IDE - NumPy comes pre-installed\n",
    "\n",
    "Install NumPy: ```$> pip3 install numpy``` \n",
    "\n",
    "pip3 is installed at: C:\\Users\\<USERNAME>\\AppData\\Local\\Programs\\Python\\Python<VERSION>\\Scripts\\pip3.exe | add this to PATH variable in your System Env Variables\n",
    "\n",
    "Importing NumPy: import numpy as np"
   ]
  },
  {
   "cell_type": "code",
   "execution_count": 2,
   "id": "0f7f49d7",
   "metadata": {},
   "outputs": [],
   "source": [
    "import numpy as np  # import NumPy Library in to runtime env | np is called 'alias'"
   ]
  },
  {
   "cell_type": "code",
   "execution_count": 2,
   "id": "b7bf1a7a",
   "metadata": {},
   "outputs": [
    {
     "data": {
      "text/plain": [
       "'1.20.3'"
      ]
     },
     "execution_count": 2,
     "metadata": {},
     "output_type": "execute_result"
    }
   ],
   "source": [
    "np.__version__  # checking version for any packages"
   ]
  },
  {
   "cell_type": "code",
   "execution_count": 9,
   "id": "ac46f900",
   "metadata": {},
   "outputs": [
    {
     "name": "stdout",
     "output_type": "stream",
     "text": [
      "[1 2 3 4 5]\n",
      "<class 'numpy.ndarray'>\n",
      "(5,)\n",
      "1\n",
      "[[1 2 3]\n",
      " [4 5 6]]\n",
      "(2, 3)\n",
      "2\n"
     ]
    }
   ],
   "source": [
    "arr = np.array([1,2,3,4,5])  # initialize a numpy arr\n",
    "\n",
    "print(arr)\n",
    "\n",
    "print(type(arr))  # to check the type of the class for the given object\n",
    "\n",
    "print(arr.shape)  # to check the shape of the arr | *shape* given info about rows and cols, helpful in matrix algebra\n",
    "print(arr.ndim)  # to check the dimentions of the arr\n",
    "\n",
    "arr2d = np.array([[1,2,3],[4,5,6]]) # initialize a 2D arr\n",
    "\n",
    "print(arr2d)\n",
    "print(arr2d.shape) # to check the shape of the arr\n",
    "print(arr2d.ndim) # to check the dimentions of the arr"
   ]
  },
  {
   "cell_type": "code",
   "execution_count": 12,
   "id": "4071182a",
   "metadata": {},
   "outputs": [
    {
     "name": "stdout",
     "output_type": "stream",
     "text": [
      " 3D Array: \n",
      "[[[1 2 3]\n",
      "  [4 5 6]]\n",
      "\n",
      " [[7 8 9]\n",
      "  [0 1 2]]]\n",
      " \n",
      "Dimension: 3\n",
      " Shape: (2, 2, 3)\n"
     ]
    }
   ],
   "source": [
    "# creating a 3D Array using NumPy\n",
    "\n",
    "arr_3d = np.array([\n",
    "    [[1,2,3],[4,5,6]],\n",
    "    [[7,8,9],[0,1,2]]\n",
    "])\n",
    "\n",
    "print(f\" 3D Array: \\n{arr_3d}\")\n",
    "print(f\" \\nDimension: {arr_3d.ndim}\")\n",
    "print(f\" Shape: {arr_3d.shape}\")"
   ]
  },
  {
   "cell_type": "markdown",
   "id": "38cb4ea9",
   "metadata": {},
   "source": [
    "To increase the dimentions, you can do nesting on your lists"
   ]
  },
  {
   "cell_type": "code",
   "execution_count": 22,
   "id": "0fc746af",
   "metadata": {},
   "outputs": [
    {
     "name": "stdout",
     "output_type": "stream",
     "text": [
      "[[1 2 3 4]]\n",
      "[[1 2]\n",
      " [3 4]]\n",
      "<class 'numpy.ndarray'>\n",
      "(1, 4)\n",
      "2\n"
     ]
    }
   ],
   "source": [
    "# using dimesion to genertate N-dimensional arrays\n",
    "\n",
    "arr = np.array([1,2,3,4], ndmin=2)\n",
    "print(arr)\n",
    "print(arr.reshape((2,2)))  # to change the shape of the array | *NEED* to only provide the shape with matches the number of elements in the array\n",
    "print(type(arr))  # to check the type of the class for the given object\n",
    "print(arr.shape)  # to check the shape of the arr | *shape* given info about rows and cols, helpful in matrix algebra\n",
    "print(arr.ndim)  # to check the dimentions of the arr"
   ]
  },
  {
   "cell_type": "code",
   "execution_count": 24,
   "id": "32dee9f8",
   "metadata": {},
   "outputs": [
    {
     "name": "stdout",
     "output_type": "stream",
     "text": [
      "6\n",
      "1\n",
      "2\n",
      "3\n",
      "4\n",
      "5\n",
      "6\n",
      "7\n"
     ]
    }
   ],
   "source": [
    "# Accessing the elements of an array\n",
    "arr = [1,2,3,4,5,6,7]\n",
    "print(arr[5])\n",
    "for i in range(len(arr)):\n",
    "    print(arr[i])"
   ]
  },
  {
   "cell_type": "code",
   "execution_count": 37,
   "id": "66aa4f43",
   "metadata": {},
   "outputs": [
    {
     "name": "stdout",
     "output_type": "stream",
     "text": [
      "[[1 2 3]\n",
      " [3 4 2]]\n",
      "2\n",
      "(2, 3)\n",
      "1\n",
      "2\n",
      "3\n",
      "3\n",
      "4\n",
      "2\n",
      "2\n",
      "[1 2 3]\n",
      "4\n"
     ]
    }
   ],
   "source": [
    "# 2d Array access to elements\n",
    "\n",
    "arr = np.array([[1,2,3],[3,4,2]])  # list of list\n",
    "\n",
    "print(arr)\n",
    "print(arr[0][1])\n",
    "print(arr.shape)\n",
    "\n",
    "# Iterating over a 2d arr using loop\n",
    "for row in range(arr.shape[0]):\n",
    "    for col in range(arr.shape[1]):\n",
    "        print(arr[row][col])\n",
    "        \n",
    "print(len(arr))\n",
    "print(arr[0])\n",
    "43431 X 1500\n",
    "print(arr[0,9])  # arr[ROW,COL] | ROW & COL start from 0\n",
    "\n",
    "# Arrays and NumPy Arrays are different"
   ]
  },
  {
   "cell_type": "markdown",
   "id": "3c98ede9",
   "metadata": {},
   "source": [
    "# Array Slicing"
   ]
  },
  {
   "cell_type": "code",
   "execution_count": 10,
   "id": "d6c63d1b",
   "metadata": {},
   "outputs": [
    {
     "name": "stdout",
     "output_type": "stream",
     "text": [
      "[4 5 6 7 8]\n",
      "[4 6 8]\n",
      "[1 3 5 7 9]\n"
     ]
    }
   ],
   "source": [
    "arr = np.array([1,2,3,4,5,6,7,8,9,10])\n",
    "\n",
    "print(arr[3:8:1])  # 3 - starting index | 8 - end index | 1 - step size\n",
    "print(arr[3:8:2])\n",
    "\n",
    "print(arr[::2]) # iterate alternate indecies"
   ]
  },
  {
   "cell_type": "code",
   "execution_count": 20,
   "id": "7beaba40",
   "metadata": {},
   "outputs": [
    {
     "name": "stdout",
     "output_type": "stream",
     "text": [
      "0\n",
      "1\n",
      "2\n",
      "3\n"
     ]
    }
   ],
   "source": [
    "for i in range(4):\n",
    "    print(i)"
   ]
  },
  {
   "cell_type": "code",
   "execution_count": 22,
   "id": "4dd2daa6",
   "metadata": {},
   "outputs": [
    {
     "name": "stdout",
     "output_type": "stream",
     "text": [
      "[[ 1  2  3  4  5]\n",
      " [ 6  7  8  9 10]\n",
      " [11 12 13 14 15]\n",
      " [16 17 18 19 20]\n",
      " [26 27 28 29 30]]\n",
      "\n",
      "[[ 6  7  8  9 10]\n",
      " [11 12 13 14 15]\n",
      " [16 17 18 19 20]]\n",
      "\n",
      "[[ 7  8]\n",
      " [12 13]\n",
      " [17 18]]\n"
     ]
    }
   ],
   "source": [
    "arr = np.array([[1,2,3,4,5],[6,7,8,9,10],[11,12,13,14,15],[16,17,18,19,20],[26,27,28,29,30]])\n",
    "\n",
    "print(arr)\n",
    "print()\n",
    "print(arr[1:4,])  # [ROW_SLICE_RANGE,COL_SLICE_RANGE]\n",
    "print()\n",
    "print(arr[1:4,1:3])  # [ROW_SLICE_RANGE,COL_SLICE_RANGE]\n",
    "print(arr[1::2,1:3])  # Step size can also be configured in N-Dimensional Arrays"
   ]
  },
  {
   "cell_type": "markdown",
   "id": "3e07cbdb",
   "metadata": {},
   "source": [
    "# DataTypes in NumPy\n",
    "\n",
    "- Strings e.g. 'ABC'\n",
    "- Integers e.g. 1\n",
    "- float e.g. 5.98\n",
    "- boolean e.g. True\n",
    "- complex e.g. 1.0 + 2.0j\n",
    "\n",
    "### Data Type Codes\n",
    "\n",
    "i - integer\n",
    "b - boolean\n",
    "u - unsigned integer\n",
    "f - float\n",
    "c - complex float\n",
    "m - timedelta\n",
    "M - datetime\n",
    "O - object\n",
    "S - string\n",
    "U - unicode string\n",
    "V - fixed chunk of memory for other type ( void )"
   ]
  },
  {
   "cell_type": "code",
   "execution_count": 25,
   "id": "f831e896",
   "metadata": {},
   "outputs": [
    {
     "name": "stdout",
     "output_type": "stream",
     "text": [
      "int32\n",
      "|S6\n"
     ]
    }
   ],
   "source": [
    "arr = np.array([1,2,3,4])\n",
    "    \n",
    "print(arr.dtype)  # int32\n",
    "\n",
    "arr = np.array(['dogs','cats','horses'], dtype='S')  # to initalize with a specific datatype\n",
    "\n",
    "print(arr.dtype)"
   ]
  },
  {
   "cell_type": "code",
   "execution_count": 42,
   "id": "d1fa02a4",
   "metadata": {},
   "outputs": [
    {
     "name": "stdout",
     "output_type": "stream",
     "text": [
      "2022-02-11 20:38:12.596129\n",
      "2022-01-03 12:03:56\n",
      "<class 'str'>\n",
      "12\n",
      "<class 'datetime.datetime'>\n",
      "<module 'datetime' from 'C:\\\\Users\\\\sauve\\\\anaconda3\\\\lib\\\\datetime.py'>\n",
      "<class 'datetime.datetime'>\n",
      "<built-in method now of type object at 0x00007FF8C9013650>\n",
      "<module 'numpy' from 'C:\\\\Users\\\\sauve\\\\anaconda3\\\\lib\\\\site-packages\\\\numpy\\\\__init__.py'>\n",
      "<built-in function array>\n"
     ]
    }
   ],
   "source": [
    "# In class discusions\n",
    "\n",
    "import datetime as dt\n",
    "\n",
    "print(dt.datetime.now())\n",
    "\n",
    "date = '2022-01-03 12:03:56'\n",
    "\n",
    "print(date)\n",
    "print(type(date))\n",
    "\n",
    "date = dt.datetime.fromisoformat(date)\n",
    "\n",
    "print(date.hour)\n",
    "print(type(date))\n",
    "\n",
    "print(dt)\n",
    "print(dt.datetime)\n",
    "print(dt.datetime.now)\n",
    "print(np)\n",
    "print(np.array)"
   ]
  },
  {
   "cell_type": "code",
   "execution_count": 52,
   "id": "d4a34012",
   "metadata": {},
   "outputs": [],
   "source": [
    "class triangle:\n",
    "    def __init__(self,a,b,c):\n",
    "        self.side1 = a\n",
    "        self.side2 = b\n",
    "        self.side3 = c\n",
    "        \n",
    "    def perimeter(self):\n",
    "        return self.side1 + self.side2 + self.side3\n",
    "    \n",
    "    def greet():\n",
    "        return \"Thanks for calling me\"\n",
    "    \n",
    "\n",
    "def perimeter(a,b,c):\n",
    "    return a + b + c"
   ]
  },
  {
   "cell_type": "code",
   "execution_count": 53,
   "id": "99220e4d",
   "metadata": {},
   "outputs": [
    {
     "name": "stdout",
     "output_type": "stream",
     "text": [
      "3\n",
      "9\n",
      "9\n",
      "8\n",
      "22\n",
      "Thanks for calling me\n"
     ]
    }
   ],
   "source": [
    "t1 = triangle(2,3,4)\n",
    "t2 = triangle(5,8,9)\n",
    "\n",
    "print(t1.side2)\n",
    "print(t1.perimeter())\n",
    "\n",
    "print(perimeter(2,3,4))\n",
    "\n",
    "print(t2.side2)\n",
    "print(t2.perimeter())\n",
    "print(triangle.greet())"
   ]
  },
  {
   "cell_type": "code",
   "execution_count": 54,
   "id": "bafa21d8",
   "metadata": {},
   "outputs": [
    {
     "name": "stdout",
     "output_type": "stream",
     "text": [
      "[1.1 3.3 2.4]\n",
      "[1 3 2]\n"
     ]
    }
   ],
   "source": [
    "arr = np.array([1.1,3.3,2.4])\n",
    "\n",
    "arr1 = arr.astype('i')  # typecasting / parsing into another data type\n",
    "\n",
    "print(arr)\n",
    "print(arr1)"
   ]
  },
  {
   "cell_type": "code",
   "execution_count": 57,
   "id": "859a1f7c",
   "metadata": {},
   "outputs": [
    {
     "name": "stdout",
     "output_type": "stream",
     "text": [
      "[1 2 3 4 5]\n",
      "[1 2 3 4 5]\n",
      "[1 2 3 4 5]\n",
      "[  1 275   3   4   5]\n"
     ]
    }
   ],
   "source": [
    "# np arrays aslo refer to the same memory location if we assign them as below:\n",
    "\n",
    "arr1 = np.array([1,2,3,4,5])\n",
    "arr2 = arr1\n",
    "\n",
    "print(arr1)\n",
    "print(arr2)\n",
    "\n",
    "arr2[1] = 275\n",
    "\n",
    "print(arr1)\n",
    "print(arr2)\n",
    "\n",
    "# to create a new array object in the memory, we can use copy()\n",
    "\n",
    "arr1 = np.array([1,2,3,4,5])\n",
    "arr2 = arr1.copy()\n",
    "\n",
    "print(arr1)\n",
    "print(arr2)\n",
    "\n",
    "arr2[1] = 275\n",
    "\n",
    "print(arr1)\n",
    "print(arr2)\n"
   ]
  },
  {
   "cell_type": "code",
   "execution_count": 58,
   "id": "5e823c15",
   "metadata": {},
   "outputs": [
    {
     "name": "stdout",
     "output_type": "stream",
     "text": [
      "[1 2 3 4 5 6 7 8 9]\n",
      "[[1 2 3]\n",
      " [4 5 6]\n",
      " [7 8 9]]\n"
     ]
    }
   ],
   "source": [
    "arr = np.array([1,2,3,4,5,6,7,8,9])\n",
    "\n",
    "print(arr)\n",
    "\n",
    "arr1 = arr.reshape(3,3)  # to change the shape of an array\n",
    "\n",
    "print(arr1)"
   ]
  },
  {
   "cell_type": "code",
   "execution_count": 59,
   "id": "039ccaba",
   "metadata": {},
   "outputs": [
    {
     "name": "stdout",
     "output_type": "stream",
     "text": [
      "1\n",
      "2\n",
      "3\n",
      "4\n",
      "4\n",
      "5\n",
      "5\n",
      "6\n"
     ]
    }
   ],
   "source": [
    "arr = np.array([1,2,3,4,4,5,5,6])\n",
    "\n",
    "for element in arr:  # iterating on arrays\n",
    "    print(element)"
   ]
  },
  {
   "cell_type": "code",
   "execution_count": 62,
   "id": "2eda8510",
   "metadata": {},
   "outputs": [
    {
     "name": "stdout",
     "output_type": "stream",
     "text": [
      "[1 2 3 4 5]\n",
      "[6 7 8 9]\n",
      "[6 7 8 9 1 2 3 4 5]\n"
     ]
    }
   ],
   "source": [
    "arr1 = np.array([1,2,3,4,5])\n",
    "\n",
    "arr2 = np.array([6,7,8,9])\n",
    "\n",
    "arr = np.concatenate((arr2,arr1))  # join two arrays\n",
    "\n",
    "print(arr1)\n",
    "print(arr2)\n",
    "print(arr)"
   ]
  },
  {
   "cell_type": "code",
   "execution_count": 72,
   "id": "a0e2e4d0",
   "metadata": {},
   "outputs": [
    {
     "name": "stdout",
     "output_type": "stream",
     "text": [
      "[1 2 3 4 5]\n",
      "[6 7 8 9]\n",
      "[6 7 8 9 1 2 3 4 5]\n",
      "[array([6]), array([7]), array([8]), array([9]), array([1]), array([2]), array([3]), array([4]), array([5]), array([], dtype=int32), array([], dtype=int32), array([], dtype=int32), array([], dtype=int32), array([], dtype=int32)]\n"
     ]
    }
   ],
   "source": [
    "arr1 = np.array([1,2,3,4,5])\n",
    "\n",
    "arr2 = np.array([6,7,8,9])\n",
    "\n",
    "arr = np.concatenate((arr2,arr1))  # join two arrays\n",
    "\n",
    "narr = np.array_split(arr,14)\n",
    "\n",
    "print(arr1)\n",
    "print(arr2)\n",
    "print(arr)\n",
    "print(narr)"
   ]
  },
  {
   "cell_type": "code",
   "execution_count": 70,
   "id": "fbe019cb",
   "metadata": {},
   "outputs": [
    {
     "name": "stdout",
     "output_type": "stream",
     "text": [
      "(array([], dtype=int64),)\n"
     ]
    }
   ],
   "source": [
    "# Search in arrays\n",
    "\n",
    "arr = np.array([1,2,3,4,5])\n",
    "\n",
    "arr1 = np.where(arr >= 6)\n",
    "\n",
    "print(arr1)"
   ]
  },
  {
   "cell_type": "code",
   "execution_count": 88,
   "id": "805dda07",
   "metadata": {},
   "outputs": [
    {
     "name": "stdout",
     "output_type": "stream",
     "text": [
      "0\n"
     ]
    }
   ],
   "source": [
    "arr = np.array([33,55,47,84,2])\n",
    "\n",
    "# The searchsorted() method is assumed to be used on sorted arrays.\n",
    "\n",
    "x = np.searchsorted(arr,7,side='right')\n",
    "\n",
    "print(x)"
   ]
  },
  {
   "cell_type": "code",
   "execution_count": 91,
   "id": "d36930b0",
   "metadata": {},
   "outputs": [
    {
     "name": "stdout",
     "output_type": "stream",
     "text": [
      "7\n",
      "[ 3  4  6  6  6  6  7 11 77 77]\n",
      "[77 77 11  7  6  6  6  6  4  3]\n"
     ]
    }
   ],
   "source": [
    "arr1 = np.array([6,7,3,4,6,6,6,77,77,11])\n",
    "x= np.searchsorted(arr1,67)\n",
    "print(x)\n",
    "\n",
    "print(np.sort(arr1))\n",
    "\n",
    "print(-np.sort(-arr1))\n"
   ]
  }
 ],
 "metadata": {
  "kernelspec": {
   "display_name": "Python 3 (ipykernel)",
   "language": "python",
   "name": "python3"
  },
  "language_info": {
   "codemirror_mode": {
    "name": "ipython",
    "version": 3
   },
   "file_extension": ".py",
   "mimetype": "text/x-python",
   "name": "python",
   "nbconvert_exporter": "python",
   "pygments_lexer": "ipython3",
   "version": "3.9.7"
  }
 },
 "nbformat": 4,
 "nbformat_minor": 5
}
