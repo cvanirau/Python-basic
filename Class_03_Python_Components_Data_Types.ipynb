{
 "cells": [
  {
   "cell_type": "code",
   "execution_count": null,
   "id": "fe092ce3",
   "metadata": {},
   "outputs": [],
   "source": [
    "# Python Components\n",
    "# Literal - Any values\n",
    "# Int - 10, -10, 0\n",
    "# Float - 10.20, -10.20, 0.001\n",
    "# Complex - 10+20j\n",
    "# Strings - '...', \"...\", '''...''', \"\"\"...\"\"\"\n",
    "# None\n",
    "# Boolean - True False"
   ]
  },
  {
   "cell_type": "code",
   "execution_count": 2,
   "id": "0d57b737",
   "metadata": {
    "ExecuteTime": {
     "end_time": "2022-01-10T14:16:17.348163Z",
     "start_time": "2022-01-10T14:16:17.334607Z"
    }
   },
   "outputs": [
    {
     "name": "stdout",
     "output_type": "stream",
     "text": [
      "<class 'str'>\n",
      "<class 'int'>\n"
     ]
    }
   ],
   "source": [
    "emp_name = 'Abhishek Gupta'\n",
    "emp_loc = 'Bengaluru'\n",
    "emp_pin = 987654\n",
    "emp_age = 30.5\n",
    "print(type(emp_name))\n",
    "print(type(emp_pin))"
   ]
  },
  {
   "cell_type": "code",
   "execution_count": null,
   "id": "e1eeabd5",
   "metadata": {},
   "outputs": [],
   "source": [
    "# Identifiers - Any name\n",
    "# Name of variables, Constants, Functions, class object etc.\n",
    "\n",
    "# Rules -\n",
    "1. Allowed Characters - A-Z,a-z,0-9, _\n",
    "2. Not allowed charcters - Special Charcters, spaces, -\n",
    "3. Identifiers are case sensitive\n",
    "4. Identifier should not start with a number\n",
    "\n",
    "Recommendation\n",
    "1. Keywords should not be used as an identifier\n",
    "2. While defining constant, all the letters should be in capital case\n",
    "3. While defining the lass names, we should use camelCaseNotation or PascalCaseNotation\n",
    "4. Avoid writing any name which starts and ends with __.\n",
    "\n"
   ]
  },
  {
   "cell_type": "code",
   "execution_count": 4,
   "id": "34131da5",
   "metadata": {
    "ExecuteTime": {
     "end_time": "2022-01-10T14:19:07.964735Z",
     "start_time": "2022-01-10T14:19:07.954273Z"
    }
   },
   "outputs": [
    {
     "name": "stdout",
     "output_type": "stream",
     "text": [
      "10\n",
      "100\n",
      "1000\n"
     ]
    }
   ],
   "source": [
    "num = 10\n",
    "Num = 100\n",
    "NUM = 1000\n",
    "# 1num\n",
    "print(num)\n",
    "print(Num)\n",
    "print(NUM)"
   ]
  },
  {
   "cell_type": "code",
   "execution_count": 8,
   "id": "38669518",
   "metadata": {
    "ExecuteTime": {
     "end_time": "2022-01-10T14:21:45.421210Z",
     "start_time": "2022-01-10T14:21:45.410736Z"
    }
   },
   "outputs": [
    {
     "name": "stdout",
     "output_type": "stream",
     "text": [
      "['False', 'None', 'True', 'and', 'as', 'assert', 'async', 'await', 'break', 'class', 'continue', 'def', 'del', 'elif', 'else', 'except', 'finally', 'for', 'from', 'global', 'if', 'import', 'in', 'is', 'lambda', 'nonlocal', 'not', 'or', 'pass', 'raise', 'return', 'try', 'while', 'with', 'yield']\n"
     ]
    }
   ],
   "source": [
    "import keyword\n",
    "print(keyword.kwlist)"
   ]
  },
  {
   "cell_type": "code",
   "execution_count": 12,
   "id": "27c9f9c4",
   "metadata": {
    "ExecuteTime": {
     "end_time": "2022-01-10T14:23:01.876951Z",
     "start_time": "2022-01-10T14:23:01.870153Z"
    }
   },
   "outputs": [],
   "source": [
    "# None = 1000\n",
    "# for = 1000"
   ]
  },
  {
   "cell_type": "code",
   "execution_count": 13,
   "id": "c43c01e8",
   "metadata": {
    "ExecuteTime": {
     "end_time": "2022-01-10T14:24:25.449447Z",
     "start_time": "2022-01-10T14:24:25.440959Z"
    }
   },
   "outputs": [
    {
     "name": "stdout",
     "output_type": "stream",
     "text": [
      "<class 'float'>\n",
      "<class 'int'>\n"
     ]
    }
   ],
   "source": [
    "GRAVITATIONAL_CONSTANT = 9.8\n",
    "print(type(GRAVITATIONAL_CONSTANT))\n",
    "GRAVITATIONAL_CONSTANT = 980\n",
    "print(type(GRAVITATIONAL_CONSTANT))"
   ]
  },
  {
   "cell_type": "code",
   "execution_count": null,
   "id": "d8502cea",
   "metadata": {},
   "outputs": [],
   "source": [
    "class myFirstClass:\n",
    "    pass\n"
   ]
  },
  {
   "cell_type": "code",
   "execution_count": null,
   "id": "b918c8c2",
   "metadata": {},
   "outputs": [],
   "source": [
    "class MyFirstClass:\n",
    "    pass"
   ]
  },
  {
   "cell_type": "code",
   "execution_count": 14,
   "id": "41cf535d",
   "metadata": {
    "ExecuteTime": {
     "end_time": "2022-01-10T14:28:15.727519Z",
     "start_time": "2022-01-10T14:28:15.721093Z"
    }
   },
   "outputs": [
    {
     "name": "stdout",
     "output_type": "stream",
     "text": [
      "['__abs__', '__add__', '__and__', '__bool__', '__ceil__', '__class__', '__delattr__', '__dir__', '__divmod__', '__doc__', '__eq__', '__float__', '__floor__', '__floordiv__', '__format__', '__ge__', '__getattribute__', '__getnewargs__', '__gt__', '__hash__', '__index__', '__init__', '__init_subclass__', '__int__', '__invert__', '__le__', '__lshift__', '__lt__', '__mod__', '__mul__', '__ne__', '__neg__', '__new__', '__or__', '__pos__', '__pow__', '__radd__', '__rand__', '__rdivmod__', '__reduce__', '__reduce_ex__', '__repr__', '__rfloordiv__', '__rlshift__', '__rmod__', '__rmul__', '__ror__', '__round__', '__rpow__', '__rrshift__', '__rshift__', '__rsub__', '__rtruediv__', '__rxor__', '__setattr__', '__sizeof__', '__str__', '__sub__', '__subclasshook__', '__truediv__', '__trunc__', '__xor__', 'as_integer_ratio', 'bit_length', 'conjugate', 'denominator', 'from_bytes', 'imag', 'numerator', 'real', 'to_bytes']\n"
     ]
    }
   ],
   "source": [
    "print(dir(int))"
   ]
  },
  {
   "cell_type": "code",
   "execution_count": 16,
   "id": "b557639a",
   "metadata": {
    "ExecuteTime": {
     "end_time": "2022-01-10T14:28:53.816823Z",
     "start_time": "2022-01-10T14:28:53.807107Z"
    }
   },
   "outputs": [
    {
     "name": "stdout",
     "output_type": "stream",
     "text": [
      "10\n",
      "30\n"
     ]
    }
   ],
   "source": [
    "print(abs(-10))\n",
    "print(10+20)"
   ]
  },
  {
   "cell_type": "code",
   "execution_count": 17,
   "id": "7d63ceb4",
   "metadata": {
    "ExecuteTime": {
     "end_time": "2022-01-10T14:29:20.075870Z",
     "start_time": "2022-01-10T14:29:20.063835Z"
    }
   },
   "outputs": [
    {
     "name": "stdout",
     "output_type": "stream",
     "text": [
      "['__add__', '__class__', '__contains__', '__delattr__', '__dir__', '__doc__', '__eq__', '__format__', '__ge__', '__getattribute__', '__getitem__', '__getnewargs__', '__gt__', '__hash__', '__init__', '__init_subclass__', '__iter__', '__le__', '__len__', '__lt__', '__mod__', '__mul__', '__ne__', '__new__', '__reduce__', '__reduce_ex__', '__repr__', '__rmod__', '__rmul__', '__setattr__', '__sizeof__', '__str__', '__subclasshook__', 'capitalize', 'casefold', 'center', 'count', 'encode', 'endswith', 'expandtabs', 'find', 'format', 'format_map', 'index', 'isalnum', 'isalpha', 'isascii', 'isdecimal', 'isdigit', 'isidentifier', 'islower', 'isnumeric', 'isprintable', 'isspace', 'istitle', 'isupper', 'join', 'ljust', 'lower', 'lstrip', 'maketrans', 'partition', 'replace', 'rfind', 'rindex', 'rjust', 'rpartition', 'rsplit', 'rstrip', 'split', 'splitlines', 'startswith', 'strip', 'swapcase', 'title', 'translate', 'upper', 'zfill']\n"
     ]
    }
   ],
   "source": [
    "print(dir(str))"
   ]
  },
  {
   "cell_type": "code",
   "execution_count": 18,
   "id": "fac71d9d",
   "metadata": {
    "ExecuteTime": {
     "end_time": "2022-01-10T14:29:27.294388Z",
     "start_time": "2022-01-10T14:29:27.285129Z"
    }
   },
   "outputs": [
    {
     "name": "stdout",
     "output_type": "stream",
     "text": [
      "['__add__', '__class__', '__contains__', '__delattr__', '__delitem__', '__dir__', '__doc__', '__eq__', '__format__', '__ge__', '__getattribute__', '__getitem__', '__gt__', '__hash__', '__iadd__', '__imul__', '__init__', '__init_subclass__', '__iter__', '__le__', '__len__', '__lt__', '__mul__', '__ne__', '__new__', '__reduce__', '__reduce_ex__', '__repr__', '__reversed__', '__rmul__', '__setattr__', '__setitem__', '__sizeof__', '__str__', '__subclasshook__', 'append', 'clear', 'copy', 'count', 'extend', 'index', 'insert', 'pop', 'remove', 'reverse', 'sort']\n"
     ]
    }
   ],
   "source": [
    "print(dir(list))"
   ]
  },
  {
   "cell_type": "code",
   "execution_count": 19,
   "id": "e9845d70",
   "metadata": {
    "ExecuteTime": {
     "end_time": "2022-01-10T14:30:29.530233Z",
     "start_time": "2022-01-10T14:30:29.525181Z"
    }
   },
   "outputs": [],
   "source": [
    "__xyz__ = 100"
   ]
  },
  {
   "cell_type": "code",
   "execution_count": 20,
   "id": "b250e7f8",
   "metadata": {
    "ExecuteTime": {
     "end_time": "2022-01-10T14:30:54.868269Z",
     "start_time": "2022-01-10T14:30:54.848892Z"
    }
   },
   "outputs": [
    {
     "name": "stdout",
     "output_type": "stream",
     "text": [
      "__main__\n"
     ]
    }
   ],
   "source": [
    "print(__name__)"
   ]
  },
  {
   "cell_type": "code",
   "execution_count": 21,
   "id": "fb204383",
   "metadata": {
    "ExecuteTime": {
     "end_time": "2022-01-10T14:31:07.490423Z",
     "start_time": "2022-01-10T14:31:07.479224Z"
    }
   },
   "outputs": [
    {
     "name": "stdout",
     "output_type": "stream",
     "text": [
      "100\n"
     ]
    }
   ],
   "source": [
    "__name__= 100\n",
    "print(__name__)"
   ]
  },
  {
   "cell_type": "code",
   "execution_count": 22,
   "id": "dca2646d",
   "metadata": {
    "ExecuteTime": {
     "end_time": "2022-01-10T14:31:31.052867Z",
     "start_time": "2022-01-10T14:31:31.040465Z"
    }
   },
   "outputs": [
    {
     "name": "stdout",
     "output_type": "stream",
     "text": [
      "200\n"
     ]
    }
   ],
   "source": [
    "a = 100\n",
    "a = 200\n",
    "print(a)"
   ]
  },
  {
   "cell_type": "code",
   "execution_count": 23,
   "id": "76107406",
   "metadata": {
    "ExecuteTime": {
     "end_time": "2022-01-10T14:34:39.804714Z",
     "start_time": "2022-01-10T14:34:34.488169Z"
    }
   },
   "outputs": [
    {
     "name": "stdout",
     "output_type": "stream",
     "text": [
      "Enter Employee name: ABCX\n",
      "ENter Mobile Number: ABCD\n",
      "Learnbay\n",
      "TCS\n"
     ]
    }
   ],
   "source": [
    "emp_name = input('Enter Employee name: ')\n",
    "emp_mob = input('ENter Mobile Number: ')\n",
    "EMP_COMP = 'Learnbay'\n",
    "print(EMP_COMP)\n",
    "# EMP_COMP = 'TCS'\n",
    "# print(EMP_COMP)"
   ]
  },
  {
   "cell_type": "code",
   "execution_count": 24,
   "id": "21c48b73",
   "metadata": {
    "ExecuteTime": {
     "end_time": "2022-01-10T14:39:18.604277Z",
     "start_time": "2022-01-10T14:39:18.592504Z"
    }
   },
   "outputs": [
    {
     "name": "stdout",
     "output_type": "stream",
     "text": [
      "The Zen of Python, by Tim Peters\n",
      "\n",
      "Beautiful is better than ugly.\n",
      "Explicit is better than implicit.\n",
      "Simple is better than complex.\n",
      "Complex is better than complicated.\n",
      "Flat is better than nested.\n",
      "Sparse is better than dense.\n",
      "Readability counts.\n",
      "Special cases aren't special enough to break the rules.\n",
      "Although practicality beats purity.\n",
      "Errors should never pass silently.\n",
      "Unless explicitly silenced.\n",
      "In the face of ambiguity, refuse the temptation to guess.\n",
      "There should be one-- and preferably only one --obvious way to do it.\n",
      "Although that way may not be obvious at first unless you're Dutch.\n",
      "Now is better than never.\n",
      "Although never is often better than *right* now.\n",
      "If the implementation is hard to explain, it's a bad idea.\n",
      "If the implementation is easy to explain, it may be a good idea.\n",
      "Namespaces are one honking great idea -- let's do more of those!\n",
      "['__builtins__', '__cached__', '__doc__', '__file__', '__loader__', '__name__', '__package__', '__spec__', 'c', 'd', 'i', 's']\n"
     ]
    }
   ],
   "source": [
    "import this\n",
    "print(dir(this))"
   ]
  },
  {
   "cell_type": "code",
   "execution_count": null,
   "id": "93e4f69b",
   "metadata": {},
   "outputs": [],
   "source": [
    "# PEP8 - Python Enhancement Protocol 8"
   ]
  },
  {
   "cell_type": "code",
   "execution_count": 38,
   "id": "cf1c74f7",
   "metadata": {
    "ExecuteTime": {
     "end_time": "2022-01-10T14:46:23.442070Z",
     "start_time": "2022-01-10T14:46:23.421052Z"
    }
   },
   "outputs": [],
   "source": [
    "# Expressions and Statements\n",
    "\n",
    "# Expressions - Gives output\n",
    "# Can be kept insode print()\n",
    "# print(10+20)\n",
    "# print('Python' + \"Class\")\n",
    "# print(len('Python'))\n",
    "# print(10)\n",
    "\n",
    "\n",
    "# Statement - does not give the outptu\n",
    "# Can not be kept insode print()\n",
    "a = 10\n",
    "if True:pass\n",
    "for i in range(5):pass\n"
   ]
  },
  {
   "cell_type": "code",
   "execution_count": 58,
   "id": "d9eb747c",
   "metadata": {
    "ExecuteTime": {
     "end_time": "2022-01-10T15:06:10.218059Z",
     "start_time": "2022-01-10T15:06:10.194182Z"
    }
   },
   "outputs": [
    {
     "name": "stdout",
     "output_type": "stream",
     "text": [
      "27\n",
      "peter piper picked a peck of pickled peppers\n"
     ]
    }
   ],
   "source": [
    "# Blocks INdentation\n",
    "\n",
    "# Indentation is used to create a block\n",
    "\n",
    "# def my_func():\n",
    "'''my_str = 'peter piper picked a peck of pickled peppers'\n",
    "count_p = 0\n",
    "count_other = 0'''\n",
    "for i in my_str:\n",
    "    if i == 'p':\n",
    "        count_p += 1\n",
    "    else:\n",
    "        count_other += 1\n",
    "print(count_p)\n",
    "# my_func()\n",
    "print(my_str)\n",
    "\n"
   ]
  },
  {
   "cell_type": "code",
   "execution_count": null,
   "id": "416af5a6",
   "metadata": {},
   "outputs": [],
   "source": [
    "if, elif, else, for, while, with, def, class, try, except, else, finally etc.\n",
    "    "
   ]
  },
  {
   "cell_type": "code",
   "execution_count": 43,
   "id": "d91291df",
   "metadata": {
    "ExecuteTime": {
     "end_time": "2022-01-10T14:57:22.553649Z",
     "start_time": "2022-01-10T14:57:22.523166Z"
    }
   },
   "outputs": [
    {
     "ename": "IndentationError",
     "evalue": "unexpected indent (<ipython-input-43-968d9d9bfb25>, line 2)",
     "output_type": "error",
     "traceback": [
      "\u001b[0;36m  File \u001b[0;32m\"<ipython-input-43-968d9d9bfb25>\"\u001b[0;36m, line \u001b[0;32m2\u001b[0m\n\u001b[0;31m    b = 20\u001b[0m\n\u001b[0m    ^\u001b[0m\n\u001b[0;31mIndentationError\u001b[0m\u001b[0;31m:\u001b[0m unexpected indent\n"
     ]
    }
   ],
   "source": [
    "a = 10\n",
    "b = 20"
   ]
  },
  {
   "cell_type": "code",
   "execution_count": 51,
   "id": "a32d9a9f",
   "metadata": {
    "ExecuteTime": {
     "end_time": "2022-01-10T15:00:27.816564Z",
     "start_time": "2022-01-10T15:00:27.806192Z"
    }
   },
   "outputs": [
    {
     "name": "stdout",
     "output_type": "stream",
     "text": [
      "30\n"
     ]
    }
   ],
   "source": [
    "if True:\n",
    "    print(10+20)\n",
    "    "
   ]
  },
  {
   "cell_type": "code",
   "execution_count": null,
   "id": "8f207fcc",
   "metadata": {},
   "outputs": [],
   "source": [
    "# Comments - #\n",
    "\n",
    "\n",
    "\n"
   ]
  },
  {
   "cell_type": "code",
   "execution_count": 59,
   "id": "12942696",
   "metadata": {
    "ExecuteTime": {
     "end_time": "2022-01-10T15:07:34.783012Z",
     "start_time": "2022-01-10T15:07:34.755575Z"
    }
   },
   "outputs": [
    {
     "ename": "TypeError",
     "evalue": "unsupported operand type(s) for +: 'NoneType' and 'int'",
     "output_type": "error",
     "traceback": [
      "\u001b[0;31m---------------------------------------------------------------------------\u001b[0m",
      "\u001b[0;31mTypeError\u001b[0m                                 Traceback (most recent call last)",
      "\u001b[0;32m<ipython-input-59-06a8c21addea>\u001b[0m in \u001b[0;36m<module>\u001b[0;34m\u001b[0m\n\u001b[1;32m      1\u001b[0m \u001b[0ma\u001b[0m \u001b[0;34m=\u001b[0m \u001b[0;32mNone\u001b[0m\u001b[0;34m\u001b[0m\u001b[0;34m\u001b[0m\u001b[0m\n\u001b[0;32m----> 2\u001b[0;31m \u001b[0ma\u001b[0m\u001b[0;34m+\u001b[0m\u001b[0;36m10\u001b[0m\u001b[0;34m\u001b[0m\u001b[0;34m\u001b[0m\u001b[0m\n\u001b[0m",
      "\u001b[0;31mTypeError\u001b[0m: unsupported operand type(s) for +: 'NoneType' and 'int'"
     ]
    }
   ],
   "source": [
    "a = None\n",
    "a+10"
   ]
  },
  {
   "cell_type": "code",
   "execution_count": 64,
   "id": "11eee57a",
   "metadata": {
    "ExecuteTime": {
     "end_time": "2022-01-10T15:15:19.667132Z",
     "start_time": "2022-01-10T15:15:19.651703Z"
    }
   },
   "outputs": [
    {
     "data": {
      "text/plain": [
       "'# hsdgvcjdahbfdhjbsv\\n# sdhjkvakbvdasbvdas\\n# jdvasbdasbvdsbvndbsv'"
      ]
     },
     "execution_count": 64,
     "metadata": {},
     "output_type": "execute_result"
    }
   ],
   "source": [
    "'''# hsdgvcjdahbfdhjbsv\n",
    "# sdhjkvakbvdasbvdas\n",
    "# jdvasbdasbvdsbvndbsv'''"
   ]
  },
  {
   "cell_type": "code",
   "execution_count": 63,
   "id": "37773d8d",
   "metadata": {
    "ExecuteTime": {
     "end_time": "2022-01-10T15:15:09.542676Z",
     "start_time": "2022-01-10T15:15:09.535120Z"
    }
   },
   "outputs": [],
   "source": [
    "# /* ---- */\n",
    "# <-- -->"
   ]
  },
  {
   "cell_type": "markdown",
   "id": "6ef8b67c",
   "metadata": {},
   "source": [
    "# Python Data Types"
   ]
  },
  {
   "cell_type": "code",
   "execution_count": null,
   "id": "11254ecd",
   "metadata": {},
   "outputs": [],
   "source": [
    "# Fundamental - Integers, Float, Complex, Boolean , String, None\n",
    "# Derived Data Types - list, Tuple, set, frozenset, Dictionary, Bytes, Bytearray,m Range"
   ]
  },
  {
   "cell_type": "code",
   "execution_count": 105,
   "id": "d379be99",
   "metadata": {
    "ExecuteTime": {
     "end_time": "2022-01-10T15:40:01.977752Z",
     "start_time": "2022-01-10T15:40:01.949434Z"
    }
   },
   "outputs": [
    {
     "ename": "ValueError",
     "evalue": "invalid literal for int() with base 10: 'ABC'",
     "output_type": "error",
     "traceback": [
      "\u001b[0;31m---------------------------------------------------------------------------\u001b[0m",
      "\u001b[0;31mValueError\u001b[0m                                Traceback (most recent call last)",
      "\u001b[0;32m<ipython-input-105-51410b65b8e9>\u001b[0m in \u001b[0;36m<module>\u001b[0;34m\u001b[0m\n\u001b[1;32m     36\u001b[0m \u001b[0;31m# print(int('10.20'))\u001b[0m\u001b[0;34m\u001b[0m\u001b[0;34m\u001b[0m\u001b[0;34m\u001b[0m\u001b[0m\n\u001b[1;32m     37\u001b[0m \u001b[0;31m# print(int(10+20j))\u001b[0m\u001b[0;34m\u001b[0m\u001b[0;34m\u001b[0m\u001b[0;34m\u001b[0m\u001b[0m\n\u001b[0;32m---> 38\u001b[0;31m \u001b[0mprint\u001b[0m\u001b[0;34m(\u001b[0m\u001b[0mint\u001b[0m\u001b[0;34m(\u001b[0m\u001b[0;34m'ABC'\u001b[0m\u001b[0;34m)\u001b[0m\u001b[0;34m)\u001b[0m\u001b[0;34m\u001b[0m\u001b[0;34m\u001b[0m\u001b[0m\n\u001b[0m\u001b[1;32m     39\u001b[0m \u001b[0;31m# print(int('0b1010'))\u001b[0m\u001b[0;34m\u001b[0m\u001b[0;34m\u001b[0m\u001b[0;34m\u001b[0m\u001b[0m\n\u001b[1;32m     40\u001b[0m \u001b[0;31m# print(int('True'))\u001b[0m\u001b[0;34m\u001b[0m\u001b[0;34m\u001b[0m\u001b[0;34m\u001b[0m\u001b[0m\n",
      "\u001b[0;31mValueError\u001b[0m: invalid literal for int() with base 10: 'ABC'"
     ]
    }
   ],
   "source": [
    "# Integers - Any value without decimal point\n",
    "# Integer class\n",
    "# Integer object\n",
    "\n",
    "# print(help(int))\n",
    "\n",
    "# a = 10\n",
    "# print(a, type(a), id(a))\n",
    "\n",
    "# Cam be represented in Binary, Octal, Hexadecimal formats\n",
    "# Binary - Allowed digits 0 & 1, 0b, bin(x) where x can be any number\n",
    "# Octal - Allowed digits 0 - 7, 0o, oct(x) where x can be any number\n",
    "# Hexadecimal - Allowed digits 0 - 9 & a-f, 0x, hex(x) where x can be any number\n",
    "\n",
    "# a = 987654\n",
    "# print('Binary Equivalent =', bin(a))\n",
    "# print('oct Equivalent =', oct(a))\n",
    "# print('hex Equivalent =', hex(a))\n",
    "\n",
    "# print('Decimal Equivalent of 0b11110001001000000110', 0b11110001001000000110)\n",
    "# print('Decimal Equivalent of 0o3611006', 0o3611006)\n",
    "# print('Decimal Equivalent of 0xf1206', 0xf1206)\n",
    "\n",
    "# Only integers can be represented in this format\n",
    "\n",
    "# int()\n",
    "# print(int(10))\n",
    "# print(int('10'))\n",
    "# print(int(10.20))\n",
    "# print(int(True))\n",
    "# print(int(0b101010))\n",
    "# print(int(0o273512))\n",
    "# print(int(0xfc98))\n",
    "# print(int(10+20))\n",
    "\n",
    "# print(int('10.20'))\n",
    "# print(int(10+20j))\n",
    "# print(int('ABC'))\n",
    "# print(int('0b1010'))\n",
    "# print(int('True'))\n",
    "\n",
    "\n"
   ]
  },
  {
   "cell_type": "code",
   "execution_count": 72,
   "id": "8582a9b3",
   "metadata": {
    "ExecuteTime": {
     "end_time": "2022-01-10T15:22:57.299990Z",
     "start_time": "2022-01-10T15:22:57.289045Z"
    }
   },
   "outputs": [
    {
     "data": {
      "text/plain": [
       "'0o3611006'"
      ]
     },
     "execution_count": 72,
     "metadata": {},
     "output_type": "execute_result"
    }
   ],
   "source": [
    "oct(0xf1206)"
   ]
  },
  {
   "cell_type": "code",
   "execution_count": 77,
   "id": "6a6c3ee9",
   "metadata": {
    "ExecuteTime": {
     "end_time": "2022-01-10T15:24:29.624979Z",
     "start_time": "2022-01-10T15:24:29.620679Z"
    }
   },
   "outputs": [],
   "source": [
    "# print(hex(10.0))"
   ]
  },
  {
   "cell_type": "code",
   "execution_count": 83,
   "id": "73188833",
   "metadata": {
    "ExecuteTime": {
     "end_time": "2022-01-10T15:27:22.127537Z",
     "start_time": "2022-01-10T15:27:22.104155Z"
    }
   },
   "outputs": [
    {
     "data": {
      "text/plain": [
       "80593825139580727197978"
      ]
     },
     "execution_count": 83,
     "metadata": {},
     "output_type": "execute_result"
    }
   ],
   "source": [
    "0x11110001001000000110 + 10"
   ]
  },
  {
   "cell_type": "code",
   "execution_count": 107,
   "id": "ab47c927",
   "metadata": {
    "ExecuteTime": {
     "end_time": "2022-01-10T15:41:22.474270Z",
     "start_time": "2022-01-10T15:41:22.453757Z"
    }
   },
   "outputs": [
    {
     "name": "stdout",
     "output_type": "stream",
     "text": [
      "10.0\n",
      "10.2\n",
      "10.0\n",
      "10.2\n",
      "42.0\n",
      "1.0\n"
     ]
    }
   ],
   "source": [
    "# Float\n",
    "# Any number with decimal point\n",
    "\n",
    "# a = 10.20\n",
    "# print(a, type(a), id(a))\n",
    "\n",
    "\n",
    "# float()\n",
    "\n",
    "print(float(10))\n",
    "print(float(10.20))\n",
    "print(float('10'))\n",
    "print(float('10.20'))\n",
    "print(float(0b101010))\n",
    "print(float(True))\n",
    "\n",
    "# print(float(10+20j))\n",
    "# print(float('True'))\n",
    "# print(float('0b101010'))\n",
    "# print(float('ABC'))\n"
   ]
  },
  {
   "cell_type": "code",
   "execution_count": 112,
   "id": "19df8df2",
   "metadata": {
    "ExecuteTime": {
     "end_time": "2022-01-10T15:45:23.759665Z",
     "start_time": "2022-01-10T15:45:23.750781Z"
    }
   },
   "outputs": [
    {
     "name": "stdout",
     "output_type": "stream",
     "text": [
      "(10+20j)\n",
      "(10.2+1j)\n",
      "(1+10j)\n",
      "(21+27427j)\n"
     ]
    }
   ],
   "source": [
    "# Complex - a+bj\n",
    "# Where a is real part\n",
    "# b is imaginary [art\n",
    "# and jis imaginary value\n",
    "\n",
    "# a = -10+20j\n",
    "# print(a, type(a))\n",
    "# print(a.real)\n",
    "# print(a.imag)\n",
    "\n",
    "\n",
    "# complex(real) - Real +0j\n",
    "# Complex(real, imag) - real+imag*j\n",
    "\n",
    "\n",
    "# Note 1 - If first arg is a string then complex function can  not take 2nd args\n",
    "# Note 2 - second argument can never be a string\n",
    "\n",
    "\n",
    "# print(complex(10))\n",
    "# print(complex(10.20))\n",
    "# print(complex(True))\n",
    "# print(complex(0b10101))\n",
    "# print(complex('10.20'))\n",
    "\n",
    "\n",
    "print(complex(10, 20))\n",
    "print(complex(10.20, True))\n",
    "print(complex(True, 10))\n",
    "print(complex(0b10101, 0o65443))\n",
    "# print(complex('10.20', 100))\n",
    "\n",
    "\n",
    "\n"
   ]
  },
  {
   "cell_type": "code",
   "execution_count": 139,
   "id": "fb082f12",
   "metadata": {
    "ExecuteTime": {
     "end_time": "2022-01-10T16:03:03.990031Z",
     "start_time": "2022-01-10T16:02:58.547147Z"
    }
   },
   "outputs": [
    {
     "name": "stdout",
     "output_type": "stream",
     "text": [
      "ENter your Age: len('Python')\n",
      "Allowed\n",
      "6\n"
     ]
    }
   ],
   "source": [
    "# Input function\n",
    "# Used to take th input from user\n",
    "# input function converts the data to string type\n",
    "\n",
    "\n",
    "# Typecasting\n",
    "# a = int(input('Enter your age: '))\n",
    "# print(a, type(a))\n",
    "\n",
    "# b = complex(float(input('ENter the lattitude')), float(input('Enter the logitude')))\n",
    "# print(b, type(b))\n",
    "\n",
    "# a = eval('(10.20,)')\n",
    "# print(a, type(a))\n",
    "\n",
    "\n",
    "# eval('\"10.20+20\"')\n",
    "\n",
    "# eval('True')\n",
    "\n",
    "import sys\n",
    "emp_age = eval(input('Enter your Age: '))\n",
    "if type(emp_age) == int:\n",
    "    print('Allowed')\n",
    "    print(emp_age)\n",
    "elif type(emp_age) == float:\n",
    "    print('Allowed with rounding data')\n",
    "    print(round(emp_age))\n",
    "else:\n",
    "    print('Not Alllowed')\n",
    "    sys.exit(0)\n",
    "\n"
   ]
  },
  {
   "cell_type": "code",
   "execution_count": 132,
   "id": "29569db4",
   "metadata": {
    "ExecuteTime": {
     "end_time": "2022-01-10T15:56:50.424044Z",
     "start_time": "2022-01-10T15:56:50.398534Z"
    }
   },
   "outputs": [
    {
     "ename": "ValueError",
     "evalue": "invalid literal for int() with base 10: 'AVC'",
     "output_type": "error",
     "traceback": [
      "\u001b[0;31m---------------------------------------------------------------------------\u001b[0m",
      "\u001b[0;31mValueError\u001b[0m                                Traceback (most recent call last)",
      "\u001b[0;32m<ipython-input-132-a7a567be097e>\u001b[0m in \u001b[0;36m<module>\u001b[0;34m\u001b[0m\n\u001b[0;32m----> 1\u001b[0;31m \u001b[0mint\u001b[0m\u001b[0;34m(\u001b[0m\u001b[0;34m'AVC'\u001b[0m\u001b[0;34m)\u001b[0m\u001b[0;34m\u001b[0m\u001b[0;34m\u001b[0m\u001b[0m\n\u001b[0m",
      "\u001b[0;31mValueError\u001b[0m: invalid literal for int() with base 10: 'AVC'"
     ]
    }
   ],
   "source": [
    "int('AVC')"
   ]
  },
  {
   "cell_type": "code",
   "execution_count": 98,
   "id": "78f08839",
   "metadata": {
    "ExecuteTime": {
     "end_time": "2022-01-10T15:33:36.757417Z",
     "start_time": "2022-01-10T15:33:36.738265Z"
    }
   },
   "outputs": [
    {
     "ename": "ValueError",
     "evalue": "invalid literal for int() with base 10: '10.20'",
     "output_type": "error",
     "traceback": [
      "\u001b[0;31m---------------------------------------------------------------------------\u001b[0m",
      "\u001b[0;31mValueError\u001b[0m                                Traceback (most recent call last)",
      "\u001b[0;32m<ipython-input-98-62f85e6eb47d>\u001b[0m in \u001b[0;36m<module>\u001b[0;34m\u001b[0m\n\u001b[0;32m----> 1\u001b[0;31m \u001b[0mint\u001b[0m\u001b[0;34m(\u001b[0m\u001b[0;34m'10.20'\u001b[0m\u001b[0;34m)\u001b[0m\u001b[0;34m\u001b[0m\u001b[0;34m\u001b[0m\u001b[0m\n\u001b[0m",
      "\u001b[0;31mValueError\u001b[0m: invalid literal for int() with base 10: '10.20'"
     ]
    }
   ],
   "source": [
    "int('10.20')"
   ]
  },
  {
   "cell_type": "code",
   "execution_count": null,
   "id": "c0267847",
   "metadata": {
    "ExecuteTime": {
     "end_time": "2022-01-10T15:34:56.148883Z",
     "start_time": "2022-01-10T15:34:51.138Z"
    }
   },
   "outputs": [],
   "source": [
    "int('35')"
   ]
  },
  {
   "cell_type": "code",
   "execution_count": 114,
   "id": "49431346",
   "metadata": {
    "ExecuteTime": {
     "end_time": "2022-01-10T15:47:13.088505Z",
     "start_time": "2022-01-10T15:47:13.045288Z"
    }
   },
   "outputs": [
    {
     "ename": "ValueError",
     "evalue": "complex() arg is a malformed string",
     "output_type": "error",
     "traceback": [
      "\u001b[0;31m---------------------------------------------------------------------------\u001b[0m",
      "\u001b[0;31mValueError\u001b[0m                                Traceback (most recent call last)",
      "\u001b[0;32m<ipython-input-114-af4f613bea38>\u001b[0m in \u001b[0;36m<module>\u001b[0;34m\u001b[0m\n\u001b[0;32m----> 1\u001b[0;31m \u001b[0mcomplex\u001b[0m\u001b[0;34m(\u001b[0m\u001b[0;34m'10,20'\u001b[0m\u001b[0;34m)\u001b[0m\u001b[0;34m\u001b[0m\u001b[0;34m\u001b[0m\u001b[0m\n\u001b[0m",
      "\u001b[0;31mValueError\u001b[0m: complex() arg is a malformed string"
     ]
    }
   ],
   "source": [
    "complex('10,20')"
   ]
  },
  {
   "cell_type": "code",
   "execution_count": 115,
   "id": "74ed5b39",
   "metadata": {
    "ExecuteTime": {
     "end_time": "2022-01-10T15:48:00.987722Z",
     "start_time": "2022-01-10T15:48:00.960875Z"
    }
   },
   "outputs": [
    {
     "ename": "TypeError",
     "evalue": "complex() can't take second arg if first is a string",
     "output_type": "error",
     "traceback": [
      "\u001b[0;31m---------------------------------------------------------------------------\u001b[0m",
      "\u001b[0;31mTypeError\u001b[0m                                 Traceback (most recent call last)",
      "\u001b[0;32m<ipython-input-115-a38f2d2e9675>\u001b[0m in \u001b[0;36m<module>\u001b[0;34m\u001b[0m\n\u001b[0;32m----> 1\u001b[0;31m \u001b[0mcomplex\u001b[0m\u001b[0;34m(\u001b[0m\u001b[0;34m'10'\u001b[0m\u001b[0;34m,\u001b[0m \u001b[0;34m'20'\u001b[0m\u001b[0;34m)\u001b[0m\u001b[0;34m\u001b[0m\u001b[0;34m\u001b[0m\u001b[0m\n\u001b[0m",
      "\u001b[0;31mTypeError\u001b[0m: complex() can't take second arg if first is a string"
     ]
    }
   ],
   "source": [
    "complex('10', '20')"
   ]
  },
  {
   "cell_type": "code",
   "execution_count": 140,
   "id": "d7d0990f",
   "metadata": {
    "ExecuteTime": {
     "end_time": "2022-01-10T16:08:13.299203Z",
     "start_time": "2022-01-10T16:08:13.273041Z"
    }
   },
   "outputs": [
    {
     "ename": "TypeError",
     "evalue": "'>' not supported between instances of 'complex' and 'complex'",
     "output_type": "error",
     "traceback": [
      "\u001b[0;31m---------------------------------------------------------------------------\u001b[0m",
      "\u001b[0;31mTypeError\u001b[0m                                 Traceback (most recent call last)",
      "\u001b[0;32m<ipython-input-140-08231e3d4685>\u001b[0m in \u001b[0;36m<module>\u001b[0;34m\u001b[0m\n\u001b[1;32m      1\u001b[0m \u001b[0;31m# <, <=, >, >=\u001b[0m\u001b[0;34m\u001b[0m\u001b[0;34m\u001b[0m\u001b[0;34m\u001b[0m\u001b[0m\n\u001b[1;32m      2\u001b[0m \u001b[0;34m\u001b[0m\u001b[0m\n\u001b[0;32m----> 3\u001b[0;31m \u001b[0;36m10\u001b[0m\u001b[0;34m+\u001b[0m\u001b[0;36m20j\u001b[0m \u001b[0;34m>\u001b[0m \u001b[0;36m5\u001b[0m\u001b[0;34m+\u001b[0m\u001b[0;36m5j\u001b[0m\u001b[0;34m\u001b[0m\u001b[0;34m\u001b[0m\u001b[0m\n\u001b[0m",
      "\u001b[0;31mTypeError\u001b[0m: '>' not supported between instances of 'complex' and 'complex'"
     ]
    }
   ],
   "source": [
    "# <, <=, >, >=\n",
    "\n",
    "10+20j > 5+5j\n"
   ]
  },
  {
   "cell_type": "code",
   "execution_count": null,
   "id": "afeed54f",
   "metadata": {},
   "outputs": [],
   "source": []
  },
  {
   "cell_type": "code",
   "execution_count": null,
   "id": "ff8c6c55",
   "metadata": {},
   "outputs": [],
   "source": []
  },
  {
   "cell_type": "code",
   "execution_count": null,
   "id": "98decace",
   "metadata": {},
   "outputs": [],
   "source": []
  },
  {
   "cell_type": "code",
   "execution_count": null,
   "id": "56cfa73d",
   "metadata": {},
   "outputs": [],
   "source": []
  },
  {
   "cell_type": "code",
   "execution_count": null,
   "id": "25763127",
   "metadata": {},
   "outputs": [],
   "source": []
  },
  {
   "cell_type": "code",
   "execution_count": null,
   "id": "32677c5a",
   "metadata": {},
   "outputs": [],
   "source": []
  },
  {
   "cell_type": "code",
   "execution_count": null,
   "id": "17b4ae4f",
   "metadata": {},
   "outputs": [],
   "source": []
  },
  {
   "cell_type": "code",
   "execution_count": null,
   "id": "654aa978",
   "metadata": {},
   "outputs": [],
   "source": []
  },
  {
   "cell_type": "code",
   "execution_count": null,
   "id": "a6c5ce7c",
   "metadata": {},
   "outputs": [],
   "source": []
  },
  {
   "cell_type": "code",
   "execution_count": null,
   "id": "5666d62d",
   "metadata": {},
   "outputs": [],
   "source": []
  },
  {
   "cell_type": "code",
   "execution_count": null,
   "id": "79994b74",
   "metadata": {},
   "outputs": [],
   "source": []
  },
  {
   "cell_type": "code",
   "execution_count": null,
   "id": "3f9ad525",
   "metadata": {},
   "outputs": [],
   "source": []
  },
  {
   "cell_type": "code",
   "execution_count": null,
   "id": "4350f83e",
   "metadata": {},
   "outputs": [],
   "source": []
  },
  {
   "cell_type": "code",
   "execution_count": null,
   "id": "a2037c86",
   "metadata": {},
   "outputs": [],
   "source": []
  },
  {
   "cell_type": "code",
   "execution_count": null,
   "id": "b4c512fe",
   "metadata": {},
   "outputs": [],
   "source": []
  },
  {
   "cell_type": "code",
   "execution_count": null,
   "id": "0b1aca4c",
   "metadata": {},
   "outputs": [],
   "source": []
  },
  {
   "cell_type": "code",
   "execution_count": null,
   "id": "c7f7aa88",
   "metadata": {},
   "outputs": [],
   "source": []
  },
  {
   "cell_type": "code",
   "execution_count": null,
   "id": "b3cd7349",
   "metadata": {},
   "outputs": [],
   "source": []
  },
  {
   "cell_type": "code",
   "execution_count": null,
   "id": "862c9362",
   "metadata": {},
   "outputs": [],
   "source": []
  },
  {
   "cell_type": "code",
   "execution_count": null,
   "id": "d3e4fbfd",
   "metadata": {},
   "outputs": [],
   "source": []
  },
  {
   "cell_type": "code",
   "execution_count": null,
   "id": "8a6d4f55",
   "metadata": {},
   "outputs": [],
   "source": []
  },
  {
   "cell_type": "code",
   "execution_count": null,
   "id": "a49ca103",
   "metadata": {},
   "outputs": [],
   "source": []
  },
  {
   "cell_type": "code",
   "execution_count": null,
   "id": "cfd6751a",
   "metadata": {},
   "outputs": [],
   "source": []
  },
  {
   "cell_type": "code",
   "execution_count": null,
   "id": "95a5f205",
   "metadata": {},
   "outputs": [],
   "source": []
  },
  {
   "cell_type": "code",
   "execution_count": null,
   "id": "44515d72",
   "metadata": {},
   "outputs": [],
   "source": []
  },
  {
   "cell_type": "code",
   "execution_count": null,
   "id": "534f23e4",
   "metadata": {},
   "outputs": [],
   "source": []
  },
  {
   "cell_type": "code",
   "execution_count": null,
   "id": "bd884d8a",
   "metadata": {},
   "outputs": [],
   "source": []
  },
  {
   "cell_type": "code",
   "execution_count": null,
   "id": "3a30b01e",
   "metadata": {},
   "outputs": [],
   "source": []
  },
  {
   "cell_type": "code",
   "execution_count": null,
   "id": "c7cc2d5d",
   "metadata": {},
   "outputs": [],
   "source": []
  },
  {
   "cell_type": "code",
   "execution_count": null,
   "id": "2a0d40db",
   "metadata": {},
   "outputs": [],
   "source": []
  }
 ],
 "metadata": {
  "kernelspec": {
   "display_name": "Python 3",
   "language": "python",
   "name": "python3"
  },
  "language_info": {
   "codemirror_mode": {
    "name": "ipython",
    "version": 3
   },
   "file_extension": ".py",
   "mimetype": "text/x-python",
   "name": "python",
   "nbconvert_exporter": "python",
   "pygments_lexer": "ipython3",
   "version": "3.8.2"
  }
 },
 "nbformat": 4,
 "nbformat_minor": 5
}
