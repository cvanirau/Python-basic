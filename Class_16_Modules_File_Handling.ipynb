{
 "cells": [
  {
   "cell_type": "markdown",
   "id": "4efcb8cd",
   "metadata": {},
   "source": [
    "# MOdules in Python"
   ]
  },
  {
   "cell_type": "code",
   "execution_count": 5,
   "id": "44c2af72",
   "metadata": {
    "ExecuteTime": {
     "end_time": "2022-02-02T15:40:02.054890Z",
     "start_time": "2022-02-02T15:40:02.035473Z"
    }
   },
   "outputs": [],
   "source": [
    "# .py file - module"
   ]
  },
  {
   "cell_type": "code",
   "execution_count": 6,
   "id": "3c11f736",
   "metadata": {
    "ExecuteTime": {
     "end_time": "2022-02-02T15:40:02.076581Z",
     "start_time": "2022-02-02T15:40:02.062995Z"
    }
   },
   "outputs": [
    {
     "ename": "IndentationError",
     "evalue": "unexpected indent (<ipython-input-6-eea649dbce71>, line 2)",
     "output_type": "error",
     "traceback": [
      "\u001b[0;36m  File \u001b[0;32m\"<ipython-input-6-eea649dbce71>\"\u001b[0;36m, line \u001b[0;32m2\u001b[0m\n\u001b[0;31m    1. Built-in module - math, sys, os, re etc\u001b[0m\n\u001b[0m    ^\u001b[0m\n\u001b[0;31mIndentationError\u001b[0m\u001b[0;31m:\u001b[0m unexpected indent\n"
     ]
    }
   ],
   "source": [
    "# Types of modules \n",
    "    1. Built-in module - math, sys, os, re etc\n",
    "    2. User defined module - "
   ]
  },
  {
   "cell_type": "code",
   "execution_count": 1,
   "id": "3587bece",
   "metadata": {
    "ExecuteTime": {
     "end_time": "2022-02-02T15:40:02.086129Z",
     "start_time": "2022-02-02T15:40:02.036Z"
    }
   },
   "outputs": [
    {
     "name": "stdout",
     "output_type": "stream",
     "text": [
      "['In', 'Out', '_', '__', '___', '__builtin__', '__builtins__', '__doc__', '__loader__', '__name__', '__package__', '__spec__', '_dh', '_i', '_i1', '_ih', '_ii', '_iii', '_oh', 'exit', 'get_ipython', 'quit']\n"
     ]
    }
   ],
   "source": [
    "print(dir())"
   ]
  },
  {
   "cell_type": "code",
   "execution_count": 2,
   "id": "abf2f481",
   "metadata": {
    "ExecuteTime": {
     "end_time": "2022-02-02T15:40:02.088534Z",
     "start_time": "2022-02-02T15:40:02.039Z"
    }
   },
   "outputs": [
    {
     "name": "stdout",
     "output_type": "stream",
     "text": [
      "['In', 'Out', '_', '__', '___', '__builtin__', '__builtins__', '__doc__', '__loader__', '__name__', '__package__', '__spec__', '_dh', '_i', '_i1', '_i2', '_ih', '_ii', '_iii', '_oh', 'exit', 'get_ipython', 'math', 'quit']\n"
     ]
    }
   ],
   "source": [
    "import math\n",
    "print(dir())"
   ]
  },
  {
   "cell_type": "code",
   "execution_count": 5,
   "id": "10befe0f",
   "metadata": {
    "ExecuteTime": {
     "end_time": "2022-02-02T15:40:02.092749Z",
     "start_time": "2022-02-02T15:40:02.042Z"
    }
   },
   "outputs": [
    {
     "name": "stdout",
     "output_type": "stream",
     "text": [
      "['In', 'Out', '_', '_4', '__', '___', '__builtin__', '__builtins__', '__doc__', '__loader__', '__name__', '__package__', '__spec__', '_dh', '_i', '_i1', '_i2', '_i3', '_i4', '_i5', '_ih', '_ii', '_iii', '_oh', 'exit', 'get_ipython', 'math', 'quit', 'sys']\n",
      "['__breakpointhook__', '__displayhook__', '__doc__', '__excepthook__', '__interactivehook__', '__loader__', '__name__', '__package__', '__spec__', '__stderr__', '__stdin__', '__stdout__', '__unraisablehook__', '_base_executable', '_clear_type_cache', '_current_frames', '_debugmallocstats', '_enablelegacywindowsfsencoding', '_framework', '_getframe', '_git', '_home', '_xoptions', 'addaudithook', 'api_version', 'argv', 'audit', 'base_exec_prefix', 'base_prefix', 'breakpointhook', 'builtin_module_names', 'byteorder', 'call_tracing', 'copyright', 'displayhook', 'dllhandle', 'dont_write_bytecode', 'exc_info', 'excepthook', 'exec_prefix', 'executable', 'exit', 'flags', 'float_info', 'float_repr_style', 'get_asyncgen_hooks', 'get_coroutine_origin_tracking_depth', 'getallocatedblocks', 'getdefaultencoding', 'getfilesystemencodeerrors', 'getfilesystemencoding', 'getprofile', 'getrecursionlimit', 'getrefcount', 'getsizeof', 'getswitchinterval', 'gettrace', 'getwindowsversion', 'hash_info', 'hexversion', 'implementation', 'int_info', 'intern', 'is_finalizing', 'maxsize', 'maxunicode', 'meta_path', 'modules', 'path', 'path_hooks', 'path_importer_cache', 'platform', 'platlibdir', 'prefix', 'ps1', 'ps2', 'ps3', 'pycache_prefix', 'set_asyncgen_hooks', 'set_coroutine_origin_tracking_depth', 'setprofile', 'setrecursionlimit', 'setswitchinterval', 'settrace', 'stderr', 'stdin', 'stdout', 'thread_info', 'unraisablehook', 'version', 'version_info', 'warnoptions', 'winver']\n"
     ]
    }
   ],
   "source": [
    "import sys\n",
    "print(dir())\n",
    "print(dir(sys))"
   ]
  },
  {
   "cell_type": "code",
   "execution_count": 6,
   "id": "282971bd",
   "metadata": {
    "ExecuteTime": {
     "end_time": "2022-02-02T15:40:02.096272Z",
     "start_time": "2022-02-02T15:40:02.046Z"
    }
   },
   "outputs": [
    {
     "name": "stdout",
     "output_type": "stream",
     "text": [
      "['In', 'Out', '_', '_4', '__', '___', '__builtin__', '__builtins__', '__doc__', '__loader__', '__name__', '__package__', '__spec__', '_dh', '_i', '_i1', '_i2', '_i3', '_i4', '_i5', '_i6', '_ih', '_ii', '_iii', '_oh', 'a', 'b', 'exit', 'f1', 'get_ipython', 'math', 'quit', 'sys']\n"
     ]
    }
   ],
   "source": [
    "a = 10\n",
    "b = 20\n",
    "def f1():\n",
    "    pass\n",
    "print(dir())"
   ]
  },
  {
   "cell_type": "code",
   "execution_count": 7,
   "id": "11282e2b",
   "metadata": {
    "ExecuteTime": {
     "end_time": "2022-02-02T15:40:02.098484Z",
     "start_time": "2022-02-02T15:40:02.050Z"
    }
   },
   "outputs": [
    {
     "name": "stdout",
     "output_type": "stream",
     "text": [
      "\n",
      "Please wait a moment while I gather a list of all available modules...\n",
      "\n"
     ]
    },
    {
     "name": "stderr",
     "output_type": "stream",
     "text": [
      "C:\\Users\\rahul\\anaconda3\\lib\\site-packages\\IPython\\kernel\\__init__.py:12: ShimWarning: The `IPython.kernel` package has been deprecated since IPython 4.0.You should import from ipykernel or jupyter_client instead.\n",
      "  warn(\"The `IPython.kernel` package has been deprecated since IPython 4.0.\"\n",
      "WARNING: AstropyDeprecationWarning: The private astropy._erfa module has been made into its own package, pyerfa, which is a dependency of astropy and can be imported directly using \"import erfa\" [astropy._erfa]\n",
      "C:\\Users\\rahul\\anaconda3\\lib\\pkgutil.py:93: MatplotlibDeprecationWarning: \n",
      "The matplotlib.compat module was deprecated in Matplotlib 3.3 and will be removed two minor releases later.\n",
      "  __import__(info.name)\n",
      "C:\\Users\\rahul\\anaconda3\\lib\\site-packages\\nltk\\twitter\\__init__.py:20: UserWarning: The twython library has not been installed. Some functionality from the twitter package will not be available.\n",
      "  warnings.warn(\n",
      "QSS file sucessfuly loaded.\n",
      "Found application patches to be applied.\n",
      "No QCoreApplication instance found. Application patches not applied. You have to call load_stylesheet function after instantiation of QApplication to take effect. \n",
      "C:\\Users\\rahul\\anaconda3\\lib\\pkgutil.py:108: VisibleDeprecationWarning: zmq.eventloop.minitornado is deprecated in pyzmq 14.0 and will be removed.\n",
      "    Install tornado itself to use zmq with the tornado IOLoop.\n",
      "    \n",
      "  yield from walk_packages(path, info.name+'.', onerror)\n"
     ]
    },
    {
     "name": "stdout",
     "output_type": "stream",
     "text": [
      "Cython              codecs              modulefinder        sortedcontainers\n",
      "IPython             codeop              more_itertools      soupsieve\n",
      "OpenSSL             collections         mpmath              sphinx\n",
      "PIL                 colorama            msgpack             sphinxcontrib\n",
      "PyQt5               colorsys            msilib              spyder\n",
      "TBB                 commctrl            msvcrt              spyder_kernels\n",
      "__future__          compileall          multipledispatch    sqlalchemy\n",
      "_abc                comtypes            multiprocessing     sqlite3\n",
      "_aix_support        concurrent          munkres             sre_compile\n",
      "_ast                conda               mypy_extensions     sre_constants\n",
      "_asyncio            conda_build         nacl                sre_parse\n",
      "_bisect             conda_content_trust navigator_updater   ssl\n",
      "_black_version      conda_env           nbclassic           sspi\n",
      "_blake2             conda_pack          nbclient            sspicon\n",
      "_bootlocale         conda_package_handling nbconvert           stat\n",
      "_bootsubprocess     conda_token         nbformat            statistics\n",
      "_bz2                conda_verify        nest_asyncio        statsmodels\n",
      "_cffi_backend       configparser        netbios             storemagic\n",
      "_codecs             contextlib          netrc               string\n",
      "_codecs_cn          contextlib2         networkx            stringprep\n",
      "_codecs_hk          contextvars         nltk                struct\n",
      "_codecs_iso2022     cookiecutter        nntplib             subprocess\n",
      "_codecs_jp          copy                nose                sunau\n",
      "_codecs_kr          copyreg             notebook            symbol\n",
      "_codecs_tw          crypt               nt                  sympy\n",
      "_collections        cryptography        ntpath              sympyprinting\n",
      "_collections_abc    csv                 ntsecuritycon       symtable\n",
      "_compat_pickle      ctypes              nturl2path          sys\n",
      "_compression        curl                numba               sysconfig\n",
      "_contextvars        curses              numbers             tables\n",
      "_csv                cwp                 numexpr             tabnanny\n",
      "_ctypes             cycler              numpy               tarfile\n",
      "_ctypes_test        cython              numpydoc            tbb\n",
      "_daal4py            cythonmagic         odbc                tblib\n",
      "_datetime           cytoolz             olefile             telnetlib\n",
      "_decimal            daal4py             onedal              tempfile\n",
      "_distutils_hack     dask                opcode              terminado\n",
      "_elementtree        dataclasses         openpyxl            test\n",
      "_functools          datetime            operator            test_data\n",
      "_hashlib            dateutil            optparse            test_pycosat\n",
      "_heapq              dbi                 os                  testpath\n",
      "_imp                dbm                 packaging           tests\n",
      "_io                 dde                 pandas              text_unidecode\n",
      "_json               debugpy             pandocfilters       textdistance\n",
      "_locale             decimal             paramiko            textwrap\n",
      "_lsprof             decorator           parser              this\n",
      "_lzma               defusedxml          parso               threading\n",
      "_markupbase         diff_match_patch    partd               threadpoolctl\n",
      "_md5                difflib             past                three_merge\n",
      "_msi                dis                 path                tifffile\n",
      "_multibytecodec     distributed         pathlib             time\n",
      "_multiprocessing    distutils           pathlib2            timeit\n",
      "_nsis               doctest             pathspec            timer\n",
      "_onedal4py_host     docutils            patsy               tinycss\n",
      "_opcode             email               pdb                 tkinter\n",
      "_operator           encodings           pep8                tlz\n",
      "_osx_support        ensurepip           perfmon             token\n",
      "_overlapped         entrypoints         pexpect             tokenize\n",
      "_peg_parser         enum                pickle              toml\n",
      "_pickle             erfa                pickleshare         toolz\n",
      "_py_abc             errno               pickletools         tornado\n",
      "_pydecimal          et_xmlfile          pip                 tqdm\n",
      "_pyio               fastcache           pipes               trace\n",
      "_pyrsistent_version faulthandler        pkg_resources       traceback\n",
      "_pytest             filecmp             pkginfo             tracemalloc\n",
      "_queue              fileinput           pkgutil             traitlets\n",
      "_random             filelock            platform            tty\n",
      "_sha1               flake8              plistlib            turtle\n",
      "_sha256             flask               pluggy              turtledemo\n",
      "_sha3               fnmatch             ply                 typed_ast\n",
      "_sha512             fontTools           poplib              types\n",
      "_signal             formatter           posixpath           typing\n",
      "_sitebuiltins       fractions           poyo                typing_extensions\n",
      "_socket             fsspec              pprint              ujson\n",
      "_sqlite3            ftplib              profile             unicodecsv\n",
      "_sre                functools           prometheus_client   unicodedata\n",
      "_ssl                future              prompt_toolkit      unidecode\n",
      "_stat               gc                  pstats              unittest\n",
      "_statistics         genericpath         psutil              urllib\n",
      "_string             getopt              pty                 urllib3\n",
      "_strptime           getpass             ptyprocess          uu\n",
      "_struct             gettext             pvectorc            uuid\n",
      "_symtable           gevent              py                  venv\n",
      "_system_path        glob                py_compile          warnings\n",
      "_testbuffer         glob2               pyclbr              watchdog\n",
      "_testcapi           graphlib            pycodestyle         wave\n",
      "_testconsole        greenlet            pycosat             wcwidth\n",
      "_testimportmultiple gzip                pycparser           weakref\n",
      "_testinternalcapi   h5py                pycurl              webbrowser\n",
      "_testmultiphase     hashlib             pydoc               webencodings\n",
      "_thread             heapdict            pydoc_data          werkzeug\n",
      "_threading_local    heapq               pydocstyle          wheel\n",
      "_tkinter            hmac                pyexpat             whichcraft\n",
      "_tracemalloc        html                pyflakes            widgetsnbextension\n",
      "_uuid               html5lib            pygments            win2kras\n",
      "_warnings           http                pylab               win32api\n",
      "_weakref            idlelib             pylint              win32clipboard\n",
      "_weakrefset         idna                pyls_spyder         win32com\n",
      "_win32sysloader     imagecodecs         pylsp               win32con\n",
      "_winapi             imageio             pylsp_black         win32console\n",
      "_winxptheme         imagesize           pylsp_jsonrpc       win32cred\n",
      "_xxsubinterpreters  imaplib             pyodbc              win32crypt\n",
      "_yaml               imghdr              pyparsing           win32cryptcon\n",
      "_zoneinfo           imp                 pyreadline          win32ctypes\n",
      "abc                 importlib           pyrsistent          win32event\n",
      "adodbapi            importlib_metadata  pytest              win32evtlog\n",
      "afxres              inflection          pythoncom           win32evtlogutil\n",
      "aifc                iniconfig           pytz                win32file\n",
      "alabaster           inspect             pywin               win32gui\n",
      "anaconda_navigator  intervaltree        pywin32_bootstrap   win32gui_struct\n",
      "anaconda_project    io                  pywin32_testutil    win32help\n",
      "antigravity         ipaddress           pywintypes          win32inet\n",
      "anyio               ipykernel           pywt                win32inetcon\n",
      "appdirs             ipykernel_launcher  pyximport           win32job\n",
      "argh                ipython_genutils    qdarkstyle          win32lz\n",
      "argon2              ipywidgets          qstylizer           win32net\n",
      "argparse            isapi               qtawesome           win32netcon\n",
      "array               isort               qtconsole           win32pdh\n",
      "arrow               isympy              qtpy                win32pdhquery\n",
      "asn1crypto          itertools           queue               win32pdhutil\n",
      "ast                 itsdangerous        quopri              win32pipe\n",
      "astroid             jdcal               random              win32print\n",
      "astropy             jedi                rasutil             win32process\n",
      "async_generator     jinja2              re                  win32profile\n",
      "asynchat            jinja2_time         readline            win32ras\n",
      "asyncio             joblib              regcheck            win32rcparser\n",
      "asyncore            json                regex               win32security\n",
      "atexit              json5               regutil             win32service\n",
      "atomicwrites        jsonschema          repo_cli            win32serviceutil\n",
      "attr                jupyter             reprlib             win32timezone\n",
      "audioop             jupyter_client      requests            win32trace\n",
      "autopep8            jupyter_console     rlcompleter         win32traceutil\n",
      "autoreload          jupyter_core        rmagic              win32transaction\n",
      "babel               jupyter_server      rope                win32ts\n",
      "backcall            jupyterlab          rtree               win32ui\n",
      "backports           jupyterlab_pygments ruamel_yaml         win32uiole\n",
      "base64              jupyterlab_server   run                 win32verstamp\n",
      "bcrypt              jupyterlab_widgets  runpy               win32wnet\n",
      "bdb                 jwt                 sched               win_inet_pton\n",
      "binaryornot         keyring             scipy               win_unicode_console\n",
      "binascii            keyword             scripts             wincertstore\n",
      "binhex              kiwisolver          seaborn             winerror\n",
      "binstar_client      lazy_object_proxy   secrets             winioctlcon\n",
      "bisect              lib2to3             select              winnt\n",
      "bitarray            libarchive          selectors           winperf\n",
      "bkcharts            libfuturize         send2trash          winpty\n",
      "black               libpasteurize       servicemanager      winreg\n",
      "blackd              lief                setuptools          winsound\n",
      "bleach              linecache           shelve              winxpgui\n",
      "blib2to3            llvmlite            shlex               winxptheme\n",
      "bokeh               locale              shutil              wrapt\n",
      "boto                locket              signal              wsgiref\n",
      "bottleneck          logging             simplegeneric       xdrlib\n",
      "brotli              lxml                singledispatch      xlrd\n",
      "bs4                 lzma                sip                 xlsxwriter\n",
      "builtins            mailbox             sipconfig           xlwings\n",
      "bz2                 mailcap             sipdistutils        xlwt\n",
      "cProfile            markupsafe          site                xml\n",
      "cached_property     marshal             six                 xmlrpc\n",
      "calendar            math                skimage             xmltodict\n",
      "certifi             matplotlib          sklearn             xxsubtype\n",
      "cffi                matplotlib_inline   sklearnex           yaml\n",
      "cgi                 mccabe              slugify             yapf\n",
      "cgitb               menuinst            smtpd               yapftests\n",
      "chardet             mimetypes           smtplib             zict\n",
      "charset_normalizer  mistune             sndhdr              zipapp\n",
      "chunk               mkl                 sniffio             zipfile\n",
      "click               mkl_fft             snowballstemmer     zipimport\n",
      "cloudpickle         mkl_random          socket              zipp\n",
      "clyent              mmap                socketserver        zlib\n",
      "cmath               mmapfile            socks               zmq\n",
      "cmd                 mmsystem            sockshandler        zoneinfo\n",
      "code                mock                sortedcollections   zope\n",
      "\n",
      "Enter any module name to get more help.  Or, type \"modules spam\" to search\n",
      "for modules whose name or summary contain the string \"spam\".\n",
      "\n",
      "None\n"
     ]
    }
   ],
   "source": [
    "print(help('modules'))"
   ]
  },
  {
   "cell_type": "code",
   "execution_count": 8,
   "id": "88294a3b",
   "metadata": {
    "ExecuteTime": {
     "end_time": "2022-02-02T15:40:02.102365Z",
     "start_time": "2022-02-02T15:40:02.054Z"
    }
   },
   "outputs": [
    {
     "name": "stdout",
     "output_type": "stream",
     "text": [
      "['__doc__', '__loader__', '__name__', '__package__', '__spec__', 'acos', 'acosh', 'asin', 'asinh', 'atan', 'atan2', 'atanh', 'ceil', 'comb', 'copysign', 'cos', 'cosh', 'degrees', 'dist', 'e', 'erf', 'erfc', 'exp', 'expm1', 'fabs', 'factorial', 'floor', 'fmod', 'frexp', 'fsum', 'gamma', 'gcd', 'hypot', 'inf', 'isclose', 'isfinite', 'isinf', 'isnan', 'isqrt', 'lcm', 'ldexp', 'lgamma', 'log', 'log10', 'log1p', 'log2', 'modf', 'nan', 'nextafter', 'perm', 'pi', 'pow', 'prod', 'radians', 'remainder', 'sin', 'sinh', 'sqrt', 'tan', 'tanh', 'tau', 'trunc', 'ulp']\n"
     ]
    }
   ],
   "source": [
    "print(dir(math))"
   ]
  },
  {
   "cell_type": "markdown",
   "id": "e6c8292f",
   "metadata": {},
   "source": [
    "# ---------------------------------------------------------------"
   ]
  },
  {
   "cell_type": "code",
   "execution_count": null,
   "id": "2a1391c8",
   "metadata": {
    "ExecuteTime": {
     "end_time": "2022-02-02T15:40:02.104372Z",
     "start_time": "2022-02-02T15:40:02.058Z"
    }
   },
   "outputs": [],
   "source": [
    "print(dir())"
   ]
  },
  {
   "cell_type": "code",
   "execution_count": null,
   "id": "8f1849f2",
   "metadata": {
    "ExecuteTime": {
     "end_time": "2022-02-02T15:40:02.106197Z",
     "start_time": "2022-02-02T15:40:02.061Z"
    }
   },
   "outputs": [],
   "source": [
    "# math.sqrt(4)"
   ]
  },
  {
   "cell_type": "code",
   "execution_count": null,
   "id": "ecf64b6b",
   "metadata": {
    "ExecuteTime": {
     "end_time": "2022-02-02T15:40:02.113438Z",
     "start_time": "2022-02-02T15:40:02.064Z"
    }
   },
   "outputs": [],
   "source": [
    "import math\n",
    "math.sqrt(4)"
   ]
  },
  {
   "cell_type": "code",
   "execution_count": null,
   "id": "a1b28369",
   "metadata": {
    "ExecuteTime": {
     "end_time": "2022-02-02T15:40:02.118012Z",
     "start_time": "2022-02-02T15:40:02.067Z"
    }
   },
   "outputs": [],
   "source": [
    "print(dir())"
   ]
  },
  {
   "cell_type": "markdown",
   "id": "9bb09225",
   "metadata": {},
   "source": [
    "# -----------------------------Restarting the kernel----------------------------------"
   ]
  },
  {
   "cell_type": "code",
   "execution_count": null,
   "id": "baa7358f",
   "metadata": {
    "ExecuteTime": {
     "end_time": "2022-02-02T15:40:02.120740Z",
     "start_time": "2022-02-02T15:40:02.076Z"
    }
   },
   "outputs": [],
   "source": [
    "print(dir())"
   ]
  },
  {
   "cell_type": "code",
   "execution_count": null,
   "id": "34e21215",
   "metadata": {
    "ExecuteTime": {
     "end_time": "2022-02-02T15:40:02.123856Z",
     "start_time": "2022-02-02T15:40:02.079Z"
    }
   },
   "outputs": [],
   "source": [
    "import my_math\n",
    "print(my_math.add(10, 20))"
   ]
  },
  {
   "cell_type": "code",
   "execution_count": null,
   "id": "3912f6d8",
   "metadata": {
    "ExecuteTime": {
     "end_time": "2022-02-02T15:40:02.125906Z",
     "start_time": "2022-02-02T15:40:02.082Z"
    }
   },
   "outputs": [],
   "source": [
    "print(dir())"
   ]
  },
  {
   "cell_type": "code",
   "execution_count": null,
   "id": "d7ea8fa9",
   "metadata": {
    "ExecuteTime": {
     "end_time": "2022-02-02T15:40:02.127981Z",
     "start_time": "2022-02-02T15:40:02.085Z"
    }
   },
   "outputs": [],
   "source": [
    "print(dir(my_math))"
   ]
  },
  {
   "cell_type": "code",
   "execution_count": null,
   "id": "8d655f46",
   "metadata": {
    "ExecuteTime": {
     "end_time": "2022-02-02T15:40:02.134876Z",
     "start_time": "2022-02-02T15:40:02.091Z"
    }
   },
   "outputs": [],
   "source": [
    "import my_math"
   ]
  },
  {
   "cell_type": "code",
   "execution_count": null,
   "id": "7a8f8f04",
   "metadata": {
    "ExecuteTime": {
     "end_time": "2022-02-02T15:40:02.137400Z",
     "start_time": "2022-02-02T15:40:02.095Z"
    }
   },
   "outputs": [],
   "source": [
    "print(dir(my_math))"
   ]
  },
  {
   "cell_type": "code",
   "execution_count": null,
   "id": "b24dba40",
   "metadata": {
    "ExecuteTime": {
     "end_time": "2022-02-02T15:40:02.141891Z",
     "start_time": "2022-02-02T15:40:02.099Z"
    }
   },
   "outputs": [],
   "source": [
    "my_math.dom(9,8)"
   ]
  },
  {
   "cell_type": "code",
   "execution_count": null,
   "id": "0abfe455",
   "metadata": {
    "ExecuteTime": {
     "end_time": "2022-02-02T15:40:02.144792Z",
     "start_time": "2022-02-02T15:40:02.102Z"
    }
   },
   "outputs": [],
   "source": [
    "Literals and idenitifer, Operators\n",
    "Expression and Statement\n",
    "# Block and Function\n",
    "# Module\n",
    "# Packages/library\n"
   ]
  },
  {
   "cell_type": "code",
   "execution_count": null,
   "id": "bcf70e61",
   "metadata": {
    "ExecuteTime": {
     "end_time": "2022-02-02T15:40:02.146970Z",
     "start_time": "2022-02-02T15:40:02.105Z"
    }
   },
   "outputs": [],
   "source": [
    "print(dir(my_math))"
   ]
  },
  {
   "cell_type": "code",
   "execution_count": null,
   "id": "59706c68",
   "metadata": {
    "ExecuteTime": {
     "end_time": "2022-02-02T15:40:02.149053Z",
     "start_time": "2022-02-02T15:40:02.108Z"
    }
   },
   "outputs": [],
   "source": [
    "import my_math"
   ]
  },
  {
   "cell_type": "code",
   "execution_count": null,
   "id": "03b4b97d",
   "metadata": {
    "ExecuteTime": {
     "end_time": "2022-02-02T15:40:02.156151Z",
     "start_time": "2022-02-02T15:40:02.112Z"
    }
   },
   "outputs": [],
   "source": [
    "print(dir(my_math))"
   ]
  },
  {
   "cell_type": "markdown",
   "id": "f9b4bea8",
   "metadata": {},
   "source": [
    "# -----------------------------Restarting the kernel----------------------------------"
   ]
  },
  {
   "cell_type": "code",
   "execution_count": null,
   "id": "76acbeb0",
   "metadata": {
    "ExecuteTime": {
     "end_time": "2022-02-02T15:40:02.160034Z",
     "start_time": "2022-02-02T15:40:02.116Z"
    }
   },
   "outputs": [],
   "source": [
    "print(dir())"
   ]
  },
  {
   "cell_type": "code",
   "execution_count": null,
   "id": "d4676472",
   "metadata": {
    "ExecuteTime": {
     "end_time": "2022-02-02T15:40:02.162449Z",
     "start_time": "2022-02-02T15:40:02.119Z"
    }
   },
   "outputs": [],
   "source": [
    "# sqrt(4)"
   ]
  },
  {
   "cell_type": "code",
   "execution_count": 7,
   "id": "3bf6651f",
   "metadata": {
    "ExecuteTime": {
     "end_time": "2022-02-02T15:40:02.198905Z",
     "start_time": "2022-02-02T15:40:02.192931Z"
    }
   },
   "outputs": [
    {
     "name": "stdout",
     "output_type": "stream",
     "text": [
      "['In', 'Out', '_', '__', '___', '__builtin__', '__builtins__', '__doc__', '__loader__', '__name__', '__package__', '__spec__', '_dh', '_i', '_i1', '_i2', '_i3', '_i4', '_i5', '_i6', '_i7', '_ih', '_ii', '_iii', '_oh', 'exit', 'get_ipython', 'math', 'my_math', 'quit']\n"
     ]
    }
   ],
   "source": [
    "import math\n",
    "print(dir())"
   ]
  },
  {
   "cell_type": "code",
   "execution_count": 8,
   "id": "2d64c3a4",
   "metadata": {
    "ExecuteTime": {
     "end_time": "2022-02-02T15:40:02.208783Z",
     "start_time": "2022-02-02T15:40:02.203286Z"
    }
   },
   "outputs": [
    {
     "name": "stdout",
     "output_type": "stream",
     "text": [
      "['__doc__', '__file__', '__loader__', '__name__', '__package__', '__spec__', 'acos', 'acosh', 'asin', 'asinh', 'atan', 'atan2', 'atanh', 'ceil', 'comb', 'copysign', 'cos', 'cosh', 'degrees', 'dist', 'e', 'erf', 'erfc', 'exp', 'expm1', 'fabs', 'factorial', 'floor', 'fmod', 'frexp', 'fsum', 'gamma', 'gcd', 'hypot', 'inf', 'isclose', 'isfinite', 'isinf', 'isnan', 'isqrt', 'ldexp', 'lgamma', 'log', 'log10', 'log1p', 'log2', 'modf', 'nan', 'perm', 'pi', 'pow', 'prod', 'radians', 'remainder', 'sin', 'sinh', 'sqrt', 'tan', 'tanh', 'tau', 'trunc']\n"
     ]
    }
   ],
   "source": [
    "print(dir(math))"
   ]
  },
  {
   "cell_type": "code",
   "execution_count": 9,
   "id": "836c7fd6",
   "metadata": {
    "ExecuteTime": {
     "end_time": "2022-02-02T15:40:02.247107Z",
     "start_time": "2022-02-02T15:40:02.215687Z"
    }
   },
   "outputs": [
    {
     "data": {
      "text/plain": [
       "2.0"
      ]
     },
     "execution_count": 9,
     "metadata": {},
     "output_type": "execute_result"
    }
   ],
   "source": [
    "math.sqrt(4)"
   ]
  },
  {
   "cell_type": "markdown",
   "id": "dbad343d",
   "metadata": {},
   "source": [
    "# -----------------------------Restarting the kernel----------------------------------"
   ]
  },
  {
   "cell_type": "code",
   "execution_count": 10,
   "id": "35c728a6",
   "metadata": {
    "ExecuteTime": {
     "end_time": "2022-02-02T15:40:02.264742Z",
     "start_time": "2022-02-02T15:40:02.258266Z"
    }
   },
   "outputs": [
    {
     "name": "stdout",
     "output_type": "stream",
     "text": [
      "['In', 'Out', '_', '_9', '__', '___', '__builtin__', '__builtins__', '__doc__', '__loader__', '__name__', '__package__', '__spec__', '_dh', '_i', '_i1', '_i10', '_i2', '_i3', '_i4', '_i5', '_i6', '_i7', '_i8', '_i9', '_ih', '_ii', '_iii', '_oh', 'exit', 'get_ipython', 'math', 'my_math', 'quit']\n"
     ]
    }
   ],
   "source": [
    "print(dir())"
   ]
  },
  {
   "cell_type": "code",
   "execution_count": 11,
   "id": "5be3ca6e",
   "metadata": {
    "ExecuteTime": {
     "end_time": "2022-02-02T15:40:02.279170Z",
     "start_time": "2022-02-02T15:40:02.269634Z"
    }
   },
   "outputs": [
    {
     "name": "stdout",
     "output_type": "stream",
     "text": [
      "['In', 'Out', '_', '_9', '__', '___', '__builtin__', '__builtins__', '__doc__', '__loader__', '__name__', '__package__', '__spec__', '_dh', '_i', '_i1', '_i10', '_i11', '_i2', '_i3', '_i4', '_i5', '_i6', '_i7', '_i8', '_i9', '_ih', '_ii', '_iii', '_oh', 'exit', 'get_ipython', 'math', 'my_math', 'quit', 'sqrt']\n"
     ]
    }
   ],
   "source": [
    "from math import sqrt\n",
    "print(dir())"
   ]
  },
  {
   "cell_type": "code",
   "execution_count": 12,
   "id": "94b553f1",
   "metadata": {
    "ExecuteTime": {
     "end_time": "2022-02-02T15:40:02.290736Z",
     "start_time": "2022-02-02T15:40:02.282941Z"
    }
   },
   "outputs": [
    {
     "name": "stdout",
     "output_type": "stream",
     "text": [
      "2.0\n"
     ]
    }
   ],
   "source": [
    "print(sqrt(4))"
   ]
  },
  {
   "cell_type": "code",
   "execution_count": 13,
   "id": "c6a97d72",
   "metadata": {
    "ExecuteTime": {
     "end_time": "2022-02-02T15:40:02.300737Z",
     "start_time": "2022-02-02T15:40:02.295588Z"
    }
   },
   "outputs": [],
   "source": [
    "# math.sqrt(4)"
   ]
  },
  {
   "cell_type": "markdown",
   "id": "295ae748",
   "metadata": {},
   "source": [
    "# -----------------------------Restarting the kernel----------------------------------"
   ]
  },
  {
   "cell_type": "code",
   "execution_count": 14,
   "id": "8f9147cd",
   "metadata": {
    "ExecuteTime": {
     "end_time": "2022-02-02T15:40:02.316290Z",
     "start_time": "2022-02-02T15:40:02.305451Z"
    }
   },
   "outputs": [
    {
     "name": "stdout",
     "output_type": "stream",
     "text": [
      "['In', 'Out', '_', '_9', '__', '___', '__builtin__', '__builtins__', '__doc__', '__loader__', '__name__', '__package__', '__spec__', '_dh', '_i', '_i1', '_i10', '_i11', '_i12', '_i13', '_i14', '_i2', '_i3', '_i4', '_i5', '_i6', '_i7', '_i8', '_i9', '_ih', '_ii', '_iii', '_oh', 'exit', 'get_ipython', 'math', 'my_math', 'quit', 'sqrt']\n"
     ]
    }
   ],
   "source": [
    "print(dir())\n",
    "from my_math import a, mul"
   ]
  },
  {
   "cell_type": "code",
   "execution_count": 15,
   "id": "ffcd44e5",
   "metadata": {
    "ExecuteTime": {
     "end_time": "2022-02-02T15:40:02.330753Z",
     "start_time": "2022-02-02T15:40:02.324359Z"
    }
   },
   "outputs": [
    {
     "name": "stdout",
     "output_type": "stream",
     "text": [
      "['In', 'Out', '_', '_9', '__', '___', '__builtin__', '__builtins__', '__doc__', '__loader__', '__name__', '__package__', '__spec__', '_dh', '_i', '_i1', '_i10', '_i11', '_i12', '_i13', '_i14', '_i15', '_i2', '_i3', '_i4', '_i5', '_i6', '_i7', '_i8', '_i9', '_ih', '_ii', '_iii', '_oh', 'a', 'exit', 'get_ipython', 'math', 'mul', 'my_math', 'quit', 'sqrt']\n"
     ]
    }
   ],
   "source": [
    "print(dir())"
   ]
  },
  {
   "cell_type": "code",
   "execution_count": 16,
   "id": "1cb9106c",
   "metadata": {
    "ExecuteTime": {
     "end_time": "2022-02-02T15:40:02.346245Z",
     "start_time": "2022-02-02T15:40:02.339254Z"
    }
   },
   "outputs": [
    {
     "name": "stdout",
     "output_type": "stream",
     "text": [
      "10\n"
     ]
    }
   ],
   "source": [
    "print(a)"
   ]
  },
  {
   "cell_type": "code",
   "execution_count": 17,
   "id": "82a1a10d",
   "metadata": {
    "ExecuteTime": {
     "end_time": "2022-02-02T15:40:02.363302Z",
     "start_time": "2022-02-02T15:40:02.354591Z"
    }
   },
   "outputs": [
    {
     "name": "stdout",
     "output_type": "stream",
     "text": [
      "72\n"
     ]
    }
   ],
   "source": [
    "print(mul(9, 8))"
   ]
  },
  {
   "cell_type": "code",
   "execution_count": 18,
   "id": "6f1f5710",
   "metadata": {
    "ExecuteTime": {
     "end_time": "2022-02-02T15:40:02.377742Z",
     "start_time": "2022-02-02T15:40:02.367129Z"
    }
   },
   "outputs": [
    {
     "name": "stdout",
     "output_type": "stream",
     "text": [
      "['In', 'Out', '_', '_9', '__', '___', '__builtin__', '__builtins__', '__doc__', '__loader__', '__name__', '__package__', '__spec__', '_dh', '_i', '_i1', '_i10', '_i11', '_i12', '_i13', '_i14', '_i15', '_i16', '_i17', '_i18', '_i2', '_i3', '_i4', '_i5', '_i6', '_i7', '_i8', '_i9', '_ih', '_ii', '_iii', '_oh', 'a', 'exit', 'get_ipython', 'math', 'mul', 'my_math', 'prod', 'quit', 'sqrt']\n"
     ]
    }
   ],
   "source": [
    "from math import prod\n",
    "print(dir())"
   ]
  },
  {
   "cell_type": "code",
   "execution_count": 19,
   "id": "a008f64d",
   "metadata": {
    "ExecuteTime": {
     "end_time": "2022-02-02T15:40:02.389032Z",
     "start_time": "2022-02-02T15:40:02.381563Z"
    }
   },
   "outputs": [
    {
     "name": "stdout",
     "output_type": "stream",
     "text": [
      "240000\n"
     ]
    }
   ],
   "source": [
    "print(prod([10,20,30,40]))"
   ]
  },
  {
   "cell_type": "markdown",
   "id": "ce055de6",
   "metadata": {},
   "source": [
    "# -----------------------------Restarting the kernel----------------------------------"
   ]
  },
  {
   "cell_type": "code",
   "execution_count": 20,
   "id": "3d79854d",
   "metadata": {
    "ExecuteTime": {
     "end_time": "2022-02-02T15:40:02.401517Z",
     "start_time": "2022-02-02T15:40:02.394347Z"
    }
   },
   "outputs": [
    {
     "name": "stdout",
     "output_type": "stream",
     "text": [
      "['In', 'Out', '_', '_9', '__', '___', '__builtin__', '__builtins__', '__doc__', '__loader__', '__name__', '__package__', '__spec__', '_dh', '_i', '_i1', '_i10', '_i11', '_i12', '_i13', '_i14', '_i15', '_i16', '_i17', '_i18', '_i19', '_i2', '_i20', '_i3', '_i4', '_i5', '_i6', '_i7', '_i8', '_i9', '_ih', '_ii', '_iii', '_oh', 'a', 'exit', 'get_ipython', 'math', 'mul', 'my_math', 'prod', 'quit', 'sqrt']\n"
     ]
    }
   ],
   "source": [
    "print(dir())\n",
    "import math as m"
   ]
  },
  {
   "cell_type": "code",
   "execution_count": 21,
   "id": "cdaad222",
   "metadata": {
    "ExecuteTime": {
     "end_time": "2022-02-02T15:40:02.417676Z",
     "start_time": "2022-02-02T15:40:02.407011Z"
    }
   },
   "outputs": [
    {
     "name": "stdout",
     "output_type": "stream",
     "text": [
      "['In', 'Out', '_', '_9', '__', '___', '__builtin__', '__builtins__', '__doc__', '__loader__', '__name__', '__package__', '__spec__', '_dh', '_i', '_i1', '_i10', '_i11', '_i12', '_i13', '_i14', '_i15', '_i16', '_i17', '_i18', '_i19', '_i2', '_i20', '_i21', '_i3', '_i4', '_i5', '_i6', '_i7', '_i8', '_i9', '_ih', '_ii', '_iii', '_oh', 'a', 'exit', 'get_ipython', 'm', 'math', 'mul', 'my_math', 'prod', 'quit', 'sqrt']\n"
     ]
    }
   ],
   "source": [
    "print(dir())"
   ]
  },
  {
   "cell_type": "code",
   "execution_count": 22,
   "id": "fe16a93d",
   "metadata": {
    "ExecuteTime": {
     "end_time": "2022-02-02T15:40:02.436373Z",
     "start_time": "2022-02-02T15:40:02.426028Z"
    }
   },
   "outputs": [
    {
     "data": {
      "text/plain": [
       "1.4142135623730951"
      ]
     },
     "execution_count": 22,
     "metadata": {},
     "output_type": "execute_result"
    }
   ],
   "source": [
    "m.sqrt(2)"
   ]
  },
  {
   "cell_type": "markdown",
   "id": "ce281f4a",
   "metadata": {},
   "source": [
    "# -----------------------------Restarting the kernel----------------------------------"
   ]
  },
  {
   "cell_type": "code",
   "execution_count": 23,
   "id": "6c3285a0",
   "metadata": {
    "ExecuteTime": {
     "end_time": "2022-02-02T15:40:02.447495Z",
     "start_time": "2022-02-02T15:40:02.440112Z"
    }
   },
   "outputs": [
    {
     "name": "stdout",
     "output_type": "stream",
     "text": [
      "['In', 'Out', '_', '_22', '_9', '__', '___', '__builtin__', '__builtins__', '__doc__', '__loader__', '__name__', '__package__', '__spec__', '_dh', '_i', '_i1', '_i10', '_i11', '_i12', '_i13', '_i14', '_i15', '_i16', '_i17', '_i18', '_i19', '_i2', '_i20', '_i21', '_i22', '_i23', '_i3', '_i4', '_i5', '_i6', '_i7', '_i8', '_i9', '_ih', '_ii', '_iii', '_oh', 'a', 'exit', 'get_ipython', 'm', 'math', 'mul', 'my_math', 'prod', 'quit', 'sqrt']\n"
     ]
    }
   ],
   "source": [
    "print(dir())"
   ]
  },
  {
   "cell_type": "code",
   "execution_count": 24,
   "id": "8649b055",
   "metadata": {
    "ExecuteTime": {
     "end_time": "2022-02-02T15:40:02.458658Z",
     "start_time": "2022-02-02T15:40:02.452201Z"
    }
   },
   "outputs": [],
   "source": [
    "# from math import *\n",
    "# from numpy import *\n",
    "# from pandas import *\n",
    "# from matplotlib.pyplot import *\n",
    "# print(dir())"
   ]
  },
  {
   "cell_type": "code",
   "execution_count": 25,
   "id": "ee354194",
   "metadata": {
    "ExecuteTime": {
     "end_time": "2022-02-02T15:40:02.473128Z",
     "start_time": "2022-02-02T15:40:02.464177Z"
    }
   },
   "outputs": [
    {
     "name": "stdout",
     "output_type": "stream",
     "text": [
      "['__doc__', '__file__', '__loader__', '__name__', '__package__', '__spec__', 'acos', 'acosh', 'asin', 'asinh', 'atan', 'atan2', 'atanh', 'ceil', 'comb', 'copysign', 'cos', 'cosh', 'degrees', 'dist', 'e', 'erf', 'erfc', 'exp', 'expm1', 'fabs', 'factorial', 'floor', 'fmod', 'frexp', 'fsum', 'gamma', 'gcd', 'hypot', 'inf', 'isclose', 'isfinite', 'isinf', 'isnan', 'isqrt', 'ldexp', 'lgamma', 'log', 'log10', 'log1p', 'log2', 'modf', 'nan', 'perm', 'pi', 'pow', 'prod', 'radians', 'remainder', 'sin', 'sinh', 'sqrt', 'tan', 'tanh', 'tau', 'trunc']\n"
     ]
    }
   ],
   "source": [
    "import math\n",
    "print(dir(math))"
   ]
  },
  {
   "cell_type": "code",
   "execution_count": 26,
   "id": "14c9d865",
   "metadata": {
    "ExecuteTime": {
     "end_time": "2022-02-02T15:40:02.721665Z",
     "start_time": "2022-02-02T15:40:02.477461Z"
    }
   },
   "outputs": [],
   "source": [
    "import numpy as np"
   ]
  },
  {
   "cell_type": "code",
   "execution_count": 27,
   "id": "4d49e6e6",
   "metadata": {
    "ExecuteTime": {
     "end_time": "2022-02-02T15:40:02.737440Z",
     "start_time": "2022-02-02T15:40:02.725982Z"
    }
   },
   "outputs": [
    {
     "name": "stdout",
     "output_type": "stream",
     "text": [
      "['ALLOW_THREADS', 'AxisError', 'BUFSIZE', 'Bytes0', 'CLIP', 'ComplexWarning', 'DataSource', 'Datetime64', 'ERR_CALL', 'ERR_DEFAULT', 'ERR_IGNORE', 'ERR_LOG', 'ERR_PRINT', 'ERR_RAISE', 'ERR_WARN', 'FLOATING_POINT_SUPPORT', 'FPE_DIVIDEBYZERO', 'FPE_INVALID', 'FPE_OVERFLOW', 'FPE_UNDERFLOW', 'False_', 'Inf', 'Infinity', 'MAXDIMS', 'MAY_SHARE_BOUNDS', 'MAY_SHARE_EXACT', 'MachAr', 'ModuleDeprecationWarning', 'NAN', 'NINF', 'NZERO', 'NaN', 'PINF', 'PZERO', 'RAISE', 'RankWarning', 'SHIFT_DIVIDEBYZERO', 'SHIFT_INVALID', 'SHIFT_OVERFLOW', 'SHIFT_UNDERFLOW', 'ScalarType', 'Str0', 'Tester', 'TooHardError', 'True_', 'UFUNC_BUFSIZE_DEFAULT', 'UFUNC_PYVALS_NAME', 'Uint64', 'VisibleDeprecationWarning', 'WRAP', '_NoValue', '_UFUNC_API', '__NUMPY_SETUP__', '__all__', '__builtins__', '__cached__', '__config__', '__deprecated_attrs__', '__dir__', '__doc__', '__expired_functions__', '__file__', '__getattr__', '__git_revision__', '__loader__', '__name__', '__package__', '__path__', '__spec__', '__version__', '_add_newdoc_ufunc', '_distributor_init', '_financial_names', '_globals', '_mat', '_pytesttester', 'abs', 'absolute', 'add', 'add_docstring', 'add_newdoc', 'add_newdoc_ufunc', 'alen', 'all', 'allclose', 'alltrue', 'amax', 'amin', 'angle', 'any', 'append', 'apply_along_axis', 'apply_over_axes', 'arange', 'arccos', 'arccosh', 'arcsin', 'arcsinh', 'arctan', 'arctan2', 'arctanh', 'argmax', 'argmin', 'argpartition', 'argsort', 'argwhere', 'around', 'array', 'array2string', 'array_equal', 'array_equiv', 'array_repr', 'array_split', 'array_str', 'asanyarray', 'asarray', 'asarray_chkfinite', 'ascontiguousarray', 'asfarray', 'asfortranarray', 'asmatrix', 'asscalar', 'atleast_1d', 'atleast_2d', 'atleast_3d', 'average', 'bartlett', 'base_repr', 'binary_repr', 'bincount', 'bitwise_and', 'bitwise_not', 'bitwise_or', 'bitwise_xor', 'blackman', 'block', 'bmat', 'bool8', 'bool_', 'broadcast', 'broadcast_arrays', 'broadcast_shapes', 'broadcast_to', 'busday_count', 'busday_offset', 'busdaycalendar', 'byte', 'byte_bounds', 'bytes0', 'bytes_', 'c_', 'can_cast', 'cast', 'cbrt', 'cdouble', 'ceil', 'cfloat', 'char', 'character', 'chararray', 'choose', 'clip', 'clongdouble', 'clongfloat', 'column_stack', 'common_type', 'compare_chararrays', 'compat', 'complex128', 'complex256', 'complex64', 'complex_', 'complexfloating', 'compress', 'concatenate', 'conj', 'conjugate', 'convolve', 'copy', 'copysign', 'copyto', 'core', 'corrcoef', 'correlate', 'cos', 'cosh', 'count_nonzero', 'cov', 'cross', 'csingle', 'ctypeslib', 'cumprod', 'cumproduct', 'cumsum', 'datetime64', 'datetime_as_string', 'datetime_data', 'deg2rad', 'degrees', 'delete', 'deprecate', 'deprecate_with_doc', 'diag', 'diag_indices', 'diag_indices_from', 'diagflat', 'diagonal', 'diff', 'digitize', 'disp', 'divide', 'divmod', 'dot', 'double', 'dsplit', 'dstack', 'dtype', 'e', 'ediff1d', 'einsum', 'einsum_path', 'emath', 'empty', 'empty_like', 'equal', 'error_message', 'errstate', 'euler_gamma', 'exp', 'exp2', 'expand_dims', 'expm1', 'extract', 'eye', 'fabs', 'fastCopyAndTranspose', 'fft', 'fill_diagonal', 'find_common_type', 'finfo', 'fix', 'flatiter', 'flatnonzero', 'flexible', 'flip', 'fliplr', 'flipud', 'float128', 'float16', 'float32', 'float64', 'float_', 'float_power', 'floating', 'floor', 'floor_divide', 'fmax', 'fmin', 'fmod', 'format_float_positional', 'format_float_scientific', 'format_parser', 'frexp', 'frombuffer', 'fromfile', 'fromfunction', 'fromiter', 'frompyfunc', 'fromregex', 'fromstring', 'full', 'full_like', 'gcd', 'generic', 'genfromtxt', 'geomspace', 'get_array_wrap', 'get_include', 'get_printoptions', 'getbufsize', 'geterr', 'geterrcall', 'geterrobj', 'gradient', 'greater', 'greater_equal', 'half', 'hamming', 'hanning', 'heaviside', 'histogram', 'histogram2d', 'histogram_bin_edges', 'histogramdd', 'hsplit', 'hstack', 'hypot', 'i0', 'identity', 'iinfo', 'imag', 'in1d', 'index_exp', 'indices', 'inexact', 'inf', 'info', 'infty', 'inner', 'insert', 'int0', 'int16', 'int32', 'int64', 'int8', 'int_', 'intc', 'integer', 'interp', 'intersect1d', 'intp', 'invert', 'is_busday', 'isclose', 'iscomplex', 'iscomplexobj', 'isfinite', 'isfortran', 'isin', 'isinf', 'isnan', 'isnat', 'isneginf', 'isposinf', 'isreal', 'isrealobj', 'isscalar', 'issctype', 'issubclass_', 'issubdtype', 'issubsctype', 'iterable', 'ix_', 'kaiser', 'kron', 'lcm', 'ldexp', 'left_shift', 'less', 'less_equal', 'lexsort', 'lib', 'linalg', 'linspace', 'little_endian', 'load', 'loads', 'loadtxt', 'log', 'log10', 'log1p', 'log2', 'logaddexp', 'logaddexp2', 'logical_and', 'logical_not', 'logical_or', 'logical_xor', 'logspace', 'longcomplex', 'longdouble', 'longfloat', 'longlong', 'lookfor', 'ma', 'mafromtxt', 'mask_indices', 'mat', 'math', 'matmul', 'matrix', 'matrixlib', 'max', 'maximum', 'maximum_sctype', 'may_share_memory', 'mean', 'median', 'memmap', 'meshgrid', 'mgrid', 'min', 'min_scalar_type', 'minimum', 'mintypecode', 'mod', 'modf', 'moveaxis', 'msort', 'multiply', 'nan', 'nan_to_num', 'nanargmax', 'nanargmin', 'nancumprod', 'nancumsum', 'nanmax', 'nanmean', 'nanmedian', 'nanmin', 'nanpercentile', 'nanprod', 'nanquantile', 'nanstd', 'nansum', 'nanvar', 'nbytes', 'ndarray', 'ndenumerate', 'ndfromtxt', 'ndim', 'ndindex', 'nditer', 'negative', 'nested_iters', 'newaxis', 'nextafter', 'nonzero', 'not_equal', 'numarray', 'number', 'obj2sctype', 'object0', 'object_', 'ogrid', 'oldnumeric', 'ones', 'ones_like', 'os', 'outer', 'packbits', 'pad', 'partition', 'percentile', 'pi', 'piecewise', 'place', 'poly', 'poly1d', 'polyadd', 'polyder', 'polydiv', 'polyfit', 'polyint', 'polymul', 'polynomial', 'polysub', 'polyval', 'positive', 'power', 'printoptions', 'prod', 'product', 'promote_types', 'ptp', 'put', 'put_along_axis', 'putmask', 'quantile', 'r_', 'rad2deg', 'radians', 'random', 'ravel', 'ravel_multi_index', 'real', 'real_if_close', 'rec', 'recarray', 'recfromcsv', 'recfromtxt', 'reciprocal', 'record', 'remainder', 'repeat', 'require', 'reshape', 'resize', 'result_type', 'right_shift', 'rint', 'roll', 'rollaxis', 'roots', 'rot90', 'round', 'round_', 'row_stack', 's_', 'safe_eval', 'save', 'savetxt', 'savez', 'savez_compressed', 'sctype2char', 'sctypeDict', 'sctypes', 'searchsorted', 'select', 'set_numeric_ops', 'set_printoptions', 'set_string_function', 'setbufsize', 'setdiff1d', 'seterr', 'seterrcall', 'seterrobj', 'setxor1d', 'shape', 'shares_memory', 'short', 'show_config', 'sign', 'signbit', 'signedinteger', 'sin', 'sinc', 'single', 'singlecomplex', 'sinh', 'size', 'sometrue', 'sort', 'sort_complex', 'source', 'spacing', 'split', 'sqrt', 'square', 'squeeze', 'stack', 'std', 'str0', 'str_', 'string_', 'subtract', 'sum', 'swapaxes', 'sys', 'take', 'take_along_axis', 'tan', 'tanh', 'tensordot', 'test', 'testing', 'tile', 'timedelta64', 'trace', 'tracemalloc_domain', 'transpose', 'trapz', 'tri', 'tril', 'tril_indices', 'tril_indices_from', 'trim_zeros', 'triu', 'triu_indices', 'triu_indices_from', 'true_divide', 'trunc', 'typeDict', 'typecodes', 'typename', 'ubyte', 'ufunc', 'uint', 'uint0', 'uint16', 'uint32', 'uint64', 'uint8', 'uintc', 'uintp', 'ulonglong', 'unicode_', 'union1d', 'unique', 'unpackbits', 'unravel_index', 'unsignedinteger', 'unwrap', 'use_hugepage', 'ushort', 'vander', 'var', 'vdot', 'vectorize', 'version', 'void', 'void0', 'vsplit', 'vstack', 'w', 'warnings', 'where', 'who', 'zeros', 'zeros_like']\n"
     ]
    }
   ],
   "source": [
    "print(dir(np))"
   ]
  },
  {
   "cell_type": "code",
   "execution_count": 28,
   "id": "c8537517",
   "metadata": {
    "ExecuteTime": {
     "end_time": "2022-02-02T15:40:02.755077Z",
     "start_time": "2022-02-02T15:40:02.740806Z"
    }
   },
   "outputs": [
    {
     "name": "stdout",
     "output_type": "stream",
     "text": [
      "20\n"
     ]
    }
   ],
   "source": [
    "a = 10\n",
    "a = 20\n",
    "print(a)"
   ]
  },
  {
   "cell_type": "markdown",
   "id": "5fca1a2b",
   "metadata": {},
   "source": [
    "# -----------------------------Restarting the kernel----------------------------------"
   ]
  },
  {
   "cell_type": "code",
   "execution_count": 29,
   "id": "c5f219c4",
   "metadata": {
    "ExecuteTime": {
     "end_time": "2022-02-02T15:40:02.770580Z",
     "start_time": "2022-02-02T15:40:02.763142Z"
    }
   },
   "outputs": [
    {
     "name": "stdout",
     "output_type": "stream",
     "text": [
      "['In', 'Out', '_', '_22', '_9', '__', '___', '__builtin__', '__builtins__', '__doc__', '__loader__', '__name__', '__package__', '__spec__', '_dh', '_i', '_i1', '_i10', '_i11', '_i12', '_i13', '_i14', '_i15', '_i16', '_i17', '_i18', '_i19', '_i2', '_i20', '_i21', '_i22', '_i23', '_i24', '_i25', '_i26', '_i27', '_i28', '_i29', '_i3', '_i4', '_i5', '_i6', '_i7', '_i8', '_i9', '_ih', '_ii', '_iii', '_oh', 'a', 'exit', 'get_ipython', 'm', 'math', 'mul', 'my_math', 'np', 'prod', 'quit', 'sqrt']\n"
     ]
    }
   ],
   "source": [
    "print(dir())"
   ]
  },
  {
   "cell_type": "code",
   "execution_count": 30,
   "id": "e3e77b0d",
   "metadata": {
    "ExecuteTime": {
     "end_time": "2022-02-02T15:40:02.794372Z",
     "start_time": "2022-02-02T15:40:02.780185Z"
    }
   },
   "outputs": [
    {
     "name": "stdout",
     "output_type": "stream",
     "text": [
      "['In', 'Out', '_', '_22', '_9', '__', '___', '__builtin__', '__builtins__', '__doc__', '__loader__', '__name__', '__package__', '__spec__', '_dh', '_i', '_i1', '_i10', '_i11', '_i12', '_i13', '_i14', '_i15', '_i16', '_i17', '_i18', '_i19', '_i2', '_i20', '_i21', '_i22', '_i23', '_i24', '_i25', '_i26', '_i27', '_i28', '_i29', '_i3', '_i30', '_i4', '_i5', '_i6', '_i7', '_i8', '_i9', '_ih', '_ii', '_iii', '_oh', 'a', 'exit', 'get_ipython', 'm', 'math', 'mul', 'my_math', 'np', 'prod', 'quit', 'sqrt']\n"
     ]
    }
   ],
   "source": [
    "import my_math\n",
    "print(dir())"
   ]
  },
  {
   "cell_type": "code",
   "execution_count": 31,
   "id": "da046d76",
   "metadata": {
    "ExecuteTime": {
     "end_time": "2022-02-02T15:40:02.808261Z",
     "start_time": "2022-02-02T15:40:02.798342Z"
    }
   },
   "outputs": [
    {
     "data": {
      "text/plain": [
       "30"
      ]
     },
     "execution_count": 31,
     "metadata": {},
     "output_type": "execute_result"
    }
   ],
   "source": [
    "my_math.add(10,20)"
   ]
  },
  {
   "cell_type": "code",
   "execution_count": 32,
   "id": "39f3455c",
   "metadata": {
    "ExecuteTime": {
     "end_time": "2022-02-02T15:40:02.820003Z",
     "start_time": "2022-02-02T15:40:02.814278Z"
    }
   },
   "outputs": [
    {
     "name": "stdout",
     "output_type": "stream",
     "text": [
      "['__builtins__', '__cached__', '__doc__', '__file__', '__loader__', '__name__', '__package__', '__spec__', 'a', 'add', 'b', 'dom', 'floor_div', 'main', 'mod_div', 'mul', 'my_func', 'sub', 'true_div']\n"
     ]
    }
   ],
   "source": [
    "print(dir(my_math))"
   ]
  },
  {
   "cell_type": "code",
   "execution_count": 33,
   "id": "b2a88ca8",
   "metadata": {
    "ExecuteTime": {
     "end_time": "2022-02-02T15:40:02.833563Z",
     "start_time": "2022-02-02T15:40:02.824481Z"
    }
   },
   "outputs": [],
   "source": [
    "# my_math.my_func()"
   ]
  },
  {
   "cell_type": "markdown",
   "id": "41629eff",
   "metadata": {},
   "source": [
    "# -----------------------------Restarting the kernel----------------------------------"
   ]
  },
  {
   "cell_type": "code",
   "execution_count": 34,
   "id": "cb4f87e9",
   "metadata": {
    "ExecuteTime": {
     "end_time": "2022-02-02T15:40:02.857660Z",
     "start_time": "2022-02-02T15:40:02.836984Z"
    }
   },
   "outputs": [
    {
     "name": "stdout",
     "output_type": "stream",
     "text": [
      "['In', 'Out', '_', '_22', '_31', '_9', '__', '___', '__builtin__', '__builtins__', '__doc__', '__loader__', '__name__', '__package__', '__spec__', '_dh', '_i', '_i1', '_i10', '_i11', '_i12', '_i13', '_i14', '_i15', '_i16', '_i17', '_i18', '_i19', '_i2', '_i20', '_i21', '_i22', '_i23', '_i24', '_i25', '_i26', '_i27', '_i28', '_i29', '_i3', '_i30', '_i31', '_i32', '_i33', '_i34', '_i4', '_i5', '_i6', '_i7', '_i8', '_i9', '_ih', '_ii', '_iii', '_oh', 'a', 'exit', 'get_ipython', 'm', 'math', 'mul', 'my_math', 'np', 'prod', 'quit', 'sqrt']\n"
     ]
    }
   ],
   "source": [
    "print(dir())"
   ]
  },
  {
   "cell_type": "code",
   "execution_count": 35,
   "id": "28c98ab5",
   "metadata": {
    "ExecuteTime": {
     "end_time": "2022-02-02T15:40:02.868252Z",
     "start_time": "2022-02-02T15:40:02.862546Z"
    }
   },
   "outputs": [],
   "source": [
    "import my_math"
   ]
  },
  {
   "cell_type": "code",
   "execution_count": 36,
   "id": "c0250cbc",
   "metadata": {
    "ExecuteTime": {
     "end_time": "2022-02-02T15:40:02.888068Z",
     "start_time": "2022-02-02T15:40:02.873237Z"
    }
   },
   "outputs": [
    {
     "name": "stdout",
     "output_type": "stream",
     "text": [
      "['In', 'Out', '_', '_22', '_31', '_9', '__', '___', '__builtin__', '__builtins__', '__doc__', '__loader__', '__name__', '__package__', '__spec__', '_dh', '_i', '_i1', '_i10', '_i11', '_i12', '_i13', '_i14', '_i15', '_i16', '_i17', '_i18', '_i19', '_i2', '_i20', '_i21', '_i22', '_i23', '_i24', '_i25', '_i26', '_i27', '_i28', '_i29', '_i3', '_i30', '_i31', '_i32', '_i33', '_i34', '_i35', '_i36', '_i4', '_i5', '_i6', '_i7', '_i8', '_i9', '_ih', '_ii', '_iii', '_oh', 'a', 'exit', 'get_ipython', 'm', 'math', 'mul', 'my_math', 'np', 'prod', 'quit', 'sqrt']\n"
     ]
    }
   ],
   "source": [
    "print(dir())"
   ]
  },
  {
   "cell_type": "code",
   "execution_count": 37,
   "id": "084e31ee",
   "metadata": {
    "ExecuteTime": {
     "end_time": "2022-02-02T15:40:02.902316Z",
     "start_time": "2022-02-02T15:40:02.891285Z"
    }
   },
   "outputs": [
    {
     "name": "stdout",
     "output_type": "stream",
     "text": [
      "This is a test function\n"
     ]
    }
   ],
   "source": [
    "my_math.my_func()"
   ]
  },
  {
   "cell_type": "code",
   "execution_count": 38,
   "id": "6ecf16fc",
   "metadata": {
    "ExecuteTime": {
     "end_time": "2022-02-02T15:40:02.920030Z",
     "start_time": "2022-02-02T15:40:02.913579Z"
    }
   },
   "outputs": [
    {
     "name": "stdout",
     "output_type": "stream",
     "text": [
      "['__builtins__', '__cached__', '__doc__', '__file__', '__loader__', '__name__', '__package__', '__spec__', 'a', 'add', 'b', 'dom', 'floor_div', 'main', 'mod_div', 'mul', 'my_func', 'sub', 'true_div']\n"
     ]
    }
   ],
   "source": [
    "print(dir(my_math))"
   ]
  },
  {
   "cell_type": "markdown",
   "id": "807966d1",
   "metadata": {},
   "source": [
    "# -----------------------------Restarting the kernel----------------------------------"
   ]
  },
  {
   "cell_type": "code",
   "execution_count": 39,
   "id": "30221812",
   "metadata": {
    "ExecuteTime": {
     "end_time": "2022-02-02T15:40:02.936738Z",
     "start_time": "2022-02-02T15:40:02.926692Z"
    }
   },
   "outputs": [],
   "source": [
    "import math"
   ]
  },
  {
   "cell_type": "code",
   "execution_count": 40,
   "id": "d9cf6f13",
   "metadata": {
    "ExecuteTime": {
     "end_time": "2022-02-02T15:40:02.948004Z",
     "start_time": "2022-02-02T15:40:02.942230Z"
    }
   },
   "outputs": [],
   "source": [
    "import my_math"
   ]
  },
  {
   "cell_type": "markdown",
   "id": "26925734",
   "metadata": {},
   "source": [
    "# -----------------------------Restarting the kernel----------------------------------"
   ]
  },
  {
   "cell_type": "code",
   "execution_count": 41,
   "id": "bd543e7b",
   "metadata": {
    "ExecuteTime": {
     "end_time": "2022-02-02T15:40:02.960997Z",
     "start_time": "2022-02-02T15:40:02.952370Z"
    }
   },
   "outputs": [],
   "source": [
    "import my_math"
   ]
  },
  {
   "cell_type": "code",
   "execution_count": 42,
   "id": "9f03074a",
   "metadata": {
    "ExecuteTime": {
     "end_time": "2022-02-02T15:40:02.980396Z",
     "start_time": "2022-02-02T15:40:02.969723Z"
    }
   },
   "outputs": [
    {
     "name": "stdout",
     "output_type": "stream",
     "text": [
      "['__builtins__', '__cached__', '__doc__', '__file__', '__loader__', '__name__', '__package__', '__spec__', 'a', 'add', 'b', 'dom', 'floor_div', 'main', 'mod_div', 'mul', 'my_func', 'sub', 'true_div']\n"
     ]
    }
   ],
   "source": [
    "print(dir(my_math))"
   ]
  },
  {
   "cell_type": "code",
   "execution_count": 43,
   "id": "7957136a",
   "metadata": {
    "ExecuteTime": {
     "end_time": "2022-02-02T15:40:02.993847Z",
     "start_time": "2022-02-02T15:40:02.983408Z"
    }
   },
   "outputs": [
    {
     "name": "stdout",
     "output_type": "stream",
     "text": [
      "10 20\n",
      "This is a test function\n",
      "30\n",
      "10\n",
      "801\n",
      "12.857142857142858\n"
     ]
    }
   ],
   "source": [
    "my_math.main()"
   ]
  },
  {
   "cell_type": "code",
   "execution_count": 44,
   "id": "36681fe8",
   "metadata": {
    "ExecuteTime": {
     "end_time": "2022-02-02T15:40:03.002146Z",
     "start_time": "2022-02-02T15:40:02.996265Z"
    }
   },
   "outputs": [],
   "source": [
    "import math"
   ]
  },
  {
   "cell_type": "code",
   "execution_count": 45,
   "id": "1089c58a",
   "metadata": {
    "ExecuteTime": {
     "end_time": "2022-02-02T15:40:03.021445Z",
     "start_time": "2022-02-02T15:40:03.006701Z"
    }
   },
   "outputs": [
    {
     "name": "stdout",
     "output_type": "stream",
     "text": [
      "['__doc__', '__file__', '__loader__', '__name__', '__package__', '__spec__', 'acos', 'acosh', 'asin', 'asinh', 'atan', 'atan2', 'atanh', 'ceil', 'comb', 'copysign', 'cos', 'cosh', 'degrees', 'dist', 'e', 'erf', 'erfc', 'exp', 'expm1', 'fabs', 'factorial', 'floor', 'fmod', 'frexp', 'fsum', 'gamma', 'gcd', 'hypot', 'inf', 'isclose', 'isfinite', 'isinf', 'isnan', 'isqrt', 'ldexp', 'lgamma', 'log', 'log10', 'log1p', 'log2', 'modf', 'nan', 'perm', 'pi', 'pow', 'prod', 'radians', 'remainder', 'sin', 'sinh', 'sqrt', 'tan', 'tanh', 'tau', 'trunc']\n"
     ]
    }
   ],
   "source": [
    "print(dir(math))"
   ]
  },
  {
   "cell_type": "markdown",
   "id": "cff684d5",
   "metadata": {},
   "source": [
    "# File Handling"
   ]
  },
  {
   "cell_type": "code",
   "execution_count": 8,
   "id": "ebafc3c7",
   "metadata": {},
   "outputs": [
    {
     "name": "stdout",
     "output_type": "stream",
     "text": [
      "4\n",
      "['too', 'many', 'people', 'lost', 'their', 'home', 'relatives', 'life', 'work', 'due', 'to', 'china']\n"
     ]
    }
   ],
   "source": [
    "a= 'too many people lost their home relatives life work due to china'\n",
    "count = 0\n",
    "for i in a.split():\n",
    "    \n",
    "    if i[-1] == 'e':\n",
    "        count += 1\n",
    "print(count)\n",
    "print(a.split())"
   ]
  },
  {
   "cell_type": "code",
   "execution_count": 20,
   "id": "d5b7d3cd",
   "metadata": {},
   "outputs": [
    {
     "name": "stdout",
     "output_type": "stream",
     "text": [
      "t#h#e# #w#o#r#l#d# #i#s# #m#i#n#e#\n"
     ]
    }
   ],
   "source": [
    "a= 'the world is mine'\n",
    "out_str = ''\n",
    "for i in a:\n",
    "    out_str += (i+'#')\n",
    "print(out_str)"
   ]
  },
  {
   "cell_type": "code",
   "execution_count": 18,
   "id": "c9a3b0c9",
   "metadata": {},
   "outputs": [
    {
     "name": "stdout",
     "output_type": "stream",
     "text": [
      "t#h#e# w#o#r#l#d# i#s# m#i#n#e#\n"
     ]
    }
   ],
   "source": [
    "a= 'the world is mine'\n",
    "out_str = ''\n",
    "for i in a:\n",
    "    if i == ' ':\n",
    "        out_str += i\n",
    "    else:\n",
    "        out_str += (i+'#')\n",
    "print(out_str)"
   ]
  },
  {
   "cell_type": "code",
   "execution_count": null,
   "id": "2603c51a",
   "metadata": {},
   "outputs": [],
   "source": []
  },
  {
   "cell_type": "code",
   "execution_count": null,
   "id": "0fdccb44",
   "metadata": {},
   "outputs": [],
   "source": []
  },
  {
   "cell_type": "code",
   "execution_count": null,
   "id": "ab822838",
   "metadata": {},
   "outputs": [],
   "source": []
  },
  {
   "cell_type": "code",
   "execution_count": null,
   "id": "87e7acea",
   "metadata": {},
   "outputs": [],
   "source": []
  },
  {
   "cell_type": "code",
   "execution_count": null,
   "id": "c854add2",
   "metadata": {},
   "outputs": [],
   "source": []
  },
  {
   "cell_type": "code",
   "execution_count": null,
   "id": "1e99c368",
   "metadata": {},
   "outputs": [],
   "source": []
  },
  {
   "cell_type": "code",
   "execution_count": null,
   "id": "3edfdc99",
   "metadata": {},
   "outputs": [],
   "source": []
  },
  {
   "cell_type": "code",
   "execution_count": null,
   "id": "44befb52",
   "metadata": {},
   "outputs": [],
   "source": []
  },
  {
   "cell_type": "code",
   "execution_count": null,
   "id": "533ca46f",
   "metadata": {},
   "outputs": [],
   "source": []
  },
  {
   "cell_type": "code",
   "execution_count": null,
   "id": "bd7e7c55",
   "metadata": {},
   "outputs": [],
   "source": []
  },
  {
   "cell_type": "code",
   "execution_count": null,
   "id": "f90981a9",
   "metadata": {},
   "outputs": [],
   "source": []
  },
  {
   "cell_type": "code",
   "execution_count": null,
   "id": "201c7c0e",
   "metadata": {},
   "outputs": [],
   "source": []
  },
  {
   "cell_type": "code",
   "execution_count": null,
   "id": "c96cb9f7",
   "metadata": {},
   "outputs": [],
   "source": []
  },
  {
   "cell_type": "code",
   "execution_count": null,
   "id": "ed6a0b75",
   "metadata": {},
   "outputs": [],
   "source": []
  },
  {
   "cell_type": "code",
   "execution_count": null,
   "id": "e3dcd386",
   "metadata": {},
   "outputs": [],
   "source": []
  },
  {
   "cell_type": "code",
   "execution_count": null,
   "id": "4487d658",
   "metadata": {},
   "outputs": [],
   "source": []
  },
  {
   "cell_type": "code",
   "execution_count": null,
   "id": "4ca7a4aa",
   "metadata": {},
   "outputs": [],
   "source": []
  },
  {
   "cell_type": "code",
   "execution_count": null,
   "id": "65b4c9fa",
   "metadata": {},
   "outputs": [],
   "source": []
  },
  {
   "cell_type": "code",
   "execution_count": null,
   "id": "a4531e84",
   "metadata": {},
   "outputs": [],
   "source": []
  },
  {
   "cell_type": "code",
   "execution_count": null,
   "id": "cb73867c",
   "metadata": {},
   "outputs": [],
   "source": []
  },
  {
   "cell_type": "code",
   "execution_count": null,
   "id": "83e85216",
   "metadata": {},
   "outputs": [],
   "source": []
  },
  {
   "cell_type": "code",
   "execution_count": null,
   "id": "ced5f7d6",
   "metadata": {},
   "outputs": [],
   "source": []
  }
 ],
 "metadata": {
  "kernelspec": {
   "display_name": "Python 3 (ipykernel)",
   "language": "python",
   "name": "python3"
  },
  "language_info": {
   "codemirror_mode": {
    "name": "ipython",
    "version": 3
   },
   "file_extension": ".py",
   "mimetype": "text/x-python",
   "name": "python",
   "nbconvert_exporter": "python",
   "pygments_lexer": "ipython3",
   "version": "3.9.7"
  }
 },
 "nbformat": 4,
 "nbformat_minor": 5
}
