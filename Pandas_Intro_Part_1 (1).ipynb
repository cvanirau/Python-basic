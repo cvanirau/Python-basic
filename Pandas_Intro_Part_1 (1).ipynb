{
 "cells": [
  {
   "cell_type": "code",
   "execution_count": 9,
   "id": "b26f1c07",
   "metadata": {
    "ExecuteTime": {
     "end_time": "2022-02-16T14:10:21.362455Z",
     "start_time": "2022-02-16T14:10:21.343496Z"
    }
   },
   "outputs": [
    {
     "name": "stdout",
     "output_type": "stream",
     "text": [
      "10\n",
      "20\n",
      "30\n",
      "40\n",
      "50\n",
      "60\n",
      "70\n",
      "80\n",
      "90\n",
      "100\n"
     ]
    }
   ],
   "source": [
    "#Python Lambda Function with List Comprehension\n",
    "tables=[lambda x=x:x*10 for x in range(1,11)]\n",
    "for i in tables:\n",
    "    print(i())  #Using parenthesis"
   ]
  },
  {
   "cell_type": "code",
   "execution_count": 8,
   "id": "0c663b67",
   "metadata": {
    "ExecuteTime": {
     "end_time": "2022-02-16T14:09:42.784103Z",
     "start_time": "2022-02-16T14:09:42.772060Z"
    }
   },
   "outputs": [
    {
     "data": {
      "text/plain": [
       "100"
      ]
     },
     "execution_count": 8,
     "metadata": {},
     "output_type": "execute_result"
    }
   ],
   "source": [
    "(lambda x=10:x*10)()"
   ]
  },
  {
   "cell_type": "markdown",
   "id": "178e5482",
   "metadata": {},
   "source": [
    "# Pandas"
   ]
  },
  {
   "cell_type": "code",
   "execution_count": 144,
   "id": "59ec9e05",
   "metadata": {
    "ExecuteTime": {
     "end_time": "2022-02-16T15:49:40.000748Z",
     "start_time": "2022-02-16T15:49:39.990972Z"
    }
   },
   "outputs": [],
   "source": [
    "import numpy as np\n",
    "\n",
    "import pandas as pd"
   ]
  },
  {
   "cell_type": "code",
   "execution_count": 12,
   "id": "abd56a9d",
   "metadata": {
    "ExecuteTime": {
     "end_time": "2022-02-16T14:21:11.266581Z",
     "start_time": "2022-02-16T14:21:11.263161Z"
    }
   },
   "outputs": [],
   "source": [
    "# Series \n",
    "# DataFrame"
   ]
  },
  {
   "cell_type": "code",
   "execution_count": 15,
   "id": "2995fbff",
   "metadata": {
    "ExecuteTime": {
     "end_time": "2022-02-16T14:23:07.091154Z",
     "start_time": "2022-02-16T14:23:07.079925Z"
    }
   },
   "outputs": [
    {
     "data": {
      "text/plain": [
       "array([[60, 41, 80,  7, 96],\n",
       "       [83, 43, 67, 77, 74]])"
      ]
     },
     "execution_count": 15,
     "metadata": {},
     "output_type": "execute_result"
    }
   ],
   "source": [
    "arr = np.random.randint(1, 100, 10).reshape(2, 5)\n",
    "arr"
   ]
  },
  {
   "cell_type": "code",
   "execution_count": 16,
   "id": "e524571f",
   "metadata": {
    "ExecuteTime": {
     "end_time": "2022-02-16T14:23:07.935487Z",
     "start_time": "2022-02-16T14:23:07.926392Z"
    }
   },
   "outputs": [
    {
     "data": {
      "text/plain": [
       "41"
      ]
     },
     "execution_count": 16,
     "metadata": {},
     "output_type": "execute_result"
    }
   ],
   "source": [
    "arr[0][1]"
   ]
  },
  {
   "cell_type": "markdown",
   "id": "d298d9ad",
   "metadata": {},
   "source": [
    "# Series"
   ]
  },
  {
   "cell_type": "code",
   "execution_count": 17,
   "id": "2164ac28",
   "metadata": {
    "ExecuteTime": {
     "end_time": "2022-02-16T14:25:57.251272Z",
     "start_time": "2022-02-16T14:25:57.241799Z"
    }
   },
   "outputs": [
    {
     "data": {
      "text/plain": [
       "['Mumbai', 'Delhi', 'Chennai', 'Kolkata', 'Bengaluru']"
      ]
     },
     "execution_count": 17,
     "metadata": {},
     "output_type": "execute_result"
    }
   ],
   "source": [
    "city_names = ['Mumbai', 'Delhi', 'Chennai', 'Kolkata', 'Bengaluru']\n",
    "city_names"
   ]
  },
  {
   "cell_type": "code",
   "execution_count": 18,
   "id": "766670d8",
   "metadata": {
    "ExecuteTime": {
     "end_time": "2022-02-16T14:26:14.511569Z",
     "start_time": "2022-02-16T14:26:14.490998Z"
    }
   },
   "outputs": [
    {
     "data": {
      "text/plain": [
       "0       Mumbai\n",
       "1        Delhi\n",
       "2      Chennai\n",
       "3      Kolkata\n",
       "4    Bengaluru\n",
       "dtype: object"
      ]
     },
     "execution_count": 18,
     "metadata": {},
     "output_type": "execute_result"
    }
   ],
   "source": [
    "city_ser = pd.Series(city_names)\n",
    "city_ser"
   ]
  },
  {
   "cell_type": "code",
   "execution_count": 19,
   "id": "4df89b77",
   "metadata": {
    "ExecuteTime": {
     "end_time": "2022-02-16T14:26:48.175521Z",
     "start_time": "2022-02-16T14:26:48.169769Z"
    }
   },
   "outputs": [
    {
     "name": "stdout",
     "output_type": "stream",
     "text": [
      "Chennai\n"
     ]
    }
   ],
   "source": [
    "print(city_ser[2])"
   ]
  },
  {
   "cell_type": "code",
   "execution_count": 22,
   "id": "08c3eb91",
   "metadata": {
    "ExecuteTime": {
     "end_time": "2022-02-16T14:29:00.222287Z",
     "start_time": "2022-02-16T14:29:00.197466Z"
    }
   },
   "outputs": [
    {
     "data": {
      "text/plain": [
       "2"
      ]
     },
     "execution_count": 22,
     "metadata": {},
     "output_type": "execute_result"
    }
   ],
   "source": [
    "# arr = np.array([[10,20,30,40]])\n",
    "# arr.ndim"
   ]
  },
  {
   "cell_type": "code",
   "execution_count": 23,
   "id": "1bac7508",
   "metadata": {
    "ExecuteTime": {
     "end_time": "2022-02-16T14:29:46.198402Z",
     "start_time": "2022-02-16T14:29:46.190474Z"
    }
   },
   "outputs": [
    {
     "name": "stdout",
     "output_type": "stream",
     "text": [
      "1      Delhi\n",
      "2    Chennai\n",
      "3    Kolkata\n",
      "dtype: object\n"
     ]
    }
   ],
   "source": [
    "print(city_ser[1:4])"
   ]
  },
  {
   "cell_type": "code",
   "execution_count": 30,
   "id": "54da4a23",
   "metadata": {
    "ExecuteTime": {
     "end_time": "2022-02-16T14:32:27.013203Z",
     "start_time": "2022-02-16T14:32:26.982369Z"
    }
   },
   "outputs": [
    {
     "data": {
      "text/plain": [
       "a       Mumbai\n",
       "b        Delhi\n",
       "c      Chennai\n",
       "d      Kolkata\n",
       "e    Bengaluru\n",
       "dtype: object"
      ]
     },
     "execution_count": 30,
     "metadata": {},
     "output_type": "execute_result"
    }
   ],
   "source": [
    "city_ser = pd.Series(city_names, index = ('a', 'b','c', 'd', 'e'))\n",
    "city_ser"
   ]
  },
  {
   "cell_type": "code",
   "execution_count": 25,
   "id": "64c6fbce",
   "metadata": {
    "ExecuteTime": {
     "end_time": "2022-02-16T14:30:35.973237Z",
     "start_time": "2022-02-16T14:30:35.965997Z"
    }
   },
   "outputs": [
    {
     "name": "stdout",
     "output_type": "stream",
     "text": [
      "Chennai\n"
     ]
    }
   ],
   "source": [
    "print(city_ser[2])"
   ]
  },
  {
   "cell_type": "code",
   "execution_count": 27,
   "id": "7dd5d07c",
   "metadata": {
    "ExecuteTime": {
     "end_time": "2022-02-16T14:30:45.442529Z",
     "start_time": "2022-02-16T14:30:45.432952Z"
    }
   },
   "outputs": [
    {
     "name": "stdout",
     "output_type": "stream",
     "text": [
      "Chennai\n"
     ]
    }
   ],
   "source": [
    "print(city_ser['c'])"
   ]
  },
  {
   "cell_type": "code",
   "execution_count": 28,
   "id": "79b808aa",
   "metadata": {
    "ExecuteTime": {
     "end_time": "2022-02-16T14:31:18.768894Z",
     "start_time": "2022-02-16T14:31:18.746711Z"
    }
   },
   "outputs": [
    {
     "name": "stdout",
     "output_type": "stream",
     "text": [
      "b      Delhi\n",
      "c    Chennai\n",
      "d    Kolkata\n",
      "dtype: object\n"
     ]
    }
   ],
   "source": [
    "print(city_ser['b':'d'])"
   ]
  },
  {
   "cell_type": "code",
   "execution_count": 31,
   "id": "1a3de6d1",
   "metadata": {
    "ExecuteTime": {
     "end_time": "2022-02-16T14:33:42.985896Z",
     "start_time": "2022-02-16T14:33:42.972838Z"
    }
   },
   "outputs": [
    {
     "data": {
      "text/plain": [
       "{'India': 'INR', 'Russia': 'Rubble', 'USA': 'Dollar'}"
      ]
     },
     "execution_count": 31,
     "metadata": {},
     "output_type": "execute_result"
    }
   ],
   "source": [
    "country_curr_lst = {'India':'INR', 'Russia':'Rubble', 'USA':'Dollar'}\n",
    "country_curr_lst"
   ]
  },
  {
   "cell_type": "code",
   "execution_count": 35,
   "id": "aa9d8c16",
   "metadata": {
    "ExecuteTime": {
     "end_time": "2022-02-16T14:35:52.357006Z",
     "start_time": "2022-02-16T14:35:52.341045Z"
    }
   },
   "outputs": [
    {
     "data": {
      "text/plain": [
       "India        INR\n",
       "Russia    Rubble\n",
       "USA       Dollar\n",
       "Canada        CD\n",
       "dtype: object"
      ]
     },
     "execution_count": 35,
     "metadata": {},
     "output_type": "execute_result"
    }
   ],
   "source": [
    "country_curr_ser = pd.Series(country_curr_lst)\n",
    "country_curr_ser['Canada'] = 'CD'\n",
    "country_curr_ser"
   ]
  },
  {
   "cell_type": "code",
   "execution_count": 36,
   "id": "1f8a49ae",
   "metadata": {
    "ExecuteTime": {
     "end_time": "2022-02-16T14:36:37.666798Z",
     "start_time": "2022-02-16T14:36:37.654924Z"
    }
   },
   "outputs": [
    {
     "data": {
      "text/plain": [
       "Index(['a', 'b', 'c', 'd', 'e'], dtype='object')"
      ]
     },
     "execution_count": 36,
     "metadata": {},
     "output_type": "execute_result"
    }
   ],
   "source": [
    "city_ser.index"
   ]
  },
  {
   "cell_type": "code",
   "execution_count": 37,
   "id": "b8f24ef1",
   "metadata": {
    "ExecuteTime": {
     "end_time": "2022-02-16T14:36:43.561485Z",
     "start_time": "2022-02-16T14:36:43.552085Z"
    }
   },
   "outputs": [
    {
     "data": {
      "text/plain": [
       "array(['Mumbai', 'Delhi', 'Chennai', 'Kolkata', 'Bengaluru'], dtype=object)"
      ]
     },
     "execution_count": 37,
     "metadata": {},
     "output_type": "execute_result"
    }
   ],
   "source": [
    "city_ser.values"
   ]
  },
  {
   "cell_type": "code",
   "execution_count": null,
   "id": "42876e22",
   "metadata": {},
   "outputs": [],
   "source": [
    "# Dataframe - rows and Columns"
   ]
  },
  {
   "cell_type": "code",
   "execution_count": 38,
   "id": "a23c19ab",
   "metadata": {
    "ExecuteTime": {
     "end_time": "2022-02-16T14:38:42.541160Z",
     "start_time": "2022-02-16T14:38:42.523972Z"
    }
   },
   "outputs": [
    {
     "data": {
      "text/html": [
       "<div>\n",
       "<style scoped>\n",
       "    .dataframe tbody tr th:only-of-type {\n",
       "        vertical-align: middle;\n",
       "    }\n",
       "\n",
       "    .dataframe tbody tr th {\n",
       "        vertical-align: top;\n",
       "    }\n",
       "\n",
       "    .dataframe thead th {\n",
       "        text-align: right;\n",
       "    }\n",
       "</style>\n",
       "<table border=\"1\" class=\"dataframe\">\n",
       "  <thead>\n",
       "    <tr style=\"text-align: right;\">\n",
       "      <th></th>\n",
       "      <th>0</th>\n",
       "    </tr>\n",
       "  </thead>\n",
       "  <tbody>\n",
       "    <tr>\n",
       "      <th>0</th>\n",
       "      <td>Mumbai</td>\n",
       "    </tr>\n",
       "    <tr>\n",
       "      <th>1</th>\n",
       "      <td>Delhi</td>\n",
       "    </tr>\n",
       "    <tr>\n",
       "      <th>2</th>\n",
       "      <td>Chennai</td>\n",
       "    </tr>\n",
       "    <tr>\n",
       "      <th>3</th>\n",
       "      <td>Kolkata</td>\n",
       "    </tr>\n",
       "    <tr>\n",
       "      <th>4</th>\n",
       "      <td>Bengaluru</td>\n",
       "    </tr>\n",
       "  </tbody>\n",
       "</table>\n",
       "</div>"
      ],
      "text/plain": [
       "           0\n",
       "0     Mumbai\n",
       "1      Delhi\n",
       "2    Chennai\n",
       "3    Kolkata\n",
       "4  Bengaluru"
      ]
     },
     "execution_count": 38,
     "metadata": {},
     "output_type": "execute_result"
    }
   ],
   "source": [
    "df = pd.DataFrame(city_names)\n",
    "df"
   ]
  },
  {
   "cell_type": "code",
   "execution_count": 43,
   "id": "16eba0a3",
   "metadata": {
    "ExecuteTime": {
     "end_time": "2022-02-16T14:43:16.484489Z",
     "start_time": "2022-02-16T14:43:16.412494Z"
    }
   },
   "outputs": [
    {
     "data": {
      "text/plain": [
       "{'emp_name': ['Abhishek', 'Krishna', 'Aditya', 'Aniket'],\n",
       " 'emp_id': [101, 102, 103, 104],\n",
       " 'emp_sal': [10000, 20000, 30000, 40]}"
      ]
     },
     "execution_count": 43,
     "metadata": {},
     "output_type": "execute_result"
    }
   ],
   "source": [
    "# Creating a dataframe out of dictionary\n",
    "\n",
    "my_dict = {'emp_name' : ['Abhishek', 'Krishna', 'Aditya', 'Aniket'],\n",
    "           'emp_id':[101, 102, 103, 104],\n",
    "           'emp_sal':[10000, 20000, 30000, 40]}\n",
    "\n",
    "my_dict\n",
    "\n"
   ]
  },
  {
   "cell_type": "code",
   "execution_count": 44,
   "id": "2dc8e4e0",
   "metadata": {
    "ExecuteTime": {
     "end_time": "2022-02-16T14:43:17.716335Z",
     "start_time": "2022-02-16T14:43:17.696341Z"
    }
   },
   "outputs": [
    {
     "data": {
      "text/html": [
       "<div>\n",
       "<style scoped>\n",
       "    .dataframe tbody tr th:only-of-type {\n",
       "        vertical-align: middle;\n",
       "    }\n",
       "\n",
       "    .dataframe tbody tr th {\n",
       "        vertical-align: top;\n",
       "    }\n",
       "\n",
       "    .dataframe thead th {\n",
       "        text-align: right;\n",
       "    }\n",
       "</style>\n",
       "<table border=\"1\" class=\"dataframe\">\n",
       "  <thead>\n",
       "    <tr style=\"text-align: right;\">\n",
       "      <th></th>\n",
       "      <th>emp_name</th>\n",
       "      <th>emp_id</th>\n",
       "      <th>emp_sal</th>\n",
       "    </tr>\n",
       "  </thead>\n",
       "  <tbody>\n",
       "    <tr>\n",
       "      <th>0</th>\n",
       "      <td>Abhishek</td>\n",
       "      <td>101</td>\n",
       "      <td>10000</td>\n",
       "    </tr>\n",
       "    <tr>\n",
       "      <th>1</th>\n",
       "      <td>Krishna</td>\n",
       "      <td>102</td>\n",
       "      <td>20000</td>\n",
       "    </tr>\n",
       "    <tr>\n",
       "      <th>2</th>\n",
       "      <td>Aditya</td>\n",
       "      <td>103</td>\n",
       "      <td>30000</td>\n",
       "    </tr>\n",
       "    <tr>\n",
       "      <th>3</th>\n",
       "      <td>Aniket</td>\n",
       "      <td>104</td>\n",
       "      <td>40</td>\n",
       "    </tr>\n",
       "  </tbody>\n",
       "</table>\n",
       "</div>"
      ],
      "text/plain": [
       "   emp_name  emp_id  emp_sal\n",
       "0  Abhishek     101    10000\n",
       "1   Krishna     102    20000\n",
       "2    Aditya     103    30000\n",
       "3    Aniket     104       40"
      ]
     },
     "execution_count": 44,
     "metadata": {},
     "output_type": "execute_result"
    }
   ],
   "source": [
    "df = pd.DataFrame(my_dict)\n",
    "df"
   ]
  },
  {
   "cell_type": "code",
   "execution_count": 46,
   "id": "b3f6b883",
   "metadata": {
    "ExecuteTime": {
     "end_time": "2022-02-16T14:44:16.953619Z",
     "start_time": "2022-02-16T14:44:16.935487Z"
    }
   },
   "outputs": [
    {
     "data": {
      "text/plain": [
       "[('Abhishek', 'Krishna', 'Aditya', 'Aniket'),\n",
       " (101, 102, 103, 104),\n",
       " (10000, 20000, 30000, 40)]"
      ]
     },
     "execution_count": 46,
     "metadata": {},
     "output_type": "execute_result"
    }
   ],
   "source": [
    "list_tuples = [('Abhishek', 'Krishna', 'Aditya', 'Aniket'),\n",
    "               (101, 102, 103, 104),\n",
    "               (10000, 20000, 30000, 40)]\n",
    "list_tuples"
   ]
  },
  {
   "cell_type": "code",
   "execution_count": 48,
   "id": "ed397a0c",
   "metadata": {
    "ExecuteTime": {
     "end_time": "2022-02-16T14:45:05.153395Z",
     "start_time": "2022-02-16T14:45:05.130050Z"
    }
   },
   "outputs": [
    {
     "data": {
      "text/html": [
       "<div>\n",
       "<style scoped>\n",
       "    .dataframe tbody tr th:only-of-type {\n",
       "        vertical-align: middle;\n",
       "    }\n",
       "\n",
       "    .dataframe tbody tr th {\n",
       "        vertical-align: top;\n",
       "    }\n",
       "\n",
       "    .dataframe thead th {\n",
       "        text-align: right;\n",
       "    }\n",
       "</style>\n",
       "<table border=\"1\" class=\"dataframe\">\n",
       "  <thead>\n",
       "    <tr style=\"text-align: right;\">\n",
       "      <th></th>\n",
       "      <th>0</th>\n",
       "      <th>1</th>\n",
       "      <th>2</th>\n",
       "      <th>3</th>\n",
       "    </tr>\n",
       "  </thead>\n",
       "  <tbody>\n",
       "    <tr>\n",
       "      <th>Names</th>\n",
       "      <td>Abhishek</td>\n",
       "      <td>Krishna</td>\n",
       "      <td>Aditya</td>\n",
       "      <td>Aniket</td>\n",
       "    </tr>\n",
       "    <tr>\n",
       "      <th>ID</th>\n",
       "      <td>101</td>\n",
       "      <td>102</td>\n",
       "      <td>103</td>\n",
       "      <td>104</td>\n",
       "    </tr>\n",
       "    <tr>\n",
       "      <th>sal</th>\n",
       "      <td>10000</td>\n",
       "      <td>20000</td>\n",
       "      <td>30000</td>\n",
       "      <td>40</td>\n",
       "    </tr>\n",
       "  </tbody>\n",
       "</table>\n",
       "</div>"
      ],
      "text/plain": [
       "              0        1       2       3\n",
       "Names  Abhishek  Krishna  Aditya  Aniket\n",
       "ID          101      102     103     104\n",
       "sal       10000    20000   30000      40"
      ]
     },
     "execution_count": 48,
     "metadata": {},
     "output_type": "execute_result"
    }
   ],
   "source": [
    "df = pd.DataFrame(list_tuples, index = ['Names', 'ID', \"sal\"])\n",
    "df"
   ]
  },
  {
   "cell_type": "code",
   "execution_count": 49,
   "id": "fed53863",
   "metadata": {
    "ExecuteTime": {
     "end_time": "2022-02-16T14:46:13.672760Z",
     "start_time": "2022-02-16T14:46:13.658698Z"
    }
   },
   "outputs": [
    {
     "data": {
      "text/plain": [
       "[('Abhishek', 101, 10000), ('Krishna', 102, 20000), ('Aditya', 103, 30000)]"
      ]
     },
     "execution_count": 49,
     "metadata": {},
     "output_type": "execute_result"
    }
   ],
   "source": [
    "list_tuples = [('Abhishek', 101, 10000),\n",
    "               ('Krishna', 102, 20000),\n",
    "               ('Aditya',103, 30000)]\n",
    "list_tuples"
   ]
  },
  {
   "cell_type": "code",
   "execution_count": 51,
   "id": "780ecc5f",
   "metadata": {
    "ExecuteTime": {
     "end_time": "2022-02-16T14:46:46.354186Z",
     "start_time": "2022-02-16T14:46:46.331737Z"
    }
   },
   "outputs": [
    {
     "data": {
      "text/html": [
       "<div>\n",
       "<style scoped>\n",
       "    .dataframe tbody tr th:only-of-type {\n",
       "        vertical-align: middle;\n",
       "    }\n",
       "\n",
       "    .dataframe tbody tr th {\n",
       "        vertical-align: top;\n",
       "    }\n",
       "\n",
       "    .dataframe thead th {\n",
       "        text-align: right;\n",
       "    }\n",
       "</style>\n",
       "<table border=\"1\" class=\"dataframe\">\n",
       "  <thead>\n",
       "    <tr style=\"text-align: right;\">\n",
       "      <th></th>\n",
       "      <th>Names</th>\n",
       "      <th>ID</th>\n",
       "      <th>sal</th>\n",
       "    </tr>\n",
       "  </thead>\n",
       "  <tbody>\n",
       "    <tr>\n",
       "      <th>0</th>\n",
       "      <td>Abhishek</td>\n",
       "      <td>101</td>\n",
       "      <td>10000</td>\n",
       "    </tr>\n",
       "    <tr>\n",
       "      <th>1</th>\n",
       "      <td>Krishna</td>\n",
       "      <td>102</td>\n",
       "      <td>20000</td>\n",
       "    </tr>\n",
       "    <tr>\n",
       "      <th>2</th>\n",
       "      <td>Aditya</td>\n",
       "      <td>103</td>\n",
       "      <td>30000</td>\n",
       "    </tr>\n",
       "  </tbody>\n",
       "</table>\n",
       "</div>"
      ],
      "text/plain": [
       "      Names   ID    sal\n",
       "0  Abhishek  101  10000\n",
       "1   Krishna  102  20000\n",
       "2    Aditya  103  30000"
      ]
     },
     "execution_count": 51,
     "metadata": {},
     "output_type": "execute_result"
    }
   ],
   "source": [
    "df = pd.DataFrame(list_tuples, columns = ['Names', 'ID', \"sal\"])\n",
    "df"
   ]
  },
  {
   "cell_type": "code",
   "execution_count": 68,
   "id": "527eeaf2",
   "metadata": {
    "ExecuteTime": {
     "end_time": "2022-02-16T14:55:45.549149Z",
     "start_time": "2022-02-16T14:55:45.487138Z"
    }
   },
   "outputs": [
    {
     "data": {
      "text/html": [
       "<div>\n",
       "<style scoped>\n",
       "    .dataframe tbody tr th:only-of-type {\n",
       "        vertical-align: middle;\n",
       "    }\n",
       "\n",
       "    .dataframe tbody tr th {\n",
       "        vertical-align: top;\n",
       "    }\n",
       "\n",
       "    .dataframe thead th {\n",
       "        text-align: right;\n",
       "    }\n",
       "</style>\n",
       "<table border=\"1\" class=\"dataframe\">\n",
       "  <thead>\n",
       "    <tr style=\"text-align: right;\">\n",
       "      <th></th>\n",
       "      <th>car_name</th>\n",
       "      <th>mpg</th>\n",
       "      <th>horsepower</th>\n",
       "      <th>origin_country</th>\n",
       "    </tr>\n",
       "  </thead>\n",
       "  <tbody>\n",
       "    <tr>\n",
       "      <th>0</th>\n",
       "      <td>Toyota Corolla Mark ii</td>\n",
       "      <td>24</td>\n",
       "      <td>95</td>\n",
       "      <td>Japan</td>\n",
       "    </tr>\n",
       "    <tr>\n",
       "      <th>1</th>\n",
       "      <td>Chevrolet Chevelle Malibu</td>\n",
       "      <td>18</td>\n",
       "      <td>130</td>\n",
       "      <td>US</td>\n",
       "    </tr>\n",
       "    <tr>\n",
       "      <th>2</th>\n",
       "      <td>Audi 100 LS</td>\n",
       "      <td>24</td>\n",
       "      <td>90</td>\n",
       "      <td>Germany</td>\n",
       "    </tr>\n",
       "    <tr>\n",
       "      <th>3</th>\n",
       "      <td>BMW 2002</td>\n",
       "      <td>26</td>\n",
       "      <td>113</td>\n",
       "      <td>Germany</td>\n",
       "    </tr>\n",
       "    <tr>\n",
       "      <th>4</th>\n",
       "      <td>Datsun PL510</td>\n",
       "      <td>27</td>\n",
       "      <td>88</td>\n",
       "      <td>Japan</td>\n",
       "    </tr>\n",
       "  </tbody>\n",
       "</table>\n",
       "</div>"
      ],
      "text/plain": [
       "                    car_name  mpg  horsepower origin_country\n",
       "0     Toyota Corolla Mark ii   24          95          Japan\n",
       "1  Chevrolet Chevelle Malibu   18         130             US\n",
       "2                Audi 100 LS   24          90        Germany\n",
       "3                   BMW 2002   26         113        Germany\n",
       "4               Datsun PL510   27          88          Japan"
      ]
     },
     "execution_count": 68,
     "metadata": {},
     "output_type": "execute_result"
    }
   ],
   "source": [
    "df = pd.read_excel('datasets/automobile_camera.xlsx','Automobile', index_col = 0)\n",
    "df"
   ]
  },
  {
   "cell_type": "code",
   "execution_count": 69,
   "id": "048b3b9f",
   "metadata": {
    "ExecuteTime": {
     "end_time": "2022-02-16T14:56:26.278106Z",
     "start_time": "2022-02-16T14:56:26.222549Z"
    }
   },
   "outputs": [
    {
     "data": {
      "text/html": [
       "<div>\n",
       "<style scoped>\n",
       "    .dataframe tbody tr th:only-of-type {\n",
       "        vertical-align: middle;\n",
       "    }\n",
       "\n",
       "    .dataframe tbody tr th {\n",
       "        vertical-align: top;\n",
       "    }\n",
       "\n",
       "    .dataframe thead th {\n",
       "        text-align: right;\n",
       "    }\n",
       "</style>\n",
       "<table border=\"1\" class=\"dataframe\">\n",
       "  <thead>\n",
       "    <tr style=\"text-align: right;\">\n",
       "      <th></th>\n",
       "      <th>Date</th>\n",
       "      <th>Open</th>\n",
       "      <th>High</th>\n",
       "      <th>Low</th>\n",
       "      <th>Close</th>\n",
       "      <th>Volume</th>\n",
       "    </tr>\n",
       "  </thead>\n",
       "  <tbody>\n",
       "    <tr>\n",
       "      <th>0</th>\n",
       "      <td>7-Jul-17</td>\n",
       "      <td>142.90</td>\n",
       "      <td>144.75</td>\n",
       "      <td>142.90</td>\n",
       "      <td>144.18</td>\n",
       "      <td>19201712</td>\n",
       "    </tr>\n",
       "    <tr>\n",
       "      <th>1</th>\n",
       "      <td>6-Jul-17</td>\n",
       "      <td>143.02</td>\n",
       "      <td>143.50</td>\n",
       "      <td>142.41</td>\n",
       "      <td>142.73</td>\n",
       "      <td>24128782</td>\n",
       "    </tr>\n",
       "    <tr>\n",
       "      <th>2</th>\n",
       "      <td>5-Jul-17</td>\n",
       "      <td>143.69</td>\n",
       "      <td>144.79</td>\n",
       "      <td>142.72</td>\n",
       "      <td>144.09</td>\n",
       "      <td>21569557</td>\n",
       "    </tr>\n",
       "    <tr>\n",
       "      <th>3</th>\n",
       "      <td>3-Jul-17</td>\n",
       "      <td>144.88</td>\n",
       "      <td>145.30</td>\n",
       "      <td>143.10</td>\n",
       "      <td>143.50</td>\n",
       "      <td>14277848</td>\n",
       "    </tr>\n",
       "    <tr>\n",
       "      <th>4</th>\n",
       "      <td>30-Jun-17</td>\n",
       "      <td>144.45</td>\n",
       "      <td>144.96</td>\n",
       "      <td>143.78</td>\n",
       "      <td>144.02</td>\n",
       "      <td>23024107</td>\n",
       "    </tr>\n",
       "    <tr>\n",
       "      <th>...</th>\n",
       "      <td>...</td>\n",
       "      <td>...</td>\n",
       "      <td>...</td>\n",
       "      <td>...</td>\n",
       "      <td>...</td>\n",
       "      <td>...</td>\n",
       "    </tr>\n",
       "    <tr>\n",
       "      <th>124</th>\n",
       "      <td>9-Jan-17</td>\n",
       "      <td>117.95</td>\n",
       "      <td>119.43</td>\n",
       "      <td>117.94</td>\n",
       "      <td>118.99</td>\n",
       "      <td>33561948</td>\n",
       "    </tr>\n",
       "    <tr>\n",
       "      <th>125</th>\n",
       "      <td>6-Jan-17</td>\n",
       "      <td>116.78</td>\n",
       "      <td>118.16</td>\n",
       "      <td>116.47</td>\n",
       "      <td>117.91</td>\n",
       "      <td>31751900</td>\n",
       "    </tr>\n",
       "    <tr>\n",
       "      <th>126</th>\n",
       "      <td>5-Jan-17</td>\n",
       "      <td>115.92</td>\n",
       "      <td>116.86</td>\n",
       "      <td>115.81</td>\n",
       "      <td>116.61</td>\n",
       "      <td>22193587</td>\n",
       "    </tr>\n",
       "    <tr>\n",
       "      <th>127</th>\n",
       "      <td>4-Jan-17</td>\n",
       "      <td>115.85</td>\n",
       "      <td>116.51</td>\n",
       "      <td>115.75</td>\n",
       "      <td>116.02</td>\n",
       "      <td>21118116</td>\n",
       "    </tr>\n",
       "    <tr>\n",
       "      <th>128</th>\n",
       "      <td>3-Jan-17</td>\n",
       "      <td>115.80</td>\n",
       "      <td>116.33</td>\n",
       "      <td>114.76</td>\n",
       "      <td>116.15</td>\n",
       "      <td>28781865</td>\n",
       "    </tr>\n",
       "  </tbody>\n",
       "</table>\n",
       "<p>129 rows × 6 columns</p>\n",
       "</div>"
      ],
      "text/plain": [
       "          Date    Open    High     Low   Close    Volume\n",
       "0     7-Jul-17  142.90  144.75  142.90  144.18  19201712\n",
       "1     6-Jul-17  143.02  143.50  142.41  142.73  24128782\n",
       "2     5-Jul-17  143.69  144.79  142.72  144.09  21569557\n",
       "3     3-Jul-17  144.88  145.30  143.10  143.50  14277848\n",
       "4    30-Jun-17  144.45  144.96  143.78  144.02  23024107\n",
       "..         ...     ...     ...     ...     ...       ...\n",
       "124   9-Jan-17  117.95  119.43  117.94  118.99  33561948\n",
       "125   6-Jan-17  116.78  118.16  116.47  117.91  31751900\n",
       "126   5-Jan-17  115.92  116.86  115.81  116.61  22193587\n",
       "127   4-Jan-17  115.85  116.51  115.75  116.02  21118116\n",
       "128   3-Jan-17  115.80  116.33  114.76  116.15  28781865\n",
       "\n",
       "[129 rows x 6 columns]"
      ]
     },
     "execution_count": 69,
     "metadata": {},
     "output_type": "execute_result"
    }
   ],
   "source": [
    "df = pd.read_csv('datasets/apple_stocks.csv')\n",
    "df"
   ]
  },
  {
   "cell_type": "markdown",
   "id": "2f8aeded",
   "metadata": {},
   "source": [
    "# Some basic operation on the dataframe"
   ]
  },
  {
   "cell_type": "code",
   "execution_count": 70,
   "id": "6e1c5a3e",
   "metadata": {
    "ExecuteTime": {
     "end_time": "2022-02-16T15:01:52.199470Z",
     "start_time": "2022-02-16T15:01:52.175632Z"
    }
   },
   "outputs": [
    {
     "data": {
      "text/html": [
       "<div>\n",
       "<style scoped>\n",
       "    .dataframe tbody tr th:only-of-type {\n",
       "        vertical-align: middle;\n",
       "    }\n",
       "\n",
       "    .dataframe tbody tr th {\n",
       "        vertical-align: top;\n",
       "    }\n",
       "\n",
       "    .dataframe thead th {\n",
       "        text-align: right;\n",
       "    }\n",
       "</style>\n",
       "<table border=\"1\" class=\"dataframe\">\n",
       "  <thead>\n",
       "    <tr style=\"text-align: right;\">\n",
       "      <th></th>\n",
       "      <th>day</th>\n",
       "      <th>temperature</th>\n",
       "      <th>windspeed</th>\n",
       "      <th>event</th>\n",
       "    </tr>\n",
       "  </thead>\n",
       "  <tbody>\n",
       "    <tr>\n",
       "      <th>0</th>\n",
       "      <td>1/1/2017</td>\n",
       "      <td>32</td>\n",
       "      <td>6</td>\n",
       "      <td>Rain</td>\n",
       "    </tr>\n",
       "    <tr>\n",
       "      <th>1</th>\n",
       "      <td>1/2/2017</td>\n",
       "      <td>35</td>\n",
       "      <td>7</td>\n",
       "      <td>Sunny</td>\n",
       "    </tr>\n",
       "    <tr>\n",
       "      <th>2</th>\n",
       "      <td>1/3/2017</td>\n",
       "      <td>28</td>\n",
       "      <td>2</td>\n",
       "      <td>Snow</td>\n",
       "    </tr>\n",
       "    <tr>\n",
       "      <th>3</th>\n",
       "      <td>1/4/2017</td>\n",
       "      <td>24</td>\n",
       "      <td>7</td>\n",
       "      <td>Snow</td>\n",
       "    </tr>\n",
       "    <tr>\n",
       "      <th>4</th>\n",
       "      <td>1/5/2017</td>\n",
       "      <td>32</td>\n",
       "      <td>4</td>\n",
       "      <td>Rain</td>\n",
       "    </tr>\n",
       "    <tr>\n",
       "      <th>5</th>\n",
       "      <td>1/6/2017</td>\n",
       "      <td>31</td>\n",
       "      <td>2</td>\n",
       "      <td>Sunny</td>\n",
       "    </tr>\n",
       "  </tbody>\n",
       "</table>\n",
       "</div>"
      ],
      "text/plain": [
       "        day  temperature  windspeed  event\n",
       "0  1/1/2017           32          6   Rain\n",
       "1  1/2/2017           35          7  Sunny\n",
       "2  1/3/2017           28          2   Snow\n",
       "3  1/4/2017           24          7   Snow\n",
       "4  1/5/2017           32          4   Rain\n",
       "5  1/6/2017           31          2  Sunny"
      ]
     },
     "execution_count": 70,
     "metadata": {},
     "output_type": "execute_result"
    }
   ],
   "source": [
    "weather_data = pd.read_csv('datasets/weather_data.csv')\n",
    "weather_data"
   ]
  },
  {
   "cell_type": "code",
   "execution_count": 71,
   "id": "212a248b",
   "metadata": {
    "ExecuteTime": {
     "end_time": "2022-02-16T15:02:12.377487Z",
     "start_time": "2022-02-16T15:02:12.373059Z"
    }
   },
   "outputs": [],
   "source": [
    "r, c = weather_data.shape"
   ]
  },
  {
   "cell_type": "code",
   "execution_count": 72,
   "id": "a8476c04",
   "metadata": {
    "ExecuteTime": {
     "end_time": "2022-02-16T15:02:15.575626Z",
     "start_time": "2022-02-16T15:02:15.566481Z"
    }
   },
   "outputs": [
    {
     "data": {
      "text/plain": [
       "6"
      ]
     },
     "execution_count": 72,
     "metadata": {},
     "output_type": "execute_result"
    }
   ],
   "source": [
    "r"
   ]
  },
  {
   "cell_type": "code",
   "execution_count": 73,
   "id": "c779a3bd",
   "metadata": {
    "ExecuteTime": {
     "end_time": "2022-02-16T15:02:18.487397Z",
     "start_time": "2022-02-16T15:02:18.475635Z"
    }
   },
   "outputs": [
    {
     "data": {
      "text/plain": [
       "4"
      ]
     },
     "execution_count": 73,
     "metadata": {},
     "output_type": "execute_result"
    }
   ],
   "source": [
    "c"
   ]
  },
  {
   "cell_type": "code",
   "execution_count": 74,
   "id": "786d06f8",
   "metadata": {
    "ExecuteTime": {
     "end_time": "2022-02-16T15:02:42.872723Z",
     "start_time": "2022-02-16T15:02:42.861080Z"
    }
   },
   "outputs": [
    {
     "data": {
      "text/plain": [
       "RangeIndex(start=0, stop=6, step=1)"
      ]
     },
     "execution_count": 74,
     "metadata": {},
     "output_type": "execute_result"
    }
   ],
   "source": [
    "weather_data.index"
   ]
  },
  {
   "cell_type": "code",
   "execution_count": 75,
   "id": "cd959964",
   "metadata": {
    "ExecuteTime": {
     "end_time": "2022-02-16T15:02:48.234785Z",
     "start_time": "2022-02-16T15:02:48.223643Z"
    }
   },
   "outputs": [
    {
     "data": {
      "text/plain": [
       "Index(['day', 'temperature', 'windspeed', 'event'], dtype='object')"
      ]
     },
     "execution_count": 75,
     "metadata": {},
     "output_type": "execute_result"
    }
   ],
   "source": [
    "weather_data.columns"
   ]
  },
  {
   "cell_type": "code",
   "execution_count": 77,
   "id": "b478854f",
   "metadata": {
    "ExecuteTime": {
     "end_time": "2022-02-16T15:03:16.087927Z",
     "start_time": "2022-02-16T15:03:16.052140Z"
    }
   },
   "outputs": [
    {
     "data": {
      "text/plain": [
       "35"
      ]
     },
     "execution_count": 77,
     "metadata": {},
     "output_type": "execute_result"
    }
   ],
   "source": [
    "weather_data['temperature'].max()"
   ]
  },
  {
   "cell_type": "code",
   "execution_count": 78,
   "id": "2b5828c9",
   "metadata": {
    "ExecuteTime": {
     "end_time": "2022-02-16T15:03:31.260897Z",
     "start_time": "2022-02-16T15:03:31.251074Z"
    }
   },
   "outputs": [
    {
     "data": {
      "text/plain": [
       "35"
      ]
     },
     "execution_count": 78,
     "metadata": {},
     "output_type": "execute_result"
    }
   ],
   "source": [
    "np.max(weather_data['temperature'])"
   ]
  },
  {
   "cell_type": "code",
   "execution_count": null,
   "id": "47c7a2f1",
   "metadata": {
    "ExecuteTime": {
     "end_time": "2022-02-16T15:03:50.655896Z",
     "start_time": "2022-02-16T15:03:50.642667Z"
    }
   },
   "outputs": [],
   "source": [
    "weather_data['temperature'].min()"
   ]
  },
  {
   "cell_type": "code",
   "execution_count": 80,
   "id": "95a18780",
   "metadata": {
    "ExecuteTime": {
     "end_time": "2022-02-16T15:04:29.140081Z",
     "start_time": "2022-02-16T15:04:29.130761Z"
    }
   },
   "outputs": [
    {
     "data": {
      "text/plain": [
       "dtype('int64')"
      ]
     },
     "execution_count": 80,
     "metadata": {},
     "output_type": "execute_result"
    }
   ],
   "source": [
    "weather_data['temperature'].dtype"
   ]
  },
  {
   "cell_type": "code",
   "execution_count": 82,
   "id": "4d018794",
   "metadata": {
    "ExecuteTime": {
     "end_time": "2022-02-16T15:04:59.881626Z",
     "start_time": "2022-02-16T15:04:59.864085Z"
    }
   },
   "outputs": [
    {
     "data": {
      "text/html": [
       "<div>\n",
       "<style scoped>\n",
       "    .dataframe tbody tr th:only-of-type {\n",
       "        vertical-align: middle;\n",
       "    }\n",
       "\n",
       "    .dataframe tbody tr th {\n",
       "        vertical-align: top;\n",
       "    }\n",
       "\n",
       "    .dataframe thead th {\n",
       "        text-align: right;\n",
       "    }\n",
       "</style>\n",
       "<table border=\"1\" class=\"dataframe\">\n",
       "  <thead>\n",
       "    <tr style=\"text-align: right;\">\n",
       "      <th></th>\n",
       "      <th>day</th>\n",
       "      <th>temperature</th>\n",
       "      <th>windspeed</th>\n",
       "      <th>event</th>\n",
       "    </tr>\n",
       "  </thead>\n",
       "  <tbody>\n",
       "    <tr>\n",
       "      <th>0</th>\n",
       "      <td>1/1/2017</td>\n",
       "      <td>32</td>\n",
       "      <td>6</td>\n",
       "      <td>Rain</td>\n",
       "    </tr>\n",
       "    <tr>\n",
       "      <th>1</th>\n",
       "      <td>1/2/2017</td>\n",
       "      <td>35</td>\n",
       "      <td>7</td>\n",
       "      <td>Sunny</td>\n",
       "    </tr>\n",
       "    <tr>\n",
       "      <th>2</th>\n",
       "      <td>1/3/2017</td>\n",
       "      <td>28</td>\n",
       "      <td>2</td>\n",
       "      <td>Snow</td>\n",
       "    </tr>\n",
       "  </tbody>\n",
       "</table>\n",
       "</div>"
      ],
      "text/plain": [
       "        day  temperature  windspeed  event\n",
       "0  1/1/2017           32          6   Rain\n",
       "1  1/2/2017           35          7  Sunny\n",
       "2  1/3/2017           28          2   Snow"
      ]
     },
     "execution_count": 82,
     "metadata": {},
     "output_type": "execute_result"
    }
   ],
   "source": [
    "weather_data.head(3)"
   ]
  },
  {
   "cell_type": "code",
   "execution_count": 85,
   "id": "3ccbddfb",
   "metadata": {
    "ExecuteTime": {
     "end_time": "2022-02-16T15:05:20.101265Z",
     "start_time": "2022-02-16T15:05:20.085020Z"
    }
   },
   "outputs": [
    {
     "data": {
      "text/html": [
       "<div>\n",
       "<style scoped>\n",
       "    .dataframe tbody tr th:only-of-type {\n",
       "        vertical-align: middle;\n",
       "    }\n",
       "\n",
       "    .dataframe tbody tr th {\n",
       "        vertical-align: top;\n",
       "    }\n",
       "\n",
       "    .dataframe thead th {\n",
       "        text-align: right;\n",
       "    }\n",
       "</style>\n",
       "<table border=\"1\" class=\"dataframe\">\n",
       "  <thead>\n",
       "    <tr style=\"text-align: right;\">\n",
       "      <th></th>\n",
       "      <th>day</th>\n",
       "      <th>temperature</th>\n",
       "      <th>windspeed</th>\n",
       "      <th>event</th>\n",
       "    </tr>\n",
       "  </thead>\n",
       "  <tbody>\n",
       "    <tr>\n",
       "      <th>3</th>\n",
       "      <td>1/4/2017</td>\n",
       "      <td>24</td>\n",
       "      <td>7</td>\n",
       "      <td>Snow</td>\n",
       "    </tr>\n",
       "    <tr>\n",
       "      <th>4</th>\n",
       "      <td>1/5/2017</td>\n",
       "      <td>32</td>\n",
       "      <td>4</td>\n",
       "      <td>Rain</td>\n",
       "    </tr>\n",
       "    <tr>\n",
       "      <th>5</th>\n",
       "      <td>1/6/2017</td>\n",
       "      <td>31</td>\n",
       "      <td>2</td>\n",
       "      <td>Sunny</td>\n",
       "    </tr>\n",
       "  </tbody>\n",
       "</table>\n",
       "</div>"
      ],
      "text/plain": [
       "        day  temperature  windspeed  event\n",
       "3  1/4/2017           24          7   Snow\n",
       "4  1/5/2017           32          4   Rain\n",
       "5  1/6/2017           31          2  Sunny"
      ]
     },
     "execution_count": 85,
     "metadata": {},
     "output_type": "execute_result"
    }
   ],
   "source": [
    "weather_data.tail(3)"
   ]
  },
  {
   "cell_type": "code",
   "execution_count": 88,
   "id": "d0c39406",
   "metadata": {
    "ExecuteTime": {
     "end_time": "2022-02-16T15:07:13.637433Z",
     "start_time": "2022-02-16T15:07:13.607415Z"
    }
   },
   "outputs": [
    {
     "data": {
      "text/plain": [
       "30.333333333333332"
      ]
     },
     "execution_count": 88,
     "metadata": {},
     "output_type": "execute_result"
    }
   ],
   "source": [
    "weather_data.describe()['temperature']['mean']"
   ]
  },
  {
   "cell_type": "markdown",
   "id": "9e1790b0",
   "metadata": {},
   "source": [
    "# Indexing and Slicing"
   ]
  },
  {
   "cell_type": "code",
   "execution_count": 90,
   "id": "417217bf",
   "metadata": {
    "ExecuteTime": {
     "end_time": "2022-02-16T15:08:36.351626Z",
     "start_time": "2022-02-16T15:08:36.088200Z"
    }
   },
   "outputs": [
    {
     "data": {
      "text/html": [
       "<div>\n",
       "<style scoped>\n",
       "    .dataframe tbody tr th:only-of-type {\n",
       "        vertical-align: middle;\n",
       "    }\n",
       "\n",
       "    .dataframe tbody tr th {\n",
       "        vertical-align: top;\n",
       "    }\n",
       "\n",
       "    .dataframe thead th {\n",
       "        text-align: right;\n",
       "    }\n",
       "</style>\n",
       "<table border=\"1\" class=\"dataframe\">\n",
       "  <thead>\n",
       "    <tr style=\"text-align: right;\">\n",
       "      <th></th>\n",
       "      <th>tripduration</th>\n",
       "      <th>starttime</th>\n",
       "      <th>stoptime</th>\n",
       "      <th>start station id</th>\n",
       "      <th>start station name</th>\n",
       "      <th>end station id</th>\n",
       "      <th>end station name</th>\n",
       "      <th>bikeid</th>\n",
       "      <th>name_localizedValue</th>\n",
       "      <th>usertype</th>\n",
       "    </tr>\n",
       "  </thead>\n",
       "  <tbody>\n",
       "    <tr>\n",
       "      <th>0</th>\n",
       "      <td>338</td>\n",
       "      <td>2018-05-01 00:04:47</td>\n",
       "      <td>2018-05-01 00:10:25</td>\n",
       "      <td>3639</td>\n",
       "      <td>Harborside</td>\n",
       "      <td>3199</td>\n",
       "      <td>Newport Pkwy</td>\n",
       "      <td>33558</td>\n",
       "      <td>Annual Membership</td>\n",
       "      <td>Subscriber</td>\n",
       "    </tr>\n",
       "    <tr>\n",
       "      <th>1</th>\n",
       "      <td>1482</td>\n",
       "      <td>2018-05-01 01:31:10</td>\n",
       "      <td>2018-05-01 01:55:53</td>\n",
       "      <td>3681</td>\n",
       "      <td>Grand St</td>\n",
       "      <td>3185</td>\n",
       "      <td>City Hall</td>\n",
       "      <td>33593</td>\n",
       "      <td>24 Hour</td>\n",
       "      <td>Customer</td>\n",
       "    </tr>\n",
       "    <tr>\n",
       "      <th>2</th>\n",
       "      <td>232</td>\n",
       "      <td>2018-05-01 01:31:29</td>\n",
       "      <td>2018-05-01 01:35:22</td>\n",
       "      <td>3194</td>\n",
       "      <td>McGinley Square</td>\n",
       "      <td>3193</td>\n",
       "      <td>Lincoln Park</td>\n",
       "      <td>29217</td>\n",
       "      <td>FREE Bonus Month with Annual Membership</td>\n",
       "      <td>Subscriber</td>\n",
       "    </tr>\n",
       "    <tr>\n",
       "      <th>3</th>\n",
       "      <td>190</td>\n",
       "      <td>2018-05-01 02:03:29</td>\n",
       "      <td>2018-05-01 02:06:40</td>\n",
       "      <td>3185</td>\n",
       "      <td>City Hall</td>\n",
       "      <td>3186</td>\n",
       "      <td>Grove St PATH</td>\n",
       "      <td>29662</td>\n",
       "      <td>24 Hour</td>\n",
       "      <td>Customer</td>\n",
       "    </tr>\n",
       "    <tr>\n",
       "      <th>4</th>\n",
       "      <td>303</td>\n",
       "      <td>2018-05-01 04:27:12</td>\n",
       "      <td>2018-05-01 04:32:16</td>\n",
       "      <td>3207</td>\n",
       "      <td>Oakland Ave</td>\n",
       "      <td>3195</td>\n",
       "      <td>Sip Ave</td>\n",
       "      <td>15271</td>\n",
       "      <td>Annual Membership</td>\n",
       "      <td>Subscriber</td>\n",
       "    </tr>\n",
       "    <tr>\n",
       "      <th>5</th>\n",
       "      <td>176</td>\n",
       "      <td>2018-05-01 04:37:05</td>\n",
       "      <td>2018-05-01 04:40:01</td>\n",
       "      <td>3194</td>\n",
       "      <td>McGinley Square</td>\n",
       "      <td>3195</td>\n",
       "      <td>Sip Ave</td>\n",
       "      <td>29298</td>\n",
       "      <td>Annual Membership</td>\n",
       "      <td>Subscriber</td>\n",
       "    </tr>\n",
       "    <tr>\n",
       "      <th>6</th>\n",
       "      <td>577</td>\n",
       "      <td>2018-05-01 05:05:46</td>\n",
       "      <td>2018-05-01 05:15:23</td>\n",
       "      <td>3225</td>\n",
       "      <td>Baldwin at Montgomery</td>\n",
       "      <td>3186</td>\n",
       "      <td>Grove St PATH</td>\n",
       "      <td>33619</td>\n",
       "      <td>Annual Membership from Citi Bike App</td>\n",
       "      <td>Subscriber</td>\n",
       "    </tr>\n",
       "    <tr>\n",
       "      <th>7</th>\n",
       "      <td>830</td>\n",
       "      <td>2018-05-01 05:11:50</td>\n",
       "      <td>2018-05-01 05:25:41</td>\n",
       "      <td>3207</td>\n",
       "      <td>Oakland Ave</td>\n",
       "      <td>3185</td>\n",
       "      <td>City Hall</td>\n",
       "      <td>33624</td>\n",
       "      <td>Annual Membership</td>\n",
       "      <td>Subscriber</td>\n",
       "    </tr>\n",
       "    <tr>\n",
       "      <th>8</th>\n",
       "      <td>395</td>\n",
       "      <td>2018-05-01 05:12:07</td>\n",
       "      <td>2018-05-01 05:18:42</td>\n",
       "      <td>3225</td>\n",
       "      <td>Baldwin at Montgomery</td>\n",
       "      <td>3186</td>\n",
       "      <td>Grove St PATH</td>\n",
       "      <td>26300</td>\n",
       "      <td>Annual Membership</td>\n",
       "      <td>Subscriber</td>\n",
       "    </tr>\n",
       "    <tr>\n",
       "      <th>9</th>\n",
       "      <td>170</td>\n",
       "      <td>2018-05-01 05:13:52</td>\n",
       "      <td>2018-05-01 05:16:43</td>\n",
       "      <td>3206</td>\n",
       "      <td>Hilltop</td>\n",
       "      <td>3195</td>\n",
       "      <td>Sip Ave</td>\n",
       "      <td>33555</td>\n",
       "      <td>$25 Off Annual Membership</td>\n",
       "      <td>Subscriber</td>\n",
       "    </tr>\n",
       "  </tbody>\n",
       "</table>\n",
       "</div>"
      ],
      "text/plain": [
       "   tripduration            starttime             stoptime  start station id  \\\n",
       "0           338  2018-05-01 00:04:47  2018-05-01 00:10:25              3639   \n",
       "1          1482  2018-05-01 01:31:10  2018-05-01 01:55:53              3681   \n",
       "2           232  2018-05-01 01:31:29  2018-05-01 01:35:22              3194   \n",
       "3           190  2018-05-01 02:03:29  2018-05-01 02:06:40              3185   \n",
       "4           303  2018-05-01 04:27:12  2018-05-01 04:32:16              3207   \n",
       "5           176  2018-05-01 04:37:05  2018-05-01 04:40:01              3194   \n",
       "6           577  2018-05-01 05:05:46  2018-05-01 05:15:23              3225   \n",
       "7           830  2018-05-01 05:11:50  2018-05-01 05:25:41              3207   \n",
       "8           395  2018-05-01 05:12:07  2018-05-01 05:18:42              3225   \n",
       "9           170  2018-05-01 05:13:52  2018-05-01 05:16:43              3206   \n",
       "\n",
       "      start station name  end station id end station name  bikeid  \\\n",
       "0             Harborside            3199     Newport Pkwy   33558   \n",
       "1               Grand St            3185        City Hall   33593   \n",
       "2        McGinley Square            3193     Lincoln Park   29217   \n",
       "3              City Hall            3186    Grove St PATH   29662   \n",
       "4            Oakland Ave            3195          Sip Ave   15271   \n",
       "5        McGinley Square            3195          Sip Ave   29298   \n",
       "6  Baldwin at Montgomery            3186    Grove St PATH   33619   \n",
       "7            Oakland Ave            3185        City Hall   33624   \n",
       "8  Baldwin at Montgomery            3186    Grove St PATH   26300   \n",
       "9                Hilltop            3195          Sip Ave   33555   \n",
       "\n",
       "                       name_localizedValue    usertype  \n",
       "0                        Annual Membership  Subscriber  \n",
       "1                                  24 Hour    Customer  \n",
       "2  FREE Bonus Month with Annual Membership  Subscriber  \n",
       "3                                  24 Hour    Customer  \n",
       "4                        Annual Membership  Subscriber  \n",
       "5                        Annual Membership  Subscriber  \n",
       "6     Annual Membership from Citi Bike App  Subscriber  \n",
       "7                        Annual Membership  Subscriber  \n",
       "8                        Annual Membership  Subscriber  \n",
       "9                $25 Off Annual Membership  Subscriber  "
      ]
     },
     "execution_count": 90,
     "metadata": {},
     "output_type": "execute_result"
    }
   ],
   "source": [
    "bike_data = pd.read_csv('datasets/citibike_tripdata.csv')\n",
    "bike_data.head(10)"
   ]
  },
  {
   "cell_type": "code",
   "execution_count": 91,
   "id": "700669d5",
   "metadata": {
    "ExecuteTime": {
     "end_time": "2022-02-16T15:08:49.617030Z",
     "start_time": "2022-02-16T15:08:49.583535Z"
    }
   },
   "outputs": [
    {
     "data": {
      "text/html": [
       "<div>\n",
       "<style scoped>\n",
       "    .dataframe tbody tr th:only-of-type {\n",
       "        vertical-align: middle;\n",
       "    }\n",
       "\n",
       "    .dataframe tbody tr th {\n",
       "        vertical-align: top;\n",
       "    }\n",
       "\n",
       "    .dataframe thead th {\n",
       "        text-align: right;\n",
       "    }\n",
       "</style>\n",
       "<table border=\"1\" class=\"dataframe\">\n",
       "  <thead>\n",
       "    <tr style=\"text-align: right;\">\n",
       "      <th></th>\n",
       "      <th>tripduration</th>\n",
       "      <th>starttime</th>\n",
       "      <th>stoptime</th>\n",
       "      <th>start station id</th>\n",
       "      <th>start station name</th>\n",
       "      <th>end station id</th>\n",
       "      <th>end station name</th>\n",
       "      <th>bikeid</th>\n",
       "      <th>name_localizedValue</th>\n",
       "      <th>usertype</th>\n",
       "    </tr>\n",
       "  </thead>\n",
       "  <tbody>\n",
       "    <tr>\n",
       "      <th>32418</th>\n",
       "      <td>340</td>\n",
       "      <td>2018-05-30 13:42:45</td>\n",
       "      <td>2018-05-30 13:48:26</td>\n",
       "      <td>3203</td>\n",
       "      <td>Hamilton Park</td>\n",
       "      <td>3199</td>\n",
       "      <td>Newport Pkwy</td>\n",
       "      <td>33652</td>\n",
       "      <td>Annual Membership</td>\n",
       "      <td>Subscriber</td>\n",
       "    </tr>\n",
       "    <tr>\n",
       "      <th>32419</th>\n",
       "      <td>307</td>\n",
       "      <td>2018-05-30 13:44:09</td>\n",
       "      <td>2018-05-30 13:49:16</td>\n",
       "      <td>3187</td>\n",
       "      <td>Warren St</td>\n",
       "      <td>3202</td>\n",
       "      <td>Newport PATH</td>\n",
       "      <td>33558</td>\n",
       "      <td>Annual Membership</td>\n",
       "      <td>Subscriber</td>\n",
       "    </tr>\n",
       "    <tr>\n",
       "      <th>32420</th>\n",
       "      <td>485</td>\n",
       "      <td>2018-05-30 13:44:46</td>\n",
       "      <td>2018-05-30 13:52:51</td>\n",
       "      <td>3183</td>\n",
       "      <td>Exchange Place</td>\n",
       "      <td>3211</td>\n",
       "      <td>Newark Ave</td>\n",
       "      <td>29534</td>\n",
       "      <td>Annual Membership - Save 15%</td>\n",
       "      <td>Subscriber</td>\n",
       "    </tr>\n",
       "    <tr>\n",
       "      <th>32421</th>\n",
       "      <td>255</td>\n",
       "      <td>2018-05-30 13:45:38</td>\n",
       "      <td>2018-05-30 13:49:54</td>\n",
       "      <td>3183</td>\n",
       "      <td>Exchange Place</td>\n",
       "      <td>3213</td>\n",
       "      <td>Van Vorst Park</td>\n",
       "      <td>29443</td>\n",
       "      <td>Annual Membership</td>\n",
       "      <td>Subscriber</td>\n",
       "    </tr>\n",
       "    <tr>\n",
       "      <th>32422</th>\n",
       "      <td>108</td>\n",
       "      <td>2018-05-30 13:49:12</td>\n",
       "      <td>2018-05-30 13:51:00</td>\n",
       "      <td>3202</td>\n",
       "      <td>Newport PATH</td>\n",
       "      <td>3199</td>\n",
       "      <td>Newport Pkwy</td>\n",
       "      <td>29461</td>\n",
       "      <td>Annual Membership</td>\n",
       "      <td>Subscriber</td>\n",
       "    </tr>\n",
       "    <tr>\n",
       "      <th>32423</th>\n",
       "      <td>396</td>\n",
       "      <td>2018-05-30 13:49:18</td>\n",
       "      <td>2018-05-30 13:55:55</td>\n",
       "      <td>3184</td>\n",
       "      <td>Paulus Hook</td>\n",
       "      <td>3279</td>\n",
       "      <td>Dixon Mills</td>\n",
       "      <td>29639</td>\n",
       "      <td>Join Citi Bike for $14.95/month</td>\n",
       "      <td>Subscriber</td>\n",
       "    </tr>\n",
       "    <tr>\n",
       "      <th>32424</th>\n",
       "      <td>313</td>\n",
       "      <td>2018-05-30 13:49:21</td>\n",
       "      <td>2018-05-30 13:54:35</td>\n",
       "      <td>3202</td>\n",
       "      <td>Newport PATH</td>\n",
       "      <td>3639</td>\n",
       "      <td>Harborside</td>\n",
       "      <td>26301</td>\n",
       "      <td>$25 Off Annual Membership</td>\n",
       "      <td>Subscriber</td>\n",
       "    </tr>\n",
       "    <tr>\n",
       "      <th>32425</th>\n",
       "      <td>316</td>\n",
       "      <td>2018-05-30 13:49:51</td>\n",
       "      <td>2018-05-30 13:55:08</td>\n",
       "      <td>3220</td>\n",
       "      <td>5 Corners Library</td>\n",
       "      <td>3195</td>\n",
       "      <td>Sip Ave</td>\n",
       "      <td>29260</td>\n",
       "      <td>Annual Membership</td>\n",
       "      <td>Subscriber</td>\n",
       "    </tr>\n",
       "    <tr>\n",
       "      <th>32426</th>\n",
       "      <td>1130</td>\n",
       "      <td>2018-05-30 13:50:52</td>\n",
       "      <td>2018-05-30 14:09:42</td>\n",
       "      <td>3281</td>\n",
       "      <td>Leonard Gordon Park</td>\n",
       "      <td>3213</td>\n",
       "      <td>Van Vorst Park</td>\n",
       "      <td>26239</td>\n",
       "      <td>Annual Membership</td>\n",
       "      <td>Subscriber</td>\n",
       "    </tr>\n",
       "    <tr>\n",
       "      <th>32427</th>\n",
       "      <td>369</td>\n",
       "      <td>2018-05-30 13:50:58</td>\n",
       "      <td>2018-05-30 13:57:08</td>\n",
       "      <td>3220</td>\n",
       "      <td>5 Corners Library</td>\n",
       "      <td>3207</td>\n",
       "      <td>Oakland Ave</td>\n",
       "      <td>33660</td>\n",
       "      <td>Annual Membership</td>\n",
       "      <td>Subscriber</td>\n",
       "    </tr>\n",
       "  </tbody>\n",
       "</table>\n",
       "</div>"
      ],
      "text/plain": [
       "       tripduration            starttime             stoptime  \\\n",
       "32418           340  2018-05-30 13:42:45  2018-05-30 13:48:26   \n",
       "32419           307  2018-05-30 13:44:09  2018-05-30 13:49:16   \n",
       "32420           485  2018-05-30 13:44:46  2018-05-30 13:52:51   \n",
       "32421           255  2018-05-30 13:45:38  2018-05-30 13:49:54   \n",
       "32422           108  2018-05-30 13:49:12  2018-05-30 13:51:00   \n",
       "32423           396  2018-05-30 13:49:18  2018-05-30 13:55:55   \n",
       "32424           313  2018-05-30 13:49:21  2018-05-30 13:54:35   \n",
       "32425           316  2018-05-30 13:49:51  2018-05-30 13:55:08   \n",
       "32426          1130  2018-05-30 13:50:52  2018-05-30 14:09:42   \n",
       "32427           369  2018-05-30 13:50:58  2018-05-30 13:57:08   \n",
       "\n",
       "       start station id   start station name  end station id end station name  \\\n",
       "32418              3203        Hamilton Park            3199     Newport Pkwy   \n",
       "32419              3187            Warren St            3202     Newport PATH   \n",
       "32420              3183       Exchange Place            3211       Newark Ave   \n",
       "32421              3183       Exchange Place            3213   Van Vorst Park   \n",
       "32422              3202         Newport PATH            3199     Newport Pkwy   \n",
       "32423              3184          Paulus Hook            3279      Dixon Mills   \n",
       "32424              3202         Newport PATH            3639       Harborside   \n",
       "32425              3220    5 Corners Library            3195          Sip Ave   \n",
       "32426              3281  Leonard Gordon Park            3213   Van Vorst Park   \n",
       "32427              3220    5 Corners Library            3207      Oakland Ave   \n",
       "\n",
       "       bikeid              name_localizedValue    usertype  \n",
       "32418   33652                Annual Membership  Subscriber  \n",
       "32419   33558                Annual Membership  Subscriber  \n",
       "32420   29534     Annual Membership - Save 15%  Subscriber  \n",
       "32421   29443                Annual Membership  Subscriber  \n",
       "32422   29461                Annual Membership  Subscriber  \n",
       "32423   29639  Join Citi Bike for $14.95/month  Subscriber  \n",
       "32424   26301        $25 Off Annual Membership  Subscriber  \n",
       "32425   29260                Annual Membership  Subscriber  \n",
       "32426   26239                Annual Membership  Subscriber  \n",
       "32427   33660                Annual Membership  Subscriber  "
      ]
     },
     "execution_count": 91,
     "metadata": {},
     "output_type": "execute_result"
    }
   ],
   "source": [
    "bike_data.tail(10)"
   ]
  },
  {
   "cell_type": "code",
   "execution_count": 92,
   "id": "88371d14",
   "metadata": {
    "ExecuteTime": {
     "end_time": "2022-02-16T15:09:33.239226Z",
     "start_time": "2022-02-16T15:09:33.226554Z"
    }
   },
   "outputs": [
    {
     "data": {
      "text/plain": [
       "Index(['tripduration', 'starttime', 'stoptime', 'start station id',\n",
       "       'start station name', 'end station id', 'end station name', 'bikeid',\n",
       "       'name_localizedValue', 'usertype'],\n",
       "      dtype='object')"
      ]
     },
     "execution_count": 92,
     "metadata": {},
     "output_type": "execute_result"
    }
   ],
   "source": [
    "bike_data.columns"
   ]
  },
  {
   "cell_type": "code",
   "execution_count": 93,
   "id": "9d9a4b6e",
   "metadata": {
    "ExecuteTime": {
     "end_time": "2022-02-16T15:10:33.856820Z",
     "start_time": "2022-02-16T15:10:33.830996Z"
    }
   },
   "outputs": [
    {
     "data": {
      "text/html": [
       "<div>\n",
       "<style scoped>\n",
       "    .dataframe tbody tr th:only-of-type {\n",
       "        vertical-align: middle;\n",
       "    }\n",
       "\n",
       "    .dataframe tbody tr th {\n",
       "        vertical-align: top;\n",
       "    }\n",
       "\n",
       "    .dataframe thead th {\n",
       "        text-align: right;\n",
       "    }\n",
       "</style>\n",
       "<table border=\"1\" class=\"dataframe\">\n",
       "  <thead>\n",
       "    <tr style=\"text-align: right;\">\n",
       "      <th></th>\n",
       "      <th>tripduration</th>\n",
       "      <th>starttime</th>\n",
       "      <th>stoptime</th>\n",
       "      <th>start station id</th>\n",
       "      <th>start station name</th>\n",
       "      <th>end station id</th>\n",
       "      <th>end station name</th>\n",
       "      <th>bikeid</th>\n",
       "      <th>name_localizedValue</th>\n",
       "      <th>usertype</th>\n",
       "    </tr>\n",
       "  </thead>\n",
       "  <tbody>\n",
       "    <tr>\n",
       "      <th>0</th>\n",
       "      <td>338</td>\n",
       "      <td>2018-05-01 00:04:47</td>\n",
       "      <td>2018-05-01 00:10:25</td>\n",
       "      <td>3639</td>\n",
       "      <td>Harborside</td>\n",
       "      <td>3199</td>\n",
       "      <td>Newport Pkwy</td>\n",
       "      <td>33558</td>\n",
       "      <td>Annual Membership</td>\n",
       "      <td>Subscriber</td>\n",
       "    </tr>\n",
       "    <tr>\n",
       "      <th>1</th>\n",
       "      <td>1482</td>\n",
       "      <td>2018-05-01 01:31:10</td>\n",
       "      <td>2018-05-01 01:55:53</td>\n",
       "      <td>3681</td>\n",
       "      <td>Grand St</td>\n",
       "      <td>3185</td>\n",
       "      <td>City Hall</td>\n",
       "      <td>33593</td>\n",
       "      <td>24 Hour</td>\n",
       "      <td>Customer</td>\n",
       "    </tr>\n",
       "    <tr>\n",
       "      <th>2</th>\n",
       "      <td>232</td>\n",
       "      <td>2018-05-01 01:31:29</td>\n",
       "      <td>2018-05-01 01:35:22</td>\n",
       "      <td>3194</td>\n",
       "      <td>McGinley Square</td>\n",
       "      <td>3193</td>\n",
       "      <td>Lincoln Park</td>\n",
       "      <td>29217</td>\n",
       "      <td>FREE Bonus Month with Annual Membership</td>\n",
       "      <td>Subscriber</td>\n",
       "    </tr>\n",
       "    <tr>\n",
       "      <th>3</th>\n",
       "      <td>190</td>\n",
       "      <td>2018-05-01 02:03:29</td>\n",
       "      <td>2018-05-01 02:06:40</td>\n",
       "      <td>3185</td>\n",
       "      <td>City Hall</td>\n",
       "      <td>3186</td>\n",
       "      <td>Grove St PATH</td>\n",
       "      <td>29662</td>\n",
       "      <td>24 Hour</td>\n",
       "      <td>Customer</td>\n",
       "    </tr>\n",
       "    <tr>\n",
       "      <th>4</th>\n",
       "      <td>303</td>\n",
       "      <td>2018-05-01 04:27:12</td>\n",
       "      <td>2018-05-01 04:32:16</td>\n",
       "      <td>3207</td>\n",
       "      <td>Oakland Ave</td>\n",
       "      <td>3195</td>\n",
       "      <td>Sip Ave</td>\n",
       "      <td>15271</td>\n",
       "      <td>Annual Membership</td>\n",
       "      <td>Subscriber</td>\n",
       "    </tr>\n",
       "  </tbody>\n",
       "</table>\n",
       "</div>"
      ],
      "text/plain": [
       "   tripduration            starttime             stoptime  start station id  \\\n",
       "0           338  2018-05-01 00:04:47  2018-05-01 00:10:25              3639   \n",
       "1          1482  2018-05-01 01:31:10  2018-05-01 01:55:53              3681   \n",
       "2           232  2018-05-01 01:31:29  2018-05-01 01:35:22              3194   \n",
       "3           190  2018-05-01 02:03:29  2018-05-01 02:06:40              3185   \n",
       "4           303  2018-05-01 04:27:12  2018-05-01 04:32:16              3207   \n",
       "\n",
       "  start station name  end station id end station name  bikeid  \\\n",
       "0         Harborside            3199     Newport Pkwy   33558   \n",
       "1           Grand St            3185        City Hall   33593   \n",
       "2    McGinley Square            3193     Lincoln Park   29217   \n",
       "3          City Hall            3186    Grove St PATH   29662   \n",
       "4        Oakland Ave            3195          Sip Ave   15271   \n",
       "\n",
       "                       name_localizedValue    usertype  \n",
       "0                        Annual Membership  Subscriber  \n",
       "1                                  24 Hour    Customer  \n",
       "2  FREE Bonus Month with Annual Membership  Subscriber  \n",
       "3                                  24 Hour    Customer  \n",
       "4                        Annual Membership  Subscriber  "
      ]
     },
     "execution_count": 93,
     "metadata": {},
     "output_type": "execute_result"
    }
   ],
   "source": [
    "bike_data.head()"
   ]
  },
  {
   "cell_type": "code",
   "execution_count": 99,
   "id": "083cd3db",
   "metadata": {
    "ExecuteTime": {
     "end_time": "2022-02-16T15:12:27.867871Z",
     "start_time": "2022-02-16T15:12:27.808883Z"
    }
   },
   "outputs": [
    {
     "name": "stderr",
     "output_type": "stream",
     "text": [
      "<ipython-input-99-7ad9f91b89d2>:1: SettingWithCopyWarning: \n",
      "A value is trying to be set on a copy of a slice from a DataFrame\n",
      "\n",
      "See the caveats in the documentation: https://pandas.pydata.org/pandas-docs/stable/user_guide/indexing.html#returning-a-view-versus-a-copy\n",
      "  bike_data['tripduration'][1] = 1400\n"
     ]
    },
    {
     "data": {
      "text/html": [
       "<div>\n",
       "<style scoped>\n",
       "    .dataframe tbody tr th:only-of-type {\n",
       "        vertical-align: middle;\n",
       "    }\n",
       "\n",
       "    .dataframe tbody tr th {\n",
       "        vertical-align: top;\n",
       "    }\n",
       "\n",
       "    .dataframe thead th {\n",
       "        text-align: right;\n",
       "    }\n",
       "</style>\n",
       "<table border=\"1\" class=\"dataframe\">\n",
       "  <thead>\n",
       "    <tr style=\"text-align: right;\">\n",
       "      <th></th>\n",
       "      <th>tripduration</th>\n",
       "      <th>starttime</th>\n",
       "      <th>stoptime</th>\n",
       "      <th>start station id</th>\n",
       "      <th>start station name</th>\n",
       "      <th>end station id</th>\n",
       "      <th>end station name</th>\n",
       "      <th>bikeid</th>\n",
       "      <th>name_localizedValue</th>\n",
       "      <th>usertype</th>\n",
       "    </tr>\n",
       "  </thead>\n",
       "  <tbody>\n",
       "    <tr>\n",
       "      <th>0</th>\n",
       "      <td>338</td>\n",
       "      <td>2018-05-01 00:04:47</td>\n",
       "      <td>2018-05-01 00:10:25</td>\n",
       "      <td>3639</td>\n",
       "      <td>Harborside</td>\n",
       "      <td>3199</td>\n",
       "      <td>Newport Pkwy</td>\n",
       "      <td>33558</td>\n",
       "      <td>Annual Membership</td>\n",
       "      <td>Subscriber</td>\n",
       "    </tr>\n",
       "    <tr>\n",
       "      <th>1</th>\n",
       "      <td>1400</td>\n",
       "      <td>2018-05-01 01:31:10</td>\n",
       "      <td>2018-05-01 01:55:53</td>\n",
       "      <td>3681</td>\n",
       "      <td>Grand St</td>\n",
       "      <td>3185</td>\n",
       "      <td>City Hall</td>\n",
       "      <td>33593</td>\n",
       "      <td>24 Hour</td>\n",
       "      <td>Customer</td>\n",
       "    </tr>\n",
       "    <tr>\n",
       "      <th>2</th>\n",
       "      <td>232</td>\n",
       "      <td>2018-05-01 01:31:29</td>\n",
       "      <td>2018-05-01 01:35:22</td>\n",
       "      <td>3194</td>\n",
       "      <td>McGinley Square</td>\n",
       "      <td>3193</td>\n",
       "      <td>Lincoln Park</td>\n",
       "      <td>29217</td>\n",
       "      <td>FREE Bonus Month with Annual Membership</td>\n",
       "      <td>Subscriber</td>\n",
       "    </tr>\n",
       "    <tr>\n",
       "      <th>3</th>\n",
       "      <td>190</td>\n",
       "      <td>2018-05-01 02:03:29</td>\n",
       "      <td>2018-05-01 02:06:40</td>\n",
       "      <td>3185</td>\n",
       "      <td>City Hall</td>\n",
       "      <td>3186</td>\n",
       "      <td>Grove St PATH</td>\n",
       "      <td>29662</td>\n",
       "      <td>24 Hour</td>\n",
       "      <td>Customer</td>\n",
       "    </tr>\n",
       "    <tr>\n",
       "      <th>4</th>\n",
       "      <td>303</td>\n",
       "      <td>2018-05-01 04:27:12</td>\n",
       "      <td>2018-05-01 04:32:16</td>\n",
       "      <td>3207</td>\n",
       "      <td>Oakland Ave</td>\n",
       "      <td>3195</td>\n",
       "      <td>Sip Ave</td>\n",
       "      <td>15271</td>\n",
       "      <td>Annual Membership</td>\n",
       "      <td>Subscriber</td>\n",
       "    </tr>\n",
       "    <tr>\n",
       "      <th>...</th>\n",
       "      <td>...</td>\n",
       "      <td>...</td>\n",
       "      <td>...</td>\n",
       "      <td>...</td>\n",
       "      <td>...</td>\n",
       "      <td>...</td>\n",
       "      <td>...</td>\n",
       "      <td>...</td>\n",
       "      <td>...</td>\n",
       "      <td>...</td>\n",
       "    </tr>\n",
       "    <tr>\n",
       "      <th>32423</th>\n",
       "      <td>396</td>\n",
       "      <td>2018-05-30 13:49:18</td>\n",
       "      <td>2018-05-30 13:55:55</td>\n",
       "      <td>3184</td>\n",
       "      <td>Paulus Hook</td>\n",
       "      <td>3279</td>\n",
       "      <td>Dixon Mills</td>\n",
       "      <td>29639</td>\n",
       "      <td>Join Citi Bike for $14.95/month</td>\n",
       "      <td>Subscriber</td>\n",
       "    </tr>\n",
       "    <tr>\n",
       "      <th>32424</th>\n",
       "      <td>313</td>\n",
       "      <td>2018-05-30 13:49:21</td>\n",
       "      <td>2018-05-30 13:54:35</td>\n",
       "      <td>3202</td>\n",
       "      <td>Newport PATH</td>\n",
       "      <td>3639</td>\n",
       "      <td>Harborside</td>\n",
       "      <td>26301</td>\n",
       "      <td>$25 Off Annual Membership</td>\n",
       "      <td>Subscriber</td>\n",
       "    </tr>\n",
       "    <tr>\n",
       "      <th>32425</th>\n",
       "      <td>316</td>\n",
       "      <td>2018-05-30 13:49:51</td>\n",
       "      <td>2018-05-30 13:55:08</td>\n",
       "      <td>3220</td>\n",
       "      <td>5 Corners Library</td>\n",
       "      <td>3195</td>\n",
       "      <td>Sip Ave</td>\n",
       "      <td>29260</td>\n",
       "      <td>Annual Membership</td>\n",
       "      <td>Subscriber</td>\n",
       "    </tr>\n",
       "    <tr>\n",
       "      <th>32426</th>\n",
       "      <td>1130</td>\n",
       "      <td>2018-05-30 13:50:52</td>\n",
       "      <td>2018-05-30 14:09:42</td>\n",
       "      <td>3281</td>\n",
       "      <td>Leonard Gordon Park</td>\n",
       "      <td>3213</td>\n",
       "      <td>Van Vorst Park</td>\n",
       "      <td>26239</td>\n",
       "      <td>Annual Membership</td>\n",
       "      <td>Subscriber</td>\n",
       "    </tr>\n",
       "    <tr>\n",
       "      <th>32427</th>\n",
       "      <td>369</td>\n",
       "      <td>2018-05-30 13:50:58</td>\n",
       "      <td>2018-05-30 13:57:08</td>\n",
       "      <td>3220</td>\n",
       "      <td>5 Corners Library</td>\n",
       "      <td>3207</td>\n",
       "      <td>Oakland Ave</td>\n",
       "      <td>33660</td>\n",
       "      <td>Annual Membership</td>\n",
       "      <td>Subscriber</td>\n",
       "    </tr>\n",
       "  </tbody>\n",
       "</table>\n",
       "<p>32428 rows × 10 columns</p>\n",
       "</div>"
      ],
      "text/plain": [
       "       tripduration            starttime             stoptime  \\\n",
       "0               338  2018-05-01 00:04:47  2018-05-01 00:10:25   \n",
       "1              1400  2018-05-01 01:31:10  2018-05-01 01:55:53   \n",
       "2               232  2018-05-01 01:31:29  2018-05-01 01:35:22   \n",
       "3               190  2018-05-01 02:03:29  2018-05-01 02:06:40   \n",
       "4               303  2018-05-01 04:27:12  2018-05-01 04:32:16   \n",
       "...             ...                  ...                  ...   \n",
       "32423           396  2018-05-30 13:49:18  2018-05-30 13:55:55   \n",
       "32424           313  2018-05-30 13:49:21  2018-05-30 13:54:35   \n",
       "32425           316  2018-05-30 13:49:51  2018-05-30 13:55:08   \n",
       "32426          1130  2018-05-30 13:50:52  2018-05-30 14:09:42   \n",
       "32427           369  2018-05-30 13:50:58  2018-05-30 13:57:08   \n",
       "\n",
       "       start station id   start station name  end station id end station name  \\\n",
       "0                  3639           Harborside            3199     Newport Pkwy   \n",
       "1                  3681             Grand St            3185        City Hall   \n",
       "2                  3194      McGinley Square            3193     Lincoln Park   \n",
       "3                  3185            City Hall            3186    Grove St PATH   \n",
       "4                  3207          Oakland Ave            3195          Sip Ave   \n",
       "...                 ...                  ...             ...              ...   \n",
       "32423              3184          Paulus Hook            3279      Dixon Mills   \n",
       "32424              3202         Newport PATH            3639       Harborside   \n",
       "32425              3220    5 Corners Library            3195          Sip Ave   \n",
       "32426              3281  Leonard Gordon Park            3213   Van Vorst Park   \n",
       "32427              3220    5 Corners Library            3207      Oakland Ave   \n",
       "\n",
       "       bikeid                      name_localizedValue    usertype  \n",
       "0       33558                        Annual Membership  Subscriber  \n",
       "1       33593                                  24 Hour    Customer  \n",
       "2       29217  FREE Bonus Month with Annual Membership  Subscriber  \n",
       "3       29662                                  24 Hour    Customer  \n",
       "4       15271                        Annual Membership  Subscriber  \n",
       "...       ...                                      ...         ...  \n",
       "32423   29639          Join Citi Bike for $14.95/month  Subscriber  \n",
       "32424   26301                $25 Off Annual Membership  Subscriber  \n",
       "32425   29260                        Annual Membership  Subscriber  \n",
       "32426   26239                        Annual Membership  Subscriber  \n",
       "32427   33660                        Annual Membership  Subscriber  \n",
       "\n",
       "[32428 rows x 10 columns]"
      ]
     },
     "execution_count": 99,
     "metadata": {},
     "output_type": "execute_result"
    }
   ],
   "source": [
    "bike_data['tripduration'][1] = 1400\n",
    "bike_data"
   ]
  },
  {
   "cell_type": "code",
   "execution_count": 100,
   "id": "eb71421d",
   "metadata": {
    "ExecuteTime": {
     "end_time": "2022-02-16T15:13:13.640658Z",
     "start_time": "2022-02-16T15:13:13.623788Z"
    }
   },
   "outputs": [
    {
     "data": {
      "text/plain": [
       "0     338\n",
       "1    1400\n",
       "2     232\n",
       "3     190\n",
       "4     303\n",
       "Name: tripduration, dtype: int64"
      ]
     },
     "execution_count": 100,
     "metadata": {},
     "output_type": "execute_result"
    }
   ],
   "source": [
    "bike_data['tripduration'].head()"
   ]
  },
  {
   "cell_type": "code",
   "execution_count": 106,
   "id": "d0f387b9",
   "metadata": {
    "ExecuteTime": {
     "end_time": "2022-02-16T15:14:40.732835Z",
     "start_time": "2022-02-16T15:14:40.714799Z"
    }
   },
   "outputs": [
    {
     "data": {
      "text/html": [
       "<div>\n",
       "<style scoped>\n",
       "    .dataframe tbody tr th:only-of-type {\n",
       "        vertical-align: middle;\n",
       "    }\n",
       "\n",
       "    .dataframe tbody tr th {\n",
       "        vertical-align: top;\n",
       "    }\n",
       "\n",
       "    .dataframe thead th {\n",
       "        text-align: right;\n",
       "    }\n",
       "</style>\n",
       "<table border=\"1\" class=\"dataframe\">\n",
       "  <thead>\n",
       "    <tr style=\"text-align: right;\">\n",
       "      <th></th>\n",
       "      <th>start station id</th>\n",
       "      <th>end station id</th>\n",
       "    </tr>\n",
       "  </thead>\n",
       "  <tbody>\n",
       "    <tr>\n",
       "      <th>0</th>\n",
       "      <td>3639</td>\n",
       "      <td>3199</td>\n",
       "    </tr>\n",
       "    <tr>\n",
       "      <th>1</th>\n",
       "      <td>3681</td>\n",
       "      <td>3185</td>\n",
       "    </tr>\n",
       "    <tr>\n",
       "      <th>2</th>\n",
       "      <td>3194</td>\n",
       "      <td>3193</td>\n",
       "    </tr>\n",
       "    <tr>\n",
       "      <th>3</th>\n",
       "      <td>3185</td>\n",
       "      <td>3186</td>\n",
       "    </tr>\n",
       "    <tr>\n",
       "      <th>4</th>\n",
       "      <td>3207</td>\n",
       "      <td>3195</td>\n",
       "    </tr>\n",
       "  </tbody>\n",
       "</table>\n",
       "</div>"
      ],
      "text/plain": [
       "   start station id  end station id\n",
       "0              3639            3199\n",
       "1              3681            3185\n",
       "2              3194            3193\n",
       "3              3185            3186\n",
       "4              3207            3195"
      ]
     },
     "execution_count": 106,
     "metadata": {},
     "output_type": "execute_result"
    }
   ],
   "source": [
    "bike_data[['start station id', 'end station id']].head()"
   ]
  },
  {
   "cell_type": "code",
   "execution_count": 109,
   "id": "e559ab07",
   "metadata": {
    "ExecuteTime": {
     "end_time": "2022-02-16T15:15:37.237930Z",
     "start_time": "2022-02-16T15:15:37.221399Z"
    }
   },
   "outputs": [
    {
     "data": {
      "text/plain": [
       "3681"
      ]
     },
     "execution_count": 109,
     "metadata": {},
     "output_type": "execute_result"
    }
   ],
   "source": [
    "bike_data[['start station id', 'end station id']]['start station id'][1]"
   ]
  },
  {
   "cell_type": "code",
   "execution_count": 110,
   "id": "13bc97b9",
   "metadata": {
    "ExecuteTime": {
     "end_time": "2022-02-16T15:16:16.444552Z",
     "start_time": "2022-02-16T15:16:16.436591Z"
    }
   },
   "outputs": [
    {
     "data": {
      "text/plain": [
       "3681"
      ]
     },
     "execution_count": 110,
     "metadata": {},
     "output_type": "execute_result"
    }
   ],
   "source": [
    "bike_data.at[1, 'start station id']"
   ]
  },
  {
   "cell_type": "code",
   "execution_count": 111,
   "id": "28558eda",
   "metadata": {
    "ExecuteTime": {
     "end_time": "2022-02-16T15:16:54.854557Z",
     "start_time": "2022-02-16T15:16:54.821243Z"
    }
   },
   "outputs": [
    {
     "data": {
      "text/html": [
       "<div>\n",
       "<style scoped>\n",
       "    .dataframe tbody tr th:only-of-type {\n",
       "        vertical-align: middle;\n",
       "    }\n",
       "\n",
       "    .dataframe tbody tr th {\n",
       "        vertical-align: top;\n",
       "    }\n",
       "\n",
       "    .dataframe thead th {\n",
       "        text-align: right;\n",
       "    }\n",
       "</style>\n",
       "<table border=\"1\" class=\"dataframe\">\n",
       "  <thead>\n",
       "    <tr style=\"text-align: right;\">\n",
       "      <th></th>\n",
       "      <th>tripduration</th>\n",
       "      <th>starttime</th>\n",
       "      <th>stoptime</th>\n",
       "      <th>start station id</th>\n",
       "      <th>start station name</th>\n",
       "      <th>end station id</th>\n",
       "      <th>end station name</th>\n",
       "      <th>bikeid</th>\n",
       "      <th>name_localizedValue</th>\n",
       "      <th>usertype</th>\n",
       "    </tr>\n",
       "  </thead>\n",
       "  <tbody>\n",
       "    <tr>\n",
       "      <th>0</th>\n",
       "      <td>338</td>\n",
       "      <td>2018-05-01 00:04:47</td>\n",
       "      <td>2018-05-01 00:10:25</td>\n",
       "      <td>3639</td>\n",
       "      <td>Harborside</td>\n",
       "      <td>3199</td>\n",
       "      <td>Newport Pkwy</td>\n",
       "      <td>33558</td>\n",
       "      <td>Annual Membership</td>\n",
       "      <td>Subscriber</td>\n",
       "    </tr>\n",
       "    <tr>\n",
       "      <th>1</th>\n",
       "      <td>1400</td>\n",
       "      <td>2018-05-01 01:31:10</td>\n",
       "      <td>2018-05-01 01:55:53</td>\n",
       "      <td>3681</td>\n",
       "      <td>Grand St</td>\n",
       "      <td>3185</td>\n",
       "      <td>City Hall</td>\n",
       "      <td>33593</td>\n",
       "      <td>24 Hour</td>\n",
       "      <td>Customer</td>\n",
       "    </tr>\n",
       "    <tr>\n",
       "      <th>2</th>\n",
       "      <td>232</td>\n",
       "      <td>2018-05-01 01:31:29</td>\n",
       "      <td>2018-05-01 01:35:22</td>\n",
       "      <td>3194</td>\n",
       "      <td>McGinley Square</td>\n",
       "      <td>3193</td>\n",
       "      <td>Lincoln Park</td>\n",
       "      <td>29217</td>\n",
       "      <td>FREE Bonus Month with Annual Membership</td>\n",
       "      <td>Subscriber</td>\n",
       "    </tr>\n",
       "    <tr>\n",
       "      <th>3</th>\n",
       "      <td>190</td>\n",
       "      <td>2018-05-01 02:03:29</td>\n",
       "      <td>2018-05-01 02:06:40</td>\n",
       "      <td>3185</td>\n",
       "      <td>City Hall</td>\n",
       "      <td>3186</td>\n",
       "      <td>Grove St PATH</td>\n",
       "      <td>29662</td>\n",
       "      <td>24 Hour</td>\n",
       "      <td>Customer</td>\n",
       "    </tr>\n",
       "    <tr>\n",
       "      <th>4</th>\n",
       "      <td>303</td>\n",
       "      <td>2018-05-01 04:27:12</td>\n",
       "      <td>2018-05-01 04:32:16</td>\n",
       "      <td>3207</td>\n",
       "      <td>Oakland Ave</td>\n",
       "      <td>3195</td>\n",
       "      <td>Sip Ave</td>\n",
       "      <td>15271</td>\n",
       "      <td>Annual Membership</td>\n",
       "      <td>Subscriber</td>\n",
       "    </tr>\n",
       "    <tr>\n",
       "      <th>5</th>\n",
       "      <td>176</td>\n",
       "      <td>2018-05-01 04:37:05</td>\n",
       "      <td>2018-05-01 04:40:01</td>\n",
       "      <td>3194</td>\n",
       "      <td>McGinley Square</td>\n",
       "      <td>3195</td>\n",
       "      <td>Sip Ave</td>\n",
       "      <td>29298</td>\n",
       "      <td>Annual Membership</td>\n",
       "      <td>Subscriber</td>\n",
       "    </tr>\n",
       "    <tr>\n",
       "      <th>6</th>\n",
       "      <td>577</td>\n",
       "      <td>2018-05-01 05:05:46</td>\n",
       "      <td>2018-05-01 05:15:23</td>\n",
       "      <td>3225</td>\n",
       "      <td>Baldwin at Montgomery</td>\n",
       "      <td>3186</td>\n",
       "      <td>Grove St PATH</td>\n",
       "      <td>33619</td>\n",
       "      <td>Annual Membership from Citi Bike App</td>\n",
       "      <td>Subscriber</td>\n",
       "    </tr>\n",
       "    <tr>\n",
       "      <th>7</th>\n",
       "      <td>830</td>\n",
       "      <td>2018-05-01 05:11:50</td>\n",
       "      <td>2018-05-01 05:25:41</td>\n",
       "      <td>3207</td>\n",
       "      <td>Oakland Ave</td>\n",
       "      <td>3185</td>\n",
       "      <td>City Hall</td>\n",
       "      <td>33624</td>\n",
       "      <td>Annual Membership</td>\n",
       "      <td>Subscriber</td>\n",
       "    </tr>\n",
       "    <tr>\n",
       "      <th>8</th>\n",
       "      <td>395</td>\n",
       "      <td>2018-05-01 05:12:07</td>\n",
       "      <td>2018-05-01 05:18:42</td>\n",
       "      <td>3225</td>\n",
       "      <td>Baldwin at Montgomery</td>\n",
       "      <td>3186</td>\n",
       "      <td>Grove St PATH</td>\n",
       "      <td>26300</td>\n",
       "      <td>Annual Membership</td>\n",
       "      <td>Subscriber</td>\n",
       "    </tr>\n",
       "    <tr>\n",
       "      <th>9</th>\n",
       "      <td>170</td>\n",
       "      <td>2018-05-01 05:13:52</td>\n",
       "      <td>2018-05-01 05:16:43</td>\n",
       "      <td>3206</td>\n",
       "      <td>Hilltop</td>\n",
       "      <td>3195</td>\n",
       "      <td>Sip Ave</td>\n",
       "      <td>33555</td>\n",
       "      <td>$25 Off Annual Membership</td>\n",
       "      <td>Subscriber</td>\n",
       "    </tr>\n",
       "  </tbody>\n",
       "</table>\n",
       "</div>"
      ],
      "text/plain": [
       "   tripduration            starttime             stoptime  start station id  \\\n",
       "0           338  2018-05-01 00:04:47  2018-05-01 00:10:25              3639   \n",
       "1          1400  2018-05-01 01:31:10  2018-05-01 01:55:53              3681   \n",
       "2           232  2018-05-01 01:31:29  2018-05-01 01:35:22              3194   \n",
       "3           190  2018-05-01 02:03:29  2018-05-01 02:06:40              3185   \n",
       "4           303  2018-05-01 04:27:12  2018-05-01 04:32:16              3207   \n",
       "5           176  2018-05-01 04:37:05  2018-05-01 04:40:01              3194   \n",
       "6           577  2018-05-01 05:05:46  2018-05-01 05:15:23              3225   \n",
       "7           830  2018-05-01 05:11:50  2018-05-01 05:25:41              3207   \n",
       "8           395  2018-05-01 05:12:07  2018-05-01 05:18:42              3225   \n",
       "9           170  2018-05-01 05:13:52  2018-05-01 05:16:43              3206   \n",
       "\n",
       "      start station name  end station id end station name  bikeid  \\\n",
       "0             Harborside            3199     Newport Pkwy   33558   \n",
       "1               Grand St            3185        City Hall   33593   \n",
       "2        McGinley Square            3193     Lincoln Park   29217   \n",
       "3              City Hall            3186    Grove St PATH   29662   \n",
       "4            Oakland Ave            3195          Sip Ave   15271   \n",
       "5        McGinley Square            3195          Sip Ave   29298   \n",
       "6  Baldwin at Montgomery            3186    Grove St PATH   33619   \n",
       "7            Oakland Ave            3185        City Hall   33624   \n",
       "8  Baldwin at Montgomery            3186    Grove St PATH   26300   \n",
       "9                Hilltop            3195          Sip Ave   33555   \n",
       "\n",
       "                       name_localizedValue    usertype  \n",
       "0                        Annual Membership  Subscriber  \n",
       "1                                  24 Hour    Customer  \n",
       "2  FREE Bonus Month with Annual Membership  Subscriber  \n",
       "3                                  24 Hour    Customer  \n",
       "4                        Annual Membership  Subscriber  \n",
       "5                        Annual Membership  Subscriber  \n",
       "6     Annual Membership from Citi Bike App  Subscriber  \n",
       "7                        Annual Membership  Subscriber  \n",
       "8                        Annual Membership  Subscriber  \n",
       "9                $25 Off Annual Membership  Subscriber  "
      ]
     },
     "execution_count": 111,
     "metadata": {},
     "output_type": "execute_result"
    }
   ],
   "source": [
    "new_bike_data = bike_data.head(10)\n",
    "new_bike_data"
   ]
  },
  {
   "cell_type": "code",
   "execution_count": 112,
   "id": "ca46dfff",
   "metadata": {
    "ExecuteTime": {
     "end_time": "2022-02-16T15:17:40.355099Z",
     "start_time": "2022-02-16T15:17:40.323436Z"
    }
   },
   "outputs": [
    {
     "data": {
      "text/html": [
       "<div>\n",
       "<style scoped>\n",
       "    .dataframe tbody tr th:only-of-type {\n",
       "        vertical-align: middle;\n",
       "    }\n",
       "\n",
       "    .dataframe tbody tr th {\n",
       "        vertical-align: top;\n",
       "    }\n",
       "\n",
       "    .dataframe thead th {\n",
       "        text-align: right;\n",
       "    }\n",
       "</style>\n",
       "<table border=\"1\" class=\"dataframe\">\n",
       "  <thead>\n",
       "    <tr style=\"text-align: right;\">\n",
       "      <th></th>\n",
       "      <th>tripduration</th>\n",
       "      <th>starttime</th>\n",
       "      <th>stoptime</th>\n",
       "      <th>start station id</th>\n",
       "      <th>start station name</th>\n",
       "      <th>end station id</th>\n",
       "      <th>end station name</th>\n",
       "      <th>bikeid</th>\n",
       "      <th>name_localizedValue</th>\n",
       "      <th>usertype</th>\n",
       "    </tr>\n",
       "  </thead>\n",
       "  <tbody>\n",
       "    <tr>\n",
       "      <th>row_1</th>\n",
       "      <td>338</td>\n",
       "      <td>2018-05-01 00:04:47</td>\n",
       "      <td>2018-05-01 00:10:25</td>\n",
       "      <td>3639</td>\n",
       "      <td>Harborside</td>\n",
       "      <td>3199</td>\n",
       "      <td>Newport Pkwy</td>\n",
       "      <td>33558</td>\n",
       "      <td>Annual Membership</td>\n",
       "      <td>Subscriber</td>\n",
       "    </tr>\n",
       "    <tr>\n",
       "      <th>row_2</th>\n",
       "      <td>1400</td>\n",
       "      <td>2018-05-01 01:31:10</td>\n",
       "      <td>2018-05-01 01:55:53</td>\n",
       "      <td>3681</td>\n",
       "      <td>Grand St</td>\n",
       "      <td>3185</td>\n",
       "      <td>City Hall</td>\n",
       "      <td>33593</td>\n",
       "      <td>24 Hour</td>\n",
       "      <td>Customer</td>\n",
       "    </tr>\n",
       "    <tr>\n",
       "      <th>row_3</th>\n",
       "      <td>232</td>\n",
       "      <td>2018-05-01 01:31:29</td>\n",
       "      <td>2018-05-01 01:35:22</td>\n",
       "      <td>3194</td>\n",
       "      <td>McGinley Square</td>\n",
       "      <td>3193</td>\n",
       "      <td>Lincoln Park</td>\n",
       "      <td>29217</td>\n",
       "      <td>FREE Bonus Month with Annual Membership</td>\n",
       "      <td>Subscriber</td>\n",
       "    </tr>\n",
       "    <tr>\n",
       "      <th>row_4</th>\n",
       "      <td>190</td>\n",
       "      <td>2018-05-01 02:03:29</td>\n",
       "      <td>2018-05-01 02:06:40</td>\n",
       "      <td>3185</td>\n",
       "      <td>City Hall</td>\n",
       "      <td>3186</td>\n",
       "      <td>Grove St PATH</td>\n",
       "      <td>29662</td>\n",
       "      <td>24 Hour</td>\n",
       "      <td>Customer</td>\n",
       "    </tr>\n",
       "    <tr>\n",
       "      <th>row_5</th>\n",
       "      <td>303</td>\n",
       "      <td>2018-05-01 04:27:12</td>\n",
       "      <td>2018-05-01 04:32:16</td>\n",
       "      <td>3207</td>\n",
       "      <td>Oakland Ave</td>\n",
       "      <td>3195</td>\n",
       "      <td>Sip Ave</td>\n",
       "      <td>15271</td>\n",
       "      <td>Annual Membership</td>\n",
       "      <td>Subscriber</td>\n",
       "    </tr>\n",
       "    <tr>\n",
       "      <th>row_6</th>\n",
       "      <td>176</td>\n",
       "      <td>2018-05-01 04:37:05</td>\n",
       "      <td>2018-05-01 04:40:01</td>\n",
       "      <td>3194</td>\n",
       "      <td>McGinley Square</td>\n",
       "      <td>3195</td>\n",
       "      <td>Sip Ave</td>\n",
       "      <td>29298</td>\n",
       "      <td>Annual Membership</td>\n",
       "      <td>Subscriber</td>\n",
       "    </tr>\n",
       "    <tr>\n",
       "      <th>row_7</th>\n",
       "      <td>577</td>\n",
       "      <td>2018-05-01 05:05:46</td>\n",
       "      <td>2018-05-01 05:15:23</td>\n",
       "      <td>3225</td>\n",
       "      <td>Baldwin at Montgomery</td>\n",
       "      <td>3186</td>\n",
       "      <td>Grove St PATH</td>\n",
       "      <td>33619</td>\n",
       "      <td>Annual Membership from Citi Bike App</td>\n",
       "      <td>Subscriber</td>\n",
       "    </tr>\n",
       "    <tr>\n",
       "      <th>row_8</th>\n",
       "      <td>830</td>\n",
       "      <td>2018-05-01 05:11:50</td>\n",
       "      <td>2018-05-01 05:25:41</td>\n",
       "      <td>3207</td>\n",
       "      <td>Oakland Ave</td>\n",
       "      <td>3185</td>\n",
       "      <td>City Hall</td>\n",
       "      <td>33624</td>\n",
       "      <td>Annual Membership</td>\n",
       "      <td>Subscriber</td>\n",
       "    </tr>\n",
       "    <tr>\n",
       "      <th>row_9</th>\n",
       "      <td>395</td>\n",
       "      <td>2018-05-01 05:12:07</td>\n",
       "      <td>2018-05-01 05:18:42</td>\n",
       "      <td>3225</td>\n",
       "      <td>Baldwin at Montgomery</td>\n",
       "      <td>3186</td>\n",
       "      <td>Grove St PATH</td>\n",
       "      <td>26300</td>\n",
       "      <td>Annual Membership</td>\n",
       "      <td>Subscriber</td>\n",
       "    </tr>\n",
       "    <tr>\n",
       "      <th>row_10</th>\n",
       "      <td>170</td>\n",
       "      <td>2018-05-01 05:13:52</td>\n",
       "      <td>2018-05-01 05:16:43</td>\n",
       "      <td>3206</td>\n",
       "      <td>Hilltop</td>\n",
       "      <td>3195</td>\n",
       "      <td>Sip Ave</td>\n",
       "      <td>33555</td>\n",
       "      <td>$25 Off Annual Membership</td>\n",
       "      <td>Subscriber</td>\n",
       "    </tr>\n",
       "  </tbody>\n",
       "</table>\n",
       "</div>"
      ],
      "text/plain": [
       "        tripduration            starttime             stoptime  \\\n",
       "row_1            338  2018-05-01 00:04:47  2018-05-01 00:10:25   \n",
       "row_2           1400  2018-05-01 01:31:10  2018-05-01 01:55:53   \n",
       "row_3            232  2018-05-01 01:31:29  2018-05-01 01:35:22   \n",
       "row_4            190  2018-05-01 02:03:29  2018-05-01 02:06:40   \n",
       "row_5            303  2018-05-01 04:27:12  2018-05-01 04:32:16   \n",
       "row_6            176  2018-05-01 04:37:05  2018-05-01 04:40:01   \n",
       "row_7            577  2018-05-01 05:05:46  2018-05-01 05:15:23   \n",
       "row_8            830  2018-05-01 05:11:50  2018-05-01 05:25:41   \n",
       "row_9            395  2018-05-01 05:12:07  2018-05-01 05:18:42   \n",
       "row_10           170  2018-05-01 05:13:52  2018-05-01 05:16:43   \n",
       "\n",
       "        start station id     start station name  end station id  \\\n",
       "row_1               3639             Harborside            3199   \n",
       "row_2               3681               Grand St            3185   \n",
       "row_3               3194        McGinley Square            3193   \n",
       "row_4               3185              City Hall            3186   \n",
       "row_5               3207            Oakland Ave            3195   \n",
       "row_6               3194        McGinley Square            3195   \n",
       "row_7               3225  Baldwin at Montgomery            3186   \n",
       "row_8               3207            Oakland Ave            3185   \n",
       "row_9               3225  Baldwin at Montgomery            3186   \n",
       "row_10              3206                Hilltop            3195   \n",
       "\n",
       "       end station name  bikeid                      name_localizedValue  \\\n",
       "row_1      Newport Pkwy   33558                        Annual Membership   \n",
       "row_2         City Hall   33593                                  24 Hour   \n",
       "row_3      Lincoln Park   29217  FREE Bonus Month with Annual Membership   \n",
       "row_4     Grove St PATH   29662                                  24 Hour   \n",
       "row_5           Sip Ave   15271                        Annual Membership   \n",
       "row_6           Sip Ave   29298                        Annual Membership   \n",
       "row_7     Grove St PATH   33619     Annual Membership from Citi Bike App   \n",
       "row_8         City Hall   33624                        Annual Membership   \n",
       "row_9     Grove St PATH   26300                        Annual Membership   \n",
       "row_10          Sip Ave   33555                $25 Off Annual Membership   \n",
       "\n",
       "          usertype  \n",
       "row_1   Subscriber  \n",
       "row_2     Customer  \n",
       "row_3   Subscriber  \n",
       "row_4     Customer  \n",
       "row_5   Subscriber  \n",
       "row_6   Subscriber  \n",
       "row_7   Subscriber  \n",
       "row_8   Subscriber  \n",
       "row_9   Subscriber  \n",
       "row_10  Subscriber  "
      ]
     },
     "execution_count": 112,
     "metadata": {},
     "output_type": "execute_result"
    }
   ],
   "source": [
    "new_bike_data.index = ['row_'+str(i) for i in range(1, 11)]\n",
    "new_bike_data"
   ]
  },
  {
   "cell_type": "code",
   "execution_count": 115,
   "id": "d5c8ec0a",
   "metadata": {
    "ExecuteTime": {
     "end_time": "2022-02-16T15:20:49.774670Z",
     "start_time": "2022-02-16T15:20:49.763439Z"
    }
   },
   "outputs": [
    {
     "data": {
      "text/plain": [
       "tripduration                          1400\n",
       "starttime              2018-05-01 01:31:10\n",
       "stoptime               2018-05-01 01:55:53\n",
       "start station id                      3681\n",
       "start station name                Grand St\n",
       "end station id                        3185\n",
       "end station name                 City Hall\n",
       "bikeid                               33593\n",
       "name_localizedValue                24 Hour\n",
       "usertype                          Customer\n",
       "Name: row_2, dtype: object"
      ]
     },
     "execution_count": 115,
     "metadata": {},
     "output_type": "execute_result"
    }
   ],
   "source": [
    "# df.loc[explicit_index]\n",
    "\n",
    "new_bike_data.loc['row_2']"
   ]
  },
  {
   "cell_type": "code",
   "execution_count": 116,
   "id": "3871671b",
   "metadata": {
    "ExecuteTime": {
     "end_time": "2022-02-16T15:21:24.589215Z",
     "start_time": "2022-02-16T15:21:24.553170Z"
    }
   },
   "outputs": [
    {
     "data": {
      "text/html": [
       "<div>\n",
       "<style scoped>\n",
       "    .dataframe tbody tr th:only-of-type {\n",
       "        vertical-align: middle;\n",
       "    }\n",
       "\n",
       "    .dataframe tbody tr th {\n",
       "        vertical-align: top;\n",
       "    }\n",
       "\n",
       "    .dataframe thead th {\n",
       "        text-align: right;\n",
       "    }\n",
       "</style>\n",
       "<table border=\"1\" class=\"dataframe\">\n",
       "  <thead>\n",
       "    <tr style=\"text-align: right;\">\n",
       "      <th></th>\n",
       "      <th>tripduration</th>\n",
       "      <th>starttime</th>\n",
       "      <th>stoptime</th>\n",
       "      <th>start station id</th>\n",
       "      <th>start station name</th>\n",
       "      <th>end station id</th>\n",
       "      <th>end station name</th>\n",
       "      <th>bikeid</th>\n",
       "      <th>name_localizedValue</th>\n",
       "      <th>usertype</th>\n",
       "    </tr>\n",
       "  </thead>\n",
       "  <tbody>\n",
       "    <tr>\n",
       "      <th>row_3</th>\n",
       "      <td>232</td>\n",
       "      <td>2018-05-01 01:31:29</td>\n",
       "      <td>2018-05-01 01:35:22</td>\n",
       "      <td>3194</td>\n",
       "      <td>McGinley Square</td>\n",
       "      <td>3193</td>\n",
       "      <td>Lincoln Park</td>\n",
       "      <td>29217</td>\n",
       "      <td>FREE Bonus Month with Annual Membership</td>\n",
       "      <td>Subscriber</td>\n",
       "    </tr>\n",
       "    <tr>\n",
       "      <th>row_4</th>\n",
       "      <td>190</td>\n",
       "      <td>2018-05-01 02:03:29</td>\n",
       "      <td>2018-05-01 02:06:40</td>\n",
       "      <td>3185</td>\n",
       "      <td>City Hall</td>\n",
       "      <td>3186</td>\n",
       "      <td>Grove St PATH</td>\n",
       "      <td>29662</td>\n",
       "      <td>24 Hour</td>\n",
       "      <td>Customer</td>\n",
       "    </tr>\n",
       "    <tr>\n",
       "      <th>row_5</th>\n",
       "      <td>303</td>\n",
       "      <td>2018-05-01 04:27:12</td>\n",
       "      <td>2018-05-01 04:32:16</td>\n",
       "      <td>3207</td>\n",
       "      <td>Oakland Ave</td>\n",
       "      <td>3195</td>\n",
       "      <td>Sip Ave</td>\n",
       "      <td>15271</td>\n",
       "      <td>Annual Membership</td>\n",
       "      <td>Subscriber</td>\n",
       "    </tr>\n",
       "  </tbody>\n",
       "</table>\n",
       "</div>"
      ],
      "text/plain": [
       "       tripduration            starttime             stoptime  \\\n",
       "row_3           232  2018-05-01 01:31:29  2018-05-01 01:35:22   \n",
       "row_4           190  2018-05-01 02:03:29  2018-05-01 02:06:40   \n",
       "row_5           303  2018-05-01 04:27:12  2018-05-01 04:32:16   \n",
       "\n",
       "       start station id start station name  end station id end station name  \\\n",
       "row_3              3194    McGinley Square            3193     Lincoln Park   \n",
       "row_4              3185          City Hall            3186    Grove St PATH   \n",
       "row_5              3207        Oakland Ave            3195          Sip Ave   \n",
       "\n",
       "       bikeid                      name_localizedValue    usertype  \n",
       "row_3   29217  FREE Bonus Month with Annual Membership  Subscriber  \n",
       "row_4   29662                                  24 Hour    Customer  \n",
       "row_5   15271                        Annual Membership  Subscriber  "
      ]
     },
     "execution_count": 116,
     "metadata": {},
     "output_type": "execute_result"
    }
   ],
   "source": [
    "new_bike_data.loc['row_3':'row_5']"
   ]
  },
  {
   "cell_type": "code",
   "execution_count": 119,
   "id": "3e64236a",
   "metadata": {
    "ExecuteTime": {
     "end_time": "2022-02-16T15:22:41.485208Z",
     "start_time": "2022-02-16T15:22:41.457413Z"
    }
   },
   "outputs": [
    {
     "data": {
      "text/html": [
       "<div>\n",
       "<style scoped>\n",
       "    .dataframe tbody tr th:only-of-type {\n",
       "        vertical-align: middle;\n",
       "    }\n",
       "\n",
       "    .dataframe tbody tr th {\n",
       "        vertical-align: top;\n",
       "    }\n",
       "\n",
       "    .dataframe thead th {\n",
       "        text-align: right;\n",
       "    }\n",
       "</style>\n",
       "<table border=\"1\" class=\"dataframe\">\n",
       "  <thead>\n",
       "    <tr style=\"text-align: right;\">\n",
       "      <th></th>\n",
       "      <th>tripduration</th>\n",
       "      <th>starttime</th>\n",
       "      <th>stoptime</th>\n",
       "      <th>start station id</th>\n",
       "      <th>start station name</th>\n",
       "      <th>end station id</th>\n",
       "      <th>end station name</th>\n",
       "      <th>bikeid</th>\n",
       "    </tr>\n",
       "  </thead>\n",
       "  <tbody>\n",
       "    <tr>\n",
       "      <th>row_3</th>\n",
       "      <td>232</td>\n",
       "      <td>2018-05-01 01:31:29</td>\n",
       "      <td>2018-05-01 01:35:22</td>\n",
       "      <td>3194</td>\n",
       "      <td>McGinley Square</td>\n",
       "      <td>3193</td>\n",
       "      <td>Lincoln Park</td>\n",
       "      <td>29217</td>\n",
       "    </tr>\n",
       "    <tr>\n",
       "      <th>row_4</th>\n",
       "      <td>190</td>\n",
       "      <td>2018-05-01 02:03:29</td>\n",
       "      <td>2018-05-01 02:06:40</td>\n",
       "      <td>3185</td>\n",
       "      <td>City Hall</td>\n",
       "      <td>3186</td>\n",
       "      <td>Grove St PATH</td>\n",
       "      <td>29662</td>\n",
       "    </tr>\n",
       "    <tr>\n",
       "      <th>row_5</th>\n",
       "      <td>303</td>\n",
       "      <td>2018-05-01 04:27:12</td>\n",
       "      <td>2018-05-01 04:32:16</td>\n",
       "      <td>3207</td>\n",
       "      <td>Oakland Ave</td>\n",
       "      <td>3195</td>\n",
       "      <td>Sip Ave</td>\n",
       "      <td>15271</td>\n",
       "    </tr>\n",
       "  </tbody>\n",
       "</table>\n",
       "</div>"
      ],
      "text/plain": [
       "       tripduration            starttime             stoptime  \\\n",
       "row_3           232  2018-05-01 01:31:29  2018-05-01 01:35:22   \n",
       "row_4           190  2018-05-01 02:03:29  2018-05-01 02:06:40   \n",
       "row_5           303  2018-05-01 04:27:12  2018-05-01 04:32:16   \n",
       "\n",
       "       start station id start station name  end station id end station name  \\\n",
       "row_3              3194    McGinley Square            3193     Lincoln Park   \n",
       "row_4              3185          City Hall            3186    Grove St PATH   \n",
       "row_5              3207        Oakland Ave            3195          Sip Ave   \n",
       "\n",
       "       bikeid  \n",
       "row_3   29217  \n",
       "row_4   29662  \n",
       "row_5   15271  "
      ]
     },
     "execution_count": 119,
     "metadata": {},
     "output_type": "execute_result"
    }
   ],
   "source": [
    "new_bike_data.loc['row_3':'row_5', 'tripduration':'bikeid']"
   ]
  },
  {
   "cell_type": "code",
   "execution_count": 143,
   "id": "0ab6d635",
   "metadata": {
    "ExecuteTime": {
     "end_time": "2022-02-16T15:41:29.263612Z",
     "start_time": "2022-02-16T15:41:29.236655Z"
    }
   },
   "outputs": [
    {
     "data": {
      "text/html": [
       "<div>\n",
       "<style scoped>\n",
       "    .dataframe tbody tr th:only-of-type {\n",
       "        vertical-align: middle;\n",
       "    }\n",
       "\n",
       "    .dataframe tbody tr th {\n",
       "        vertical-align: top;\n",
       "    }\n",
       "\n",
       "    .dataframe thead th {\n",
       "        text-align: right;\n",
       "    }\n",
       "</style>\n",
       "<table border=\"1\" class=\"dataframe\">\n",
       "  <thead>\n",
       "    <tr style=\"text-align: right;\">\n",
       "      <th></th>\n",
       "      <th>starttime</th>\n",
       "      <th>tripduration</th>\n",
       "    </tr>\n",
       "  </thead>\n",
       "  <tbody>\n",
       "    <tr>\n",
       "      <th>row_2</th>\n",
       "      <td>2018-05-01 01:31:10</td>\n",
       "      <td>1400</td>\n",
       "    </tr>\n",
       "  </tbody>\n",
       "</table>\n",
       "</div>"
      ],
      "text/plain": [
       "                 starttime  tripduration\n",
       "row_2  2018-05-01 01:31:10          1400"
      ]
     },
     "execution_count": 143,
     "metadata": {},
     "output_type": "execute_result"
    }
   ],
   "source": [
    "td = 200\n",
    "col_name = 'tripduration'\n",
    "new_bike_data.loc[(new_bike_data[col_name]>td) & \n",
    "                  (new_bike_data['usertype']=='Customer'),\n",
    "                 'tripduration':'starttime'][['starttime', 'tripduration']]"
   ]
  },
  {
   "cell_type": "code",
   "execution_count": 138,
   "id": "09631bc9",
   "metadata": {
    "ExecuteTime": {
     "end_time": "2022-02-16T15:35:43.063586Z",
     "start_time": "2022-02-16T15:35:43.039429Z"
    }
   },
   "outputs": [
    {
     "data": {
      "text/html": [
       "<div>\n",
       "<style scoped>\n",
       "    .dataframe tbody tr th:only-of-type {\n",
       "        vertical-align: middle;\n",
       "    }\n",
       "\n",
       "    .dataframe tbody tr th {\n",
       "        vertical-align: top;\n",
       "    }\n",
       "\n",
       "    .dataframe thead th {\n",
       "        text-align: right;\n",
       "    }\n",
       "</style>\n",
       "<table border=\"1\" class=\"dataframe\">\n",
       "  <thead>\n",
       "    <tr style=\"text-align: right;\">\n",
       "      <th></th>\n",
       "      <th>tripduration</th>\n",
       "      <th>starttime</th>\n",
       "      <th>stoptime</th>\n",
       "      <th>start station id</th>\n",
       "      <th>start station name</th>\n",
       "      <th>end station id</th>\n",
       "    </tr>\n",
       "  </thead>\n",
       "  <tbody>\n",
       "    <tr>\n",
       "      <th>row_1</th>\n",
       "      <td>338</td>\n",
       "      <td>2018-05-01 00:04:47</td>\n",
       "      <td>2018-05-01 00:10:25</td>\n",
       "      <td>3639</td>\n",
       "      <td>Harborside</td>\n",
       "      <td>3199</td>\n",
       "    </tr>\n",
       "    <tr>\n",
       "      <th>row_2</th>\n",
       "      <td>1400</td>\n",
       "      <td>2018-05-01 01:31:10</td>\n",
       "      <td>2018-05-01 01:55:53</td>\n",
       "      <td>3681</td>\n",
       "      <td>Grand St</td>\n",
       "      <td>3185</td>\n",
       "    </tr>\n",
       "    <tr>\n",
       "      <th>row_3</th>\n",
       "      <td>232</td>\n",
       "      <td>2018-05-01 01:31:29</td>\n",
       "      <td>2018-05-01 01:35:22</td>\n",
       "      <td>3194</td>\n",
       "      <td>McGinley Square</td>\n",
       "      <td>3193</td>\n",
       "    </tr>\n",
       "    <tr>\n",
       "      <th>row_4</th>\n",
       "      <td>190</td>\n",
       "      <td>2018-05-01 02:03:29</td>\n",
       "      <td>2018-05-01 02:06:40</td>\n",
       "      <td>3185</td>\n",
       "      <td>City Hall</td>\n",
       "      <td>3186</td>\n",
       "    </tr>\n",
       "    <tr>\n",
       "      <th>row_5</th>\n",
       "      <td>303</td>\n",
       "      <td>2018-05-01 04:27:12</td>\n",
       "      <td>2018-05-01 04:32:16</td>\n",
       "      <td>3207</td>\n",
       "      <td>Oakland Ave</td>\n",
       "      <td>3195</td>\n",
       "    </tr>\n",
       "    <tr>\n",
       "      <th>row_6</th>\n",
       "      <td>176</td>\n",
       "      <td>2018-05-01 04:37:05</td>\n",
       "      <td>2018-05-01 04:40:01</td>\n",
       "      <td>3194</td>\n",
       "      <td>McGinley Square</td>\n",
       "      <td>3195</td>\n",
       "    </tr>\n",
       "    <tr>\n",
       "      <th>row_7</th>\n",
       "      <td>577</td>\n",
       "      <td>2018-05-01 05:05:46</td>\n",
       "      <td>2018-05-01 05:15:23</td>\n",
       "      <td>3225</td>\n",
       "      <td>Baldwin at Montgomery</td>\n",
       "      <td>3186</td>\n",
       "    </tr>\n",
       "    <tr>\n",
       "      <th>row_8</th>\n",
       "      <td>830</td>\n",
       "      <td>2018-05-01 05:11:50</td>\n",
       "      <td>2018-05-01 05:25:41</td>\n",
       "      <td>3207</td>\n",
       "      <td>Oakland Ave</td>\n",
       "      <td>3185</td>\n",
       "    </tr>\n",
       "    <tr>\n",
       "      <th>row_9</th>\n",
       "      <td>395</td>\n",
       "      <td>2018-05-01 05:12:07</td>\n",
       "      <td>2018-05-01 05:18:42</td>\n",
       "      <td>3225</td>\n",
       "      <td>Baldwin at Montgomery</td>\n",
       "      <td>3186</td>\n",
       "    </tr>\n",
       "    <tr>\n",
       "      <th>row_10</th>\n",
       "      <td>170</td>\n",
       "      <td>2018-05-01 05:13:52</td>\n",
       "      <td>2018-05-01 05:16:43</td>\n",
       "      <td>3206</td>\n",
       "      <td>Hilltop</td>\n",
       "      <td>3195</td>\n",
       "    </tr>\n",
       "  </tbody>\n",
       "</table>\n",
       "</div>"
      ],
      "text/plain": [
       "        tripduration            starttime             stoptime  \\\n",
       "row_1            338  2018-05-01 00:04:47  2018-05-01 00:10:25   \n",
       "row_2           1400  2018-05-01 01:31:10  2018-05-01 01:55:53   \n",
       "row_3            232  2018-05-01 01:31:29  2018-05-01 01:35:22   \n",
       "row_4            190  2018-05-01 02:03:29  2018-05-01 02:06:40   \n",
       "row_5            303  2018-05-01 04:27:12  2018-05-01 04:32:16   \n",
       "row_6            176  2018-05-01 04:37:05  2018-05-01 04:40:01   \n",
       "row_7            577  2018-05-01 05:05:46  2018-05-01 05:15:23   \n",
       "row_8            830  2018-05-01 05:11:50  2018-05-01 05:25:41   \n",
       "row_9            395  2018-05-01 05:12:07  2018-05-01 05:18:42   \n",
       "row_10           170  2018-05-01 05:13:52  2018-05-01 05:16:43   \n",
       "\n",
       "        start station id     start station name  end station id  \n",
       "row_1               3639             Harborside            3199  \n",
       "row_2               3681               Grand St            3185  \n",
       "row_3               3194        McGinley Square            3193  \n",
       "row_4               3185              City Hall            3186  \n",
       "row_5               3207            Oakland Ave            3195  \n",
       "row_6               3194        McGinley Square            3195  \n",
       "row_7               3225  Baldwin at Montgomery            3186  \n",
       "row_8               3207            Oakland Ave            3185  \n",
       "row_9               3225  Baldwin at Montgomery            3186  \n",
       "row_10              3206                Hilltop            3195  "
      ]
     },
     "execution_count": 138,
     "metadata": {},
     "output_type": "execute_result"
    }
   ],
   "source": [
    "new_bike_data.iloc[::, 0:6]"
   ]
  },
  {
   "cell_type": "markdown",
   "id": "f9805f68",
   "metadata": {
    "ExecuteTime": {
     "end_time": "2022-02-16T15:37:01.618144Z",
     "start_time": "2022-02-16T15:37:01.587118Z"
    }
   },
   "source": [
    "# Adding and Deletikng"
   ]
  },
  {
   "cell_type": "code",
   "execution_count": 145,
   "id": "0d10494d",
   "metadata": {
    "ExecuteTime": {
     "end_time": "2022-02-16T15:50:44.497444Z",
     "start_time": "2022-02-16T15:50:44.469850Z"
    }
   },
   "outputs": [
    {
     "data": {
      "text/html": [
       "<div>\n",
       "<style scoped>\n",
       "    .dataframe tbody tr th:only-of-type {\n",
       "        vertical-align: middle;\n",
       "    }\n",
       "\n",
       "    .dataframe tbody tr th {\n",
       "        vertical-align: top;\n",
       "    }\n",
       "\n",
       "    .dataframe thead th {\n",
       "        text-align: right;\n",
       "    }\n",
       "</style>\n",
       "<table border=\"1\" class=\"dataframe\">\n",
       "  <thead>\n",
       "    <tr style=\"text-align: right;\">\n",
       "      <th></th>\n",
       "      <th>Organization Name</th>\n",
       "      <th>Headquater</th>\n",
       "    </tr>\n",
       "  </thead>\n",
       "  <tbody>\n",
       "    <tr>\n",
       "      <th>0</th>\n",
       "      <td>FAO</td>\n",
       "      <td>Rome</td>\n",
       "    </tr>\n",
       "    <tr>\n",
       "      <th>1</th>\n",
       "      <td>ICJ</td>\n",
       "      <td>The Hague</td>\n",
       "    </tr>\n",
       "    <tr>\n",
       "      <th>2</th>\n",
       "      <td>IMF</td>\n",
       "      <td>Washington</td>\n",
       "    </tr>\n",
       "    <tr>\n",
       "      <th>3</th>\n",
       "      <td>UNESCO</td>\n",
       "      <td>Paris</td>\n",
       "    </tr>\n",
       "    <tr>\n",
       "      <th>4</th>\n",
       "      <td>UNO</td>\n",
       "      <td>New York</td>\n",
       "    </tr>\n",
       "    <tr>\n",
       "      <th>5</th>\n",
       "      <td>World Bank</td>\n",
       "      <td>Washington</td>\n",
       "    </tr>\n",
       "  </tbody>\n",
       "</table>\n",
       "</div>"
      ],
      "text/plain": [
       "  Organization Name  Headquater\n",
       "0               FAO        Rome\n",
       "1               ICJ   The Hague\n",
       "2               IMF  Washington\n",
       "3            UNESCO       Paris\n",
       "4               UNO    New York\n",
       "5        World Bank  Washington"
      ]
     },
     "execution_count": 145,
     "metadata": {},
     "output_type": "execute_result"
    }
   ],
   "source": [
    "inter_org = pd.read_csv('datasets/international_org.csv')\n",
    "inter_org"
   ]
  },
  {
   "cell_type": "code",
   "execution_count": 147,
   "id": "a3e29615",
   "metadata": {
    "ExecuteTime": {
     "end_time": "2022-02-16T15:51:50.900377Z",
     "start_time": "2022-02-16T15:51:50.880691Z"
    }
   },
   "outputs": [
    {
     "data": {
      "text/html": [
       "<div>\n",
       "<style scoped>\n",
       "    .dataframe tbody tr th:only-of-type {\n",
       "        vertical-align: middle;\n",
       "    }\n",
       "\n",
       "    .dataframe tbody tr th {\n",
       "        vertical-align: top;\n",
       "    }\n",
       "\n",
       "    .dataframe thead th {\n",
       "        text-align: right;\n",
       "    }\n",
       "</style>\n",
       "<table border=\"1\" class=\"dataframe\">\n",
       "  <thead>\n",
       "    <tr style=\"text-align: right;\">\n",
       "      <th></th>\n",
       "      <th>Organization Name</th>\n",
       "      <th>Headquater</th>\n",
       "      <th>Founded_on</th>\n",
       "    </tr>\n",
       "  </thead>\n",
       "  <tbody>\n",
       "    <tr>\n",
       "      <th>0</th>\n",
       "      <td>FAO</td>\n",
       "      <td>Rome</td>\n",
       "      <td>1945</td>\n",
       "    </tr>\n",
       "    <tr>\n",
       "      <th>1</th>\n",
       "      <td>ICJ</td>\n",
       "      <td>The Hague</td>\n",
       "      <td>1946</td>\n",
       "    </tr>\n",
       "    <tr>\n",
       "      <th>2</th>\n",
       "      <td>IMF</td>\n",
       "      <td>Washington</td>\n",
       "      <td>1947</td>\n",
       "    </tr>\n",
       "    <tr>\n",
       "      <th>3</th>\n",
       "      <td>UNESCO</td>\n",
       "      <td>Paris</td>\n",
       "      <td>1948</td>\n",
       "    </tr>\n",
       "    <tr>\n",
       "      <th>4</th>\n",
       "      <td>UNO</td>\n",
       "      <td>New York</td>\n",
       "      <td>1949</td>\n",
       "    </tr>\n",
       "    <tr>\n",
       "      <th>5</th>\n",
       "      <td>World Bank</td>\n",
       "      <td>Washington</td>\n",
       "      <td>1950</td>\n",
       "    </tr>\n",
       "  </tbody>\n",
       "</table>\n",
       "</div>"
      ],
      "text/plain": [
       "  Organization Name  Headquater  Founded_on\n",
       "0               FAO        Rome        1945\n",
       "1               ICJ   The Hague        1946\n",
       "2               IMF  Washington        1947\n",
       "3            UNESCO       Paris        1948\n",
       "4               UNO    New York        1949\n",
       "5        World Bank  Washington        1950"
      ]
     },
     "execution_count": 147,
     "metadata": {},
     "output_type": "execute_result"
    }
   ],
   "source": [
    "inter_org['Founded_on'] = [i for i in range(1945, 1951)]\n",
    "inter_org"
   ]
  },
  {
   "cell_type": "code",
   "execution_count": 148,
   "id": "331bb7e8",
   "metadata": {
    "ExecuteTime": {
     "end_time": "2022-02-16T15:52:21.688278Z",
     "start_time": "2022-02-16T15:52:21.660671Z"
    }
   },
   "outputs": [
    {
     "data": {
      "text/html": [
       "<div>\n",
       "<style scoped>\n",
       "    .dataframe tbody tr th:only-of-type {\n",
       "        vertical-align: middle;\n",
       "    }\n",
       "\n",
       "    .dataframe tbody tr th {\n",
       "        vertical-align: top;\n",
       "    }\n",
       "\n",
       "    .dataframe thead th {\n",
       "        text-align: right;\n",
       "    }\n",
       "</style>\n",
       "<table border=\"1\" class=\"dataframe\">\n",
       "  <thead>\n",
       "    <tr style=\"text-align: right;\">\n",
       "      <th></th>\n",
       "      <th>Organization Name</th>\n",
       "      <th>Headquater</th>\n",
       "    </tr>\n",
       "  </thead>\n",
       "  <tbody>\n",
       "    <tr>\n",
       "      <th>0</th>\n",
       "      <td>FAO</td>\n",
       "      <td>Rome</td>\n",
       "    </tr>\n",
       "    <tr>\n",
       "      <th>1</th>\n",
       "      <td>ICJ</td>\n",
       "      <td>The Hague</td>\n",
       "    </tr>\n",
       "    <tr>\n",
       "      <th>2</th>\n",
       "      <td>IMF</td>\n",
       "      <td>Washington</td>\n",
       "    </tr>\n",
       "    <tr>\n",
       "      <th>3</th>\n",
       "      <td>UNESCO</td>\n",
       "      <td>Paris</td>\n",
       "    </tr>\n",
       "    <tr>\n",
       "      <th>4</th>\n",
       "      <td>UNO</td>\n",
       "      <td>New York</td>\n",
       "    </tr>\n",
       "    <tr>\n",
       "      <th>5</th>\n",
       "      <td>World Bank</td>\n",
       "      <td>Washington</td>\n",
       "    </tr>\n",
       "  </tbody>\n",
       "</table>\n",
       "</div>"
      ],
      "text/plain": [
       "  Organization Name  Headquater\n",
       "0               FAO        Rome\n",
       "1               ICJ   The Hague\n",
       "2               IMF  Washington\n",
       "3            UNESCO       Paris\n",
       "4               UNO    New York\n",
       "5        World Bank  Washington"
      ]
     },
     "execution_count": 148,
     "metadata": {},
     "output_type": "execute_result"
    }
   ],
   "source": [
    "del inter_org['Founded_on']\n",
    "inter_org"
   ]
  },
  {
   "cell_type": "code",
   "execution_count": 155,
   "id": "c6b6d4ea",
   "metadata": {
    "ExecuteTime": {
     "end_time": "2022-02-16T15:55:24.811592Z",
     "start_time": "2022-02-16T15:55:24.781060Z"
    }
   },
   "outputs": [
    {
     "data": {
      "text/html": [
       "<div>\n",
       "<style scoped>\n",
       "    .dataframe tbody tr th:only-of-type {\n",
       "        vertical-align: middle;\n",
       "    }\n",
       "\n",
       "    .dataframe tbody tr th {\n",
       "        vertical-align: top;\n",
       "    }\n",
       "\n",
       "    .dataframe thead th {\n",
       "        text-align: right;\n",
       "    }\n",
       "</style>\n",
       "<table border=\"1\" class=\"dataframe\">\n",
       "  <thead>\n",
       "    <tr style=\"text-align: right;\">\n",
       "      <th></th>\n",
       "      <th>star_rating</th>\n",
       "      <th>title</th>\n",
       "      <th>genre</th>\n",
       "      <th>duration</th>\n",
       "    </tr>\n",
       "  </thead>\n",
       "  <tbody>\n",
       "    <tr>\n",
       "      <th>0</th>\n",
       "      <td>9.3</td>\n",
       "      <td>The Shawshank Redemption</td>\n",
       "      <td>Crime</td>\n",
       "      <td>142</td>\n",
       "    </tr>\n",
       "    <tr>\n",
       "      <th>1</th>\n",
       "      <td>9.2</td>\n",
       "      <td>The Godfather</td>\n",
       "      <td>Crime</td>\n",
       "      <td>175</td>\n",
       "    </tr>\n",
       "    <tr>\n",
       "      <th>2</th>\n",
       "      <td>9.1</td>\n",
       "      <td>The Godfather: Part II</td>\n",
       "      <td>Crime</td>\n",
       "      <td>200</td>\n",
       "    </tr>\n",
       "    <tr>\n",
       "      <th>3</th>\n",
       "      <td>9.0</td>\n",
       "      <td>The Dark Knight</td>\n",
       "      <td>Action</td>\n",
       "      <td>152</td>\n",
       "    </tr>\n",
       "    <tr>\n",
       "      <th>4</th>\n",
       "      <td>8.9</td>\n",
       "      <td>Pulp Fiction</td>\n",
       "      <td>Crime</td>\n",
       "      <td>154</td>\n",
       "    </tr>\n",
       "    <tr>\n",
       "      <th>5</th>\n",
       "      <td>8.9</td>\n",
       "      <td>12 Angry Men</td>\n",
       "      <td>Drama</td>\n",
       "      <td>96</td>\n",
       "    </tr>\n",
       "    <tr>\n",
       "      <th>6</th>\n",
       "      <td>8.9</td>\n",
       "      <td>The Good, the Bad and the Ugly</td>\n",
       "      <td>Western</td>\n",
       "      <td>161</td>\n",
       "    </tr>\n",
       "    <tr>\n",
       "      <th>7</th>\n",
       "      <td>8.9</td>\n",
       "      <td>The Lord of the Rings: The Return of the King</td>\n",
       "      <td>Adventure</td>\n",
       "      <td>201</td>\n",
       "    </tr>\n",
       "    <tr>\n",
       "      <th>8</th>\n",
       "      <td>8.9</td>\n",
       "      <td>Schindler's List</td>\n",
       "      <td>Biography</td>\n",
       "      <td>195</td>\n",
       "    </tr>\n",
       "    <tr>\n",
       "      <th>9</th>\n",
       "      <td>8.9</td>\n",
       "      <td>Fight Club</td>\n",
       "      <td>Drama</td>\n",
       "      <td>139</td>\n",
       "    </tr>\n",
       "  </tbody>\n",
       "</table>\n",
       "</div>"
      ],
      "text/plain": [
       "   star_rating                                          title      genre  \\\n",
       "0          9.3                       The Shawshank Redemption      Crime   \n",
       "1          9.2                                  The Godfather      Crime   \n",
       "2          9.1                         The Godfather: Part II      Crime   \n",
       "3          9.0                                The Dark Knight     Action   \n",
       "4          8.9                                   Pulp Fiction      Crime   \n",
       "5          8.9                                   12 Angry Men      Drama   \n",
       "6          8.9                 The Good, the Bad and the Ugly    Western   \n",
       "7          8.9  The Lord of the Rings: The Return of the King  Adventure   \n",
       "8          8.9                               Schindler's List  Biography   \n",
       "9          8.9                                     Fight Club      Drama   \n",
       "\n",
       "   duration  \n",
       "0       142  \n",
       "1       175  \n",
       "2       200  \n",
       "3       152  \n",
       "4       154  \n",
       "5        96  \n",
       "6       161  \n",
       "7       201  \n",
       "8       195  \n",
       "9       139  "
      ]
     },
     "execution_count": 155,
     "metadata": {},
     "output_type": "execute_result"
    }
   ],
   "source": [
    "imdb_rating = pd.read_csv(r'./datasets/imdb_rating.csv')\n",
    "imdb_rating"
   ]
  },
  {
   "cell_type": "code",
   "execution_count": 156,
   "id": "1ebc8c6e",
   "metadata": {
    "ExecuteTime": {
     "end_time": "2022-02-16T15:55:30.895279Z",
     "start_time": "2022-02-16T15:55:30.882041Z"
    }
   },
   "outputs": [],
   "source": [
    "imdb_rating.loc[-1] = [9.5, 'The Mummy', 'Horror', 200]\n"
   ]
  },
  {
   "cell_type": "code",
   "execution_count": 157,
   "id": "3550073d",
   "metadata": {
    "ExecuteTime": {
     "end_time": "2022-02-16T15:55:33.672767Z",
     "start_time": "2022-02-16T15:55:33.640169Z"
    }
   },
   "outputs": [
    {
     "data": {
      "text/html": [
       "<div>\n",
       "<style scoped>\n",
       "    .dataframe tbody tr th:only-of-type {\n",
       "        vertical-align: middle;\n",
       "    }\n",
       "\n",
       "    .dataframe tbody tr th {\n",
       "        vertical-align: top;\n",
       "    }\n",
       "\n",
       "    .dataframe thead th {\n",
       "        text-align: right;\n",
       "    }\n",
       "</style>\n",
       "<table border=\"1\" class=\"dataframe\">\n",
       "  <thead>\n",
       "    <tr style=\"text-align: right;\">\n",
       "      <th></th>\n",
       "      <th>star_rating</th>\n",
       "      <th>title</th>\n",
       "      <th>genre</th>\n",
       "      <th>duration</th>\n",
       "    </tr>\n",
       "  </thead>\n",
       "  <tbody>\n",
       "    <tr>\n",
       "      <th>0</th>\n",
       "      <td>9.5</td>\n",
       "      <td>The Mummy</td>\n",
       "      <td>Horror</td>\n",
       "      <td>200</td>\n",
       "    </tr>\n",
       "    <tr>\n",
       "      <th>1</th>\n",
       "      <td>9.3</td>\n",
       "      <td>The Shawshank Redemption</td>\n",
       "      <td>Crime</td>\n",
       "      <td>142</td>\n",
       "    </tr>\n",
       "    <tr>\n",
       "      <th>2</th>\n",
       "      <td>9.2</td>\n",
       "      <td>The Godfather</td>\n",
       "      <td>Crime</td>\n",
       "      <td>175</td>\n",
       "    </tr>\n",
       "    <tr>\n",
       "      <th>3</th>\n",
       "      <td>9.1</td>\n",
       "      <td>The Godfather: Part II</td>\n",
       "      <td>Crime</td>\n",
       "      <td>200</td>\n",
       "    </tr>\n",
       "    <tr>\n",
       "      <th>4</th>\n",
       "      <td>9.0</td>\n",
       "      <td>The Dark Knight</td>\n",
       "      <td>Action</td>\n",
       "      <td>152</td>\n",
       "    </tr>\n",
       "    <tr>\n",
       "      <th>5</th>\n",
       "      <td>8.9</td>\n",
       "      <td>Pulp Fiction</td>\n",
       "      <td>Crime</td>\n",
       "      <td>154</td>\n",
       "    </tr>\n",
       "    <tr>\n",
       "      <th>6</th>\n",
       "      <td>8.9</td>\n",
       "      <td>12 Angry Men</td>\n",
       "      <td>Drama</td>\n",
       "      <td>96</td>\n",
       "    </tr>\n",
       "    <tr>\n",
       "      <th>7</th>\n",
       "      <td>8.9</td>\n",
       "      <td>The Good, the Bad and the Ugly</td>\n",
       "      <td>Western</td>\n",
       "      <td>161</td>\n",
       "    </tr>\n",
       "    <tr>\n",
       "      <th>8</th>\n",
       "      <td>8.9</td>\n",
       "      <td>The Lord of the Rings: The Return of the King</td>\n",
       "      <td>Adventure</td>\n",
       "      <td>201</td>\n",
       "    </tr>\n",
       "    <tr>\n",
       "      <th>9</th>\n",
       "      <td>8.9</td>\n",
       "      <td>Schindler's List</td>\n",
       "      <td>Biography</td>\n",
       "      <td>195</td>\n",
       "    </tr>\n",
       "    <tr>\n",
       "      <th>10</th>\n",
       "      <td>8.9</td>\n",
       "      <td>Fight Club</td>\n",
       "      <td>Drama</td>\n",
       "      <td>139</td>\n",
       "    </tr>\n",
       "  </tbody>\n",
       "</table>\n",
       "</div>"
      ],
      "text/plain": [
       "    star_rating                                          title      genre  \\\n",
       "0           9.5                                      The Mummy     Horror   \n",
       "1           9.3                       The Shawshank Redemption      Crime   \n",
       "2           9.2                                  The Godfather      Crime   \n",
       "3           9.1                         The Godfather: Part II      Crime   \n",
       "4           9.0                                The Dark Knight     Action   \n",
       "5           8.9                                   Pulp Fiction      Crime   \n",
       "6           8.9                                   12 Angry Men      Drama   \n",
       "7           8.9                 The Good, the Bad and the Ugly    Western   \n",
       "8           8.9  The Lord of the Rings: The Return of the King  Adventure   \n",
       "9           8.9                               Schindler's List  Biography   \n",
       "10          8.9                                     Fight Club      Drama   \n",
       "\n",
       "    duration  \n",
       "0        200  \n",
       "1        142  \n",
       "2        175  \n",
       "3        200  \n",
       "4        152  \n",
       "5        154  \n",
       "6         96  \n",
       "7        161  \n",
       "8        201  \n",
       "9        195  \n",
       "10       139  "
      ]
     },
     "execution_count": 157,
     "metadata": {},
     "output_type": "execute_result"
    }
   ],
   "source": [
    "imdb_rating.index = [i+1 for i in imdb_rating.index]\n",
    "imdb_rating = imdb_rating.sort_index()\n",
    "imdb_rating"
   ]
  },
  {
   "cell_type": "code",
   "execution_count": 161,
   "id": "7d7eca57",
   "metadata": {
    "ExecuteTime": {
     "end_time": "2022-02-16T15:59:30.182311Z",
     "start_time": "2022-02-16T15:59:30.152446Z"
    }
   },
   "outputs": [
    {
     "ename": "ValueError",
     "evalue": "cannot set a row with mismatched columns",
     "output_type": "error",
     "traceback": [
      "\u001b[0;31m---------------------------------------------------------------------------\u001b[0m",
      "\u001b[0;31mValueError\u001b[0m                                Traceback (most recent call last)",
      "\u001b[0;32m<ipython-input-161-fbee1c591fc4>\u001b[0m in \u001b[0;36m<module>\u001b[0;34m\u001b[0m\n\u001b[0;32m----> 1\u001b[0;31m \u001b[0mimdb_rating\u001b[0m\u001b[0;34m.\u001b[0m\u001b[0mloc\u001b[0m\u001b[0;34m[\u001b[0m\u001b[0;34m-\u001b[0m\u001b[0;36m1\u001b[0m\u001b[0;34m]\u001b[0m \u001b[0;34m=\u001b[0m \u001b[0;34m[\u001b[0m\u001b[0;36m9.5\u001b[0m\u001b[0;34m,\u001b[0m \u001b[0;34m'The Mummy'\u001b[0m\u001b[0;34m,\u001b[0m \u001b[0;34m'Horror'\u001b[0m\u001b[0;34m,\u001b[0m \u001b[0;36m200\u001b[0m\u001b[0;34m]\u001b[0m\u001b[0;34m\u001b[0m\u001b[0;34m\u001b[0m\u001b[0m\n\u001b[0m\u001b[1;32m      2\u001b[0m \u001b[0mimdb_rating\u001b[0m \u001b[0;34m=\u001b[0m \u001b[0mimdb_rating\u001b[0m\u001b[0;34m.\u001b[0m\u001b[0mreset_index\u001b[0m\u001b[0;34m(\u001b[0m\u001b[0;34m)\u001b[0m\u001b[0;34m\u001b[0m\u001b[0;34m\u001b[0m\u001b[0m\n",
      "\u001b[0;32m/Library/Frameworks/Python.framework/Versions/3.8/lib/python3.8/site-packages/pandas/core/indexing.py\u001b[0m in \u001b[0;36m__setitem__\u001b[0;34m(self, key, value)\u001b[0m\n\u001b[1;32m    690\u001b[0m \u001b[0;34m\u001b[0m\u001b[0m\n\u001b[1;32m    691\u001b[0m         \u001b[0miloc\u001b[0m \u001b[0;34m=\u001b[0m \u001b[0mself\u001b[0m \u001b[0;32mif\u001b[0m \u001b[0mself\u001b[0m\u001b[0;34m.\u001b[0m\u001b[0mname\u001b[0m \u001b[0;34m==\u001b[0m \u001b[0;34m\"iloc\"\u001b[0m \u001b[0;32melse\u001b[0m \u001b[0mself\u001b[0m\u001b[0;34m.\u001b[0m\u001b[0mobj\u001b[0m\u001b[0;34m.\u001b[0m\u001b[0miloc\u001b[0m\u001b[0;34m\u001b[0m\u001b[0;34m\u001b[0m\u001b[0m\n\u001b[0;32m--> 692\u001b[0;31m         \u001b[0miloc\u001b[0m\u001b[0;34m.\u001b[0m\u001b[0m_setitem_with_indexer\u001b[0m\u001b[0;34m(\u001b[0m\u001b[0mindexer\u001b[0m\u001b[0;34m,\u001b[0m \u001b[0mvalue\u001b[0m\u001b[0;34m,\u001b[0m \u001b[0mself\u001b[0m\u001b[0;34m.\u001b[0m\u001b[0mname\u001b[0m\u001b[0;34m)\u001b[0m\u001b[0;34m\u001b[0m\u001b[0;34m\u001b[0m\u001b[0m\n\u001b[0m\u001b[1;32m    693\u001b[0m \u001b[0;34m\u001b[0m\u001b[0m\n\u001b[1;32m    694\u001b[0m     \u001b[0;32mdef\u001b[0m \u001b[0m_validate_key\u001b[0m\u001b[0;34m(\u001b[0m\u001b[0mself\u001b[0m\u001b[0;34m,\u001b[0m \u001b[0mkey\u001b[0m\u001b[0;34m,\u001b[0m \u001b[0maxis\u001b[0m\u001b[0;34m:\u001b[0m \u001b[0mint\u001b[0m\u001b[0;34m)\u001b[0m\u001b[0;34m:\u001b[0m\u001b[0;34m\u001b[0m\u001b[0;34m\u001b[0m\u001b[0m\n",
      "\u001b[0;32m/Library/Frameworks/Python.framework/Versions/3.8/lib/python3.8/site-packages/pandas/core/indexing.py\u001b[0m in \u001b[0;36m_setitem_with_indexer\u001b[0;34m(self, indexer, value, name)\u001b[0m\n\u001b[1;32m   1627\u001b[0m \u001b[0;34m\u001b[0m\u001b[0m\n\u001b[1;32m   1628\u001b[0m             \u001b[0;32mif\u001b[0m \u001b[0mmissing\u001b[0m\u001b[0;34m:\u001b[0m\u001b[0;34m\u001b[0m\u001b[0;34m\u001b[0m\u001b[0m\n\u001b[0;32m-> 1629\u001b[0;31m                 \u001b[0mself\u001b[0m\u001b[0;34m.\u001b[0m\u001b[0m_setitem_with_indexer_missing\u001b[0m\u001b[0;34m(\u001b[0m\u001b[0mindexer\u001b[0m\u001b[0;34m,\u001b[0m \u001b[0mvalue\u001b[0m\u001b[0;34m)\u001b[0m\u001b[0;34m\u001b[0m\u001b[0;34m\u001b[0m\u001b[0m\n\u001b[0m\u001b[1;32m   1630\u001b[0m                 \u001b[0;32mreturn\u001b[0m\u001b[0;34m\u001b[0m\u001b[0;34m\u001b[0m\u001b[0m\n\u001b[1;32m   1631\u001b[0m \u001b[0;34m\u001b[0m\u001b[0m\n",
      "\u001b[0;32m/Library/Frameworks/Python.framework/Versions/3.8/lib/python3.8/site-packages/pandas/core/indexing.py\u001b[0m in \u001b[0;36m_setitem_with_indexer_missing\u001b[0;34m(self, indexer, value)\u001b[0m\n\u001b[1;32m   1916\u001b[0m                     \u001b[0;31m# must have conforming columns\u001b[0m\u001b[0;34m\u001b[0m\u001b[0;34m\u001b[0m\u001b[0;34m\u001b[0m\u001b[0m\n\u001b[1;32m   1917\u001b[0m                     \u001b[0;32mif\u001b[0m \u001b[0mlen\u001b[0m\u001b[0;34m(\u001b[0m\u001b[0mvalue\u001b[0m\u001b[0;34m)\u001b[0m \u001b[0;34m!=\u001b[0m \u001b[0mlen\u001b[0m\u001b[0;34m(\u001b[0m\u001b[0mself\u001b[0m\u001b[0;34m.\u001b[0m\u001b[0mobj\u001b[0m\u001b[0;34m.\u001b[0m\u001b[0mcolumns\u001b[0m\u001b[0;34m)\u001b[0m\u001b[0;34m:\u001b[0m\u001b[0;34m\u001b[0m\u001b[0;34m\u001b[0m\u001b[0m\n\u001b[0;32m-> 1918\u001b[0;31m                         \u001b[0;32mraise\u001b[0m \u001b[0mValueError\u001b[0m\u001b[0;34m(\u001b[0m\u001b[0;34m\"cannot set a row with mismatched columns\"\u001b[0m\u001b[0;34m)\u001b[0m\u001b[0;34m\u001b[0m\u001b[0;34m\u001b[0m\u001b[0m\n\u001b[0m\u001b[1;32m   1919\u001b[0m \u001b[0;34m\u001b[0m\u001b[0m\n\u001b[1;32m   1920\u001b[0m                 \u001b[0mvalue\u001b[0m \u001b[0;34m=\u001b[0m \u001b[0mSeries\u001b[0m\u001b[0;34m(\u001b[0m\u001b[0mvalue\u001b[0m\u001b[0;34m,\u001b[0m \u001b[0mindex\u001b[0m\u001b[0;34m=\u001b[0m\u001b[0mself\u001b[0m\u001b[0;34m.\u001b[0m\u001b[0mobj\u001b[0m\u001b[0;34m.\u001b[0m\u001b[0mcolumns\u001b[0m\u001b[0;34m,\u001b[0m \u001b[0mname\u001b[0m\u001b[0;34m=\u001b[0m\u001b[0mindexer\u001b[0m\u001b[0;34m)\u001b[0m\u001b[0;34m\u001b[0m\u001b[0;34m\u001b[0m\u001b[0m\n",
      "\u001b[0;31mValueError\u001b[0m: cannot set a row with mismatched columns"
     ]
    }
   ],
   "source": [
    "imdb_rating.loc[-1] = [9.5, 'The Mummy', 'Horror', 200]\n",
    "imdb_rating = imdb_rating.reset_index()"
   ]
  },
  {
   "cell_type": "code",
   "execution_count": 164,
   "id": "2c94f4ee",
   "metadata": {
    "ExecuteTime": {
     "end_time": "2022-02-16T16:00:17.389769Z",
     "start_time": "2022-02-16T16:00:17.353778Z"
    }
   },
   "outputs": [
    {
     "data": {
      "text/html": [
       "<div>\n",
       "<style scoped>\n",
       "    .dataframe tbody tr th:only-of-type {\n",
       "        vertical-align: middle;\n",
       "    }\n",
       "\n",
       "    .dataframe tbody tr th {\n",
       "        vertical-align: top;\n",
       "    }\n",
       "\n",
       "    .dataframe thead th {\n",
       "        text-align: right;\n",
       "    }\n",
       "</style>\n",
       "<table border=\"1\" class=\"dataframe\">\n",
       "  <thead>\n",
       "    <tr style=\"text-align: right;\">\n",
       "      <th></th>\n",
       "      <th>star_rating</th>\n",
       "      <th>title</th>\n",
       "      <th>genre</th>\n",
       "      <th>duration</th>\n",
       "    </tr>\n",
       "  </thead>\n",
       "  <tbody>\n",
       "    <tr>\n",
       "      <th>0</th>\n",
       "      <td>9.5</td>\n",
       "      <td>The Mummy</td>\n",
       "      <td>Horror</td>\n",
       "      <td>200</td>\n",
       "    </tr>\n",
       "    <tr>\n",
       "      <th>1</th>\n",
       "      <td>9.3</td>\n",
       "      <td>The Shawshank Redemption</td>\n",
       "      <td>Crime</td>\n",
       "      <td>142</td>\n",
       "    </tr>\n",
       "    <tr>\n",
       "      <th>2</th>\n",
       "      <td>9.2</td>\n",
       "      <td>The Godfather</td>\n",
       "      <td>Crime</td>\n",
       "      <td>175</td>\n",
       "    </tr>\n",
       "    <tr>\n",
       "      <th>3</th>\n",
       "      <td>9.1</td>\n",
       "      <td>The Godfather: Part II</td>\n",
       "      <td>Crime</td>\n",
       "      <td>200</td>\n",
       "    </tr>\n",
       "    <tr>\n",
       "      <th>4</th>\n",
       "      <td>9.0</td>\n",
       "      <td>The Dark Knight</td>\n",
       "      <td>Action</td>\n",
       "      <td>152</td>\n",
       "    </tr>\n",
       "    <tr>\n",
       "      <th>5</th>\n",
       "      <td>8.9</td>\n",
       "      <td>Pulp Fiction</td>\n",
       "      <td>Crime</td>\n",
       "      <td>154</td>\n",
       "    </tr>\n",
       "    <tr>\n",
       "      <th>6</th>\n",
       "      <td>8.9</td>\n",
       "      <td>12 Angry Men</td>\n",
       "      <td>Drama</td>\n",
       "      <td>96</td>\n",
       "    </tr>\n",
       "    <tr>\n",
       "      <th>7</th>\n",
       "      <td>8.9</td>\n",
       "      <td>The Good, the Bad and the Ugly</td>\n",
       "      <td>Western</td>\n",
       "      <td>161</td>\n",
       "    </tr>\n",
       "    <tr>\n",
       "      <th>8</th>\n",
       "      <td>8.9</td>\n",
       "      <td>The Lord of the Rings: The Return of the King</td>\n",
       "      <td>Adventure</td>\n",
       "      <td>201</td>\n",
       "    </tr>\n",
       "    <tr>\n",
       "      <th>9</th>\n",
       "      <td>8.9</td>\n",
       "      <td>Schindler's List</td>\n",
       "      <td>Biography</td>\n",
       "      <td>195</td>\n",
       "    </tr>\n",
       "    <tr>\n",
       "      <th>10</th>\n",
       "      <td>8.9</td>\n",
       "      <td>Fight Club</td>\n",
       "      <td>Drama</td>\n",
       "      <td>139</td>\n",
       "    </tr>\n",
       "    <tr>\n",
       "      <th>11</th>\n",
       "      <td>9.5</td>\n",
       "      <td>The Mummy</td>\n",
       "      <td>Horror</td>\n",
       "      <td>200</td>\n",
       "    </tr>\n",
       "  </tbody>\n",
       "</table>\n",
       "</div>"
      ],
      "text/plain": [
       "    star_rating                                          title      genre  \\\n",
       "0           9.5                                      The Mummy     Horror   \n",
       "1           9.3                       The Shawshank Redemption      Crime   \n",
       "2           9.2                                  The Godfather      Crime   \n",
       "3           9.1                         The Godfather: Part II      Crime   \n",
       "4           9.0                                The Dark Knight     Action   \n",
       "5           8.9                                   Pulp Fiction      Crime   \n",
       "6           8.9                                   12 Angry Men      Drama   \n",
       "7           8.9                 The Good, the Bad and the Ugly    Western   \n",
       "8           8.9  The Lord of the Rings: The Return of the King  Adventure   \n",
       "9           8.9                               Schindler's List  Biography   \n",
       "10          8.9                                     Fight Club      Drama   \n",
       "11          9.5                                      The Mummy     Horror   \n",
       "\n",
       "    duration  \n",
       "0        200  \n",
       "1        142  \n",
       "2        175  \n",
       "3        200  \n",
       "4        152  \n",
       "5        154  \n",
       "6         96  \n",
       "7        161  \n",
       "8        201  \n",
       "9        195  \n",
       "10       139  \n",
       "11       200  "
      ]
     },
     "execution_count": 164,
     "metadata": {},
     "output_type": "execute_result"
    }
   ],
   "source": [
    "imdb_rating = imdb_rating.drop(columns = ['index'])\n",
    "imdb_rating"
   ]
  },
  {
   "cell_type": "code",
   "execution_count": 167,
   "id": "67d1a273",
   "metadata": {
    "ExecuteTime": {
     "end_time": "2022-02-16T16:01:57.193242Z",
     "start_time": "2022-02-16T16:01:57.160191Z"
    }
   },
   "outputs": [
    {
     "data": {
      "text/html": [
       "<div>\n",
       "<style scoped>\n",
       "    .dataframe tbody tr th:only-of-type {\n",
       "        vertical-align: middle;\n",
       "    }\n",
       "\n",
       "    .dataframe tbody tr th {\n",
       "        vertical-align: top;\n",
       "    }\n",
       "\n",
       "    .dataframe thead th {\n",
       "        text-align: right;\n",
       "    }\n",
       "</style>\n",
       "<table border=\"1\" class=\"dataframe\">\n",
       "  <thead>\n",
       "    <tr style=\"text-align: right;\">\n",
       "      <th></th>\n",
       "      <th>star_rating</th>\n",
       "      <th>title</th>\n",
       "      <th>genre</th>\n",
       "      <th>duration</th>\n",
       "    </tr>\n",
       "  </thead>\n",
       "  <tbody>\n",
       "    <tr>\n",
       "      <th>1</th>\n",
       "      <td>9.3</td>\n",
       "      <td>The Shawshank Redemption</td>\n",
       "      <td>Crime</td>\n",
       "      <td>142</td>\n",
       "    </tr>\n",
       "    <tr>\n",
       "      <th>2</th>\n",
       "      <td>9.2</td>\n",
       "      <td>The Godfather</td>\n",
       "      <td>Crime</td>\n",
       "      <td>175</td>\n",
       "    </tr>\n",
       "    <tr>\n",
       "      <th>3</th>\n",
       "      <td>9.1</td>\n",
       "      <td>The Godfather: Part II</td>\n",
       "      <td>Crime</td>\n",
       "      <td>200</td>\n",
       "    </tr>\n",
       "    <tr>\n",
       "      <th>4</th>\n",
       "      <td>9.0</td>\n",
       "      <td>The Dark Knight</td>\n",
       "      <td>Action</td>\n",
       "      <td>152</td>\n",
       "    </tr>\n",
       "    <tr>\n",
       "      <th>5</th>\n",
       "      <td>8.9</td>\n",
       "      <td>Pulp Fiction</td>\n",
       "      <td>Crime</td>\n",
       "      <td>154</td>\n",
       "    </tr>\n",
       "    <tr>\n",
       "      <th>6</th>\n",
       "      <td>8.9</td>\n",
       "      <td>12 Angry Men</td>\n",
       "      <td>Drama</td>\n",
       "      <td>96</td>\n",
       "    </tr>\n",
       "    <tr>\n",
       "      <th>7</th>\n",
       "      <td>8.9</td>\n",
       "      <td>The Good, the Bad and the Ugly</td>\n",
       "      <td>Western</td>\n",
       "      <td>161</td>\n",
       "    </tr>\n",
       "    <tr>\n",
       "      <th>8</th>\n",
       "      <td>8.9</td>\n",
       "      <td>The Lord of the Rings: The Return of the King</td>\n",
       "      <td>Adventure</td>\n",
       "      <td>201</td>\n",
       "    </tr>\n",
       "    <tr>\n",
       "      <th>9</th>\n",
       "      <td>8.9</td>\n",
       "      <td>Schindler's List</td>\n",
       "      <td>Biography</td>\n",
       "      <td>195</td>\n",
       "    </tr>\n",
       "    <tr>\n",
       "      <th>10</th>\n",
       "      <td>8.9</td>\n",
       "      <td>Fight Club</td>\n",
       "      <td>Drama</td>\n",
       "      <td>139</td>\n",
       "    </tr>\n",
       "  </tbody>\n",
       "</table>\n",
       "</div>"
      ],
      "text/plain": [
       "    star_rating                                          title      genre  \\\n",
       "1           9.3                       The Shawshank Redemption      Crime   \n",
       "2           9.2                                  The Godfather      Crime   \n",
       "3           9.1                         The Godfather: Part II      Crime   \n",
       "4           9.0                                The Dark Knight     Action   \n",
       "5           8.9                                   Pulp Fiction      Crime   \n",
       "6           8.9                                   12 Angry Men      Drama   \n",
       "7           8.9                 The Good, the Bad and the Ugly    Western   \n",
       "8           8.9  The Lord of the Rings: The Return of the King  Adventure   \n",
       "9           8.9                               Schindler's List  Biography   \n",
       "10          8.9                                     Fight Club      Drama   \n",
       "\n",
       "    duration  \n",
       "1        142  \n",
       "2        175  \n",
       "3        200  \n",
       "4        152  \n",
       "5        154  \n",
       "6         96  \n",
       "7        161  \n",
       "8        201  \n",
       "9        195  \n",
       "10       139  "
      ]
     },
     "execution_count": 167,
     "metadata": {},
     "output_type": "execute_result"
    }
   ],
   "source": [
    "imdb_rating.drop(imdb_rating.index[[0,11]])"
   ]
  },
  {
   "cell_type": "code",
   "execution_count": null,
   "id": "1ce7647e",
   "metadata": {},
   "outputs": [],
   "source": []
  }
 ],
 "metadata": {
  "kernelspec": {
   "display_name": "Python 3 (ipykernel)",
   "language": "python",
   "name": "python3"
  },
  "language_info": {
   "codemirror_mode": {
    "name": "ipython",
    "version": 3
   },
   "file_extension": ".py",
   "mimetype": "text/x-python",
   "name": "python",
   "nbconvert_exporter": "python",
   "pygments_lexer": "ipython3",
   "version": "3.9.7"
  }
 },
 "nbformat": 4,
 "nbformat_minor": 5
}
