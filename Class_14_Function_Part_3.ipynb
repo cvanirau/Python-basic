{
 "cells": [
  {
   "cell_type": "code",
   "execution_count": null,
   "id": "aba582c2",
   "metadata": {},
   "outputs": [],
   "source": [
    "# Function Aliasing\n",
    "# Closure\n",
    "# Filter, map, aggregate"
   ]
  },
  {
   "cell_type": "code",
   "execution_count": 5,
   "id": "e10b90ac",
   "metadata": {
    "ExecuteTime": {
     "end_time": "2022-01-31T14:22:42.070381Z",
     "start_time": "2022-01-31T14:22:42.053236Z"
    }
   },
   "outputs": [
    {
     "name": "stdout",
     "output_type": "stream",
     "text": [
      "['a', 'b', 'c']\n"
     ]
    },
    {
     "data": {
      "text/plain": [
       "30"
      ]
     },
     "execution_count": 5,
     "metadata": {},
     "output_type": "execute_result"
    }
   ],
   "source": [
    "def f1():\n",
    "    a = 10\n",
    "    b = 20\n",
    "    c = a+b\n",
    "    print(dir())\n",
    "    return c\n",
    "\n",
    "# f1\n",
    "f1()"
   ]
  },
  {
   "cell_type": "code",
   "execution_count": 7,
   "id": "8840efb1",
   "metadata": {
    "ExecuteTime": {
     "end_time": "2022-01-31T14:11:29.554661Z",
     "start_time": "2022-01-31T14:11:29.547845Z"
    }
   },
   "outputs": [
    {
     "name": "stdout",
     "output_type": "stream",
     "text": [
      "<function f1 at 0x10d258700>\n",
      "4515530496\n",
      "4515530496\n"
     ]
    }
   ],
   "source": [
    "a = f1    # Aliasing\n",
    "print(a)\n",
    "a()\n",
    "\n",
    "print(id(a))\n",
    "print(id(f1))"
   ]
  },
  {
   "cell_type": "code",
   "execution_count": 5,
   "id": "f0fc447c",
   "metadata": {
    "ExecuteTime": {
     "end_time": "2022-01-31T14:09:21.402321Z",
     "start_time": "2022-01-31T14:09:21.390064Z"
    }
   },
   "outputs": [
    {
     "name": "stdout",
     "output_type": "stream",
     "text": [
      "4475014080\n",
      "4475014080\n"
     ]
    }
   ],
   "source": [
    "a = 10\n",
    "b = a\n",
    "print(id(a))\n",
    "print(id(b))"
   ]
  },
  {
   "cell_type": "code",
   "execution_count": 9,
   "id": "373afe0a",
   "metadata": {
    "ExecuteTime": {
     "end_time": "2022-01-31T14:12:15.272178Z",
     "start_time": "2022-01-31T14:12:15.267083Z"
    }
   },
   "outputs": [
    {
     "name": "stdout",
     "output_type": "stream",
     "text": [
      "['__annotations__', '__call__', '__class__', '__closure__', '__code__', '__defaults__', '__delattr__', '__dict__', '__dir__', '__doc__', '__eq__', '__format__', '__ge__', '__get__', '__getattribute__', '__globals__', '__gt__', '__hash__', '__init__', '__init_subclass__', '__kwdefaults__', '__le__', '__lt__', '__module__', '__name__', '__ne__', '__new__', '__qualname__', '__reduce__', '__reduce_ex__', '__repr__', '__setattr__', '__sizeof__', '__str__', '__subclasshook__']\n"
     ]
    }
   ],
   "source": [
    "print(dir(f1))"
   ]
  },
  {
   "cell_type": "code",
   "execution_count": null,
   "id": "da797234",
   "metadata": {},
   "outputs": [],
   "source": [
    "class Car:\n",
    "    engine\n",
    "    steering\n",
    "    wheels\n",
    "    \n",
    "    start_engine()\n",
    "    stop_engine()\n",
    "    accelerate()\n",
    "    apply_break()"
   ]
  },
  {
   "cell_type": "code",
   "execution_count": null,
   "id": "704f2db0",
   "metadata": {},
   "outputs": [],
   "source": [
    "c1 = Car()"
   ]
  },
  {
   "cell_type": "code",
   "execution_count": null,
   "id": "785c0b34",
   "metadata": {},
   "outputs": [],
   "source": [
    "list - append, insert, pop..."
   ]
  },
  {
   "cell_type": "code",
   "execution_count": null,
   "id": "8c8eeea0",
   "metadata": {},
   "outputs": [],
   "source": [
    "l1 = [10,20,30,40]"
   ]
  },
  {
   "cell_type": "code",
   "execution_count": 10,
   "id": "9f2ca9ec",
   "metadata": {
    "ExecuteTime": {
     "end_time": "2022-01-31T14:15:50.108906Z",
     "start_time": "2022-01-31T14:15:50.096445Z"
    }
   },
   "outputs": [
    {
     "name": "stdout",
     "output_type": "stream",
     "text": [
      "<class 'function'>\n"
     ]
    }
   ],
   "source": [
    "print(type(f1))"
   ]
  },
  {
   "cell_type": "code",
   "execution_count": null,
   "id": "21280328",
   "metadata": {},
   "outputs": [],
   "source": [
    "# Namespace and Scope"
   ]
  },
  {
   "cell_type": "code",
   "execution_count": null,
   "id": "8061bc97",
   "metadata": {},
   "outputs": [],
   "source": [
    "# Namespace - Container - contains the references\n",
    "# Scope - set of rules which are defined inside the function for name resolutuon order"
   ]
  },
  {
   "cell_type": "code",
   "execution_count": null,
   "id": "661cc74e",
   "metadata": {},
   "outputs": [],
   "source": [
    "# Namespace - Container - contains the references\n",
    "Built-in -> Global -> Local"
   ]
  },
  {
   "cell_type": "code",
   "execution_count": 11,
   "id": "038e3f09",
   "metadata": {
    "ExecuteTime": {
     "end_time": "2022-01-31T14:17:35.261983Z",
     "start_time": "2022-01-31T14:17:35.254881Z"
    }
   },
   "outputs": [
    {
     "name": "stdout",
     "output_type": "stream",
     "text": [
      "['ArithmeticError', 'AssertionError', 'AttributeError', 'BaseException', 'BlockingIOError', 'BrokenPipeError', 'BufferError', 'BytesWarning', 'ChildProcessError', 'ConnectionAbortedError', 'ConnectionError', 'ConnectionRefusedError', 'ConnectionResetError', 'DeprecationWarning', 'EOFError', 'Ellipsis', 'EnvironmentError', 'Exception', 'False', 'FileExistsError', 'FileNotFoundError', 'FloatingPointError', 'FutureWarning', 'GeneratorExit', 'IOError', 'ImportError', 'ImportWarning', 'IndentationError', 'IndexError', 'InterruptedError', 'IsADirectoryError', 'KeyError', 'KeyboardInterrupt', 'LookupError', 'MemoryError', 'ModuleNotFoundError', 'NameError', 'None', 'NotADirectoryError', 'NotImplemented', 'NotImplementedError', 'OSError', 'OverflowError', 'PendingDeprecationWarning', 'PermissionError', 'ProcessLookupError', 'RecursionError', 'ReferenceError', 'ResourceWarning', 'RuntimeError', 'RuntimeWarning', 'StopAsyncIteration', 'StopIteration', 'SyntaxError', 'SyntaxWarning', 'SystemError', 'SystemExit', 'TabError', 'TimeoutError', 'True', 'TypeError', 'UnboundLocalError', 'UnicodeDecodeError', 'UnicodeEncodeError', 'UnicodeError', 'UnicodeTranslateError', 'UnicodeWarning', 'UserWarning', 'ValueError', 'Warning', 'ZeroDivisionError', '__IPYTHON__', '__build_class__', '__debug__', '__doc__', '__import__', '__loader__', '__name__', '__package__', '__spec__', 'abs', 'all', 'any', 'ascii', 'bin', 'bool', 'breakpoint', 'bytearray', 'bytes', 'callable', 'chr', 'classmethod', 'compile', 'complex', 'copyright', 'credits', 'delattr', 'dict', 'dir', 'display', 'divmod', 'enumerate', 'eval', 'exec', 'filter', 'float', 'format', 'frozenset', 'get_ipython', 'getattr', 'globals', 'hasattr', 'hash', 'help', 'hex', 'id', 'input', 'int', 'isinstance', 'issubclass', 'iter', 'len', 'license', 'list', 'locals', 'map', 'max', 'memoryview', 'min', 'next', 'object', 'oct', 'open', 'ord', 'pow', 'print', 'property', 'range', 'repr', 'reversed', 'round', 'set', 'setattr', 'slice', 'sorted', 'staticmethod', 'str', 'sum', 'super', 'tuple', 'type', 'vars', 'zip']\n"
     ]
    }
   ],
   "source": [
    "print(dir(__builtins__))"
   ]
  },
  {
   "cell_type": "code",
   "execution_count": 1,
   "id": "2694c613",
   "metadata": {
    "ExecuteTime": {
     "end_time": "2022-01-31T14:20:28.131595Z",
     "start_time": "2022-01-31T14:20:28.114511Z"
    }
   },
   "outputs": [
    {
     "name": "stdout",
     "output_type": "stream",
     "text": [
      "['In', 'Out', '_', '__', '___', '__builtin__', '__builtins__', '__doc__', '__loader__', '__name__', '__package__', '__spec__', '_dh', '_i', '_i1', '_ih', '_ii', '_iii', '_oh', 'exit', 'get_ipython', 'quit']\n"
     ]
    }
   ],
   "source": [
    "print(dir())"
   ]
  },
  {
   "cell_type": "code",
   "execution_count": 2,
   "id": "60f41b65",
   "metadata": {
    "ExecuteTime": {
     "end_time": "2022-01-31T14:21:48.215841Z",
     "start_time": "2022-01-31T14:21:48.210198Z"
    }
   },
   "outputs": [
    {
     "name": "stdout",
     "output_type": "stream",
     "text": [
      "['__add__', '__class__', '__contains__', '__delattr__', '__delitem__', '__dir__', '__doc__', '__eq__', '__format__', '__ge__', '__getattribute__', '__getitem__', '__gt__', '__hash__', '__iadd__', '__imul__', '__init__', '__init_subclass__', '__iter__', '__le__', '__len__', '__lt__', '__mul__', '__ne__', '__new__', '__reduce__', '__reduce_ex__', '__repr__', '__reversed__', '__rmul__', '__setattr__', '__setitem__', '__sizeof__', '__str__', '__subclasshook__', 'append', 'clear', 'copy', 'count', 'extend', 'index', 'insert', 'pop', 'remove', 'reverse', 'sort']\n"
     ]
    }
   ],
   "source": [
    "print(dir(list))"
   ]
  },
  {
   "cell_type": "code",
   "execution_count": 4,
   "id": "b4e7889f",
   "metadata": {
    "ExecuteTime": {
     "end_time": "2022-01-31T14:22:21.075708Z",
     "start_time": "2022-01-31T14:22:21.069783Z"
    }
   },
   "outputs": [
    {
     "name": "stdout",
     "output_type": "stream",
     "text": [
      "['__annotations__', '__call__', '__class__', '__closure__', '__code__', '__defaults__', '__delattr__', '__dict__', '__dir__', '__doc__', '__eq__', '__format__', '__ge__', '__get__', '__getattribute__', '__globals__', '__gt__', '__hash__', '__init__', '__init_subclass__', '__kwdefaults__', '__le__', '__lt__', '__module__', '__name__', '__ne__', '__new__', '__qualname__', '__reduce__', '__reduce_ex__', '__repr__', '__setattr__', '__sizeof__', '__str__', '__subclasshook__']\n"
     ]
    }
   ],
   "source": [
    "print(dir(f1))"
   ]
  },
  {
   "cell_type": "code",
   "execution_count": null,
   "id": "8eeef3fe",
   "metadata": {},
   "outputs": [],
   "source": [
    "# Scope - set of rules which are defined inside the function for name resolutuon order\n",
    "\n",
    "Local -> Global -> Builtins -> NameError\n",
    "print"
   ]
  },
  {
   "cell_type": "code",
   "execution_count": 1,
   "id": "d871b36a",
   "metadata": {
    "ExecuteTime": {
     "end_time": "2022-01-31T14:39:44.161979Z",
     "start_time": "2022-01-31T14:39:43.931825Z"
    }
   },
   "outputs": [
    {
     "ename": "NameError",
     "evalue": "name 'a' is not defined",
     "output_type": "error",
     "traceback": [
      "\u001b[0;31m---------------------------------------------------------------------------\u001b[0m",
      "\u001b[0;31mNameError\u001b[0m                                 Traceback (most recent call last)",
      "\u001b[0;32m<ipython-input-1-bca0e2660b9f>\u001b[0m in \u001b[0;36m<module>\u001b[0;34m\u001b[0m\n\u001b[0;32m----> 1\u001b[0;31m \u001b[0mprint\u001b[0m\u001b[0;34m(\u001b[0m\u001b[0ma\u001b[0m\u001b[0;34m)\u001b[0m\u001b[0;34m\u001b[0m\u001b[0;34m\u001b[0m\u001b[0m\n\u001b[0m",
      "\u001b[0;31mNameError\u001b[0m: name 'a' is not defined"
     ]
    }
   ],
   "source": [
    "print(a)"
   ]
  },
  {
   "cell_type": "code",
   "execution_count": 2,
   "id": "41c6c1c3",
   "metadata": {
    "ExecuteTime": {
     "end_time": "2022-01-31T14:39:52.796001Z",
     "start_time": "2022-01-31T14:39:52.767501Z"
    }
   },
   "outputs": [
    {
     "name": "stdout",
     "output_type": "stream",
     "text": [
      "['In', 'Out', '_', '__', '___', '__builtin__', '__builtins__', '__doc__', '__loader__', '__name__', '__package__', '__spec__', '_dh', '_i', '_i1', '_i2', '_ih', '_ii', '_iii', '_oh', 'exit', 'get_ipython', 'quit']\n"
     ]
    }
   ],
   "source": [
    "print(dir())"
   ]
  },
  {
   "cell_type": "code",
   "execution_count": 5,
   "id": "18a4e9fa",
   "metadata": {
    "ExecuteTime": {
     "end_time": "2022-01-31T14:45:39.345089Z",
     "start_time": "2022-01-31T14:45:39.333813Z"
    }
   },
   "outputs": [
    {
     "name": "stdout",
     "output_type": "stream",
     "text": [
      "10\n"
     ]
    }
   ],
   "source": [
    "def f1():\n",
    "    a = 10\n",
    "    print(a)\n",
    "f1()\n",
    "# print(a)"
   ]
  },
  {
   "cell_type": "code",
   "execution_count": 4,
   "id": "e51ab045",
   "metadata": {
    "ExecuteTime": {
     "end_time": "2022-01-31T14:45:14.075735Z",
     "start_time": "2022-01-31T14:45:14.068052Z"
    }
   },
   "outputs": [
    {
     "name": "stdout",
     "output_type": "stream",
     "text": [
      "['In', 'Out', '_', '__', '___', '__builtin__', '__builtins__', '__doc__', '__loader__', '__name__', '__package__', '__spec__', '_dh', '_i', '_i1', '_i2', '_i3', '_i4', '_ih', '_ii', '_iii', '_oh', 'exit', 'f1', 'get_ipython', 'quit']\n"
     ]
    }
   ],
   "source": [
    "print(dir())"
   ]
  },
  {
   "cell_type": "code",
   "execution_count": 1,
   "id": "aac9ed0e",
   "metadata": {
    "ExecuteTime": {
     "end_time": "2022-01-31T14:46:42.896197Z",
     "start_time": "2022-01-31T14:46:42.868442Z"
    }
   },
   "outputs": [
    {
     "name": "stdout",
     "output_type": "stream",
     "text": [
      "['In', 'Out', '_', '__', '___', '__builtin__', '__builtins__', '__doc__', '__loader__', '__name__', '__package__', '__spec__', '_dh', '_i', '_i1', '_ih', '_ii', '_iii', '_oh', 'exit', 'get_ipython', 'quit']\n"
     ]
    }
   ],
   "source": [
    "print(dir())"
   ]
  },
  {
   "cell_type": "code",
   "execution_count": 2,
   "id": "4a51ed96",
   "metadata": {
    "ExecuteTime": {
     "end_time": "2022-01-31T14:47:12.467950Z",
     "start_time": "2022-01-31T14:47:12.455246Z"
    }
   },
   "outputs": [
    {
     "name": "stdout",
     "output_type": "stream",
     "text": [
      "['ArithmeticError', 'AssertionError', 'AttributeError', 'BaseException', 'BlockingIOError', 'BrokenPipeError', 'BufferError', 'BytesWarning', 'ChildProcessError', 'ConnectionAbortedError', 'ConnectionError', 'ConnectionRefusedError', 'ConnectionResetError', 'DeprecationWarning', 'EOFError', 'Ellipsis', 'EnvironmentError', 'Exception', 'False', 'FileExistsError', 'FileNotFoundError', 'FloatingPointError', 'FutureWarning', 'GeneratorExit', 'IOError', 'ImportError', 'ImportWarning', 'IndentationError', 'IndexError', 'InterruptedError', 'IsADirectoryError', 'KeyError', 'KeyboardInterrupt', 'LookupError', 'MemoryError', 'ModuleNotFoundError', 'NameError', 'None', 'NotADirectoryError', 'NotImplemented', 'NotImplementedError', 'OSError', 'OverflowError', 'PendingDeprecationWarning', 'PermissionError', 'ProcessLookupError', 'RecursionError', 'ReferenceError', 'ResourceWarning', 'RuntimeError', 'RuntimeWarning', 'StopAsyncIteration', 'StopIteration', 'SyntaxError', 'SyntaxWarning', 'SystemError', 'SystemExit', 'TabError', 'TimeoutError', 'True', 'TypeError', 'UnboundLocalError', 'UnicodeDecodeError', 'UnicodeEncodeError', 'UnicodeError', 'UnicodeTranslateError', 'UnicodeWarning', 'UserWarning', 'ValueError', 'Warning', 'ZeroDivisionError', '__IPYTHON__', '__build_class__', '__debug__', '__doc__', '__import__', '__loader__', '__name__', '__package__', '__spec__', 'abs', 'all', 'any', 'ascii', 'bin', 'bool', 'breakpoint', 'bytearray', 'bytes', 'callable', 'chr', 'classmethod', 'compile', 'complex', 'copyright', 'credits', 'delattr', 'dict', 'dir', 'display', 'divmod', 'enumerate', 'eval', 'exec', 'filter', 'float', 'format', 'frozenset', 'get_ipython', 'getattr', 'globals', 'hasattr', 'hash', 'help', 'hex', 'id', 'input', 'int', 'isinstance', 'issubclass', 'iter', 'len', 'license', 'list', 'locals', 'map', 'max', 'memoryview', 'min', 'next', 'object', 'oct', 'open', 'ord', 'pow', 'print', 'property', 'range', 'repr', 'reversed', 'round', 'set', 'setattr', 'slice', 'sorted', 'staticmethod', 'str', 'sum', 'super', 'tuple', 'type', 'vars', 'zip']\n"
     ]
    }
   ],
   "source": [
    "print('Builtin Namespace')\n",
    "print(dir(__builtins__))"
   ]
  },
  {
   "cell_type": "code",
   "execution_count": 3,
   "id": "1aafc8ed",
   "metadata": {
    "ExecuteTime": {
     "end_time": "2022-01-31T14:47:28.791460Z",
     "start_time": "2022-01-31T14:47:28.770387Z"
    }
   },
   "outputs": [
    {
     "name": "stdout",
     "output_type": "stream",
     "text": [
      "['In', 'Out', '_', '__', '___', '__builtin__', '__builtins__', '__doc__', '__loader__', '__name__', '__package__', '__spec__', '_dh', '_i', '_i1', '_i2', '_i3', '_ih', '_ii', '_iii', '_oh', 'exit', 'get_ipython', 'quit']\n"
     ]
    }
   ],
   "source": [
    "print('Global Namespace in the begining')\n",
    "print(dir())"
   ]
  },
  {
   "cell_type": "code",
   "execution_count": 4,
   "id": "7c02d646",
   "metadata": {
    "ExecuteTime": {
     "end_time": "2022-01-31T14:48:51.250361Z",
     "start_time": "2022-01-31T14:48:51.241086Z"
    }
   },
   "outputs": [],
   "source": [
    "a = 10\n",
    "b = 20\n",
    "c = a+b\n",
    "def f1():\n",
    "    x = 11\n",
    "    y = 22\n",
    "    print('Local Name sopace of f1')\n",
    "    print(dir())"
   ]
  },
  {
   "cell_type": "code",
   "execution_count": 5,
   "id": "5f2abcee",
   "metadata": {
    "ExecuteTime": {
     "end_time": "2022-01-31T14:49:17.449686Z",
     "start_time": "2022-01-31T14:49:17.437767Z"
    }
   },
   "outputs": [
    {
     "name": "stdout",
     "output_type": "stream",
     "text": [
      "Global Namesoace after eecuting abive code\n",
      "['In', 'Out', '_', '__', '___', '__builtin__', '__builtins__', '__doc__', '__loader__', '__name__', '__package__', '__spec__', '_dh', '_i', '_i1', '_i2', '_i3', '_i4', '_i5', '_ih', '_ii', '_iii', '_oh', 'a', 'b', 'c', 'exit', 'f1', 'get_ipython', 'quit']\n"
     ]
    }
   ],
   "source": [
    "print('Global Namesoace after eecuting abive code')\n",
    "print(dir())"
   ]
  },
  {
   "cell_type": "code",
   "execution_count": 6,
   "id": "9dc08fc2",
   "metadata": {
    "ExecuteTime": {
     "end_time": "2022-01-31T14:50:13.296684Z",
     "start_time": "2022-01-31T14:50:13.282081Z"
    }
   },
   "outputs": [
    {
     "name": "stdout",
     "output_type": "stream",
     "text": [
      "Local Name sopace of f1\n",
      "['x', 'y']\n"
     ]
    }
   ],
   "source": [
    "f1()"
   ]
  },
  {
   "cell_type": "code",
   "execution_count": 2,
   "id": "46f827cd",
   "metadata": {
    "ExecuteTime": {
     "end_time": "2022-01-31T14:54:21.031612Z",
     "start_time": "2022-01-31T14:54:21.010923Z"
    }
   },
   "outputs": [
    {
     "ename": "NameError",
     "evalue": "name 'a' is not defined",
     "output_type": "error",
     "traceback": [
      "\u001b[0;31m---------------------------------------------------------------------------\u001b[0m",
      "\u001b[0;31mNameError\u001b[0m                                 Traceback (most recent call last)",
      "\u001b[0;32m<ipython-input-2-9098ec9732ef>\u001b[0m in \u001b[0;36m<module>\u001b[0;34m\u001b[0m\n\u001b[1;32m      2\u001b[0m     \u001b[0ma\u001b[0m \u001b[0;34m=\u001b[0m \u001b[0;36m10\u001b[0m\u001b[0;34m\u001b[0m\u001b[0;34m\u001b[0m\u001b[0m\n\u001b[1;32m      3\u001b[0m \u001b[0mmy_func\u001b[0m\u001b[0;34m(\u001b[0m\u001b[0;34m)\u001b[0m\u001b[0;34m\u001b[0m\u001b[0;34m\u001b[0m\u001b[0m\n\u001b[0;32m----> 4\u001b[0;31m \u001b[0mprint\u001b[0m\u001b[0;34m(\u001b[0m\u001b[0ma\u001b[0m\u001b[0;34m)\u001b[0m\u001b[0;34m\u001b[0m\u001b[0;34m\u001b[0m\u001b[0m\n\u001b[0m",
      "\u001b[0;31mNameError\u001b[0m: name 'a' is not defined"
     ]
    }
   ],
   "source": [
    "# def my_func():\n",
    "#     a = 10\n",
    "# my_func()\n",
    "# print(a)"
   ]
  },
  {
   "cell_type": "code",
   "execution_count": 2,
   "id": "e5a15865",
   "metadata": {
    "ExecuteTime": {
     "end_time": "2022-01-31T14:57:21.516920Z",
     "start_time": "2022-01-31T14:57:21.493713Z"
    }
   },
   "outputs": [
    {
     "name": "stdout",
     "output_type": "stream",
     "text": [
      "10\n"
     ]
    }
   ],
   "source": [
    "def my_func():\n",
    "    a = 10\n",
    "    return a\n",
    "a = my_func()\n",
    "print(a)"
   ]
  },
  {
   "cell_type": "code",
   "execution_count": 3,
   "id": "6f25a8a8",
   "metadata": {
    "ExecuteTime": {
     "end_time": "2022-01-31T15:00:49.664305Z",
     "start_time": "2022-01-31T15:00:49.652158Z"
    }
   },
   "outputs": [
    {
     "name": "stdout",
     "output_type": "stream",
     "text": [
      "INside Outer function\n",
      "Insiude inner function\n",
      "None\n"
     ]
    }
   ],
   "source": [
    "def outer_func():\n",
    "    print('INside Outer function')\n",
    "    a = 10\n",
    "    b = 20\n",
    "    def inner_func():\n",
    "        print('Insiude inner function')\n",
    "        x = 11\n",
    "        y = 22\n",
    "    inner_func()\n",
    "print(outer_func())"
   ]
  },
  {
   "cell_type": "code",
   "execution_count": 4,
   "id": "e0c626f1",
   "metadata": {
    "ExecuteTime": {
     "end_time": "2022-01-31T15:01:52.143096Z",
     "start_time": "2022-01-31T15:01:52.118340Z"
    }
   },
   "outputs": [
    {
     "name": "stdout",
     "output_type": "stream",
     "text": [
      "INside Outer function\n",
      "Insiude inner function\n"
     ]
    },
    {
     "ename": "NameError",
     "evalue": "name 'inner_func' is not defined",
     "output_type": "error",
     "traceback": [
      "\u001b[0;31m---------------------------------------------------------------------------\u001b[0m",
      "\u001b[0;31mNameError\u001b[0m                                 Traceback (most recent call last)",
      "\u001b[0;32m<ipython-input-4-7da92efecd8c>\u001b[0m in \u001b[0;36m<module>\u001b[0;34m\u001b[0m\n\u001b[1;32m      9\u001b[0m     \u001b[0minner_func\u001b[0m\u001b[0;34m(\u001b[0m\u001b[0;34m)\u001b[0m\u001b[0;34m\u001b[0m\u001b[0;34m\u001b[0m\u001b[0m\n\u001b[1;32m     10\u001b[0m \u001b[0mouter_func\u001b[0m\u001b[0;34m(\u001b[0m\u001b[0;34m)\u001b[0m\u001b[0;34m\u001b[0m\u001b[0;34m\u001b[0m\u001b[0m\n\u001b[0;32m---> 11\u001b[0;31m \u001b[0minner_func\u001b[0m\u001b[0;34m(\u001b[0m\u001b[0;34m)\u001b[0m\u001b[0;34m\u001b[0m\u001b[0;34m\u001b[0m\u001b[0m\n\u001b[0m",
      "\u001b[0;31mNameError\u001b[0m: name 'inner_func' is not defined"
     ]
    }
   ],
   "source": [
    "def outer_func():\n",
    "    print('INside Outer function')\n",
    "    a = 10\n",
    "    b = 20\n",
    "    def inner_func():\n",
    "        print('Insiude inner function')\n",
    "        x = 11\n",
    "        y = 22\n",
    "    inner_func()\n",
    "outer_func()\n",
    "inner_func()"
   ]
  },
  {
   "cell_type": "code",
   "execution_count": 8,
   "id": "6ad45f28",
   "metadata": {
    "ExecuteTime": {
     "end_time": "2022-01-31T15:05:39.731631Z",
     "start_time": "2022-01-31T15:05:39.716135Z"
    }
   },
   "outputs": [
    {
     "name": "stdout",
     "output_type": "stream",
     "text": [
      "INside Outer function\n",
      "Insiude inner function\n"
     ]
    }
   ],
   "source": [
    "# Closure - A function which returns the reference of inner function\n",
    "\n",
    "def outer_func():\n",
    "    print('INside Outer function')\n",
    "    a = 10\n",
    "    b = 20\n",
    "    def inner_func():\n",
    "        print('Insiude inner function')\n",
    "        x = 11\n",
    "        y = 22\n",
    "    return inner_func\n",
    "a = outer_func()\n",
    "a()\n",
    "\n"
   ]
  },
  {
   "cell_type": "code",
   "execution_count": 6,
   "id": "f93a7703",
   "metadata": {
    "ExecuteTime": {
     "end_time": "2022-01-31T15:03:54.244372Z",
     "start_time": "2022-01-31T15:03:54.225972Z"
    }
   },
   "outputs": [
    {
     "name": "stderr",
     "output_type": "stream",
     "text": [
      "<>:1: SyntaxWarning: 'NoneType' object is not callable; perhaps you missed a comma?\n",
      "<>:1: SyntaxWarning: 'NoneType' object is not callable; perhaps you missed a comma?\n",
      "<ipython-input-6-061f79a46d11>:1: SyntaxWarning: 'NoneType' object is not callable; perhaps you missed a comma?\n",
      "  None()\n"
     ]
    },
    {
     "ename": "TypeError",
     "evalue": "'NoneType' object is not callable",
     "output_type": "error",
     "traceback": [
      "\u001b[0;31m---------------------------------------------------------------------------\u001b[0m",
      "\u001b[0;31mTypeError\u001b[0m                                 Traceback (most recent call last)",
      "\u001b[0;32m<ipython-input-6-061f79a46d11>\u001b[0m in \u001b[0;36m<module>\u001b[0;34m\u001b[0m\n\u001b[0;32m----> 1\u001b[0;31m \u001b[0;32mNone\u001b[0m\u001b[0;34m(\u001b[0m\u001b[0;34m)\u001b[0m\u001b[0;34m\u001b[0m\u001b[0;34m\u001b[0m\u001b[0m\n\u001b[0m",
      "\u001b[0;31mTypeError\u001b[0m: 'NoneType' object is not callable"
     ]
    }
   ],
   "source": [
    "None()"
   ]
  },
  {
   "cell_type": "code",
   "execution_count": 5,
   "id": "54d14230",
   "metadata": {
    "ExecuteTime": {
     "end_time": "2022-01-31T15:03:50.890951Z",
     "start_time": "2022-01-31T15:03:50.883683Z"
    }
   },
   "outputs": [],
   "source": [
    "None"
   ]
  },
  {
   "cell_type": "code",
   "execution_count": 1,
   "id": "369b0af5",
   "metadata": {
    "ExecuteTime": {
     "end_time": "2022-01-31T15:23:34.895894Z",
     "start_time": "2022-01-31T15:23:34.615808Z"
    }
   },
   "outputs": [
    {
     "name": "stdout",
     "output_type": "stream",
     "text": [
      "Inside f1\n",
      "11\n",
      "After calling f1()\n"
     ]
    },
    {
     "ename": "NameError",
     "evalue": "name 'a' is not defined",
     "output_type": "error",
     "traceback": [
      "\u001b[0;31m---------------------------------------------------------------------------\u001b[0m",
      "\u001b[0;31mNameError\u001b[0m                                 Traceback (most recent call last)",
      "\u001b[0;32m<ipython-input-1-6ab0db052820>\u001b[0m in \u001b[0;36m<module>\u001b[0;34m\u001b[0m\n\u001b[1;32m     11\u001b[0m \u001b[0mf1\u001b[0m\u001b[0;34m(\u001b[0m\u001b[0;34m)\u001b[0m\u001b[0;34m\u001b[0m\u001b[0;34m\u001b[0m\u001b[0m\n\u001b[1;32m     12\u001b[0m \u001b[0mprint\u001b[0m\u001b[0;34m(\u001b[0m\u001b[0;34m'After calling f1()'\u001b[0m\u001b[0;34m)\u001b[0m\u001b[0;34m\u001b[0m\u001b[0;34m\u001b[0m\u001b[0m\n\u001b[0;32m---> 13\u001b[0;31m \u001b[0mprint\u001b[0m\u001b[0;34m(\u001b[0m\u001b[0ma\u001b[0m\u001b[0;34m)\u001b[0m\u001b[0;34m\u001b[0m\u001b[0;34m\u001b[0m\u001b[0m\n\u001b[0m\u001b[1;32m     14\u001b[0m \u001b[0;34m\u001b[0m\u001b[0m\n",
      "\u001b[0;31mNameError\u001b[0m: name 'a' is not defined"
     ]
    }
   ],
   "source": [
    "# Global Keyword\n",
    "\n",
    "# a = 10\n",
    "def f1():\n",
    "#     global a\n",
    "    a = 11\n",
    "    print('Inside f1')\n",
    "    print(a)\n",
    "# print('Before calling f1()')\n",
    "# print(a)\n",
    "f1()\n",
    "print('After calling f1()')\n",
    "print(a)\n",
    "\n"
   ]
  },
  {
   "cell_type": "code",
   "execution_count": 11,
   "id": "7b3b5b11",
   "metadata": {
    "ExecuteTime": {
     "end_time": "2022-01-31T15:32:53.750091Z",
     "start_time": "2022-01-31T15:32:53.715383Z"
    }
   },
   "outputs": [
    {
     "name": "stdout",
     "output_type": "stream",
     "text": [
      "111\n",
      "111\n",
      "111\n"
     ]
    },
    {
     "ename": "NameError",
     "evalue": "name 'x' is not defined",
     "output_type": "error",
     "traceback": [
      "\u001b[0;31m---------------------------------------------------------------------------\u001b[0m",
      "\u001b[0;31mNameError\u001b[0m                                 Traceback (most recent call last)",
      "\u001b[0;32m<ipython-input-11-31028f244f09>\u001b[0m in \u001b[0;36m<module>\u001b[0;34m\u001b[0m\n\u001b[1;32m     13\u001b[0m \u001b[0mf1\u001b[0m\u001b[0;34m(\u001b[0m\u001b[0;34m)\u001b[0m\u001b[0;34m\u001b[0m\u001b[0;34m\u001b[0m\u001b[0m\n\u001b[1;32m     14\u001b[0m \u001b[0mprint\u001b[0m\u001b[0;34m(\u001b[0m\u001b[0ma\u001b[0m\u001b[0;34m)\u001b[0m\u001b[0;34m\u001b[0m\u001b[0;34m\u001b[0m\u001b[0m\n\u001b[0;32m---> 15\u001b[0;31m \u001b[0mprint\u001b[0m\u001b[0;34m(\u001b[0m\u001b[0mx\u001b[0m\u001b[0;34m)\u001b[0m\u001b[0;34m\u001b[0m\u001b[0;34m\u001b[0m\u001b[0m\n\u001b[0m",
      "\u001b[0;31mNameError\u001b[0m: name 'x' is not defined"
     ]
    }
   ],
   "source": [
    "a = 11\n",
    "def f1():\n",
    "    global a, b\n",
    "    a = 90\n",
    "    x = 0\n",
    "    def f2():\n",
    "        nonlocal x\n",
    "        x = 111\n",
    "        print(x)\n",
    "    f2()\n",
    "    a = x\n",
    "    print(a)\n",
    "f1()\n",
    "print(a)\n",
    "print(x)"
   ]
  },
  {
   "cell_type": "code",
   "execution_count": null,
   "id": "f5a5a463",
   "metadata": {},
   "outputs": [],
   "source": [
    "# Function is an object\n",
    "# We can return the function as a reference\n",
    "# We can pass a function as an argument"
   ]
  },
  {
   "cell_type": "code",
   "execution_count": 13,
   "id": "7bc39d20",
   "metadata": {
    "ExecuteTime": {
     "end_time": "2022-01-31T15:34:43.490080Z",
     "start_time": "2022-01-31T15:34:43.484312Z"
    }
   },
   "outputs": [],
   "source": [
    "# Annonymous function - A function without name\n",
    "\n",
    "# def a():\n",
    "#     a =10\n",
    "\n",
    "# Lambda keyword\n",
    "\n",
    "lambda param1, param2, param3...:expr\n",
    "\n",
    "\n"
   ]
  },
  {
   "cell_type": "code",
   "execution_count": 15,
   "id": "0e0d0ca7",
   "metadata": {
    "ExecuteTime": {
     "end_time": "2022-01-31T15:36:28.797882Z",
     "start_time": "2022-01-31T15:36:28.781864Z"
    }
   },
   "outputs": [
    {
     "data": {
      "text/plain": [
       "'Even'"
      ]
     },
     "execution_count": 15,
     "metadata": {},
     "output_type": "execute_result"
    }
   ],
   "source": [
    "def odd_even(num):\n",
    "    return 'Even' if num%2 == 0 else 'Odd'\n",
    "odd_even(90)"
   ]
  },
  {
   "cell_type": "code",
   "execution_count": 21,
   "id": "e551709b",
   "metadata": {
    "ExecuteTime": {
     "end_time": "2022-01-31T15:39:23.703759Z",
     "start_time": "2022-01-31T15:39:23.691333Z"
    }
   },
   "outputs": [
    {
     "name": "stdout",
     "output_type": "stream",
     "text": [
      "EVen\n"
     ]
    }
   ],
   "source": [
    "print((lambda num1, num2, num3:'EVen' if num1%2 == 0 else 'Odd')(4, 5, 6))"
   ]
  },
  {
   "cell_type": "code",
   "execution_count": 22,
   "id": "49e6c81c",
   "metadata": {
    "ExecuteTime": {
     "end_time": "2022-01-31T15:39:49.644879Z",
     "start_time": "2022-01-31T15:39:49.632853Z"
    }
   },
   "outputs": [
    {
     "name": "stdout",
     "output_type": "stream",
     "text": [
      "<function f1 at 0x105d46040>\n"
     ]
    }
   ],
   "source": [
    "def f1(num):\n",
    "    a = 10\n",
    "    b = 20\n",
    "    print(a, b)\n",
    "# f1(10)\n",
    "a = f1\n",
    "print(a)"
   ]
  },
  {
   "cell_type": "code",
   "execution_count": 25,
   "id": "7bc29f17",
   "metadata": {
    "ExecuteTime": {
     "end_time": "2022-01-31T15:40:45.104712Z",
     "start_time": "2022-01-31T15:40:45.078982Z"
    }
   },
   "outputs": [
    {
     "ename": "SyntaxError",
     "evalue": "cannot assign to lambda (<ipython-input-25-6e04c700b22e>, line 1)",
     "output_type": "error",
     "traceback": [
      "\u001b[0;36m  File \u001b[0;32m\"<ipython-input-25-6e04c700b22e>\"\u001b[0;36m, line \u001b[0;32m1\u001b[0m\n\u001b[0;31m    a = lambda num1, num2, num3:a=10\u001b[0m\n\u001b[0m        ^\u001b[0m\n\u001b[0;31mSyntaxError\u001b[0m\u001b[0;31m:\u001b[0m cannot assign to lambda\n"
     ]
    }
   ],
   "source": [
    "a = lambda num1, num2, num3:'EVen' if num1%2 == 0 else 'Odd'\n",
    "print(a(4, 5, 6))"
   ]
  },
  {
   "cell_type": "code",
   "execution_count": null,
   "id": "15c1a321",
   "metadata": {},
   "outputs": [],
   "source": [
    "# filter, map"
   ]
  },
  {
   "cell_type": "code",
   "execution_count": 1,
   "id": "f191b637",
   "metadata": {
    "ExecuteTime": {
     "end_time": "2022-01-31T16:03:53.096897Z",
     "start_time": "2022-01-31T16:03:53.075577Z"
    }
   },
   "outputs": [
    {
     "data": {
      "text/plain": [
       "['support@domain.com', 'info@domain.com', 'careers@domain.com']"
      ]
     },
     "execution_count": 1,
     "metadata": {},
     "output_type": "execute_result"
    }
   ],
   "source": [
    "# filter(func, iterable)\n",
    "# Returns a filter object\n",
    "# filter object - iterator\n",
    "\n",
    "lst = [10, 11, 12, 13, 14, 15, 16, 17, 18, 19]\n",
    "\n",
    "# def odd_even(num):\n",
    "#     if num%2 == 0:\n",
    "#         return True\n",
    "#     else:\n",
    "#         return False\n",
    "    \n",
    "# def my_filter(f, l):\n",
    "#     out_lst = []\n",
    "#     for ele in l:\n",
    "#         if f(ele) == True:\n",
    "#             out_lst.append(ele)\n",
    "#     return out_lst\n",
    "\n",
    "# my_filter(odd_even, lst)\n",
    "\n",
    "# list(filter(lambda num:num%2, lst))\n",
    "\n",
    "\n",
    "lst_email = ['support@domain.com',\n",
    "'sales@domain.com',\n",
    "'info@domain.com',\n",
    "'careers@domain.com',\n",
    "'enquiries@domain.com',\n",
    "'news@domain.com' ]\n",
    "\n",
    "lst_id = [101, None, 901, 899, None, None]\n",
    "            \n",
    "# Give me the list if all email ids where the length of user name is more than 5    \n",
    "# Give me a lsit of all email id for which we have respective id in other list\n",
    "\n",
    "list(filter(lambda email:lst_id[lst_email.index(email)], lst_email))\n",
    "\n"
   ]
  },
  {
   "cell_type": "code",
   "execution_count": 32,
   "id": "804bf7ca",
   "metadata": {
    "ExecuteTime": {
     "end_time": "2022-01-31T15:51:02.431641Z",
     "start_time": "2022-01-31T15:51:02.417597Z"
    }
   },
   "outputs": [
    {
     "data": {
      "text/plain": [
       "0"
      ]
     },
     "execution_count": 32,
     "metadata": {},
     "output_type": "execute_result"
    }
   ],
   "source": [
    "10%2"
   ]
  },
  {
   "cell_type": "code",
   "execution_count": null,
   "id": "49240224",
   "metadata": {},
   "outputs": [],
   "source": []
  },
  {
   "cell_type": "code",
   "execution_count": null,
   "id": "4b5939a5",
   "metadata": {},
   "outputs": [],
   "source": []
  },
  {
   "cell_type": "code",
   "execution_count": null,
   "id": "a22f4361",
   "metadata": {},
   "outputs": [],
   "source": []
  },
  {
   "cell_type": "code",
   "execution_count": null,
   "id": "0dacff09",
   "metadata": {},
   "outputs": [],
   "source": []
  },
  {
   "cell_type": "code",
   "execution_count": null,
   "id": "4ea3d6ab",
   "metadata": {},
   "outputs": [],
   "source": []
  },
  {
   "cell_type": "code",
   "execution_count": null,
   "id": "bdcf1d9f",
   "metadata": {},
   "outputs": [],
   "source": []
  },
  {
   "cell_type": "code",
   "execution_count": null,
   "id": "d825eeca",
   "metadata": {},
   "outputs": [],
   "source": []
  },
  {
   "cell_type": "code",
   "execution_count": null,
   "id": "1104d690",
   "metadata": {},
   "outputs": [],
   "source": []
  },
  {
   "cell_type": "code",
   "execution_count": null,
   "id": "2f63dd74",
   "metadata": {},
   "outputs": [],
   "source": []
  },
  {
   "cell_type": "code",
   "execution_count": null,
   "id": "a000a42e",
   "metadata": {},
   "outputs": [],
   "source": []
  },
  {
   "cell_type": "code",
   "execution_count": null,
   "id": "41ea15cb",
   "metadata": {},
   "outputs": [],
   "source": []
  },
  {
   "cell_type": "code",
   "execution_count": null,
   "id": "b20a973f",
   "metadata": {},
   "outputs": [],
   "source": []
  },
  {
   "cell_type": "code",
   "execution_count": null,
   "id": "54ea7a21",
   "metadata": {},
   "outputs": [],
   "source": []
  },
  {
   "cell_type": "code",
   "execution_count": null,
   "id": "2a5a5b29",
   "metadata": {},
   "outputs": [],
   "source": []
  },
  {
   "cell_type": "code",
   "execution_count": null,
   "id": "4bbb7719",
   "metadata": {},
   "outputs": [],
   "source": []
  },
  {
   "cell_type": "code",
   "execution_count": null,
   "id": "b52c40f2",
   "metadata": {},
   "outputs": [],
   "source": []
  }
 ],
 "metadata": {
  "kernelspec": {
   "display_name": "Python 3 (ipykernel)",
   "language": "python",
   "name": "python3"
  },
  "language_info": {
   "codemirror_mode": {
    "name": "ipython",
    "version": 3
   },
   "file_extension": ".py",
   "mimetype": "text/x-python",
   "name": "python",
   "nbconvert_exporter": "python",
   "pygments_lexer": "ipython3",
   "version": "3.9.7"
  }
 },
 "nbformat": 4,
 "nbformat_minor": 5
}
