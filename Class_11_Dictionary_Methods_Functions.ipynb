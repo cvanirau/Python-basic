{
 "cells": [
  {
   "cell_type": "code",
   "execution_count": 3,
   "id": "4e4b498d",
   "metadata": {
    "ExecuteTime": {
     "end_time": "2022-01-25T14:07:13.328549Z",
     "start_time": "2022-01-25T14:07:13.324188Z"
    }
   },
   "outputs": [],
   "source": [
    "# Dictionary Methods\n",
    "\n",
    "# print(dir(dict))\n",
    "\n",
    "# 'clear', 'copy', 'fromkeys', 'get', 'items', 'keys', 'pop', \n",
    "# 'popitem', 'setdefault', 'update', 'values'\n"
   ]
  },
  {
   "cell_type": "code",
   "execution_count": 6,
   "id": "f6575770",
   "metadata": {
    "ExecuteTime": {
     "end_time": "2022-01-25T14:58:29.591361Z",
     "start_time": "2022-01-25T14:58:29.583566Z"
    }
   },
   "outputs": [
    {
     "name": "stdout",
     "output_type": "stream",
     "text": [
      "{1: 100, 2: 200, 3: 300}\n",
      "{1: 100, 2: 200, 3: 300}\n",
      "{1: 100, 2: 200, 3: 300}\n",
      "{1: 100, 2: 200, 3: 300}\n",
      "(0, 'P')\n",
      "(1, 'y')\n",
      "(2, 't')\n",
      "(3, 'h')\n",
      "(4, 'o')\n",
      "(5, 'n')\n",
      "{0: 'P', 1: 'y', 2: 't', 3: 'h', 4: 'o', 5: 'n'}\n",
      "(11, 10)\n",
      "(12, 20)\n",
      "(13, 30)\n",
      "(14, 40)\n"
     ]
    }
   ],
   "source": [
    "# Dictionary Creation\n",
    "\n",
    "# Elemnets are already known\n",
    "# d = {1:100, 20:200, 3:300}\n",
    "# print(d)\n",
    "\n",
    "# Creating an empty Dictionry\n",
    "# d = {}\n",
    "# print(d, type(d))\n",
    "\n",
    "# Using dict(iterables) function\n",
    "print(dict([(1, 100), (2, 200), (3, 300)]))\n",
    "print(dict(((1, 100), (2, 200), (3, 300))))\n",
    "print(dict(([1, 100], [2, 200], [3, 300])))\n",
    "print(dict([[1, 100], [2, 200], [3, 300]]))\n",
    "\n",
    "# enumerate, zip\n",
    "\n",
    "for i in enumerate('Python'):\n",
    "    print(i)\n",
    "\n",
    "print(dict(enumerate('Python')))\n",
    "\n",
    "for i in enumerate([10,20,30,40], 11):\n",
    "    print(i)\n",
    "\n",
    "# zip(ietr1, iter2, iter3...) - \n",
    "\n",
    "# list( (emp_id, emp_name, [1, 2, 4, 5]))\n",
    "\n",
    "\n",
    "# Using eval\n",
    "# d = eval(input('Enter. dictionary: '))\n",
    "# print(d, type(d))\n",
    "\n",
    "# Using dictionary comprehension\n",
    "# d = {key:expr for loop [if cond]}\n",
    "\n",
    "# d = {i:i**2 for i in range(1, 11) if i%2 == 0}\n",
    "# print(d)\n"
   ]
  },
  {
   "cell_type": "code",
   "execution_count": 7,
   "id": "0da743ca",
   "metadata": {
    "ExecuteTime": {
     "end_time": "2022-01-25T14:51:56.319159Z",
     "start_time": "2022-01-25T14:51:56.311934Z"
    }
   },
   "outputs": [
    {
     "name": "stdout",
     "output_type": "stream",
     "text": [
      "('abc@gmail.com', 'ABC')\n",
      "('def@yahoo.com', 'DEF')\n",
      "('ghi@hotmail.com', 'GHI')\n"
     ]
    }
   ],
   "source": [
    "emp_name = ['ABC', 'DEF', 'GHI']\n",
    "# emp_id = [101, 102, 103]\n",
    "emp_email = ['abc@gmail.com', 'def@yahoo.com', 'ghi@hotmail.com']\n",
    "\n",
    "\n",
    "for i in zip(emp_email, emp_name):\n",
    "    print(i)\n",
    "\n",
    "\n",
    "# dict(zip(emp_name, emp_email))\n",
    "\n",
    "\n",
    "# print(list(enumerate(emp_name, 10001)))\n",
    "\n",
    "\n",
    "\n",
    "# write_data(tpl)\n"
   ]
  },
  {
   "cell_type": "code",
   "execution_count": null,
   "id": "e7b33f65",
   "metadata": {},
   "outputs": [],
   "source": [
    "emp_id emp_name\n",
    "001      PQR\n",
    "002      STU\n",
    "003      VWX\n",
    "...\n",
    "100      YZA\n",
    "101      ABC\n",
    "102      DEF\n",
    "103      GHI\n"
   ]
  },
  {
   "cell_type": "code",
   "execution_count": 44,
   "id": "770664b5",
   "metadata": {
    "ExecuteTime": {
     "end_time": "2022-01-25T14:50:41.756864Z",
     "start_time": "2022-01-25T14:50:41.753220Z"
    }
   },
   "outputs": [],
   "source": [
    "# from sys import getsizeof\n",
    "# lst = [i for i in range(10000)]\n",
    "# print(lst, getsizeof(lst))"
   ]
  },
  {
   "cell_type": "code",
   "execution_count": 43,
   "id": "abd70665",
   "metadata": {
    "ExecuteTime": {
     "end_time": "2022-01-25T14:50:38.231413Z",
     "start_time": "2022-01-25T14:50:38.224498Z"
    }
   },
   "outputs": [],
   "source": [
    "# from sys import getsizeof\n",
    "# lst = (i for i in range(10000))\n",
    "# print(lst, getsizeof(lst))\n",
    "# for i in lst:\n",
    "#     print(i)"
   ]
  },
  {
   "cell_type": "code",
   "execution_count": 53,
   "id": "f771f4df",
   "metadata": {
    "ExecuteTime": {
     "end_time": "2022-01-25T15:00:31.482610Z",
     "start_time": "2022-01-25T15:00:31.454851Z"
    }
   },
   "outputs": [
    {
     "data": {
      "text/plain": [
       "(244, 7)"
      ]
     },
     "execution_count": 53,
     "metadata": {},
     "output_type": "execute_result"
    }
   ],
   "source": [
    "import seaborn as sns\n",
    "data = sns.load_dataset('tips')\n",
    "data.shape"
   ]
  },
  {
   "cell_type": "code",
   "execution_count": 54,
   "id": "4def7a5d",
   "metadata": {
    "ExecuteTime": {
     "end_time": "2022-01-25T15:00:45.543192Z",
     "start_time": "2022-01-25T15:00:45.510567Z"
    }
   },
   "outputs": [
    {
     "data": {
      "text/html": [
       "<div>\n",
       "<style scoped>\n",
       "    .dataframe tbody tr th:only-of-type {\n",
       "        vertical-align: middle;\n",
       "    }\n",
       "\n",
       "    .dataframe tbody tr th {\n",
       "        vertical-align: top;\n",
       "    }\n",
       "\n",
       "    .dataframe thead th {\n",
       "        text-align: right;\n",
       "    }\n",
       "</style>\n",
       "<table border=\"1\" class=\"dataframe\">\n",
       "  <thead>\n",
       "    <tr style=\"text-align: right;\">\n",
       "      <th></th>\n",
       "      <th>total_bill</th>\n",
       "      <th>tip</th>\n",
       "      <th>sex</th>\n",
       "      <th>smoker</th>\n",
       "      <th>day</th>\n",
       "      <th>time</th>\n",
       "      <th>size</th>\n",
       "    </tr>\n",
       "  </thead>\n",
       "  <tbody>\n",
       "    <tr>\n",
       "      <th>0</th>\n",
       "      <td>16.99</td>\n",
       "      <td>1.01</td>\n",
       "      <td>Female</td>\n",
       "      <td>No</td>\n",
       "      <td>Sun</td>\n",
       "      <td>Dinner</td>\n",
       "      <td>2</td>\n",
       "    </tr>\n",
       "    <tr>\n",
       "      <th>1</th>\n",
       "      <td>10.34</td>\n",
       "      <td>1.66</td>\n",
       "      <td>Male</td>\n",
       "      <td>No</td>\n",
       "      <td>Sun</td>\n",
       "      <td>Dinner</td>\n",
       "      <td>3</td>\n",
       "    </tr>\n",
       "    <tr>\n",
       "      <th>2</th>\n",
       "      <td>21.01</td>\n",
       "      <td>3.50</td>\n",
       "      <td>Male</td>\n",
       "      <td>No</td>\n",
       "      <td>Sun</td>\n",
       "      <td>Dinner</td>\n",
       "      <td>3</td>\n",
       "    </tr>\n",
       "    <tr>\n",
       "      <th>3</th>\n",
       "      <td>23.68</td>\n",
       "      <td>3.31</td>\n",
       "      <td>Male</td>\n",
       "      <td>No</td>\n",
       "      <td>Sun</td>\n",
       "      <td>Dinner</td>\n",
       "      <td>2</td>\n",
       "    </tr>\n",
       "    <tr>\n",
       "      <th>4</th>\n",
       "      <td>24.59</td>\n",
       "      <td>3.61</td>\n",
       "      <td>Female</td>\n",
       "      <td>No</td>\n",
       "      <td>Sun</td>\n",
       "      <td>Dinner</td>\n",
       "      <td>4</td>\n",
       "    </tr>\n",
       "  </tbody>\n",
       "</table>\n",
       "</div>"
      ],
      "text/plain": [
       "   total_bill   tip     sex smoker  day    time  size\n",
       "0       16.99  1.01  Female     No  Sun  Dinner     2\n",
       "1       10.34  1.66    Male     No  Sun  Dinner     3\n",
       "2       21.01  3.50    Male     No  Sun  Dinner     3\n",
       "3       23.68  3.31    Male     No  Sun  Dinner     2\n",
       "4       24.59  3.61  Female     No  Sun  Dinner     4"
      ]
     },
     "execution_count": 54,
     "metadata": {},
     "output_type": "execute_result"
    }
   ],
   "source": [
    "data.head()"
   ]
  },
  {
   "cell_type": "code",
   "execution_count": 69,
   "id": "2daab971",
   "metadata": {
    "ExecuteTime": {
     "end_time": "2022-01-25T15:10:52.083130Z",
     "start_time": "2022-01-25T15:10:52.078953Z"
    }
   },
   "outputs": [],
   "source": [
    "# total_bill_lst = list(data.total_bill)\n",
    "# total_bill_lst\n",
    "\n",
    "# tip_lst = list(data.tip)\n",
    "# tip_lst\n",
    "\n",
    "# for i in range(len(total_bill_lst)):\n",
    "#     sum_total_bil_tip = total_bill_lst[i] + tip_lst[i]\n",
    "#     print(sum_total_bil_tip)\n",
    "\n",
    "# map(lambda tpl:sum(tpl),zip(total_bill_lst, tip_lst))\n",
    "\n"
   ]
  },
  {
   "cell_type": "code",
   "execution_count": null,
   "id": "b224a728",
   "metadata": {},
   "outputs": [],
   "source": [
    "# 'copy',  \n",
    "#  "
   ]
  },
  {
   "cell_type": "code",
   "execution_count": 71,
   "id": "53f78210",
   "metadata": {
    "ExecuteTime": {
     "end_time": "2022-01-25T15:13:07.578038Z",
     "start_time": "2022-01-25T15:13:07.568919Z"
    }
   },
   "outputs": [],
   "source": [
    "emp_info = {'emp_1':['Abhishek', 101, 'BLR'],\n",
    "            'emp_2':['Krishna', 102, 'CHN'],\n",
    "            'emp_3':['Rahul', 103, 'HYD', 90909090],\n",
    "            'emp_4':['Rajat', 104, 'LKO'],\n",
    "            ('emp_5',):['Rakesh', 105, 'KOL']}"
   ]
  },
  {
   "cell_type": "code",
   "execution_count": 72,
   "id": "44de21a2",
   "metadata": {
    "ExecuteTime": {
     "end_time": "2022-01-25T15:13:08.136974Z",
     "start_time": "2022-01-25T15:13:08.132923Z"
    }
   },
   "outputs": [
    {
     "name": "stdout",
     "output_type": "stream",
     "text": [
      "{}\n"
     ]
    }
   ],
   "source": [
    "# dict.clear() - remove all the elements from the dictionary\n",
    "# leaves the empty dictionary behind\n",
    "# Returns None\n",
    "\n",
    "\n",
    "emp_info.clear()\n",
    "print(emp_info)"
   ]
  },
  {
   "cell_type": "code",
   "execution_count": 76,
   "id": "8fc119e2",
   "metadata": {
    "ExecuteTime": {
     "end_time": "2022-01-25T15:17:38.220964Z",
     "start_time": "2022-01-25T15:17:38.208538Z"
    }
   },
   "outputs": [],
   "source": [
    "# dict.fromkeys(iterable, default = None)\n",
    "\n",
    "# dict.fromkeys(iterable)\n",
    "# {iterable[0]:None, iterable[1]:None, iterable[2]:None, ...}\n",
    "\n",
    "# dict.fromkeys(iterable, value)\n",
    "# {iterable[0]:value, iterable[1]:value, iterable[2]:value, ...}\n",
    "\n",
    "# d = {}\n",
    "# d = d.fromkeys('Python')\n",
    "# print(d)\n",
    "\n",
    "# d = {}\n",
    "# d = d.fromkeys('Python', [1, 2, 3])\n",
    "# print(d)\n",
    "\n"
   ]
  },
  {
   "cell_type": "code",
   "execution_count": 8,
   "id": "ed8d0ef8",
   "metadata": {
    "ExecuteTime": {
     "end_time": "2022-01-25T15:27:31.974593Z",
     "start_time": "2022-01-25T15:27:31.963540Z"
    }
   },
   "outputs": [
    {
     "name": "stdout",
     "output_type": "stream",
     "text": [
      "['Rajat', 104, 'LKO']\n",
      "Not available\n"
     ]
    }
   ],
   "source": [
    "emp_info = {'emp_1':['Abhishek', 101, 'BLR'],\n",
    "            'emp_2':['Krishna', 102, 'CHN'],\n",
    "            'emp_3':['Rahul', 103, 'HYD', 90909090],\n",
    "            'emp_4':['Rajat', 104, 'LKO'],\n",
    "            ('emp_5',):['Rakesh', 105, 'KOL']}\n",
    "\n",
    "# print(emp_info['emp_9'])\n",
    "\n",
    "\n",
    "\n",
    "# d.get(key, default = None)\n",
    "# Used to access the value associated with a key\n",
    "# It does not update the dictionary\n",
    "\n",
    "# d.get(key)\n",
    "# If key is avaiable then rreturns Value else returns None\n",
    "# print(emp_info.get('emp_4'))\n",
    "# print(emp_info.get('emp_9'))\n",
    "\n",
    "# d.get(key, value)\n",
    "# If key is avaiable then rreturns Value else returns value as output\n",
    "# but does not update the dictionary\n",
    "\n",
    "print(emp_info.get('emp_4', 'Not available'))\n",
    "print(emp_info.get('emp_9', 'Not available'))\n",
    "\n",
    "\n",
    "\n"
   ]
  },
  {
   "cell_type": "code",
   "execution_count": 9,
   "id": "de55e2a7",
   "metadata": {
    "ExecuteTime": {
     "end_time": "2022-01-25T15:28:36.585146Z",
     "start_time": "2022-01-25T15:28:36.575676Z"
    }
   },
   "outputs": [
    {
     "name": "stdout",
     "output_type": "stream",
     "text": [
      "['Rajat', 104, 'LKO']\n",
      "{'emp_1': ['Abhishek', 101, 'BLR'], 'emp_2': ['Krishna', 102, 'CHN'], 'emp_3': ['Rahul', 103, 'HYD', 90909090], 'emp_4': ['Rajat', 104, 'LKO'], ('emp_5',): ['Rakesh', 105, 'KOL']}\n",
      "None\n",
      "\n",
      "{'emp_1': ['Abhishek', 101, 'BLR'], 'emp_2': ['Krishna', 102, 'CHN'], 'emp_3': ['Rahul', 103, 'HYD', 90909090], 'emp_4': ['Rajat', 104, 'LKO'], ('emp_5',): ['Rakesh', 105, 'KOL'], 'emp_9': None}\n"
     ]
    }
   ],
   "source": [
    "# d.setdefault(key, default = None)\n",
    "# Used to access the value associated with a key\n",
    "# It updates the dictionary if key is not present\n",
    "\n",
    "# d.setdefault(key)\n",
    "# If key is avaiable then returns Value else returns None and \n",
    "# updates the dictionary with key:None\n",
    "\n",
    "print(emp_info.setdefault('emp_4'))\n",
    "print(emp_info)\n",
    "print(emp_info.setdefault('emp_9'))\n",
    "print()\n",
    "print(emp_info)\n",
    "\n",
    "# d.setdefault(key, value)\n",
    "# If key is avaiable then rreturns Value else returns value as output\n",
    "# but does not update the dictionary\n",
    "\n",
    "# print(emp_info.setdefault('emp_4', []))\n",
    "# print(emp_info)\n",
    "# print()\n",
    "# print(emp_info.setdefault('emp_8', []))\n",
    "# print(emp_info)"
   ]
  },
  {
   "cell_type": "code",
   "execution_count": 92,
   "id": "45ce5418",
   "metadata": {
    "ExecuteTime": {
     "end_time": "2022-01-25T15:30:23.241937Z",
     "start_time": "2022-01-25T15:30:23.215239Z"
    }
   },
   "outputs": [
    {
     "name": "stdout",
     "output_type": "stream",
     "text": [
      "emp_1\n",
      "\n",
      "dict_values([['Abhishek', 101, 'BLR'], ['Krishna', 102, 'CHN'], ['Rahul', 103, 'HYD', 90909090], ['Rajat', 104, 'LKO'], ['Rakesh', 105, 'KOL']])\n",
      "\n",
      "dict_items([('emp_1', ['Abhishek', 101, 'BLR']), ('emp_2', ['Krishna', 102, 'CHN']), ('emp_3', ['Rahul', 103, 'HYD', 90909090]), ('emp_4', ['Rajat', 104, 'LKO']), (('emp_5',), ['Rakesh', 105, 'KOL'])])\n"
     ]
    }
   ],
   "source": [
    "emp_info = {'emp_1':['Abhishek', 101, 'BLR'],\n",
    "            'emp_2':['Krishna', 102, 'CHN'],\n",
    "            'emp_3':['Rahul', 103, 'HYD', 90909090],\n",
    "            'emp_4':['Rajat', 104, 'LKO'],\n",
    "            ('emp_5',):['Rakesh', 105, 'KOL']}\n",
    "\n",
    "print(list(emp_info.keys())[0])\n",
    "print()\n",
    "print(emp_info.values())\n",
    "print()\n",
    "print(emp_info.items())"
   ]
  },
  {
   "cell_type": "code",
   "execution_count": 97,
   "id": "25b61c80",
   "metadata": {
    "ExecuteTime": {
     "end_time": "2022-01-25T15:35:16.396836Z",
     "start_time": "2022-01-25T15:35:16.383543Z"
    }
   },
   "outputs": [],
   "source": [
    "# d.pop(key, [val])\n",
    "# It removes the key value pair for specified key and return only the value\n",
    "\n",
    "# d.pop(key)\n",
    "# It removes the key value pair for specified key and return only the value\n",
    "# If key is not present then returns an error\n",
    "\n",
    "emp_info = {'emp_1':['Abhishek', 101, 'BLR'],\n",
    "            'emp_2':['Krishna', 102, 'CHN'],\n",
    "            'emp_3':['Rahul', 103, 'HYD', 90909090],\n",
    "            'emp_4':['Rajat', 104, 'LKO'],\n",
    "            ('emp_5',):['Rakesh', 105, 'KOL']}\n",
    "# print(emp_info.pop('emp_1'))\n",
    "# print()\n",
    "# print(emp_info)\n",
    "\n",
    "# print(emp_info.pop('emp_9'))\n",
    "\n",
    "\n",
    "\n",
    "# d.pop(key, val)\n",
    "# It removes the key value pair for specified key and return only the value\n",
    "# If key is not present then return val as output\n",
    "# emp_info = {'emp_1':['Abhishek', 101, 'BLR'],\n",
    "#             'emp_2':['Krishna', 102, 'CHN'],\n",
    "#             'emp_3':['Rahul', 103, 'HYD', 90909090],\n",
    "#             'emp_4':['Rajat', 104, 'LKO'],\n",
    "#             ('emp_5',):['Rakesh', 105, 'KOL']}\n",
    "\n",
    "# print(emp_info.pop('emp_1', 'NA'))\n",
    "# print(emp_info.pop('emp_9', 'NA'))\n",
    "\n"
   ]
  },
  {
   "cell_type": "code",
   "execution_count": 102,
   "id": "4365c70e",
   "metadata": {
    "ExecuteTime": {
     "end_time": "2022-01-25T15:41:23.260962Z",
     "start_time": "2022-01-25T15:41:23.245905Z"
    }
   },
   "outputs": [
    {
     "name": "stdout",
     "output_type": "stream",
     "text": [
      "{'emp_1': ['Rakesh', 105, 'KOL'], 'emp_2': ['Krishna', 102, 'CHN'], 'emp_3': ['Rahul', 103, 'HYD', 90909090], 'emp_4': ['Rajat', 104, 'LKO']}\n",
      "\n",
      "('emp_4', ['Rajat', 104, 'LKO'])\n",
      "\n",
      "{'emp_1': ['Rakesh', 105, 'KOL'], 'emp_2': ['Krishna', 102, 'CHN'], 'emp_3': ['Rahul', 103, 'HYD', 90909090]}\n"
     ]
    }
   ],
   "source": [
    "# d.popitem() - By default removes the last entry from the dictionary\n",
    "# Returns the key-value pair\n",
    "\n",
    "emp_info = {'emp_1':['Abhishek', 101, 'BLR'],\n",
    "            'emp_2':['Krishna', 102, 'CHN'],\n",
    "            'emp_3':['Rahul', 103, 'HYD', 90909090],\n",
    "            'emp_4':['Rajat', 104, 'LKO'],\n",
    "            'emp_1':['Rakesh', 105, 'KOL']}\n",
    "print(emp_info)\n",
    "print()\n",
    "print(emp_info.popitem())\n",
    "print()\n",
    "print(emp_info)\n"
   ]
  },
  {
   "cell_type": "code",
   "execution_count": 11,
   "id": "f2c60cd8",
   "metadata": {
    "ExecuteTime": {
     "end_time": "2022-01-25T15:45:10.601927Z",
     "start_time": "2022-01-25T15:45:10.592861Z"
    }
   },
   "outputs": [
    {
     "name": "stdout",
     "output_type": "stream",
     "text": [
      "None\n",
      "(3, 300)\n",
      "{1: 100, 2: 200, 3: 300}\n"
     ]
    }
   ],
   "source": [
    "# main_dict.update(sub_dict) - similar to extend method in list\n",
    "# sub_dict will be updates in main_dict\n",
    "# sub_dict will remain unchanged\n",
    "# return None\n",
    "\n",
    "emp_info = {'emp_1':['Abhishek', 101, 'BLR'],\n",
    "            'emp_2':['Krishna', 102, 'CHN'],\n",
    "            'emp_3':['Rahul', 103, 'HYD', 90909090],\n",
    "            'emp_4':['Rajat', 104, 'LKO'],\n",
    "            'emp_1':['Rakesh', 105, 'KOL']}\n",
    "\n",
    "d = {1:100, 2:200, 3:300}\n",
    "print(emp_info.update(d))\n",
    "print(emp_info.popitem())\n",
    "print(d)\n",
    "\n"
   ]
  },
  {
   "cell_type": "code",
   "execution_count": null,
   "id": "7c4c870a",
   "metadata": {},
   "outputs": [],
   "source": [
    "# Aliasing\n",
    "# Shallow copy\n",
    "# Deep copy"
   ]
  },
  {
   "cell_type": "code",
   "execution_count": 10,
   "id": "fa4e8206",
   "metadata": {},
   "outputs": [
    {
     "name": "stdout",
     "output_type": "stream",
     "text": [
      "{'B': 2, 'C': 3, 'A': 1}\n"
     ]
    }
   ],
   "source": [
    "# Rename a dictionary key\n",
    "                                     # mydict[k_new] = mydict.pop(k_old)\n",
    "#     This will move the item to the end of the dict, unless k_new was already existing in which case it will overwrite \n",
    "#     the value in-place. always adds to the end of dict.\n",
    "\n",
    "a_dict = {\"a\": 1, \"B\": 2, \"C\": 3}\n",
    "\n",
    "new_key = \"A\"\n",
    "old_key = \"a\"\n",
    "a_dict[new_key] = a_dict.pop(old_key)\n",
    "\n",
    "print(a_dict)"
   ]
  },
  {
   "cell_type": "code",
   "execution_count": null,
   "id": "71afe889",
   "metadata": {},
   "outputs": [],
   "source": [
    "Using a check for newkey!=oldkey, this way we can also do:\n",
    "\n",
    "if newkey!=oldkey:  \n",
    "    dictionary[newkey] = dictionary[oldkey]\n",
    "    del dictionary[oldkey]"
   ]
  },
  {
   "cell_type": "code",
   "execution_count": null,
   "id": "8b37bf48",
   "metadata": {},
   "outputs": [],
   "source": []
  },
  {
   "cell_type": "code",
   "execution_count": null,
   "id": "4b29c041",
   "metadata": {},
   "outputs": [],
   "source": []
  },
  {
   "cell_type": "code",
   "execution_count": null,
   "id": "be3aa5bb",
   "metadata": {},
   "outputs": [],
   "source": []
  },
  {
   "cell_type": "code",
   "execution_count": null,
   "id": "1c0e0af7",
   "metadata": {},
   "outputs": [],
   "source": []
  },
  {
   "cell_type": "code",
   "execution_count": null,
   "id": "11517ee9",
   "metadata": {},
   "outputs": [],
   "source": []
  },
  {
   "cell_type": "code",
   "execution_count": null,
   "id": "c14d0422",
   "metadata": {},
   "outputs": [],
   "source": []
  },
  {
   "cell_type": "code",
   "execution_count": null,
   "id": "b6968236",
   "metadata": {},
   "outputs": [],
   "source": []
  },
  {
   "cell_type": "code",
   "execution_count": null,
   "id": "a56054ee",
   "metadata": {},
   "outputs": [],
   "source": []
  },
  {
   "cell_type": "code",
   "execution_count": null,
   "id": "33feafb8",
   "metadata": {},
   "outputs": [],
   "source": []
  },
  {
   "cell_type": "code",
   "execution_count": null,
   "id": "294c910e",
   "metadata": {},
   "outputs": [],
   "source": []
  },
  {
   "cell_type": "code",
   "execution_count": null,
   "id": "90e81061",
   "metadata": {},
   "outputs": [],
   "source": []
  },
  {
   "cell_type": "code",
   "execution_count": null,
   "id": "ba1d3ef2",
   "metadata": {},
   "outputs": [],
   "source": []
  },
  {
   "cell_type": "code",
   "execution_count": null,
   "id": "c7bba418",
   "metadata": {},
   "outputs": [],
   "source": []
  },
  {
   "cell_type": "code",
   "execution_count": null,
   "id": "3b24cacc",
   "metadata": {},
   "outputs": [],
   "source": []
  },
  {
   "cell_type": "code",
   "execution_count": null,
   "id": "4fd69660",
   "metadata": {},
   "outputs": [],
   "source": []
  },
  {
   "cell_type": "code",
   "execution_count": null,
   "id": "3fb2090b",
   "metadata": {},
   "outputs": [],
   "source": []
  },
  {
   "cell_type": "code",
   "execution_count": null,
   "id": "aa5384c2",
   "metadata": {},
   "outputs": [],
   "source": []
  },
  {
   "cell_type": "code",
   "execution_count": null,
   "id": "b53eb803",
   "metadata": {},
   "outputs": [],
   "source": []
  },
  {
   "cell_type": "code",
   "execution_count": null,
   "id": "85deba5c",
   "metadata": {},
   "outputs": [],
   "source": []
  },
  {
   "cell_type": "code",
   "execution_count": null,
   "id": "6481ecf2",
   "metadata": {},
   "outputs": [],
   "source": []
  },
  {
   "cell_type": "code",
   "execution_count": null,
   "id": "7cc60271",
   "metadata": {},
   "outputs": [],
   "source": []
  },
  {
   "cell_type": "code",
   "execution_count": null,
   "id": "8f8e0700",
   "metadata": {},
   "outputs": [],
   "source": []
  },
  {
   "cell_type": "code",
   "execution_count": null,
   "id": "b19c1e82",
   "metadata": {},
   "outputs": [],
   "source": []
  },
  {
   "cell_type": "code",
   "execution_count": null,
   "id": "709bb73a",
   "metadata": {},
   "outputs": [],
   "source": []
  },
  {
   "cell_type": "code",
   "execution_count": null,
   "id": "b67fd3a3",
   "metadata": {},
   "outputs": [],
   "source": []
  },
  {
   "cell_type": "code",
   "execution_count": null,
   "id": "bdacccae",
   "metadata": {},
   "outputs": [],
   "source": []
  },
  {
   "cell_type": "code",
   "execution_count": null,
   "id": "620b7bda",
   "metadata": {},
   "outputs": [],
   "source": []
  },
  {
   "cell_type": "code",
   "execution_count": null,
   "id": "aabf0085",
   "metadata": {},
   "outputs": [],
   "source": []
  },
  {
   "cell_type": "code",
   "execution_count": null,
   "id": "07ab4553",
   "metadata": {},
   "outputs": [],
   "source": []
  },
  {
   "cell_type": "code",
   "execution_count": null,
   "id": "bb12f970",
   "metadata": {},
   "outputs": [],
   "source": []
  },
  {
   "cell_type": "code",
   "execution_count": null,
   "id": "27c4548d",
   "metadata": {},
   "outputs": [],
   "source": []
  },
  {
   "cell_type": "code",
   "execution_count": null,
   "id": "4ad0f809",
   "metadata": {},
   "outputs": [],
   "source": []
  },
  {
   "cell_type": "code",
   "execution_count": null,
   "id": "bce9dbcb",
   "metadata": {},
   "outputs": [],
   "source": []
  },
  {
   "cell_type": "code",
   "execution_count": null,
   "id": "f173da41",
   "metadata": {},
   "outputs": [],
   "source": []
  },
  {
   "cell_type": "code",
   "execution_count": null,
   "id": "8d2117cc",
   "metadata": {},
   "outputs": [],
   "source": []
  },
  {
   "cell_type": "code",
   "execution_count": null,
   "id": "cb80388f",
   "metadata": {},
   "outputs": [],
   "source": []
  },
  {
   "cell_type": "code",
   "execution_count": null,
   "id": "1bb26094",
   "metadata": {},
   "outputs": [],
   "source": []
  },
  {
   "cell_type": "code",
   "execution_count": null,
   "id": "c070fd51",
   "metadata": {},
   "outputs": [],
   "source": []
  },
  {
   "cell_type": "code",
   "execution_count": null,
   "id": "dd4095ed",
   "metadata": {},
   "outputs": [],
   "source": []
  },
  {
   "cell_type": "code",
   "execution_count": null,
   "id": "f3f5ec99",
   "metadata": {},
   "outputs": [],
   "source": []
  },
  {
   "cell_type": "code",
   "execution_count": null,
   "id": "1428fe23",
   "metadata": {},
   "outputs": [],
   "source": []
  },
  {
   "cell_type": "code",
   "execution_count": null,
   "id": "54aec8c0",
   "metadata": {},
   "outputs": [],
   "source": []
  },
  {
   "cell_type": "code",
   "execution_count": null,
   "id": "942a96ad",
   "metadata": {},
   "outputs": [],
   "source": []
  },
  {
   "cell_type": "code",
   "execution_count": null,
   "id": "6d056502",
   "metadata": {},
   "outputs": [],
   "source": []
  },
  {
   "cell_type": "code",
   "execution_count": null,
   "id": "3ae03c2d",
   "metadata": {},
   "outputs": [],
   "source": []
  },
  {
   "cell_type": "code",
   "execution_count": null,
   "id": "87fef525",
   "metadata": {},
   "outputs": [],
   "source": []
  },
  {
   "cell_type": "code",
   "execution_count": null,
   "id": "f8b2de79",
   "metadata": {},
   "outputs": [],
   "source": []
  },
  {
   "cell_type": "code",
   "execution_count": null,
   "id": "33b370c7",
   "metadata": {},
   "outputs": [],
   "source": []
  },
  {
   "cell_type": "code",
   "execution_count": null,
   "id": "7b67cdfc",
   "metadata": {},
   "outputs": [],
   "source": []
  },
  {
   "cell_type": "code",
   "execution_count": null,
   "id": "44b28ffa",
   "metadata": {},
   "outputs": [],
   "source": []
  }
 ],
 "metadata": {
  "kernelspec": {
   "display_name": "Python 3 (ipykernel)",
   "language": "python",
   "name": "python3"
  },
  "language_info": {
   "codemirror_mode": {
    "name": "ipython",
    "version": 3
   },
   "file_extension": ".py",
   "mimetype": "text/x-python",
   "name": "python",
   "nbconvert_exporter": "python",
   "pygments_lexer": "ipython3",
   "version": "3.9.7"
  }
 },
 "nbformat": 4,
 "nbformat_minor": 5
}
