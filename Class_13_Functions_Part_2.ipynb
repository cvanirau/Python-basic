{
 "cells": [
  {
   "cell_type": "code",
   "execution_count": null,
   "id": "f2bc89b0",
   "metadata": {},
   "outputs": [],
   "source": [
    "# Return Statments in Python\n",
    "# Scope vs Namespace\n",
    "# Annonymous functions\n",
    "# filter, map, reduce functions"
   ]
  },
  {
   "cell_type": "code",
   "execution_count": 2,
   "id": "0d7d3ee7",
   "metadata": {
    "ExecuteTime": {
     "end_time": "2022-01-27T14:25:51.140669Z",
     "start_time": "2022-01-27T14:25:51.120460Z"
    }
   },
   "outputs": [
    {
     "name": "stdout",
     "output_type": "stream",
     "text": [
      "None\n",
      "[10, 20, 30, 40, 111]\n"
     ]
    }
   ],
   "source": [
    "lst = [10,20,30,40]\n",
    "print(lst.append(111))\n",
    "print(lst)"
   ]
  },
  {
   "cell_type": "code",
   "execution_count": 20,
   "id": "bc52921a",
   "metadata": {
    "ExecuteTime": {
     "end_time": "2022-01-27T14:35:41.371681Z",
     "start_time": "2022-01-27T14:35:41.354485Z"
    }
   },
   "outputs": [
    {
     "name": "stdout",
     "output_type": "stream",
     "text": [
      "[10, 20, 30, 40, 111]\n",
      "10\n"
     ]
    }
   ],
   "source": [
    "def my_append(lst, val):\n",
    "    lst += [val]\n",
    "    return lst\n",
    "#     return None\n",
    "    \n",
    "l = [10,20,30,40]\n",
    "print(my_append(l, 111))\n",
    "print(10)"
   ]
  },
  {
   "cell_type": "code",
   "execution_count": 5,
   "id": "af8139ac",
   "metadata": {
    "ExecuteTime": {
     "end_time": "2022-01-27T14:27:15.512899Z",
     "start_time": "2022-01-27T14:27:15.503491Z"
    }
   },
   "outputs": [
    {
     "name": "stdout",
     "output_type": "stream",
     "text": [
      "[10, 20, 30, 40, 111]\n"
     ]
    }
   ],
   "source": [
    "print(l)"
   ]
  },
  {
   "cell_type": "code",
   "execution_count": 13,
   "id": "55e6f363",
   "metadata": {
    "ExecuteTime": {
     "end_time": "2022-01-27T14:32:50.089114Z",
     "start_time": "2022-01-27T14:32:50.066993Z"
    }
   },
   "outputs": [
    {
     "name": "stdout",
     "output_type": "stream",
     "text": [
      "10\n"
     ]
    }
   ],
   "source": [
    "a = 10\n",
    "print(a)\n",
    "b = 10"
   ]
  },
  {
   "cell_type": "code",
   "execution_count": 11,
   "id": "55b5e943",
   "metadata": {
    "ExecuteTime": {
     "end_time": "2022-01-27T14:32:11.606447Z",
     "start_time": "2022-01-27T14:32:11.595298Z"
    }
   },
   "outputs": [
    {
     "name": "stdout",
     "output_type": "stream",
     "text": [
      "10\n"
     ]
    }
   ],
   "source": [
    "print(a)"
   ]
  },
  {
   "cell_type": "code",
   "execution_count": 12,
   "id": "ae7135ef",
   "metadata": {
    "ExecuteTime": {
     "end_time": "2022-01-27T14:32:22.326978Z",
     "start_time": "2022-01-27T14:32:22.317518Z"
    },
    "scrolled": true
   },
   "outputs": [
    {
     "data": {
      "text/plain": [
       "10"
      ]
     },
     "execution_count": 12,
     "metadata": {},
     "output_type": "execute_result"
    }
   ],
   "source": [
    "a"
   ]
  },
  {
   "cell_type": "code",
   "execution_count": 29,
   "id": "1b9b3a36",
   "metadata": {
    "ExecuteTime": {
     "end_time": "2022-01-27T14:49:23.447686Z",
     "start_time": "2022-01-27T14:49:23.444611Z"
    }
   },
   "outputs": [],
   "source": [
    "# Recursion - A function which calls itself\n",
    "\n",
    "# def f1(num):\n",
    "#     if num == 0:\n",
    "#         print(num)\n",
    "#         return 'Hi'\n",
    "#     else:\n",
    "#         print(num)\n",
    "#         return f1(num-1)\n",
    "    \n",
    "    \n",
    "\n",
    "# print(f1(5))"
   ]
  },
  {
   "cell_type": "code",
   "execution_count": 31,
   "id": "25ce42b7",
   "metadata": {
    "ExecuteTime": {
     "end_time": "2022-01-27T14:53:41.694584Z",
     "start_time": "2022-01-27T14:53:35.388736Z"
    }
   },
   "outputs": [
    {
     "ename": "RecursionError",
     "evalue": "maximum recursion depth exceeded in comparison",
     "output_type": "error",
     "traceback": [
      "\u001b[0;31m---------------------------------------------------------------------------\u001b[0m",
      "\u001b[0;31mRecursionError\u001b[0m                            Traceback (most recent call last)",
      "\u001b[0;32m<ipython-input-31-5bfaf5c625f0>\u001b[0m in \u001b[0;36m<module>\u001b[0;34m\u001b[0m\n\u001b[1;32m      8\u001b[0m \u001b[0;34m\u001b[0m\u001b[0m\n\u001b[1;32m      9\u001b[0m \u001b[0;34m\u001b[0m\u001b[0m\n\u001b[0;32m---> 10\u001b[0;31m \u001b[0mfact\u001b[0m\u001b[0;34m(\u001b[0m\u001b[0;36m3000\u001b[0m\u001b[0;34m)\u001b[0m\u001b[0;34m\u001b[0m\u001b[0;34m\u001b[0m\u001b[0m\n\u001b[0m",
      "\u001b[0;32m<ipython-input-31-5bfaf5c625f0>\u001b[0m in \u001b[0;36mfact\u001b[0;34m(num)\u001b[0m\n\u001b[1;32m      5\u001b[0m         \u001b[0;32mreturn\u001b[0m \u001b[0;36m1\u001b[0m\u001b[0;34m\u001b[0m\u001b[0;34m\u001b[0m\u001b[0m\n\u001b[1;32m      6\u001b[0m     \u001b[0;32melse\u001b[0m\u001b[0;34m:\u001b[0m\u001b[0;34m\u001b[0m\u001b[0;34m\u001b[0m\u001b[0m\n\u001b[0;32m----> 7\u001b[0;31m         \u001b[0;32mreturn\u001b[0m \u001b[0mnum\u001b[0m\u001b[0;34m*\u001b[0m\u001b[0mfact\u001b[0m\u001b[0;34m(\u001b[0m\u001b[0mnum\u001b[0m\u001b[0;34m-\u001b[0m\u001b[0;36m1\u001b[0m\u001b[0;34m)\u001b[0m\u001b[0;34m\u001b[0m\u001b[0;34m\u001b[0m\u001b[0m\n\u001b[0m\u001b[1;32m      8\u001b[0m \u001b[0;34m\u001b[0m\u001b[0m\n\u001b[1;32m      9\u001b[0m \u001b[0;34m\u001b[0m\u001b[0m\n",
      "... last 1 frames repeated, from the frame below ...\n",
      "\u001b[0;32m<ipython-input-31-5bfaf5c625f0>\u001b[0m in \u001b[0;36mfact\u001b[0;34m(num)\u001b[0m\n\u001b[1;32m      5\u001b[0m         \u001b[0;32mreturn\u001b[0m \u001b[0;36m1\u001b[0m\u001b[0;34m\u001b[0m\u001b[0;34m\u001b[0m\u001b[0m\n\u001b[1;32m      6\u001b[0m     \u001b[0;32melse\u001b[0m\u001b[0;34m:\u001b[0m\u001b[0;34m\u001b[0m\u001b[0;34m\u001b[0m\u001b[0m\n\u001b[0;32m----> 7\u001b[0;31m         \u001b[0;32mreturn\u001b[0m \u001b[0mnum\u001b[0m\u001b[0;34m*\u001b[0m\u001b[0mfact\u001b[0m\u001b[0;34m(\u001b[0m\u001b[0mnum\u001b[0m\u001b[0;34m-\u001b[0m\u001b[0;36m1\u001b[0m\u001b[0;34m)\u001b[0m\u001b[0;34m\u001b[0m\u001b[0;34m\u001b[0m\u001b[0m\n\u001b[0m\u001b[1;32m      8\u001b[0m \u001b[0;34m\u001b[0m\u001b[0m\n\u001b[1;32m      9\u001b[0m \u001b[0;34m\u001b[0m\u001b[0m\n",
      "\u001b[0;31mRecursionError\u001b[0m: maximum recursion depth exceeded in comparison"
     ]
    }
   ],
   "source": [
    "# 5! = 5X4X3X2X1 = 120\n",
    "\n",
    "def fact(num):\n",
    "    if num == 0 or num == 1:\n",
    "        return 1\n",
    "    else:\n",
    "        return num*fact(num-1)\n",
    "\n",
    "\n",
    "fact(3000)"
   ]
  },
  {
   "cell_type": "code",
   "execution_count": 42,
   "id": "67669666",
   "metadata": {
    "ExecuteTime": {
     "end_time": "2022-01-27T15:04:30.439822Z",
     "start_time": "2022-01-27T15:04:30.420810Z"
    }
   },
   "outputs": [
    {
     "data": {
      "text/plain": [
       "15"
      ]
     },
     "execution_count": 42,
     "metadata": {},
     "output_type": "execute_result"
    }
   ],
   "source": [
    "def f1():\n",
    "    a = 10\n",
    "    b = 20\n",
    "    c = a+b\n",
    "#     return c\n",
    "    print(c)\n",
    "    \n",
    "f1() // 2\n"
   ]
  },
  {
   "cell_type": "code",
   "execution_count": null,
   "id": "3fd5f921",
   "metadata": {},
   "outputs": [],
   "source": [
    "o/p of f1 -> i/p of f2 -> o/p f2 -> i/p f3 ->"
   ]
  },
  {
   "cell_type": "code",
   "execution_count": 33,
   "id": "3f543a81",
   "metadata": {
    "ExecuteTime": {
     "end_time": "2022-01-27T14:59:05.425274Z",
     "start_time": "2022-01-27T14:59:05.403166Z"
    }
   },
   "outputs": [
    {
     "data": {
      "text/plain": [
       "['peter', 'piper', 'picked', 'a', 'peck', 'of', 'pickled', 'peppers']"
      ]
     },
     "execution_count": 33,
     "metadata": {},
     "output_type": "execute_result"
    }
   ],
   "source": [
    "my_str = 'peter piper picked a peck of pickled peppers'\n",
    "' '.join(my_str.split())"
   ]
  },
  {
   "cell_type": "code",
   "execution_count": 34,
   "id": "3856a91d",
   "metadata": {
    "ExecuteTime": {
     "end_time": "2022-01-27T14:59:42.443464Z",
     "start_time": "2022-01-27T14:59:42.396910Z"
    }
   },
   "outputs": [
    {
     "data": {
      "text/plain": [
       "['peter', 'piper', 'picked', 'a', 'peck', 'of', 'pickled', 'peppers']"
      ]
     },
     "execution_count": 34,
     "metadata": {},
     "output_type": "execute_result"
    }
   ],
   "source": [
    "my_str.split()"
   ]
  },
  {
   "cell_type": "code",
   "execution_count": 38,
   "id": "6d20ef73",
   "metadata": {
    "ExecuteTime": {
     "end_time": "2022-01-27T15:02:47.631033Z",
     "start_time": "2022-01-27T15:02:47.618821Z"
    }
   },
   "outputs": [
    {
     "data": {
      "text/plain": [
       "'peter piper picked a peck of pickled peppers'"
      ]
     },
     "execution_count": 38,
     "metadata": {},
     "output_type": "execute_result"
    }
   ],
   "source": [
    "def my_split(my_str, char):\n",
    "    return my_str.split(char)\n",
    "    \n",
    "' '.join(my_split('peter piper picked a peck of pickled peppers', ' '))"
   ]
  },
  {
   "cell_type": "code",
   "execution_count": 37,
   "id": "def3b751",
   "metadata": {
    "ExecuteTime": {
     "end_time": "2022-01-27T15:01:18.416482Z",
     "start_time": "2022-01-27T15:01:18.397619Z"
    }
   },
   "outputs": [
    {
     "name": "stdout",
     "output_type": "stream",
     "text": [
      "['peter', 'piper', 'picked', 'a', 'peck', 'of', 'pickled', 'peppers']\n",
      "None\n"
     ]
    }
   ],
   "source": [
    "print(my_split('peter piper picked a peck of pickled peppers', ' '))"
   ]
  },
  {
   "cell_type": "code",
   "execution_count": 39,
   "id": "da42a4ad",
   "metadata": {
    "ExecuteTime": {
     "end_time": "2022-01-27T15:03:14.120841Z",
     "start_time": "2022-01-27T15:03:14.104231Z"
    }
   },
   "outputs": [
    {
     "name": "stdout",
     "output_type": "stream",
     "text": [
      "10\n"
     ]
    }
   ],
   "source": [
    "print(10)"
   ]
  },
  {
   "cell_type": "code",
   "execution_count": 46,
   "id": "af7cda3d",
   "metadata": {
    "ExecuteTime": {
     "end_time": "2022-01-27T15:09:01.758597Z",
     "start_time": "2022-01-27T15:09:01.748387Z"
    }
   },
   "outputs": [
    {
     "name": "stdout",
     "output_type": "stream",
     "text": [
      "Krishna 101 90000\n",
      "None\n"
     ]
    }
   ],
   "source": [
    "# database\n",
    "\n",
    "def populate():\n",
    "    print(get_details(101))\n",
    "\n",
    "def get_details(emp_id):\n",
    "    print('Krishna', 101, 90000)\n",
    "\n",
    "populate()"
   ]
  },
  {
   "cell_type": "code",
   "execution_count": 50,
   "id": "12bd5ba7",
   "metadata": {
    "ExecuteTime": {
     "end_time": "2022-01-27T15:13:49.238233Z",
     "start_time": "2022-01-27T15:13:49.228273Z"
    }
   },
   "outputs": [
    {
     "name": "stdout",
     "output_type": "stream",
     "text": [
      "['gh', 'sadksad', 'sdjskj', 'asdjjk']\n",
      "['gh', 'sadksad', 'sdjskj', 'asdjjk']\n"
     ]
    }
   ],
   "source": [
    "def my_split(str1, char):\n",
    "    return str1.split(char)\n",
    "\n",
    "print(my_split(\"gh/sadksad/sdjskj/asdjjk\", \"/\"))\n",
    "lst = my_split(\"gh/sadksad/sdjskj/asdjjk\", \"/\")\n",
    "print(lst)"
   ]
  },
  {
   "cell_type": "code",
   "execution_count": 49,
   "id": "b4987d02",
   "metadata": {
    "ExecuteTime": {
     "end_time": "2022-01-27T15:13:25.990193Z",
     "start_time": "2022-01-27T15:13:25.956628Z"
    }
   },
   "outputs": [
    {
     "name": "stdout",
     "output_type": "stream",
     "text": [
      "10\n"
     ]
    }
   ],
   "source": [
    "a = 10\n",
    "a\n",
    "print(a)"
   ]
  },
  {
   "cell_type": "code",
   "execution_count": null,
   "id": "02b8a2a7",
   "metadata": {},
   "outputs": [],
   "source": [
    "lst1 = [10,20,30,40]\n",
    "val = 30\n",
    "\n",
    "def my_pop(lst, val):\n",
    "#     will remove the value from the liost and returns it\n",
    "\n",
    "lst2 = [1, 2, 3, 4]\n",
    "out_lst = [1,2, 3, 4, 30]\n",
    "# Add the return value to another list\n",
    "# by using my_append function to lst 2\n",
    "\n",
    "def my_append(lst2, 30):\n",
    "    return [1, 2, 3, 4,30]\n",
    "\n",
    "\n",
    "\n",
    "\n"
   ]
  },
  {
   "cell_type": "code",
   "execution_count": 52,
   "id": "f94b65a0",
   "metadata": {
    "ExecuteTime": {
     "end_time": "2022-01-27T15:28:31.485208Z",
     "start_time": "2022-01-27T15:28:31.465924Z"
    }
   },
   "outputs": [
    {
     "data": {
      "text/plain": [
       "[1, 2, 3, 4, 30]"
      ]
     },
     "execution_count": 52,
     "metadata": {},
     "output_type": "execute_result"
    }
   ],
   "source": [
    "lst1 = [10,20,30,40]\n",
    "val = 30\n",
    "\n",
    "def my_pop(l, v):\n",
    "    lst2 = []\n",
    "    for i in l:\n",
    "        if i == v:\n",
    "            a = i\n",
    "            continue\n",
    "        else:\n",
    "            lst2 += [i]\n",
    "    return lst2, a\n",
    "\n",
    "\n",
    "lst2 = [1, 2, 3, 4]\n",
    "\n",
    "def my_append(lst2, val_add):\n",
    "    lst2 += [val_add]\n",
    "    return lst2\n",
    "\n",
    "val_add = my_pop(lst1,val)[1]\n",
    "my_append(lst2, val_add)"
   ]
  },
  {
   "cell_type": "code",
   "execution_count": null,
   "id": "dcaa3dac",
   "metadata": {},
   "outputs": [],
   "source": [
    "def my_pop(lst, val):\n",
    "#     lst.remove(val)\n",
    "    return val\n",
    "\n",
    "def my_append(lst, val):\n",
    "    out = lst[::]\n",
    "    out.append(val)\n",
    "    return out\n",
    "    \n",
    "lst1 = [10,20,30,40]\n",
    "val = 30\n",
    "print(my_pop(lst1, val))\n",
    "print(my_append(lst1, val))"
   ]
  },
  {
   "cell_type": "code",
   "execution_count": null,
   "id": "4dba75af",
   "metadata": {},
   "outputs": [],
   "source": [
    "a = 10"
   ]
  },
  {
   "cell_type": "code",
   "execution_count": null,
   "id": "b64bc103",
   "metadata": {},
   "outputs": [],
   "source": [
    "lst1=[10,20,30,40]\n",
    "lst3=[1,2,3,4]\n",
    "lst4=[]\n",
    "def my_pop(lst1,remElement):\n",
    "    return remElement\n",
    "\n",
    "def my_append(lst,remElement):\n",
    "    lst += [remElement]\n",
    "    return lst\n",
    "    \n",
    "returned_value=my_pop(lst1,30)\n",
    "print(\"Removed Value is\",returned_value)\n",
    "print(my_append(lst3,returned_value))"
   ]
  },
  {
   "cell_type": "code",
   "execution_count": null,
   "id": "57e5e028",
   "metadata": {},
   "outputs": [],
   "source": [
    "lst1 = [10,20,30,40]\n",
    "val = 30\n",
    "lst2 = [1,2,3,4]\n",
    "def my_pop(lst,val):\n",
    "    #function to remove the value and return it\n",
    "    return lst.pop(val)\n",
    "    # add the return value to another list using my_append function to lst2\n",
    "    def my_append(lst1,val):\n",
    "        valtoadd = my_pop([lst1], [val])\n",
    "        lst2 += valtoadd\n",
    "        return(lst2)\n",
    "\n",
    "my_append(lst2, val)"
   ]
  },
  {
   "cell_type": "code",
   "execution_count": null,
   "id": "a34ad7b4",
   "metadata": {},
   "outputs": [],
   "source": [
    "lst1 = [10,20,30,40]\n",
    "val = 20\n",
    "lst2 = [1,2,3,4]\n",
    "def my_pop(lst,val):\n",
    "    #function to remove the value and return it\n",
    "    return lst.pop(val)\n",
    "\n",
    "    # add the return value to another list using my_append function to lst2\n",
    "    def my_append(lst1,val):\n",
    "        valtoadd = my_pop(lst1, val)\n",
    "        lst2 += valtoadd\n",
    "        return(lst2)\n",
    "\n",
    "print(lst1)\n",
    "# my_pop(lst1,val)\n",
    "my_append(lst2, val)\n",
    "print(lst1)\n",
    "print(lst2)"
   ]
  },
  {
   "cell_type": "code",
   "execution_count": 55,
   "id": "fe3822aa",
   "metadata": {
    "ExecuteTime": {
     "end_time": "2022-01-27T15:46:34.180008Z",
     "start_time": "2022-01-27T15:46:34.168361Z"
    }
   },
   "outputs": [
    {
     "name": "stdout",
     "output_type": "stream",
     "text": [
      "20\n"
     ]
    }
   ],
   "source": [
    "def f1():\n",
    "    a = 10\n",
    "    b = 20\n",
    "    if a>b:\n",
    "        return a\n",
    "    else:\n",
    "        return b\n",
    "        return 100\n",
    "\n",
    "print(f1())"
   ]
  },
  {
   "cell_type": "code",
   "execution_count": null,
   "id": "a474379a",
   "metadata": {},
   "outputs": [],
   "source": [
    "# "
   ]
  },
  {
   "cell_type": "code",
   "execution_count": null,
   "id": "f25b4995",
   "metadata": {},
   "outputs": [],
   "source": []
  },
  {
   "cell_type": "code",
   "execution_count": null,
   "id": "919316ad",
   "metadata": {},
   "outputs": [],
   "source": []
  },
  {
   "cell_type": "code",
   "execution_count": null,
   "id": "b9aa24ad",
   "metadata": {},
   "outputs": [],
   "source": []
  },
  {
   "cell_type": "code",
   "execution_count": null,
   "id": "9f255aa2",
   "metadata": {},
   "outputs": [],
   "source": []
  },
  {
   "cell_type": "code",
   "execution_count": null,
   "id": "cabc67e8",
   "metadata": {},
   "outputs": [],
   "source": []
  },
  {
   "cell_type": "code",
   "execution_count": null,
   "id": "8928d8b2",
   "metadata": {},
   "outputs": [],
   "source": []
  },
  {
   "cell_type": "code",
   "execution_count": null,
   "id": "840c4860",
   "metadata": {},
   "outputs": [],
   "source": []
  },
  {
   "cell_type": "code",
   "execution_count": null,
   "id": "ba7e8932",
   "metadata": {},
   "outputs": [],
   "source": []
  },
  {
   "cell_type": "code",
   "execution_count": null,
   "id": "716b08ad",
   "metadata": {},
   "outputs": [],
   "source": []
  },
  {
   "cell_type": "code",
   "execution_count": null,
   "id": "b1665976",
   "metadata": {},
   "outputs": [],
   "source": []
  },
  {
   "cell_type": "code",
   "execution_count": null,
   "id": "f92968f3",
   "metadata": {},
   "outputs": [],
   "source": []
  },
  {
   "cell_type": "code",
   "execution_count": null,
   "id": "c87b17e4",
   "metadata": {},
   "outputs": [],
   "source": []
  },
  {
   "cell_type": "code",
   "execution_count": null,
   "id": "8e0acb75",
   "metadata": {},
   "outputs": [],
   "source": []
  },
  {
   "cell_type": "code",
   "execution_count": null,
   "id": "f4e380e5",
   "metadata": {},
   "outputs": [],
   "source": []
  },
  {
   "cell_type": "code",
   "execution_count": null,
   "id": "6f1ac96f",
   "metadata": {},
   "outputs": [],
   "source": []
  },
  {
   "cell_type": "code",
   "execution_count": null,
   "id": "9ec89480",
   "metadata": {},
   "outputs": [],
   "source": []
  },
  {
   "cell_type": "code",
   "execution_count": null,
   "id": "dd00affa",
   "metadata": {},
   "outputs": [],
   "source": []
  },
  {
   "cell_type": "code",
   "execution_count": null,
   "id": "d928c92f",
   "metadata": {},
   "outputs": [],
   "source": []
  },
  {
   "cell_type": "code",
   "execution_count": null,
   "id": "a916c4f5",
   "metadata": {},
   "outputs": [],
   "source": []
  },
  {
   "cell_type": "code",
   "execution_count": null,
   "id": "80a48ff3",
   "metadata": {},
   "outputs": [],
   "source": []
  },
  {
   "cell_type": "code",
   "execution_count": null,
   "id": "5f4d7825",
   "metadata": {},
   "outputs": [],
   "source": []
  }
 ],
 "metadata": {
  "kernelspec": {
   "display_name": "Python 3",
   "language": "python",
   "name": "python3"
  },
  "language_info": {
   "codemirror_mode": {
    "name": "ipython",
    "version": 3
   },
   "file_extension": ".py",
   "mimetype": "text/x-python",
   "name": "python",
   "nbconvert_exporter": "python",
   "pygments_lexer": "ipython3",
   "version": "3.8.2"
  }
 },
 "nbformat": 4,
 "nbformat_minor": 5
}
