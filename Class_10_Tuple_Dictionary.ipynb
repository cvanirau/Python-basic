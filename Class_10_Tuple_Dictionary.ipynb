{
 "cells": [
  {
   "cell_type": "code",
   "execution_count": 43,
   "id": "208f717b",
   "metadata": {
    "ExecuteTime": {
     "end_time": "2022-01-24T14:50:01.823667Z",
     "start_time": "2022-01-24T14:50:01.817877Z"
    },
    "scrolled": true
   },
   "outputs": [],
   "source": [
    "my_str = 'Python'\n",
    "# last_index = 5\n",
    "# list(range(len(my_str)))\n",
    "# P\n",
    "# yy\n",
    "# ttt\n",
    "# hhhh\n",
    "# ooooo\n",
    "# nnnnnn\n",
    "\n",
    "# for i in range(1, len(my_str)+1):\n",
    "#     print(my_str[i-1] * i)\n",
    "\n",
    "# P\n",
    "# y\n",
    "# t\n",
    "# h\n",
    "# o\n",
    "# n\n",
    "# for i in range(len(my_str)):\n",
    "#     print(my_str[i])\n",
    "\n",
    "# my_str = ''\n",
    "# for i in [10,20,30]:\n",
    "#     my_str = my_str + ' ' + str(i)\n",
    "# print(my_str)\n",
    "\n",
    "\n",
    "# Write a python program to find below output (implements rjust and ljust) using loop:-\n",
    "    \n",
    "# my_str = 'Peter Piper Picked A Peck Of Pickled Peppers.'\n",
    "# sub_str = 'Peck'\n",
    "# Output: *********************Peck************************\n",
    "\n",
    "# my_str = 'Peter Piper Picked A Peck Of Pickled Peppers.'\n",
    "# sub_str = 'Peck'\n",
    "# new_str = ''\n",
    "# j = 0\n",
    "# res_str = ''\n",
    "# for i in range(len(my_str)):\n",
    "#     if my_str[i] == sub_str[j]:\n",
    "#         new_str += my_str[i]\n",
    "#         j += 1\n",
    "#         if new_str == sub_str:\n",
    "#             res_str = ('*' * (i-(len(sub_str)-1))) + sub_str + ('*' * ((len(my_str)-i-1)))\n",
    "#             break\n",
    "#     elif i == len(my_str):\n",
    "#         print('substring is not found')\n",
    "#     else:\n",
    "#         new_str = ''\n",
    "#         j = 0\n",
    "# print(res_str)\n",
    "\n",
    "# my_str = 'Peter Piper Picked A Peck Of Pickled Peppers.'\n",
    "# sub_str = 'Peck'\n",
    "# sub_str.rjust(my_str.find(sub_str)+(len(sub_str)), '*').ljust((len(my_str)), '*')\n",
    "\n",
    "# my_str = 'Peter Piper Picked A Peck Of Pickled Peppers.'\n",
    "# # print(my_str.index('Peck'))  # to know the index of 'P' in Peck\n",
    "# out_str = ''\n",
    "# a= '*'\n",
    "# b= 'Peck'\n",
    "# for i in range(len(my_str)):\n",
    "#     if i < 21:\n",
    "#         out_str += a\n",
    "#     elif i == 21:\n",
    "#         out_str += b\n",
    "#     elif (22 <= i <= 24):\n",
    "#         continue\n",
    "#     elif i >= 25:\n",
    "#         out_str = out_str + a\n",
    "# print(out_str)\n"
   ]
  },
  {
   "cell_type": "code",
   "execution_count": 3,
   "id": "3e3f74d6",
   "metadata": {},
   "outputs": [
    {
     "ename": "TypeError",
     "evalue": "'int' object is not iterable",
     "output_type": "error",
     "traceback": [
      "\u001b[1;31m---------------------------------------------------------------------------\u001b[0m",
      "\u001b[1;31mTypeError\u001b[0m                                 Traceback (most recent call last)",
      "\u001b[1;32m~\\AppData\\Local\\Temp/ipykernel_3660/3491622287.py\u001b[0m in \u001b[0;36m<module>\u001b[1;34m\u001b[0m\n\u001b[0;32m      1\u001b[0m \u001b[0mmy_str\u001b[0m \u001b[1;33m=\u001b[0m \u001b[1;34m'Python'\u001b[0m\u001b[1;33m\u001b[0m\u001b[1;33m\u001b[0m\u001b[0m\n\u001b[0;32m      2\u001b[0m \u001b[0mlast_index\u001b[0m \u001b[1;33m=\u001b[0m \u001b[1;36m5\u001b[0m\u001b[1;33m\u001b[0m\u001b[1;33m\u001b[0m\u001b[0m\n\u001b[1;32m----> 3\u001b[1;33m \u001b[0mlist\u001b[0m\u001b[1;33m(\u001b[0m\u001b[0mlen\u001b[0m\u001b[1;33m(\u001b[0m\u001b[0mmy_str\u001b[0m\u001b[1;33m)\u001b[0m\u001b[1;33m)\u001b[0m\u001b[1;33m\u001b[0m\u001b[1;33m\u001b[0m\u001b[0m\n\u001b[0m",
      "\u001b[1;31mTypeError\u001b[0m: 'int' object is not iterable"
     ]
    }
   ],
   "source": []
  },
  {
   "cell_type": "markdown",
   "id": "49eb44bb",
   "metadata": {},
   "source": [
    "# Tuple"
   ]
  },
  {
   "cell_type": "code",
   "execution_count": 40,
   "id": "59cb87f4",
   "metadata": {
    "ExecuteTime": {
     "end_time": "2022-01-24T14:37:29.785423Z",
     "start_time": "2022-01-24T14:37:29.775607Z"
    }
   },
   "outputs": [
    {
     "data": {
      "text/plain": [
       "20"
      ]
     },
     "execution_count": 40,
     "metadata": {},
     "output_type": "execute_result"
    }
   ],
   "source": [
    "len('********************')"
   ]
  },
  {
   "cell_type": "code",
   "execution_count": 44,
   "id": "21309a68",
   "metadata": {
    "ExecuteTime": {
     "end_time": "2022-01-24T14:50:08.580345Z",
     "start_time": "2022-01-24T14:50:08.576056Z"
    }
   },
   "outputs": [],
   "source": [
    "# my_str = 'Python'\n",
    "\n",
    "# # Total length should be 20\n",
    "# # Out pf that 6 characters from my_str and 14 characters '*'\n",
    "\n",
    "# my_str.rjust(20, '*')\n"
   ]
  },
  {
   "cell_type": "code",
   "execution_count": null,
   "id": "a15c734d",
   "metadata": {},
   "outputs": [],
   "source": [
    "my_str = 'Peter Piper Picked A Peck Of Pickled Peppers.' \n",
    "\n",
    "sub_str ='Peck'\n",
    "\n",
    "# determining index for p in 'peck'\n",
    "result = my_str.find(sub_str)\n",
    "print (result)\n",
    "\n",
    "result_1 = result+len(sub_str)\n",
    "print (result_1)\n",
    "\n",
    "length_str = len(my_str)\n",
    "print (length_str)\n",
    "\n",
    "print((result-1) * '*', end='')\n",
    "print(sub_str, end='')\n",
    "print(((length_str)-(result_1))*'*')"
   ]
  },
  {
   "cell_type": "code",
   "execution_count": 50,
   "id": "88f27847",
   "metadata": {
    "ExecuteTime": {
     "end_time": "2022-01-24T14:58:26.999248Z",
     "start_time": "2022-01-24T14:58:26.991486Z"
    }
   },
   "outputs": [
    {
     "name": "stdout",
     "output_type": "stream",
     "text": [
      "(10, 20, 30) <class 'tuple'>\n"
     ]
    }
   ],
   "source": [
    "# Multiple assignment\n",
    "# a, b, c = 10, 20, 30\n",
    "# print(a, b, c)\n",
    "\n",
    "a = 10, 20, 30\n",
    "print(a, type(a))"
   ]
  },
  {
   "cell_type": "markdown",
   "id": "6a17dd54",
   "metadata": {},
   "source": [
    "# Tuple"
   ]
  },
  {
   "cell_type": "code",
   "execution_count": 47,
   "id": "df589f9d",
   "metadata": {
    "ExecuteTime": {
     "end_time": "2022-01-24T14:54:22.017730Z",
     "start_time": "2022-01-24T14:54:22.008937Z"
    }
   },
   "outputs": [
    {
     "name": "stdout",
     "output_type": "stream",
     "text": [
      "(10, 20, 30, 40, 50) <class 'tuple'>\n"
     ]
    }
   ],
   "source": [
    "# Tuple - Any value kept inside [()] sepearetd by ,\n",
    "\n",
    "# tpl = (10, 10.20, 10+20j, None, True, 'Python')\n",
    "# print(tpl, type(tpl))\n",
    "\n",
    "# tpl = 10, 10.20, 10+20j, None, True, 'Python'\n",
    "# print(tpl, type(tpl))\n",
    "\n",
    "a = 10, 20, 30, 40, 50\n",
    "print(a, type(a))\n"
   ]
  },
  {
   "cell_type": "code",
   "execution_count": 48,
   "id": "7e099215",
   "metadata": {
    "ExecuteTime": {
     "end_time": "2022-01-24T14:57:45.914816Z",
     "start_time": "2022-01-24T14:57:45.909881Z"
    }
   },
   "outputs": [],
   "source": [
    "# Tuple is similar to this list, Except tuple is immutable\n",
    "\n",
    "# Tuple can have duplicate elements\n",
    "# Tuple is a collection of heterogeneous elements\n",
    "# Tuple is a sequence\n",
    "#     1. Tuple is an ordered collection of the elements\n",
    "#     2. Tuple supports +ve and -ve indexing both\n",
    "#     3. +ve indexing starts from 0 from left side\n",
    "#     4. +ve indexing starts from -1 from right side\n",
    "#     5. Basic - INdexing, slicing, concatenation, Repetition\n",
    "\n",
    "\n"
   ]
  },
  {
   "cell_type": "code",
   "execution_count": 66,
   "id": "f6d2e3cf",
   "metadata": {
    "ExecuteTime": {
     "end_time": "2022-01-24T15:05:54.399763Z",
     "start_time": "2022-01-24T15:05:54.389635Z"
    }
   },
   "outputs": [
    {
     "name": "stdout",
     "output_type": "stream",
     "text": [
      "(10,) <class 'tuple'>\n"
     ]
    }
   ],
   "source": [
    "# Tuple creation\n",
    "\n",
    "# If you know the lements\n",
    "# tpl = (10, 10.20, 10+20j, None, True, 'Python')\n",
    "# print(tpl, type(tpl))\n",
    "\n",
    "\n",
    "# Using tuple function\n",
    "# tpl1 = tuple('Python')\n",
    "# print(tpl1, type(tpl1))\n",
    "\n",
    "\n",
    "# tpl1 = tuple([10,20,30,40])\n",
    "# print(tpl1, type(tpl1))\n",
    "\n",
    "# tpl1 = tuple((10,20,30,40))\n",
    "# print(tpl1, type(tpl1))\n",
    "\n",
    "# tpl1 = tuple({1:10,2:20,3:30,4:40})\n",
    "# print(tpl1, type(tpl1))\n",
    "\n",
    "# tpl1 = tuple({10,20,30,30,40,30})\n",
    "# print(tpl1)\n",
    "\n",
    "# taking tuple as user input\n",
    "# tpl = eval(input('Enter a tuple:'))\n",
    "# print(tpl, type(tpl))\n",
    "\n",
    "# Creating atuple with a single element, comma is mandatory\n",
    "tpl = 10,\n",
    "print(tpl, type(tpl))\n"
   ]
  },
  {
   "cell_type": "code",
   "execution_count": 67,
   "id": "f93b30c1",
   "metadata": {
    "ExecuteTime": {
     "end_time": "2022-01-24T15:07:10.771423Z",
     "start_time": "2022-01-24T15:07:10.761611Z"
    }
   },
   "outputs": [
    {
     "name": "stdout",
     "output_type": "stream",
     "text": [
      "10 20 30 40\n"
     ]
    },
    {
     "data": {
      "text/plain": [
       "(10, 20, 30, 40, 50)"
      ]
     },
     "execution_count": 67,
     "metadata": {},
     "output_type": "execute_result"
    }
   ],
   "source": [
    "print(10, 20, 30, 40)\n",
    "10, 20, 30, 40, 50"
   ]
  },
  {
   "cell_type": "code",
   "execution_count": 71,
   "id": "db6056c5",
   "metadata": {
    "ExecuteTime": {
     "end_time": "2022-01-24T15:09:51.965956Z",
     "start_time": "2022-01-24T15:09:51.957118Z"
    }
   },
   "outputs": [],
   "source": [
    "# Methodson Tuple\n",
    "\n",
    "# print(dir(tuple))\n",
    "tpl = (10, 10.20, 10,  10+20j,10,  None, True, 10, 'Python')\n",
    "# print(tpl.count(10))\n",
    "\n",
    "# print(tpl.index(10))\n",
    "\n",
    "# Faster and more secure compared to the list\n",
    "\n"
   ]
  },
  {
   "cell_type": "code",
   "execution_count": 80,
   "id": "0eada375",
   "metadata": {
    "ExecuteTime": {
     "end_time": "2022-01-24T15:17:01.431446Z",
     "start_time": "2022-01-24T15:17:01.423235Z"
    }
   },
   "outputs": [
    {
     "name": "stdout",
     "output_type": "stream",
     "text": [
      "ABC\n",
      "101\n",
      "abc@gmail.com\n",
      "1019018091\n"
     ]
    }
   ],
   "source": [
    "# Packing - assigning multiple values to a single variable\n",
    "\n",
    "# a = 10, 10.20, 20, 200, 300\n",
    "# print(a, type(a))\n",
    "\n",
    "# emp_name = 'ABC'\n",
    "# emp_id = 101\n",
    "# emp_email = 'abc@gmail.com'\n",
    "# emp_phone = 1019018091\n",
    "# emp_details = emp_name, emp_id, emp_email, emp_phone\n",
    "# print(emp_details, type(emp_details))\n",
    "\n",
    "\n",
    "# Tuple unpacking - assigning a tuple to multiple variable\n",
    "emp_name = 'ABC'\n",
    "emp_id = 101\n",
    "emp_email = 'abc@gmail.com'\n",
    "emp_phone = 1019018091\n",
    "emp_details = emp_name, emp_id, emp_email, emp_phone\n",
    "a, b, c, d = emp_details\n",
    "print(a)\n",
    "print(b)\n",
    "print(c)\n",
    "print(d)\n",
    "\n"
   ]
  },
  {
   "cell_type": "code",
   "execution_count": 82,
   "id": "ed6d39dc",
   "metadata": {
    "ExecuteTime": {
     "end_time": "2022-01-24T15:17:52.340993Z",
     "start_time": "2022-01-24T15:17:52.334644Z"
    }
   },
   "outputs": [],
   "source": [
    "# Tuple comprehension - Tuple\n",
    "# Does not create a tuple\n",
    "# Generator object\n",
    "\n",
    "# (i for i in range(5))\n"
   ]
  },
  {
   "cell_type": "markdown",
   "id": "77c7e1d3",
   "metadata": {},
   "source": [
    "# Dictionary"
   ]
  },
  {
   "cell_type": "code",
   "execution_count": 5,
   "id": "b9f21488",
   "metadata": {
    "ExecuteTime": {
     "end_time": "2022-01-24T15:19:58.033803Z",
     "start_time": "2022-01-24T15:19:58.028225Z"
    }
   },
   "outputs": [],
   "source": [
    "# Dictionayr is a collection of key value pair kept inside {}\n",
    "# Where key and values are separated by : and \n",
    "# One single key:value pair is called an item/elements\n",
    "# Each element is separated by comma\n",
    "\n",
    "# d = {1:100, 2:200, 3:300}\n",
    "# print(d, type(d))\n",
    "\n",
    "# Key can not be duplicated\n",
    "# Values can be duplicated\n",
    "# Key can be only immutable type\n",
    "# Values can be aything\n",
    "# Values can be accessed by keys but viceversa is not allowed\n",
    "# Dictionary is not a sequence - indexes\n",
    "# Dictionary is a mutable data structure\n",
    "\n",
    "\n",
    "emp_name = ['Abhishek', 'Rahul', 'Krishna', 'Rajat']\n",
    "emp_id = [101, 102, 103, 104]\n"
   ]
  },
  {
   "cell_type": "code",
   "execution_count": 9,
   "id": "49ea67cd",
   "metadata": {
    "ExecuteTime": {
     "end_time": "2022-01-24T15:27:38.564378Z",
     "start_time": "2022-01-24T15:27:38.548192Z"
    }
   },
   "outputs": [
    {
     "name": "stdout",
     "output_type": "stream",
     "text": [
      "Rahul\n",
      "105\n",
      "KOL\n",
      "{'emp_1': ['Abhishek', 101, 'BLR'], 'emp_2': ['Krishna', 102, 'CHN'], 'emp_3': ['Rahul', 103, 'HYD'], 'emp_4': ['Rakesh', 105, 'KOL']}\n"
     ]
    }
   ],
   "source": [
    "emp_info = {'emp_1':['Abhishek', 101, 'BLR'],\n",
    "            'emp_2':['Krishna', 102, 'CHN'],\n",
    "            'emp_3':['Rahul', 103, 'HYD'],\n",
    "            'emp_4':['Rajat', 104, 'LKO'],\n",
    "            'emp_4':['Rakesh', 105, 'KOL']}\n",
    "\n",
    "print(emp_info['emp_3'][0])\n",
    "print(emp_info['emp_4'][1])\n",
    "print(emp_info['emp_4'][2])\n",
    "\n",
    "print(emp_info)"
   ]
  },
  {
   "cell_type": "code",
   "execution_count": 10,
   "id": "2de5f3f9",
   "metadata": {
    "ExecuteTime": {
     "end_time": "2022-01-24T15:29:00.106338Z",
     "start_time": "2022-01-24T15:29:00.093306Z"
    }
   },
   "outputs": [
    {
     "data": {
      "text/plain": [
       "{1: 111, 2: 200, 3: 300, 4: 400}"
      ]
     },
     "execution_count": 10,
     "metadata": {},
     "output_type": "execute_result"
    }
   ],
   "source": [
    "{1:100, 2:200, 3:300, 4:400, 1:111}\n",
    "\n",
    "# key        Value\n",
    "# 1          111\n",
    "# 2          200\n",
    "# 3          300\n",
    "# 4          400"
   ]
  },
  {
   "cell_type": "code",
   "execution_count": 15,
   "id": "810e4581",
   "metadata": {
    "ExecuteTime": {
     "end_time": "2022-01-24T15:30:30.332375Z",
     "start_time": "2022-01-24T15:30:30.314101Z"
    }
   },
   "outputs": [
    {
     "name": "stdout",
     "output_type": "stream",
     "text": [
      "['Krishna', 102, 'CHN']\n"
     ]
    }
   ],
   "source": [
    "emp_info = {'emp_1':['Abhishek', 101, 'BLR'],\n",
    "            'emp_2':['Krishna', 102, 'CHN'],\n",
    "            'emp_3':['Rahul', 103, 'HYD'],\n",
    "            'emp_4':['Rajat', 104, 'LKO'],\n",
    "            'emp_5':['Rakesh', 105, 'KOL']}\n",
    "print(emp_info['emp_2'])"
   ]
  },
  {
   "cell_type": "code",
   "execution_count": 101,
   "id": "2a4fd48b",
   "metadata": {
    "ExecuteTime": {
     "end_time": "2022-01-24T15:42:54.119279Z",
     "start_time": "2022-01-24T15:42:54.105439Z"
    }
   },
   "outputs": [
    {
     "data": {
      "text/plain": [
       "['Rakesh', 105, 'KOL']"
      ]
     },
     "execution_count": 101,
     "metadata": {},
     "output_type": "execute_result"
    }
   ],
   "source": [
    "# Accessing the values from dictionary\n",
    "emp_info = {'emp_1':['Abhishek', 101, 'BLR'],\n",
    "            'emp_2':['Krishna', 102, 'CHN'],\n",
    "            'emp_3':['Rahul', 103, 'HYD', 90909090],\n",
    "            'emp_4':['Rajat', 104, 'LKO'],\n",
    "            ('emp_5',):['Rakesh', 105, 'KOL']}\n",
    "\n",
    "# print(emp_info['emp_3'])\n",
    "\n",
    "emp_info[('emp_5',)]\n",
    "# emp_info\n",
    "\n",
    "\n",
    "# If key is not present\n",
    "# emp_info['emp_9']\n"
   ]
  },
  {
   "cell_type": "code",
   "execution_count": 100,
   "id": "b435192d",
   "metadata": {
    "ExecuteTime": {
     "end_time": "2022-01-24T15:40:22.312463Z",
     "start_time": "2022-01-24T15:40:15.635777Z"
    }
   },
   "outputs": [
    {
     "name": "stdout",
     "output_type": "stream",
     "text": [
      "Enter Employee name: ABC\n",
      "Enter Employee id: 101\n",
      "Enter the employee Salary: 89999\n",
      "Employee ABC with id 101 - hike provided True\n"
     ]
    }
   ],
   "source": [
    "def emp_details():\n",
    "    emp_name = input('Enter Employee name: ')\n",
    "    emp_id = input('Enter Employee id: ')\n",
    "    emp_sal = eval(input('Enter the employee Salary: '))\n",
    "    if emp_sal > 90000:\n",
    "        return emp_name, emp_id, False\n",
    "    else:\n",
    "        return emp_name, emp_id, True\n",
    "e_name, e_id, hike_given = emp_details()\n",
    "print(f'Employee {e_name} with id {e_id} - hike provided = {hike_given}')"
   ]
  },
  {
   "cell_type": "code",
   "execution_count": 103,
   "id": "6737b97d",
   "metadata": {
    "ExecuteTime": {
     "end_time": "2022-01-24T15:44:03.903012Z",
     "start_time": "2022-01-24T15:44:03.887144Z"
    }
   },
   "outputs": [
    {
     "name": "stdout",
     "output_type": "stream",
     "text": [
      "{'emp_1': ['Abhishek', 101, 'BLR'], 'emp_2': ['Krishna', 102, 'CHN'], 'emp_3': ['Rahul', 103, 'HYD', 90909090], 'emp_4': ['Rajat', 104, 'LKO'], ('emp_5',): ['Rakesh', 105, 'KOL']} 4504070848\n",
      "\n",
      "{'emp_1': ['Abhishek', 101, 'BLR'], 'emp_2': 111, 'emp_3': ['Rahul', 103, 'HYD', 90909090], 'emp_4': ['Rajat', 104, 'LKO'], ('emp_5',): ['Rakesh', 105, 'KOL']} 4504070848\n"
     ]
    }
   ],
   "source": [
    "emp_info = {'emp_1':['Abhishek', 101, 'BLR'],\n",
    "            'emp_2':['Krishna', 102, 'CHN'],\n",
    "            'emp_3':['Rahul', 103, 'HYD', 90909090],\n",
    "            'emp_4':['Rajat', 104, 'LKO'],\n",
    "            ('emp_5',):['Rakesh', 105, 'KOL']}\n",
    "\n",
    "print(emp_info, id(emp_info))\n",
    "emp_info['emp_2'] = 111\n",
    "print()\n",
    "print(emp_info, id(emp_info))\n"
   ]
  },
  {
   "cell_type": "code",
   "execution_count": 104,
   "id": "c8edd0cd",
   "metadata": {
    "ExecuteTime": {
     "end_time": "2022-01-24T15:44:38.462354Z",
     "start_time": "2022-01-24T15:44:38.449833Z"
    }
   },
   "outputs": [
    {
     "name": "stdout",
     "output_type": "stream",
     "text": [
      "['__class__', '__contains__', '__delattr__', '__delitem__', '__dir__', '__doc__', '__eq__', '__format__', '__ge__', '__getattribute__', '__getitem__', '__gt__', '__hash__', '__init__', '__init_subclass__', '__iter__', '__le__', '__len__', '__lt__', '__ne__', '__new__', '__reduce__', '__reduce_ex__', '__repr__', '__reversed__', '__setattr__', '__setitem__', '__sizeof__', '__str__', '__subclasshook__', 'clear', 'copy', 'fromkeys', 'get', 'items', 'keys', 'pop', 'popitem', 'setdefault', 'update', 'values']\n"
     ]
    }
   ],
   "source": [
    "print(dir(dict))"
   ]
  },
  {
   "cell_type": "code",
   "execution_count": 105,
   "id": "7e7f7723",
   "metadata": {
    "ExecuteTime": {
     "end_time": "2022-01-24T15:44:51.795920Z",
     "start_time": "2022-01-24T15:44:51.790597Z"
    }
   },
   "outputs": [],
   "source": [
    "# 'clear', 'copy', 'fromkeys', 'get', 'items', 'keys', 'pop', \n",
    "# 'popitem', 'setdefault', 'update', 'values'"
   ]
  },
  {
   "cell_type": "code",
   "execution_count": 17,
   "id": "abe42704",
   "metadata": {
    "ExecuteTime": {
     "end_time": "2022-01-24T15:51:10.970811Z",
     "start_time": "2022-01-24T15:51:10.966108Z"
    }
   },
   "outputs": [
    {
     "name": "stdout",
     "output_type": "stream",
     "text": [
      "Before operation\n",
      "[11, 22, 33, 44] 1691253228864\n",
      "After operation\n",
      "[100, 22, 33, 44] 1691253228864\n",
      "Before Operation\n",
      "Python 1691160907120\n",
      "After Operation\n",
      "Python 1691160907120\n",
      "Jython 1691254446064\n"
     ]
    }
   ],
   "source": [
    "# Mutable\n",
    "#     1. Item assignment is possible\n",
    "#     2. Changes will be done in same object(address before and afyter the operation should be same after changes)\n",
    "\n",
    "lst = [11, 22, 33, 44]\n",
    "print('Before operation')\n",
    "print(lst, id(lst))\n",
    "lst[0] = 100\n",
    "print('After operation')\n",
    "print(lst, id(lst))\n",
    "\n",
    "# my_str = 'Python'\n",
    "# my_str[0] = 'J'\n",
    "\n",
    "my_str = 'Python'\n",
    "print('Before Operation')\n",
    "print(my_str, id(my_str))\n",
    "new_str = my_str.replace('P', 'J')\n",
    "print('After Operation')\n",
    "print(my_str, id(my_str))\n",
    "print(new_str, id(new_str))\n"
   ]
  },
  {
   "cell_type": "code",
   "execution_count": 114,
   "id": "68649292",
   "metadata": {
    "ExecuteTime": {
     "end_time": "2022-01-24T15:52:27.359365Z",
     "start_time": "2022-01-24T15:52:27.343065Z"
    }
   },
   "outputs": [
    {
     "ename": "ValueError",
     "evalue": "empty separator",
     "output_type": "error",
     "traceback": [
      "\u001b[0;31m---------------------------------------------------------------------------\u001b[0m",
      "\u001b[0;31mValueError\u001b[0m                                Traceback (most recent call last)",
      "\u001b[0;32m<ipython-input-114-2ff20e8d653f>\u001b[0m in \u001b[0;36m<module>\u001b[0;34m\u001b[0m\n\u001b[1;32m     14\u001b[0m \u001b[0;34m\u001b[0m\u001b[0m\n\u001b[1;32m     15\u001b[0m \u001b[0minp_str\u001b[0m \u001b[0;34m=\u001b[0m \u001b[0;34m'peter piper picked a peck of pickled peppers.'\u001b[0m\u001b[0;34m\u001b[0m\u001b[0;34m\u001b[0m\u001b[0m\n\u001b[0;32m---> 16\u001b[0;31m \u001b[0minp_str\u001b[0m\u001b[0;34m.\u001b[0m\u001b[0msplit\u001b[0m\u001b[0;34m(\u001b[0m\u001b[0;34m''\u001b[0m\u001b[0;34m)\u001b[0m\u001b[0;34m\u001b[0m\u001b[0;34m\u001b[0m\u001b[0m\n\u001b[0m\u001b[1;32m     17\u001b[0m \u001b[0;34m\u001b[0m\u001b[0m\n",
      "\u001b[0;31mValueError\u001b[0m: empty separator"
     ]
    }
   ],
   "source": [
    "#Write a Python Program, to print all the indexes of all occurences of letter 'p' appeared in the string:-\n",
    "    \n",
    "#Input:- 'peter piper picked a peck of pickled peppers.'\n",
    "#Output:- \n",
    "# 0\n",
    "# 6\n",
    "# 8\n",
    "# 12\n",
    "# 21\n",
    "# 29\n",
    "# 37\n",
    "# 39\n",
    "# 40\n",
    "\n",
    "inp_str = 'peter piper picked a peck of pickled peppers.'\n",
    "\n",
    "\n"
   ]
  },
  {
   "cell_type": "code",
   "execution_count": 116,
   "id": "f94f70da",
   "metadata": {
    "ExecuteTime": {
     "end_time": "2022-01-24T15:58:19.579856Z",
     "start_time": "2022-01-24T15:58:19.572533Z"
    }
   },
   "outputs": [
    {
     "name": "stdout",
     "output_type": "stream",
     "text": [
      "45\n",
      "\n",
      ".sreppep delkcip fo kcep a dekcip repip retep\n"
     ]
    }
   ],
   "source": [
    "my_string='peter piper picked a peck of pickled peppers.'\n",
    "emp_str=\"\"\n",
    "print(len(my_string))\n",
    "print(emp_str)\n",
    "\n",
    "for i in range(-1,-len(my_string)-1,-1):\n",
    "    if my_string[i]==\" \":\n",
    "        emp_str=emp_str+my_string[i]\n",
    "    else: \n",
    "        emp_str= emp_str+my_string[i]\n",
    "# emp_str=emp_str+my_string[i]\n",
    "print(emp_str)"
   ]
  },
  {
   "cell_type": "code",
   "execution_count": null,
   "id": "a30a2609",
   "metadata": {},
   "outputs": [],
   "source": [
    "could understand the requirement well:\n",
    "\n",
    "Write a python program to find below output using loop:-\n",
    "Input:- 'This is Python is class', sep = 'is',\n",
    "Output:- ['This ', 'is', ' Python is class']"
   ]
  },
  {
   "cell_type": "code",
   "execution_count": null,
   "id": "730551ec",
   "metadata": {},
   "outputs": [],
   "source": []
  },
  {
   "cell_type": "code",
   "execution_count": null,
   "id": "c42c0e38",
   "metadata": {},
   "outputs": [],
   "source": []
  },
  {
   "cell_type": "code",
   "execution_count": null,
   "id": "e446f8a3",
   "metadata": {},
   "outputs": [],
   "source": []
  },
  {
   "cell_type": "code",
   "execution_count": null,
   "id": "a56782a1",
   "metadata": {},
   "outputs": [],
   "source": []
  },
  {
   "cell_type": "code",
   "execution_count": null,
   "id": "3e18affa",
   "metadata": {},
   "outputs": [],
   "source": []
  },
  {
   "cell_type": "code",
   "execution_count": null,
   "id": "bd6e4bce",
   "metadata": {},
   "outputs": [],
   "source": []
  },
  {
   "cell_type": "code",
   "execution_count": null,
   "id": "4ff400a6",
   "metadata": {},
   "outputs": [],
   "source": []
  },
  {
   "cell_type": "code",
   "execution_count": null,
   "id": "13c4fe9f",
   "metadata": {},
   "outputs": [],
   "source": []
  },
  {
   "cell_type": "code",
   "execution_count": null,
   "id": "dbc72c25",
   "metadata": {},
   "outputs": [],
   "source": []
  },
  {
   "cell_type": "code",
   "execution_count": null,
   "id": "ce0f97e7",
   "metadata": {},
   "outputs": [],
   "source": []
  },
  {
   "cell_type": "code",
   "execution_count": null,
   "id": "7c78dcda",
   "metadata": {},
   "outputs": [],
   "source": []
  },
  {
   "cell_type": "code",
   "execution_count": null,
   "id": "5456a4c0",
   "metadata": {},
   "outputs": [],
   "source": []
  },
  {
   "cell_type": "code",
   "execution_count": null,
   "id": "24d04b88",
   "metadata": {},
   "outputs": [],
   "source": []
  },
  {
   "cell_type": "code",
   "execution_count": null,
   "id": "6ae26889",
   "metadata": {},
   "outputs": [],
   "source": []
  },
  {
   "cell_type": "code",
   "execution_count": null,
   "id": "7f042406",
   "metadata": {},
   "outputs": [],
   "source": []
  },
  {
   "cell_type": "code",
   "execution_count": null,
   "id": "db280919",
   "metadata": {},
   "outputs": [],
   "source": []
  },
  {
   "cell_type": "code",
   "execution_count": null,
   "id": "1e2d3086",
   "metadata": {},
   "outputs": [],
   "source": []
  },
  {
   "cell_type": "code",
   "execution_count": null,
   "id": "c57ca23e",
   "metadata": {},
   "outputs": [],
   "source": []
  },
  {
   "cell_type": "code",
   "execution_count": null,
   "id": "65a33b7c",
   "metadata": {},
   "outputs": [],
   "source": []
  },
  {
   "cell_type": "code",
   "execution_count": null,
   "id": "21b7afa8",
   "metadata": {},
   "outputs": [],
   "source": []
  },
  {
   "cell_type": "code",
   "execution_count": null,
   "id": "1f1de72f",
   "metadata": {},
   "outputs": [],
   "source": []
  },
  {
   "cell_type": "code",
   "execution_count": null,
   "id": "58038ecc",
   "metadata": {},
   "outputs": [],
   "source": []
  },
  {
   "cell_type": "code",
   "execution_count": null,
   "id": "33020d5f",
   "metadata": {},
   "outputs": [],
   "source": []
  },
  {
   "cell_type": "code",
   "execution_count": null,
   "id": "51ecd692",
   "metadata": {},
   "outputs": [],
   "source": []
  },
  {
   "cell_type": "code",
   "execution_count": null,
   "id": "723e0c07",
   "metadata": {},
   "outputs": [],
   "source": []
  },
  {
   "cell_type": "code",
   "execution_count": null,
   "id": "3ae2e9c1",
   "metadata": {},
   "outputs": [],
   "source": []
  },
  {
   "cell_type": "code",
   "execution_count": null,
   "id": "e8f88a1c",
   "metadata": {},
   "outputs": [],
   "source": []
  },
  {
   "cell_type": "code",
   "execution_count": null,
   "id": "24d06868",
   "metadata": {},
   "outputs": [],
   "source": []
  },
  {
   "cell_type": "code",
   "execution_count": null,
   "id": "609e376b",
   "metadata": {},
   "outputs": [],
   "source": []
  },
  {
   "cell_type": "code",
   "execution_count": null,
   "id": "f10fc6d9",
   "metadata": {},
   "outputs": [],
   "source": []
  },
  {
   "cell_type": "code",
   "execution_count": null,
   "id": "1962a718",
   "metadata": {},
   "outputs": [],
   "source": []
  },
  {
   "cell_type": "code",
   "execution_count": null,
   "id": "5058b50f",
   "metadata": {},
   "outputs": [],
   "source": []
  },
  {
   "cell_type": "code",
   "execution_count": null,
   "id": "792a131f",
   "metadata": {},
   "outputs": [],
   "source": []
  },
  {
   "cell_type": "code",
   "execution_count": null,
   "id": "1ffc1df8",
   "metadata": {},
   "outputs": [],
   "source": []
  },
  {
   "cell_type": "code",
   "execution_count": null,
   "id": "9fa31984",
   "metadata": {},
   "outputs": [],
   "source": []
  },
  {
   "cell_type": "code",
   "execution_count": null,
   "id": "790f9b44",
   "metadata": {},
   "outputs": [],
   "source": []
  },
  {
   "cell_type": "code",
   "execution_count": null,
   "id": "57464493",
   "metadata": {},
   "outputs": [],
   "source": []
  },
  {
   "cell_type": "code",
   "execution_count": null,
   "id": "e2bf032e",
   "metadata": {},
   "outputs": [],
   "source": []
  },
  {
   "cell_type": "code",
   "execution_count": null,
   "id": "61bd1307",
   "metadata": {},
   "outputs": [],
   "source": []
  },
  {
   "cell_type": "code",
   "execution_count": null,
   "id": "ae752fd3",
   "metadata": {},
   "outputs": [],
   "source": []
  },
  {
   "cell_type": "code",
   "execution_count": null,
   "id": "9e0cac7f",
   "metadata": {},
   "outputs": [],
   "source": []
  }
 ],
 "metadata": {
  "kernelspec": {
   "display_name": "Python 3 (ipykernel)",
   "language": "python",
   "name": "python3"
  },
  "language_info": {
   "codemirror_mode": {
    "name": "ipython",
    "version": 3
   },
   "file_extension": ".py",
   "mimetype": "text/x-python",
   "name": "python",
   "nbconvert_exporter": "python",
   "pygments_lexer": "ipython3",
   "version": "3.9.7"
  }
 },
 "nbformat": 4,
 "nbformat_minor": 5
}
