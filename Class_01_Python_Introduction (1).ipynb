{
 "cells": [
  {
   "cell_type": "code",
   "execution_count": null,
   "id": "c90ab879",
   "metadata": {},
   "outputs": [],
   "source": [
    "# Python Introduction"
   ]
  },
  {
   "cell_type": "code",
   "execution_count": null,
   "id": "252613e5",
   "metadata": {},
   "outputs": [],
   "source": [
    "Beginner Friendly\n",
    "Used in Industry in Data Science\n",
    "Libraries\n",
    "Portable and Platform Independent\n",
    "Larger Community\n",
    "Python is easy to learn and Understand\n",
    "No of line can be drastically decreased \n",
    "Easy to debug and Less error prone\n",
    "Dynamically typed PL\n",
    "Interpreted\n",
    "Automatic memory management\n",
    "Free & Open Source\n",
    "Multi Paradigm\n",
    "    1. Functional\n",
    "    2. Modular\n",
    "    3. Object Oriented\n",
    "    4. Scripting\n",
    "    \n"
   ]
  },
  {
   "cell_type": "code",
   "execution_count": null,
   "id": "e5822bab",
   "metadata": {},
   "outputs": [],
   "source": [
    "# Sample code to add two numbers in Java\n",
    "class Main {\n",
    "\n",
    "  public static void main(String[] args) {\n",
    "    \n",
    "    System.out.println(\"Enter two numbers\");\n",
    "    int first = 10;\n",
    "    int second = 20;\n",
    "    \n",
    "    System.out.println(first + \" \" + second);\n",
    "\n",
    "    // add two numbers\n",
    "    int sum = first + second;\n",
    "    System.out.println(\"The sum is: \" + sum);\n",
    "  }\n",
    "}"
   ]
  },
  {
   "cell_type": "code",
   "execution_count": null,
   "id": "b7c3457b",
   "metadata": {},
   "outputs": [],
   "source": [
    "# Sample code to add two numbers in C\n",
    "#include <stdio.h>\n",
    "int main() {    \n",
    "\n",
    "    int number1, number2, sum;\n",
    "    \n",
    "    printf(\"Enter two integers: \");\n",
    "    scanf(\"%d %d\", &number1, &number2);\n",
    "\n",
    "    // calculating sum\n",
    "    sum = number1 + number2;      \n",
    "    \n",
    "    printf(\"%d + %d = %d\", number1, number2, sum);\n",
    "    return 0;\n",
    "}\n"
   ]
  },
  {
   "cell_type": "code",
   "execution_count": 1,
   "id": "bcd6c54c",
   "metadata": {
    "ExecuteTime": {
     "end_time": "2022-01-06T14:18:56.486881Z",
     "start_time": "2022-01-06T14:18:56.473844Z"
    }
   },
   "outputs": [
    {
     "name": "stdout",
     "output_type": "stream",
     "text": [
      "30\n"
     ]
    }
   ],
   "source": [
    "# Sample code to add two numbers in Python\n",
    "\n",
    "a = 10\n",
    "b = 20\n",
    "c = a+b\n",
    "print(c)"
   ]
  },
  {
   "cell_type": "code",
   "execution_count": 3,
   "id": "1cc4ae52",
   "metadata": {
    "ExecuteTime": {
     "end_time": "2022-01-06T14:20:21.852559Z",
     "start_time": "2022-01-06T14:20:21.830078Z"
    }
   },
   "outputs": [
    {
     "data": {
      "text/plain": [
       "30"
      ]
     },
     "execution_count": 3,
     "metadata": {},
     "output_type": "execute_result"
    }
   ],
   "source": [
    "(10)+(20)"
   ]
  },
  {
   "cell_type": "code",
   "execution_count": 4,
   "id": "d3519cc8",
   "metadata": {
    "ExecuteTime": {
     "end_time": "2022-01-06T14:23:27.518193Z",
     "start_time": "2022-01-06T14:23:27.500274Z"
    }
   },
   "outputs": [
    {
     "name": "stdout",
     "output_type": "stream",
     "text": [
      "The Zen of Python, by Tim Peters\n",
      "\n",
      "Beautiful is better than ugly.\n",
      "Explicit is better than implicit.\n",
      "Simple is better than complex.\n",
      "Complex is better than complicated.\n",
      "Flat is better than nested.\n",
      "Sparse is better than dense.\n",
      "Readability counts.\n",
      "Special cases aren't special enough to break the rules.\n",
      "Although practicality beats purity.\n",
      "Errors should never pass silently.\n",
      "Unless explicitly silenced.\n",
      "In the face of ambiguity, refuse the temptation to guess.\n",
      "There should be one-- and preferably only one --obvious way to do it.\n",
      "Although that way may not be obvious at first unless you're Dutch.\n",
      "Now is better than never.\n",
      "Although never is often better than *right* now.\n",
      "If the implementation is hard to explain, it's a bad idea.\n",
      "If the implementation is easy to explain, it may be a good idea.\n",
      "Namespaces are one honking great idea -- let's do more of those!\n",
      "Help on module this:\n",
      "\n",
      "NAME\n",
      "    this\n",
      "\n",
      "MODULE REFERENCE\n",
      "    https://docs.python.org/3.8/library/this\n",
      "    \n",
      "    The following documentation is automatically generated from the Python\n",
      "    source files.  It may be incomplete, incorrect or include features that\n",
      "    are considered implementation detail and may vary between Python\n",
      "    implementations.  When in doubt, consult the module reference at the\n",
      "    location listed above.\n",
      "\n",
      "DATA\n",
      "    c = 97\n",
      "    d = {'A': 'N', 'B': 'O', 'C': 'P', 'D': 'Q', 'E': 'R', 'F': 'S', 'G': ...\n",
      "    i = 25\n",
      "    s = \"Gur Mra bs Clguba, ol Gvz Crgref\\n\\nOrnhgvshy vf o...bar ubaxvat ...\n",
      "\n",
      "FILE\n",
      "    /Library/Frameworks/Python.framework/Versions/3.8/lib/python3.8/this.py\n",
      "\n",
      "\n"
     ]
    }
   ],
   "source": [
    "import this\n",
    "help(this)"
   ]
  },
  {
   "cell_type": "code",
   "execution_count": 5,
   "id": "771aef86",
   "metadata": {
    "ExecuteTime": {
     "end_time": "2022-01-06T14:23:56.829377Z",
     "start_time": "2022-01-06T14:23:56.810978Z"
    }
   },
   "outputs": [
    {
     "name": "stdout",
     "output_type": "stream",
     "text": [
      "['ArithmeticError', 'AssertionError', 'AttributeError', 'BaseException', 'BlockingIOError', 'BrokenPipeError', 'BufferError', 'BytesWarning', 'ChildProcessError', 'ConnectionAbortedError', 'ConnectionError', 'ConnectionRefusedError', 'ConnectionResetError', 'DeprecationWarning', 'EOFError', 'Ellipsis', 'EnvironmentError', 'Exception', 'False', 'FileExistsError', 'FileNotFoundError', 'FloatingPointError', 'FutureWarning', 'GeneratorExit', 'IOError', 'ImportError', 'ImportWarning', 'IndentationError', 'IndexError', 'InterruptedError', 'IsADirectoryError', 'KeyError', 'KeyboardInterrupt', 'LookupError', 'MemoryError', 'ModuleNotFoundError', 'NameError', 'None', 'NotADirectoryError', 'NotImplemented', 'NotImplementedError', 'OSError', 'OverflowError', 'PendingDeprecationWarning', 'PermissionError', 'ProcessLookupError', 'RecursionError', 'ReferenceError', 'ResourceWarning', 'RuntimeError', 'RuntimeWarning', 'StopAsyncIteration', 'StopIteration', 'SyntaxError', 'SyntaxWarning', 'SystemError', 'SystemExit', 'TabError', 'TimeoutError', 'True', 'TypeError', 'UnboundLocalError', 'UnicodeDecodeError', 'UnicodeEncodeError', 'UnicodeError', 'UnicodeTranslateError', 'UnicodeWarning', 'UserWarning', 'ValueError', 'Warning', 'ZeroDivisionError', '__IPYTHON__', '__build_class__', '__debug__', '__doc__', '__import__', '__loader__', '__name__', '__package__', '__spec__', 'abs', 'all', 'any', 'ascii', 'bin', 'bool', 'breakpoint', 'bytearray', 'bytes', 'callable', 'chr', 'classmethod', 'compile', 'complex', 'copyright', 'credits', 'delattr', 'dict', 'dir', 'display', 'divmod', 'enumerate', 'eval', 'exec', 'filter', 'float', 'format', 'frozenset', 'get_ipython', 'getattr', 'globals', 'hasattr', 'hash', 'help', 'hex', 'id', 'input', 'int', 'isinstance', 'issubclass', 'iter', 'len', 'license', 'list', 'locals', 'map', 'max', 'memoryview', 'min', 'next', 'object', 'oct', 'open', 'ord', 'pow', 'print', 'property', 'range', 'repr', 'reversed', 'round', 'set', 'setattr', 'slice', 'sorted', 'staticmethod', 'str', 'sum', 'super', 'tuple', 'type', 'vars', 'zip']\n"
     ]
    }
   ],
   "source": [
    "print(dir(__builtins__))"
   ]
  },
  {
   "cell_type": "code",
   "execution_count": 7,
   "id": "000e25a5",
   "metadata": {
    "ExecuteTime": {
     "end_time": "2022-01-06T14:32:22.374953Z",
     "start_time": "2022-01-06T14:32:06.829184Z"
    }
   },
   "outputs": [
    {
     "name": "stdout",
     "output_type": "stream",
     "text": [
      "\n",
      "Please wait a moment while I gather a list of all available modules...\n",
      "\n"
     ]
    },
    {
     "name": "stderr",
     "output_type": "stream",
     "text": [
      "/Library/Frameworks/Python.framework/Versions/3.8/lib/python3.8/site-packages/IPython/kernel/__init__.py:12: ShimWarning: The `IPython.kernel` package has been deprecated since IPython 4.0.You should import from ipykernel or jupyter_client instead.\n",
      "  warn(\"The `IPython.kernel` package has been deprecated since IPython 4.0.\"\n",
      "/Library/Frameworks/Python.framework/Versions/3.8/lib/python3.8/pkgutil.py:92: MatplotlibDeprecationWarning: \n",
      "The matplotlib.compat module was deprecated in Matplotlib 3.3 and will be removed two minor releases later.\n",
      "  __import__(info.name)\n"
     ]
    },
    {
     "name": "stdout",
     "output_type": "stream",
     "text": [
      "IPython             antigravity         importlib           retrying\n",
      "PIL                 appnope             inspect             rlcompleter\n",
      "__future__          argparse            io                  rmagic\n",
      "_abc                array               ipaddress           runpy\n",
      "_ast                ast                 ipykernel           sched\n",
      "_asyncio            asynchat            ipykernel_launcher  scipy\n",
      "_bisect             asyncio             ipython_genutils    seaborn\n",
      "_blake2             asyncore            itertools           secrets\n",
      "_bootlocale         atexit              jdcal               select\n",
      "_bz2                attr                jedi                selectors\n",
      "_codecs             audioop             json                setuptools\n",
      "_codecs_cn          autoreload          jsonschema          shelve\n",
      "_codecs_hk          backcall            jupyter             shlex\n",
      "_codecs_iso2022     base64              jupyter_client      shutil\n",
      "_codecs_jp          bdb                 jupyter_core        signal\n",
      "_codecs_kr          binascii            keyword             site\n",
      "_codecs_tw          binhex              kiwisolver          six\n",
      "_collections        bisect              lib2to3             skimage\n",
      "_collections_abc    bs4                 linecache           smtpd\n",
      "_compat_pickle      builtins            locale              smtplib\n",
      "_compression        bz2                 logging             sndhdr\n",
      "_contextvars        cProfile            lzma                socket\n",
      "_crypt              calendar            mailbox             socketserver\n",
      "_csv                certifi             mailcap             soupsieve\n",
      "_ctypes             cgi                 marshal             sqlite3\n",
      "_ctypes_test        cgitb               math                sre_compile\n",
      "_curses             chardet             matplotlib          sre_constants\n",
      "_curses_panel       chart_studio        mimetypes           sre_parse\n",
      "_datetime           chunk               mmap                ssl\n",
      "_dbm                cmath               modulefinder        stat\n",
      "_decimal            cmd                 mplcursors          statistics\n",
      "_dummy_thread       code                multiprocessing     storemagic\n",
      "_elementtree        codecs              nbformat            string\n",
      "_functools          codeop              netrc               stringprep\n",
      "_hashlib            collections         networkx            struct\n",
      "_heapq              colorsys            nis                 subprocess\n",
      "_imp                compileall          nntplib             sunau\n",
      "_io                 concurrent          ntpath              symbol\n",
      "_json               configparser        nturl2path          sympyprinting\n",
      "_locale             contextlib          numbers             symtable\n",
      "_lsprof             contextvars         numpy               sys\n",
      "_lzma               copy                opcode              sysconfig\n",
      "_markupbase         copyreg             openpyxl            syslog\n",
      "_md5                crypt               operator            tabnanny\n",
      "_multibytecodec     csv                 optparse            tarfile\n",
      "_multiprocessing    ctypes              os                  telnetlib\n",
      "_opcode             curses              pandas              tempfile\n",
      "_operator           cycler              pandoc              termios\n",
      "_osx_support        cythonmagic         parser              test\n",
      "_pickle             dataclasses         parso               tests\n",
      "_plotly_future_     datetime            pathlib             textwrap\n",
      "_plotly_utils       dateutil            pdb                 this\n",
      "_posixshmem         dbm                 pexpect             threading\n",
      "_posixsubprocess    decimal             pickle              tifffile\n",
      "_py_abc             decorator           pickleshare         time\n",
      "_pydecimal          difflib             pickletools         timeit\n",
      "_pyio               dis                 pip                 tkinter\n",
      "_pyrsistent_version distutils           pipes               token\n",
      "_queue              doctest             pkg_resources       tokenize\n",
      "_random             dummy_threading     pkgutil             tornado\n",
      "_scproxy            easy_install        platform            trace\n",
      "_sha1               email               plistlib            traceback\n",
      "_sha256             encodings           plotly              tracemalloc\n",
      "_sha3               ensurepip           plotlywidget        traitlets\n",
      "_sha512             enum                ply                 tty\n",
      "_signal             errno               poplib              turtle\n",
      "_sitebuiltins       et_xmlfile          posix               turtledemo\n",
      "_socket             faulthandler        posixpath           types\n",
      "_sqlite3            fcntl               pprint              typing\n",
      "_sre                filecmp             profile             unicodedata\n",
      "_ssl                fileinput           prompt_toolkit      unittest\n",
      "_stat               fnmatch             pstats              urllib\n",
      "_statistics         formatter           pty                 urllib3\n",
      "_string             fractions           ptyprocess          uu\n",
      "_strptime           ftplib              pvectorc            uuid\n",
      "_struct             functools           pwd                 venv\n",
      "_symtable           gc                  py_compile          warnings\n",
      "_sysconfigdata__darwin_darwin genericpath         pyclbr              wave\n",
      "_testbuffer         getopt              pydoc               wcwidth\n",
      "_testcapi           getpass             pydoc_data          weakref\n",
      "_testimportmultiple gettext             pyexpat             webbrowser\n",
      "_testinternalcapi   glob                pygments            wsgiref\n",
      "_testmultiphase     grp                 pylab               xdrlib\n",
      "_thread             gzip                pyparsing           xlrd\n",
      "_threading_local    hashlib             pyrsistent          xml\n",
      "_tkinter            heapq               pytz                xmlrpc\n",
      "_tracemalloc        hmac                pywt                xxlimited\n",
      "_uuid               html                queue               xxsubtype\n",
      "_warnings           http                quopri              zipapp\n",
      "_weakref            idlelib             random              zipfile\n",
      "_weakrefset         idna                re                  zipimport\n",
      "_xxsubinterpreters  imageio             readline            zlib\n",
      "_xxtestfuzz         imaplib             reprlib             zmq\n",
      "abc                 imghdr              requests            \n",
      "aifc                imp                 resource            \n",
      "\n",
      "Enter any module name to get more help.  Or, type \"modules spam\" to search\n",
      "for modules whose name or summary contain the string \"spam\".\n",
      "\n"
     ]
    },
    {
     "name": "stderr",
     "output_type": "stream",
     "text": [
      "/Library/Frameworks/Python.framework/Versions/3.8/lib/python3.8/pkgutil.py:92: UserWarning:\n",
      "\n",
      "Viewer requires Qt\n",
      "\n",
      "/Library/Frameworks/Python.framework/Versions/3.8/lib/python3.8/pkgutil.py:107: VisibleDeprecationWarning:\n",
      "\n",
      "zmq.eventloop.minitornado is deprecated in pyzmq 14.0 and will be removed.\n",
      "    Install tornado itself to use zmq with the tornado IOLoop.\n",
      "    \n",
      "\n"
     ]
    }
   ],
   "source": [
    "help('modules')"
   ]
  },
  {
   "cell_type": "code",
   "execution_count": 8,
   "id": "e6e8869a",
   "metadata": {
    "ExecuteTime": {
     "end_time": "2022-01-06T14:34:59.721007Z",
     "start_time": "2022-01-06T14:34:59.697885Z"
    }
   },
   "outputs": [
    {
     "name": "stdout",
     "output_type": "stream",
     "text": [
      "['__add__', '__class__', '__contains__', '__delattr__', '__delitem__', '__dir__', '__doc__', '__eq__', '__format__', '__ge__', '__getattribute__', '__getitem__', '__gt__', '__hash__', '__iadd__', '__imul__', '__init__', '__init_subclass__', '__iter__', '__le__', '__len__', '__lt__', '__mul__', '__ne__', '__new__', '__reduce__', '__reduce_ex__', '__repr__', '__reversed__', '__rmul__', '__setattr__', '__setitem__', '__sizeof__', '__str__', '__subclasshook__', 'append', 'clear', 'copy', 'count', 'extend', 'index', 'insert', 'pop', 'remove', 'reverse', 'sort']\n"
     ]
    }
   ],
   "source": [
    "print(dir(list))"
   ]
  },
  {
   "cell_type": "code",
   "execution_count": 9,
   "id": "9d4618ac",
   "metadata": {
    "ExecuteTime": {
     "end_time": "2022-01-06T14:35:06.016782Z",
     "start_time": "2022-01-06T14:35:06.005392Z"
    }
   },
   "outputs": [
    {
     "name": "stdout",
     "output_type": "stream",
     "text": [
      "['__add__', '__class__', '__contains__', '__delattr__', '__dir__', '__doc__', '__eq__', '__format__', '__ge__', '__getattribute__', '__getitem__', '__getnewargs__', '__gt__', '__hash__', '__init__', '__init_subclass__', '__iter__', '__le__', '__len__', '__lt__', '__mod__', '__mul__', '__ne__', '__new__', '__reduce__', '__reduce_ex__', '__repr__', '__rmod__', '__rmul__', '__setattr__', '__sizeof__', '__str__', '__subclasshook__', 'capitalize', 'casefold', 'center', 'count', 'encode', 'endswith', 'expandtabs', 'find', 'format', 'format_map', 'index', 'isalnum', 'isalpha', 'isascii', 'isdecimal', 'isdigit', 'isidentifier', 'islower', 'isnumeric', 'isprintable', 'isspace', 'istitle', 'isupper', 'join', 'ljust', 'lower', 'lstrip', 'maketrans', 'partition', 'replace', 'rfind', 'rindex', 'rjust', 'rpartition', 'rsplit', 'rstrip', 'split', 'splitlines', 'startswith', 'strip', 'swapcase', 'title', 'translate', 'upper', 'zfill']\n"
     ]
    }
   ],
   "source": [
    "print(dir(str))"
   ]
  },
  {
   "cell_type": "code",
   "execution_count": 10,
   "id": "47683f34",
   "metadata": {
    "ExecuteTime": {
     "end_time": "2022-01-06T14:35:20.496146Z",
     "start_time": "2022-01-06T14:35:20.480724Z"
    }
   },
   "outputs": [
    {
     "name": "stdout",
     "output_type": "stream",
     "text": [
      "['ALLOW_THREADS', 'AxisError', 'BUFSIZE', 'Bytes0', 'CLIP', 'ComplexWarning', 'DataSource', 'Datetime64', 'ERR_CALL', 'ERR_DEFAULT', 'ERR_IGNORE', 'ERR_LOG', 'ERR_PRINT', 'ERR_RAISE', 'ERR_WARN', 'FLOATING_POINT_SUPPORT', 'FPE_DIVIDEBYZERO', 'FPE_INVALID', 'FPE_OVERFLOW', 'FPE_UNDERFLOW', 'False_', 'Inf', 'Infinity', 'MAXDIMS', 'MAY_SHARE_BOUNDS', 'MAY_SHARE_EXACT', 'MachAr', 'ModuleDeprecationWarning', 'NAN', 'NINF', 'NZERO', 'NaN', 'PINF', 'PZERO', 'RAISE', 'RankWarning', 'SHIFT_DIVIDEBYZERO', 'SHIFT_INVALID', 'SHIFT_OVERFLOW', 'SHIFT_UNDERFLOW', 'ScalarType', 'Str0', 'Tester', 'TooHardError', 'True_', 'UFUNC_BUFSIZE_DEFAULT', 'UFUNC_PYVALS_NAME', 'Uint64', 'VisibleDeprecationWarning', 'WRAP', '_NoValue', '_UFUNC_API', '__NUMPY_SETUP__', '__all__', '__builtins__', '__cached__', '__config__', '__deprecated_attrs__', '__dir__', '__doc__', '__expired_functions__', '__file__', '__getattr__', '__git_revision__', '__loader__', '__name__', '__package__', '__path__', '__spec__', '__version__', '_add_newdoc_ufunc', '_distributor_init', '_financial_names', '_globals', '_mat', '_pytesttester', 'abs', 'absolute', 'add', 'add_docstring', 'add_newdoc', 'add_newdoc_ufunc', 'alen', 'all', 'allclose', 'alltrue', 'amax', 'amin', 'angle', 'any', 'append', 'apply_along_axis', 'apply_over_axes', 'arange', 'arccos', 'arccosh', 'arcsin', 'arcsinh', 'arctan', 'arctan2', 'arctanh', 'argmax', 'argmin', 'argpartition', 'argsort', 'argwhere', 'around', 'array', 'array2string', 'array_equal', 'array_equiv', 'array_repr', 'array_split', 'array_str', 'asanyarray', 'asarray', 'asarray_chkfinite', 'ascontiguousarray', 'asfarray', 'asfortranarray', 'asmatrix', 'asscalar', 'atleast_1d', 'atleast_2d', 'atleast_3d', 'average', 'bartlett', 'base_repr', 'binary_repr', 'bincount', 'bitwise_and', 'bitwise_not', 'bitwise_or', 'bitwise_xor', 'blackman', 'block', 'bmat', 'bool8', 'bool_', 'broadcast', 'broadcast_arrays', 'broadcast_shapes', 'broadcast_to', 'busday_count', 'busday_offset', 'busdaycalendar', 'byte', 'byte_bounds', 'bytes0', 'bytes_', 'c_', 'can_cast', 'cast', 'cbrt', 'cdouble', 'ceil', 'cfloat', 'char', 'character', 'chararray', 'choose', 'clip', 'clongdouble', 'clongfloat', 'column_stack', 'common_type', 'compare_chararrays', 'compat', 'complex128', 'complex256', 'complex64', 'complex_', 'complexfloating', 'compress', 'concatenate', 'conj', 'conjugate', 'convolve', 'copy', 'copysign', 'copyto', 'core', 'corrcoef', 'correlate', 'cos', 'cosh', 'count_nonzero', 'cov', 'cross', 'csingle', 'ctypeslib', 'cumprod', 'cumproduct', 'cumsum', 'datetime64', 'datetime_as_string', 'datetime_data', 'deg2rad', 'degrees', 'delete', 'deprecate', 'deprecate_with_doc', 'diag', 'diag_indices', 'diag_indices_from', 'diagflat', 'diagonal', 'diff', 'digitize', 'disp', 'distutils', 'divide', 'divmod', 'doc', 'dot', 'double', 'dsplit', 'dstack', 'dtype', 'e', 'ediff1d', 'einsum', 'einsum_path', 'emath', 'empty', 'empty_like', 'equal', 'error_message', 'errstate', 'euler_gamma', 'exp', 'exp2', 'expand_dims', 'expm1', 'extract', 'eye', 'f2py', 'fabs', 'fastCopyAndTranspose', 'fft', 'fill_diagonal', 'find_common_type', 'finfo', 'fix', 'flatiter', 'flatnonzero', 'flexible', 'flip', 'fliplr', 'flipud', 'float128', 'float16', 'float32', 'float64', 'float_', 'float_power', 'floating', 'floor', 'floor_divide', 'fmax', 'fmin', 'fmod', 'format_float_positional', 'format_float_scientific', 'format_parser', 'frexp', 'frombuffer', 'fromfile', 'fromfunction', 'fromiter', 'frompyfunc', 'fromregex', 'fromstring', 'full', 'full_like', 'gcd', 'generic', 'genfromtxt', 'geomspace', 'get_array_wrap', 'get_include', 'get_printoptions', 'getbufsize', 'geterr', 'geterrcall', 'geterrobj', 'gradient', 'greater', 'greater_equal', 'half', 'hamming', 'hanning', 'heaviside', 'histogram', 'histogram2d', 'histogram_bin_edges', 'histogramdd', 'hsplit', 'hstack', 'hypot', 'i0', 'identity', 'iinfo', 'imag', 'in1d', 'index_exp', 'indices', 'inexact', 'inf', 'info', 'infty', 'inner', 'insert', 'int0', 'int16', 'int32', 'int64', 'int8', 'int_', 'intc', 'integer', 'interp', 'intersect1d', 'intp', 'invert', 'is_busday', 'isclose', 'iscomplex', 'iscomplexobj', 'isfinite', 'isfortran', 'isin', 'isinf', 'isnan', 'isnat', 'isneginf', 'isposinf', 'isreal', 'isrealobj', 'isscalar', 'issctype', 'issubclass_', 'issubdtype', 'issubsctype', 'iterable', 'ix_', 'kaiser', 'kron', 'lcm', 'ldexp', 'left_shift', 'less', 'less_equal', 'lexsort', 'lib', 'linalg', 'linspace', 'little_endian', 'load', 'loads', 'loadtxt', 'log', 'log10', 'log1p', 'log2', 'logaddexp', 'logaddexp2', 'logical_and', 'logical_not', 'logical_or', 'logical_xor', 'logspace', 'longcomplex', 'longdouble', 'longfloat', 'longlong', 'lookfor', 'ma', 'mafromtxt', 'mask_indices', 'mat', 'math', 'matmul', 'matrix', 'matrixlib', 'max', 'maximum', 'maximum_sctype', 'may_share_memory', 'mean', 'median', 'memmap', 'meshgrid', 'mgrid', 'min', 'min_scalar_type', 'minimum', 'mintypecode', 'mod', 'modf', 'moveaxis', 'msort', 'multiply', 'nan', 'nan_to_num', 'nanargmax', 'nanargmin', 'nancumprod', 'nancumsum', 'nanmax', 'nanmean', 'nanmedian', 'nanmin', 'nanpercentile', 'nanprod', 'nanquantile', 'nanstd', 'nansum', 'nanvar', 'nbytes', 'ndarray', 'ndenumerate', 'ndfromtxt', 'ndim', 'ndindex', 'nditer', 'negative', 'nested_iters', 'newaxis', 'nextafter', 'nonzero', 'not_equal', 'numarray', 'number', 'obj2sctype', 'object0', 'object_', 'ogrid', 'oldnumeric', 'ones', 'ones_like', 'os', 'outer', 'packbits', 'pad', 'partition', 'percentile', 'pi', 'piecewise', 'place', 'poly', 'poly1d', 'polyadd', 'polyder', 'polydiv', 'polyfit', 'polyint', 'polymul', 'polynomial', 'polysub', 'polyval', 'positive', 'power', 'printoptions', 'prod', 'product', 'promote_types', 'ptp', 'put', 'put_along_axis', 'putmask', 'quantile', 'r_', 'rad2deg', 'radians', 'random', 'ravel', 'ravel_multi_index', 'real', 'real_if_close', 'rec', 'recarray', 'recfromcsv', 'recfromtxt', 'reciprocal', 'record', 'remainder', 'repeat', 'require', 'reshape', 'resize', 'result_type', 'right_shift', 'rint', 'roll', 'rollaxis', 'roots', 'rot90', 'round', 'round_', 'row_stack', 's_', 'safe_eval', 'save', 'savetxt', 'savez', 'savez_compressed', 'sctype2char', 'sctypeDict', 'sctypes', 'searchsorted', 'select', 'set_numeric_ops', 'set_printoptions', 'set_string_function', 'setbufsize', 'setdiff1d', 'seterr', 'seterrcall', 'seterrobj', 'setxor1d', 'shape', 'shares_memory', 'short', 'show_config', 'sign', 'signbit', 'signedinteger', 'sin', 'sinc', 'single', 'singlecomplex', 'sinh', 'size', 'sometrue', 'sort', 'sort_complex', 'source', 'spacing', 'split', 'sqrt', 'square', 'squeeze', 'stack', 'std', 'str0', 'str_', 'string_', 'subtract', 'sum', 'swapaxes', 'sys', 'take', 'take_along_axis', 'tan', 'tanh', 'tensordot', 'test', 'testing', 'tests', 'tile', 'timedelta64', 'trace', 'tracemalloc_domain', 'transpose', 'trapz', 'tri', 'tril', 'tril_indices', 'tril_indices_from', 'trim_zeros', 'triu', 'triu_indices', 'triu_indices_from', 'true_divide', 'trunc', 'typeDict', 'typecodes', 'typename', 'typing', 'ubyte', 'ufunc', 'uint', 'uint0', 'uint16', 'uint32', 'uint64', 'uint8', 'uintc', 'uintp', 'ulonglong', 'unicode_', 'union1d', 'unique', 'unpackbits', 'unravel_index', 'unsignedinteger', 'unwrap', 'use_hugepage', 'ushort', 'vander', 'var', 'vdot', 'vectorize', 'version', 'void', 'void0', 'vsplit', 'vstack', 'w', 'warnings', 'where', 'who', 'zeros', 'zeros_like']\n"
     ]
    }
   ],
   "source": [
    "import numpy\n",
    "print(dir(numpy))"
   ]
  },
  {
   "cell_type": "code",
   "execution_count": 11,
   "id": "bfd0c82d",
   "metadata": {
    "ExecuteTime": {
     "end_time": "2022-01-06T14:35:38.952232Z",
     "start_time": "2022-01-06T14:35:38.942553Z"
    }
   },
   "outputs": [
    {
     "name": "stdout",
     "output_type": "stream",
     "text": [
      "['BooleanDtype', 'Categorical', 'CategoricalDtype', 'CategoricalIndex', 'DataFrame', 'DateOffset', 'DatetimeIndex', 'DatetimeTZDtype', 'ExcelFile', 'ExcelWriter', 'Flags', 'Float32Dtype', 'Float64Dtype', 'Float64Index', 'Grouper', 'HDFStore', 'Index', 'IndexSlice', 'Int16Dtype', 'Int32Dtype', 'Int64Dtype', 'Int64Index', 'Int8Dtype', 'Interval', 'IntervalDtype', 'IntervalIndex', 'MultiIndex', 'NA', 'NaT', 'NamedAgg', 'Period', 'PeriodDtype', 'PeriodIndex', 'RangeIndex', 'Series', 'SparseDtype', 'StringDtype', 'Timedelta', 'TimedeltaIndex', 'Timestamp', 'UInt16Dtype', 'UInt32Dtype', 'UInt64Dtype', 'UInt64Index', 'UInt8Dtype', '__builtins__', '__cached__', '__doc__', '__docformat__', '__file__', '__getattr__', '__git_version__', '__loader__', '__name__', '__package__', '__path__', '__spec__', '__version__', '_config', '_hashtable', '_is_numpy_dev', '_lib', '_libs', '_np_version_under1p17', '_np_version_under1p18', '_testing', '_tslib', '_typing', '_version', 'api', 'array', 'arrays', 'bdate_range', 'compat', 'concat', 'core', 'crosstab', 'cut', 'date_range', 'describe_option', 'errors', 'eval', 'factorize', 'get_dummies', 'get_option', 'infer_freq', 'interval_range', 'io', 'isna', 'isnull', 'json_normalize', 'lreshape', 'melt', 'merge', 'merge_asof', 'merge_ordered', 'notna', 'notnull', 'offsets', 'option_context', 'options', 'pandas', 'period_range', 'pivot', 'pivot_table', 'plotting', 'qcut', 'read_clipboard', 'read_csv', 'read_excel', 'read_feather', 'read_fwf', 'read_gbq', 'read_hdf', 'read_html', 'read_json', 'read_orc', 'read_parquet', 'read_pickle', 'read_sas', 'read_spss', 'read_sql', 'read_sql_query', 'read_sql_table', 'read_stata', 'read_table', 'reset_option', 'set_eng_float_format', 'set_option', 'show_versions', 'test', 'testing', 'tests', 'timedelta_range', 'to_datetime', 'to_numeric', 'to_pickle', 'to_timedelta', 'tseries', 'unique', 'util', 'value_counts', 'wide_to_long']\n"
     ]
    }
   ],
   "source": [
    "import pandas\n",
    "print(dir(pandas))"
   ]
  },
  {
   "cell_type": "code",
   "execution_count": 12,
   "id": "d8e3fc6b",
   "metadata": {
    "ExecuteTime": {
     "end_time": "2022-01-06T14:40:50.669807Z",
     "start_time": "2022-01-06T14:40:50.662559Z"
    }
   },
   "outputs": [],
   "source": [
    "# Source code - Code which we write\n",
    "# Intermediate code \n",
    "    1. Executable code - .exe file - C\n",
    "    2. Object code - .javac - Java\n",
    "    3. Byte code - .pyc - Python\n",
    "# MAchine code - Binary code"
   ]
  },
  {
   "cell_type": "code",
   "execution_count": null,
   "id": "82b250bb",
   "metadata": {},
   "outputs": [],
   "source": [
    "a = 10\n",
    "\n",
    "\n",
    "Binary code - 10"
   ]
  },
  {
   "cell_type": "code",
   "execution_count": null,
   "id": "bb35d13b",
   "metadata": {},
   "outputs": [],
   "source": [
    "# Tranlator\n",
    "# HL - User can unxerstand -> Low Level (System can understand)\n",
    "\n",
    "\n",
    "    1. Compiler - \n",
    "        1. Takes whole code at once - INtermediate code\n",
    "        2. It generates intermedia te code\n",
    "        3. If some error comes in the middle \\of the code, compilation will not happen\n",
    "    2. Interpreter - \n",
    "        1. Takes one instructoiona at a time and executes  and so on\n",
    "        2. It does not generates intermedia te code\n",
    "        3. If some error comes in the middle of the code, Interpreteation will stop there\n",
    "        \n",
    "        \n",
    "Note:-\n",
    "    1. If there is no Compile time Error in Source code then Byte code will be created\n",
    "    2. If there is any Compile time error in Source code then Byte code will not be created\n",
    "    3. If there is any Run time error in Source code then Byte code will be created but the code ill be executed partially"
   ]
  },
  {
   "cell_type": "code",
   "execution_count": null,
   "id": "175c09f9",
   "metadata": {},
   "outputs": [],
   "source": [
    "# Type of Errors\n",
    "    1. Compile Time Error - Syntax, Indentation Error - Compiler\n",
    "    2. Run time error - NameError, TypeError, valueError, ZeroDivisionError etc - Interpreter"
   ]
  },
  {
   "cell_type": "code",
   "execution_count": null,
   "id": "bc53439b",
   "metadata": {},
   "outputs": [],
   "source": [
    "# Syntax - Grammar\n",
    "# Keywords - \n",
    "# Logiv Building"
   ]
  },
  {
   "cell_type": "code",
   "execution_count": 22,
   "id": "d9063e27",
   "metadata": {
    "ExecuteTime": {
     "end_time": "2022-01-06T15:29:30.159494Z",
     "start_time": "2022-01-06T15:29:30.142523Z"
    }
   },
   "outputs": [
    {
     "ename": "SyntaxError",
     "evalue": "invalid syntax (<ipython-input-22-14b00901be52>, line 6)",
     "output_type": "error",
     "traceback": [
      "\u001b[0;36m  File \u001b[0;32m\"<ipython-input-22-14b00901be52>\"\u001b[0;36m, line \u001b[0;32m6\u001b[0m\n\u001b[0;31m    if a<b\u001b[0m\n\u001b[0m          ^\u001b[0m\n\u001b[0;31mSyntaxError\u001b[0m\u001b[0;31m:\u001b[0m invalid syntax\n"
     ]
    }
   ],
   "source": [
    "# SynatxError\n",
    "a = 10\n",
    "b = 20\n",
    "c = a+b\n",
    "print(c)\n",
    "if a<b\n",
    "    print(a+b)"
   ]
  },
  {
   "cell_type": "code",
   "execution_count": 27,
   "id": "0f65f727",
   "metadata": {
    "ExecuteTime": {
     "end_time": "2022-01-06T15:34:24.775615Z",
     "start_time": "2022-01-06T15:34:24.762873Z"
    }
   },
   "outputs": [
    {
     "name": "stdout",
     "output_type": "stream",
     "text": [
      "30\n",
      "30\n",
      "-10\n"
     ]
    }
   ],
   "source": [
    "# Indentation Error\n",
    "a = 10\n",
    "b = 20\n",
    "c = a+b\n",
    "print(c)\n",
    "if a<b: \n",
    "    print(a+b)\n",
    "    print(a-b)"
   ]
  },
  {
   "cell_type": "code",
   "execution_count": 30,
   "id": "bd678f55",
   "metadata": {
    "ExecuteTime": {
     "end_time": "2022-01-06T15:35:43.493862Z",
     "start_time": "2022-01-06T15:35:43.460045Z"
    }
   },
   "outputs": [
    {
     "name": "stdout",
     "output_type": "stream",
     "text": [
      "30\n"
     ]
    },
    {
     "ename": "NameError",
     "evalue": "name 'd' is not defined",
     "output_type": "error",
     "traceback": [
      "\u001b[0;31m---------------------------------------------------------------------------\u001b[0m",
      "\u001b[0;31mNameError\u001b[0m                                 Traceback (most recent call last)",
      "\u001b[0;32m<ipython-input-30-dc7098fd1c61>\u001b[0m in \u001b[0;36m<module>\u001b[0;34m\u001b[0m\n\u001b[1;32m      4\u001b[0m \u001b[0mc\u001b[0m \u001b[0;34m=\u001b[0m \u001b[0ma\u001b[0m\u001b[0;34m+\u001b[0m\u001b[0mb\u001b[0m\u001b[0;34m\u001b[0m\u001b[0;34m\u001b[0m\u001b[0m\n\u001b[1;32m      5\u001b[0m \u001b[0mprint\u001b[0m\u001b[0;34m(\u001b[0m\u001b[0mc\u001b[0m\u001b[0;34m)\u001b[0m\u001b[0;34m\u001b[0m\u001b[0;34m\u001b[0m\u001b[0m\n\u001b[0;32m----> 6\u001b[0;31m \u001b[0mprint\u001b[0m\u001b[0;34m(\u001b[0m\u001b[0md\u001b[0m\u001b[0;34m)\u001b[0m\u001b[0;34m\u001b[0m\u001b[0;34m\u001b[0m\u001b[0m\n\u001b[0m\u001b[1;32m      7\u001b[0m \u001b[0mprint\u001b[0m\u001b[0;34m(\u001b[0m\u001b[0ma\u001b[0m\u001b[0;34m)\u001b[0m\u001b[0;34m\u001b[0m\u001b[0;34m\u001b[0m\u001b[0m\n\u001b[1;32m      8\u001b[0m \u001b[0mprint\u001b[0m\u001b[0;34m(\u001b[0m\u001b[0mb\u001b[0m\u001b[0;34m)\u001b[0m\u001b[0;34m\u001b[0m\u001b[0;34m\u001b[0m\u001b[0m\n",
      "\u001b[0;31mNameError\u001b[0m: name 'd' is not defined"
     ]
    }
   ],
   "source": [
    "# Run time Error - NameError, TypeError, valueError, ZeroDivisionError etc - Interpreter\n",
    "a = 10\n",
    "b = 20\n",
    "c = a+b\n",
    "print(c)\n",
    "print(d) \n",
    "print(a)\n",
    "print(b)\n",
    "    "
   ]
  },
  {
   "cell_type": "code",
   "execution_count": null,
   "id": "a0fc3dc0",
   "metadata": {},
   "outputs": [],
   "source": [
    "# Statically Typed - C, C++, Java Data Type has to be specified\n",
    "# Dynamically Typed - Python"
   ]
  },
  {
   "cell_type": "code",
   "execution_count": 31,
   "id": "fd1a5a1e",
   "metadata": {
    "ExecuteTime": {
     "end_time": "2022-01-06T15:43:13.918631Z",
     "start_time": "2022-01-06T15:43:13.911331Z"
    }
   },
   "outputs": [
    {
     "name": "stdout",
     "output_type": "stream",
     "text": [
      "10 <class 'int'>\n",
      "10.20 <class 'str'>\n"
     ]
    }
   ],
   "source": [
    "a = 10\n",
    "print(a, type(a))\n",
    "a = '10.20'\n",
    "print(a, type(a))"
   ]
  },
  {
   "cell_type": "code",
   "execution_count": null,
   "id": "26fb1a43",
   "metadata": {},
   "outputs": [],
   "source": [
    "vim f1.py\n",
    "python -m dis f1.py"
   ]
  },
  {
   "cell_type": "code",
   "execution_count": 33,
   "id": "f4433043",
   "metadata": {
    "ExecuteTime": {
     "end_time": "2022-01-06T15:47:17.994319Z",
     "start_time": "2022-01-06T15:47:17.987127Z"
    }
   },
   "outputs": [
    {
     "name": "stdout",
     "output_type": "stream",
     "text": [
      "4515392128\n",
      "4515392128\n"
     ]
    }
   ],
   "source": [
    "a = 256\n",
    "b = 256\n",
    "print(id(a))\n",
    "print(id(b))"
   ]
  },
  {
   "cell_type": "code",
   "execution_count": null,
   "id": "11812e39",
   "metadata": {},
   "outputs": [],
   "source": []
  },
  {
   "cell_type": "code",
   "execution_count": null,
   "id": "c077d287",
   "metadata": {},
   "outputs": [],
   "source": []
  },
  {
   "cell_type": "code",
   "execution_count": null,
   "id": "5705f69f",
   "metadata": {},
   "outputs": [],
   "source": []
  },
  {
   "cell_type": "code",
   "execution_count": null,
   "id": "726d224f",
   "metadata": {},
   "outputs": [],
   "source": []
  },
  {
   "cell_type": "code",
   "execution_count": null,
   "id": "bb63d9ef",
   "metadata": {},
   "outputs": [],
   "source": []
  },
  {
   "cell_type": "code",
   "execution_count": null,
   "id": "29fe1c47",
   "metadata": {},
   "outputs": [],
   "source": []
  },
  {
   "cell_type": "code",
   "execution_count": null,
   "id": "579c36ba",
   "metadata": {},
   "outputs": [],
   "source": []
  },
  {
   "cell_type": "code",
   "execution_count": null,
   "id": "d66260bc",
   "metadata": {},
   "outputs": [],
   "source": []
  },
  {
   "cell_type": "code",
   "execution_count": null,
   "id": "26ed2de4",
   "metadata": {},
   "outputs": [],
   "source": []
  },
  {
   "cell_type": "code",
   "execution_count": null,
   "id": "101a7230",
   "metadata": {},
   "outputs": [],
   "source": []
  },
  {
   "cell_type": "code",
   "execution_count": null,
   "id": "cc7c96c8",
   "metadata": {},
   "outputs": [],
   "source": []
  },
  {
   "cell_type": "code",
   "execution_count": null,
   "id": "d06da06e",
   "metadata": {},
   "outputs": [],
   "source": []
  },
  {
   "cell_type": "code",
   "execution_count": null,
   "id": "21f1b078",
   "metadata": {},
   "outputs": [],
   "source": []
  },
  {
   "cell_type": "code",
   "execution_count": null,
   "id": "beb749e3",
   "metadata": {},
   "outputs": [],
   "source": []
  },
  {
   "cell_type": "code",
   "execution_count": null,
   "id": "efcf4edd",
   "metadata": {},
   "outputs": [],
   "source": []
  },
  {
   "cell_type": "code",
   "execution_count": null,
   "id": "b4659bfa",
   "metadata": {},
   "outputs": [],
   "source": []
  },
  {
   "cell_type": "code",
   "execution_count": null,
   "id": "f1d4415c",
   "metadata": {},
   "outputs": [],
   "source": []
  }
 ],
 "metadata": {
  "kernelspec": {
   "display_name": "Python 3",
   "language": "python",
   "name": "python3"
  },
  "language_info": {
   "codemirror_mode": {
    "name": "ipython",
    "version": 3
   },
   "file_extension": ".py",
   "mimetype": "text/x-python",
   "name": "python",
   "nbconvert_exporter": "python",
   "pygments_lexer": "ipython3",
   "version": "3.8.2"
  }
 },
 "nbformat": 4,
 "nbformat_minor": 5
}
