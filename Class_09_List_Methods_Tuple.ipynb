{
 "cells": [
  {
   "cell_type": "markdown",
   "id": "88371f4b",
   "metadata": {},
   "source": [
    "# List Comprehension"
   ]
  },
  {
   "cell_type": "code",
   "execution_count": 14,
   "id": "1bbca21a",
   "metadata": {
    "ExecuteTime": {
     "end_time": "2022-01-21T14:25:14.364822Z",
     "start_time": "2022-01-21T14:25:14.359276Z"
    }
   },
   "outputs": [
    {
     "name": "stdout",
     "output_type": "stream",
     "text": [
      "learnbay\n"
     ]
    }
   ],
   "source": [
    "# [expr for loop [if cond]]\n",
    "\n",
    "# [i**2 for i in range(1, 6)]\n",
    "\n",
    "email = 'abhishek@learnbay.co'\n",
    "# email[:email.index('@')]\n",
    "print(email[email.index('@')+1:email.index('.')])\n"
   ]
  },
  {
   "cell_type": "code",
   "execution_count": 33,
   "id": "41c1f0c2",
   "metadata": {
    "ExecuteTime": {
     "end_time": "2022-01-21T14:49:16.918003Z",
     "start_time": "2022-01-21T14:49:16.896697Z"
    }
   },
   "outputs": [
    {
     "data": {
      "text/plain": [
       "[16.99, 10.34, 21.01, 23.68, 24.59]"
      ]
     },
     "execution_count": 33,
     "metadata": {},
     "output_type": "execute_result"
    }
   ],
   "source": [
    "import seaborn as sns\n",
    "tips = sns.load_dataset('tips')\n",
    "total_bill_list = list(tips['total_bill'].head(5))\n",
    "total_bill_list"
   ]
  },
  {
   "cell_type": "code",
   "execution_count": 10,
   "id": "f0c0d149",
   "metadata": {
    "ExecuteTime": {
     "end_time": "2022-01-21T14:18:29.955496Z",
     "start_time": "2022-01-21T14:18:29.943561Z"
    }
   },
   "outputs": [
    {
     "data": {
      "text/plain": [
       "[16.99, 21.01, 24.59, 8.77, 15.04]"
      ]
     },
     "execution_count": 10,
     "metadata": {},
     "output_type": "execute_result"
    }
   ],
   "source": [
    "# total_bill_list[2:5]\n",
    "# total_bill_list[::2]\n",
    "\n",
    "\n",
    "\n"
   ]
  },
  {
   "cell_type": "code",
   "execution_count": 28,
   "id": "7ec58582",
   "metadata": {
    "ExecuteTime": {
     "end_time": "2022-01-21T14:42:28.104224Z",
     "start_time": "2022-01-21T14:42:28.097808Z"
    }
   },
   "outputs": [],
   "source": [
    "# Slicing - Sequence - string, list, tuple\n",
    "# seq[start:stop:step]\n",
    "\n",
    "# Default value of step is 1\n",
    "# When step is +ve slicing is done from left to right\n",
    "# When step is -ve slicing is done from right to left\n",
    "\n",
    "\n",
    "# If step is +ve the start should be on left compared to stop\n",
    "# If step is -ve the start should be on right compared to stop\n",
    "\n",
    "\n",
    "# Step can be +/-1, +/-2, +/-3...\n",
    "\n",
    "\n",
    "\n",
    "my_str = 'This is Python class'\n",
    "\n",
    "# print(my_str[8:14])\n",
    "# print(my_str[8:14:1])\n",
    "\n",
    "# print(my_str[8:14:2])\n",
    "# print(my_str[8:14:3])\n",
    "\n",
    "# print(my_str[-7:-13:-1])\n",
    "# print(my_str[-7:-13:-2])\n",
    "# print(my_str[-7:-13:-3])\n",
    "\n"
   ]
  },
  {
   "cell_type": "code",
   "execution_count": 27,
   "id": "dc0043f4",
   "metadata": {
    "ExecuteTime": {
     "end_time": "2022-01-21T14:36:10.336646Z",
     "start_time": "2022-01-21T14:36:10.331732Z"
    }
   },
   "outputs": [
    {
     "name": "stdout",
     "output_type": "stream",
     "text": [
      "00000000000000Python\n"
     ]
    }
   ],
   "source": [
    "# center, rjust, ljust, zfill\n",
    "\n",
    "# my_str = 'Python'\n",
    "# print(my_str.center(20, '*'))\n",
    "# print(my_str.center(21, '+'))\n",
    "# print(my_str.rjust(20, '-'))\n",
    "# print(my_str.ljust(20, ':'))\n",
    "\n",
    "# print(my_str.zfill(20))\n",
    "\n",
    "\n"
   ]
  },
  {
   "cell_type": "code",
   "execution_count": 29,
   "id": "49429c19",
   "metadata": {
    "ExecuteTime": {
     "end_time": "2022-01-21T14:43:23.675960Z",
     "start_time": "2022-01-21T14:43:23.667170Z"
    }
   },
   "outputs": [
    {
     "name": "stdout",
     "output_type": "stream",
     "text": [
      "The strings are equal.\n"
     ]
    }
   ],
   "source": [
    "#What will be the output of below code?\n",
    "firstString = \"der Fluß\"\n",
    "secondString = \"der Fluss\"\n",
    "if firstString.casefold() == secondString.casefold():\n",
    "    print('The strings are equal.')\n",
    "else:\n",
    "    print('The strings are not equal.')"
   ]
  },
  {
   "cell_type": "code",
   "execution_count": 30,
   "id": "be4a6f1c",
   "metadata": {
    "ExecuteTime": {
     "end_time": "2022-01-21T14:44:22.741388Z",
     "start_time": "2022-01-21T14:44:22.708016Z"
    }
   },
   "outputs": [
    {
     "data": {
      "text/plain": [
       "'der fluss'"
      ]
     },
     "execution_count": 30,
     "metadata": {},
     "output_type": "execute_result"
    }
   ],
   "source": [
    "firstString.casefold()"
   ]
  },
  {
   "cell_type": "markdown",
   "id": "1fab1f8c",
   "metadata": {
    "ExecuteTime": {
     "end_time": "2022-01-21T14:45:22.833376Z",
     "start_time": "2022-01-21T14:45:22.824304Z"
    }
   },
   "source": [
    "# List methods"
   ]
  },
  {
   "cell_type": "markdown",
   "id": "7a55e739",
   "metadata": {},
   "source": [
    "esc + m\n",
    "\n",
    "    # - h1\n",
    "    ## - h2\n",
    "    ### - h3\n",
    "    ---\n",
    "    ###### - h6"
   ]
  },
  {
   "cell_type": "markdown",
   "id": "9394f06b",
   "metadata": {},
   "source": [
    "# 'append', 'clear', 'copy', 'count', 'extend', 'index', 'insert', 'pop', 'remove', 'reverse', 'sort'\n",
    "\n",
    "\n",
    "\n"
   ]
  },
  {
   "cell_type": "code",
   "execution_count": 52,
   "id": "3f577773",
   "metadata": {
    "ExecuteTime": {
     "end_time": "2022-01-21T14:58:17.831573Z",
     "start_time": "2022-01-21T14:58:17.812791Z"
    }
   },
   "outputs": [
    {
     "data": {
      "text/plain": [
       "[16.99, 10.34, 21.01, 23.68, 24.59]"
      ]
     },
     "execution_count": 52,
     "metadata": {},
     "output_type": "execute_result"
    }
   ],
   "source": [
    "import seaborn as sns\n",
    "tips = sns.load_dataset('tips')\n",
    "total_bill_list = list(tips['total_bill'].head(5))\n",
    "total_bill_list"
   ]
  },
  {
   "cell_type": "markdown",
   "id": "c05d6f4b",
   "metadata": {},
   "source": [
    "# Add the elements to the list - append, insert, extend"
   ]
  },
  {
   "cell_type": "code",
   "execution_count": 54,
   "id": "f6f581da",
   "metadata": {
    "ExecuteTime": {
     "end_time": "2022-01-21T15:00:02.559170Z",
     "start_time": "2022-01-21T15:00:02.553718Z"
    }
   },
   "outputs": [
    {
     "name": "stdout",
     "output_type": "stream",
     "text": [
      "None\n",
      "[16.99, 10.34, 111, 21.01, 23.68, 24.59]\n"
     ]
    }
   ],
   "source": [
    "# lst.append(ele) - ele will be added to the end of the list\n",
    "# Returns None\n",
    "\n",
    "\n",
    "# total_bill_list.append(111)\n",
    "# print(total_bill_list)\n",
    "\n",
    "# lst1 = [111, 222, 333]\n",
    "# total_bill_list.append(lst1)\n",
    "# print(total_bill_list)\n",
    "\n",
    "\n",
    "# main_lst.extend(sub_lst)\n",
    "# elements of sub_lst is added at the end of main_lst as individual elements\n",
    "# Returns None\n",
    "# Changes will be done in main_lst but sub_lst will remain unaffected\n",
    "\n",
    "# lst1 = [111, 222, 333]\n",
    "# total_bill_list.extend(lst1)\n",
    "# print(total_bill_list)\n",
    "\n",
    "\n",
    "# lst.insert(ind, val) - it adds the value at specified index and \n",
    "# shifts rest of the value towards right\n",
    "\n",
    "print(total_bill_list.insert(2, 111))\n",
    "print(total_bill_list)\n",
    "\n",
    "\n",
    "\n"
   ]
  },
  {
   "cell_type": "code",
   "execution_count": 55,
   "id": "6940b58e",
   "metadata": {
    "ExecuteTime": {
     "end_time": "2022-01-21T15:00:19.261640Z",
     "start_time": "2022-01-21T15:00:19.249861Z"
    }
   },
   "outputs": [
    {
     "name": "stdout",
     "output_type": "stream",
     "text": [
      "24.59\n"
     ]
    }
   ],
   "source": [
    "# Methods to remove the elements from the list - pop, remove\n",
    "\n",
    "total_bill_list\n",
    "\n",
    "# lst.pop() - By defaault it removes the last element from the list\n",
    "# This is the only method which does some operation on the list and returns a value\n",
    "# It returns the removed value\n",
    "\n",
    "print(total_bill_list.pop())\n",
    "\n",
    "\n"
   ]
  },
  {
   "cell_type": "code",
   "execution_count": 56,
   "id": "d006a07f",
   "metadata": {
    "ExecuteTime": {
     "end_time": "2022-01-21T15:00:27.269069Z",
     "start_time": "2022-01-21T15:00:27.263571Z"
    }
   },
   "outputs": [
    {
     "name": "stdout",
     "output_type": "stream",
     "text": [
      "[16.99, 10.34, 111, 21.01, 23.68]\n"
     ]
    }
   ],
   "source": [
    "print(total_bill_list)"
   ]
  },
  {
   "cell_type": "code",
   "execution_count": 57,
   "id": "a0446a31",
   "metadata": {
    "ExecuteTime": {
     "end_time": "2022-01-21T15:01:33.098191Z",
     "start_time": "2022-01-21T15:01:33.092889Z"
    }
   },
   "outputs": [
    {
     "name": "stdout",
     "output_type": "stream",
     "text": [
      "111\n"
     ]
    }
   ],
   "source": [
    "# lst.pop(index) - it removes the value from specified index\n",
    "print(total_bill_list.pop(2))"
   ]
  },
  {
   "cell_type": "code",
   "execution_count": 58,
   "id": "50eb8b96",
   "metadata": {
    "ExecuteTime": {
     "end_time": "2022-01-21T15:01:39.039915Z",
     "start_time": "2022-01-21T15:01:39.032960Z"
    }
   },
   "outputs": [
    {
     "data": {
      "text/plain": [
       "[16.99, 10.34, 21.01, 23.68]"
      ]
     },
     "execution_count": 58,
     "metadata": {},
     "output_type": "execute_result"
    }
   ],
   "source": [
    "total_bill_list"
   ]
  },
  {
   "cell_type": "code",
   "execution_count": 59,
   "id": "5d2365e4",
   "metadata": {
    "ExecuteTime": {
     "end_time": "2022-01-21T15:03:41.863828Z",
     "start_time": "2022-01-21T15:03:41.857649Z"
    }
   },
   "outputs": [
    {
     "name": "stdout",
     "output_type": "stream",
     "text": [
      "[20, 30, 10, 100, 20, 90, 80, 10, 10, 10]\n"
     ]
    }
   ],
   "source": [
    "# lst.remove(val) - remoes the first occurrence of the value from the list\n",
    "# This returns None\n",
    "\n",
    "lst = [10, 20, 30, 10, 100, 20, 90, 80, 10, 10, 10]\n",
    "lst.remove(10)\n",
    "print(lst)\n",
    "\n",
    "\n"
   ]
  },
  {
   "cell_type": "code",
   "execution_count": 60,
   "id": "05c8f0e7",
   "metadata": {
    "ExecuteTime": {
     "end_time": "2022-01-21T15:05:18.221746Z",
     "start_time": "2022-01-21T15:05:18.215530Z"
    }
   },
   "outputs": [
    {
     "name": "stdout",
     "output_type": "stream",
     "text": [
      "[]\n"
     ]
    }
   ],
   "source": [
    "# lst.clear() - Clears the list\n",
    "# It removes all the elements from the list and leaves the empty list behind\n",
    "\n",
    "lst = [10, 20, 30, 10, 100, 20, 90, 80, 10, 10, 10]\n",
    "lst.clear()\n",
    "print(lst)\n",
    "\n",
    "\n",
    "\n"
   ]
  },
  {
   "cell_type": "code",
   "execution_count": 62,
   "id": "a36caaf9",
   "metadata": {
    "ExecuteTime": {
     "end_time": "2022-01-21T15:06:12.103801Z",
     "start_time": "2022-01-21T15:06:12.097217Z"
    }
   },
   "outputs": [
    {
     "name": "stdout",
     "output_type": "stream",
     "text": [
      "5\n",
      "[10, 20, 30, 10, 100, 20, 90, 80, 10, 10, 10]\n"
     ]
    }
   ],
   "source": [
    "# lst.count(ele) - it returns the no of times ele is repeated in the list\n",
    "# lst = [10, 20, 30, 10, 100, 20, 90, 80, 10, 10, 10]\n",
    "# print(lst.count(10))\n",
    "# print(lst)\n",
    "\n",
    "\n",
    "\n"
   ]
  },
  {
   "cell_type": "code",
   "execution_count": 67,
   "id": "e674df03",
   "metadata": {
    "ExecuteTime": {
     "end_time": "2022-01-21T15:07:25.484957Z",
     "start_time": "2022-01-21T15:07:25.480643Z"
    }
   },
   "outputs": [],
   "source": [
    "# lst.index(ele) - it returns the index of first occurenec of the ele from  the list\n",
    "# If the ele is not found then it return ValueError\n",
    "\n",
    "# lst = [10, 20, 30, 10, 100, 20, 90, 80, 10, 10, 10]\n",
    "# print(lst.index(1000))\n",
    "\n",
    "\n"
   ]
  },
  {
   "cell_type": "code",
   "execution_count": 68,
   "id": "72190522",
   "metadata": {
    "ExecuteTime": {
     "end_time": "2022-01-21T15:08:13.824203Z",
     "start_time": "2022-01-21T15:08:13.814082Z"
    }
   },
   "outputs": [
    {
     "name": "stdout",
     "output_type": "stream",
     "text": [
      "[[1, 2, 3], None, True, 'Python', (10+20j), 10.2, 10]\n"
     ]
    }
   ],
   "source": [
    "# lst.reverse() - it reverses the list and returns None\n",
    "\n",
    "# lst = [10, 10.20, 10+20j, 'Python', True, None, [1, 2, 3]]\n",
    "# lst.reverse()\n",
    "# print(lst)"
   ]
  },
  {
   "cell_type": "code",
   "execution_count": 71,
   "id": "a84e082e",
   "metadata": {
    "ExecuteTime": {
     "end_time": "2022-01-21T15:10:59.199923Z",
     "start_time": "2022-01-21T15:10:59.177373Z"
    }
   },
   "outputs": [
    {
     "ename": "TypeError",
     "evalue": "'<' not supported between instances of 'str' and 'int'",
     "output_type": "error",
     "traceback": [
      "\u001b[0;31m---------------------------------------------------------------------------\u001b[0m",
      "\u001b[0;31mTypeError\u001b[0m                                 Traceback (most recent call last)",
      "\u001b[0;32m<ipython-input-71-f391fd41a376>\u001b[0m in \u001b[0;36m<module>\u001b[0;34m\u001b[0m\n\u001b[1;32m     13\u001b[0m \u001b[0;34m\u001b[0m\u001b[0m\n\u001b[1;32m     14\u001b[0m \u001b[0mlst\u001b[0m \u001b[0;34m=\u001b[0m \u001b[0;34m[\u001b[0m\u001b[0;36m10\u001b[0m\u001b[0;34m,\u001b[0m \u001b[0;36m20\u001b[0m\u001b[0;34m,\u001b[0m \u001b[0;36m30\u001b[0m\u001b[0;34m,\u001b[0m \u001b[0;36m10\u001b[0m\u001b[0;34m,\u001b[0m \u001b[0;34m'100'\u001b[0m\u001b[0;34m,\u001b[0m \u001b[0;36m20\u001b[0m\u001b[0;34m,\u001b[0m \u001b[0;36m90\u001b[0m\u001b[0;34m,\u001b[0m \u001b[0;36m80\u001b[0m\u001b[0;34m+\u001b[0m\u001b[0;36m30j\u001b[0m\u001b[0;34m,\u001b[0m \u001b[0;36m10\u001b[0m\u001b[0;34m,\u001b[0m \u001b[0;36m10\u001b[0m\u001b[0;34m,\u001b[0m \u001b[0;36m10\u001b[0m\u001b[0;34m]\u001b[0m\u001b[0;34m\u001b[0m\u001b[0;34m\u001b[0m\u001b[0m\n\u001b[0;32m---> 15\u001b[0;31m \u001b[0mlst\u001b[0m\u001b[0;34m.\u001b[0m\u001b[0msort\u001b[0m\u001b[0;34m(\u001b[0m\u001b[0;34m)\u001b[0m\u001b[0;34m\u001b[0m\u001b[0;34m\u001b[0m\u001b[0m\n\u001b[0m\u001b[1;32m     16\u001b[0m \u001b[0;34m\u001b[0m\u001b[0m\n\u001b[1;32m     17\u001b[0m \u001b[0;34m\u001b[0m\u001b[0m\n",
      "\u001b[0;31mTypeError\u001b[0m: '<' not supported between instances of 'str' and 'int'"
     ]
    }
   ],
   "source": [
    "# lst.sort() - it sorts the list in ascending order(default)\n",
    "# lst.sort(reverse = True) - it sorts the list in descending order\n",
    "\n",
    "# sort method internally implements comparison operator, so list with difefrent data type will give type Error\n",
    "\n",
    "lst = [10, 20, 30, 10, 100, 20, 90, 80, 10, 10, 10]\n",
    "# lst.sort()\n",
    "# print(lst)\n",
    "\n",
    "\n",
    "# lst.sort(reverse = True)\n",
    "# print(lst)\n",
    "\n",
    "lst = [10, 20, 30, 10, '100', 20, 90, 80+30j, 10, 10, 10]\n",
    "lst.sort()\n",
    "\n",
    "\n"
   ]
  },
  {
   "cell_type": "code",
   "execution_count": null,
   "id": "7d7f8826",
   "metadata": {},
   "outputs": [],
   "source": [
    "lst = [10, 20, 30, 10, 100, 20, 90, 80, 10, 10, 10]\n",
    "\n",
    "\n",
    "\n"
   ]
  },
  {
   "cell_type": "code",
   "execution_count": 75,
   "id": "5b5a23e5",
   "metadata": {
    "ExecuteTime": {
     "end_time": "2022-01-21T15:30:26.072181Z",
     "start_time": "2022-01-21T15:30:26.068492Z"
    }
   },
   "outputs": [],
   "source": [
    "# Find and display the largest number of a list without using \n",
    "# built-in function max(). Your program should ask the user to \n",
    "# input values in list from keyboard."
   ]
  },
  {
   "cell_type": "code",
   "execution_count": 89,
   "id": "ad7ca3f3",
   "metadata": {
    "ExecuteTime": {
     "end_time": "2022-01-21T15:50:02.414885Z",
     "start_time": "2022-01-21T15:50:02.402075Z"
    }
   },
   "outputs": [
    {
     "data": {
      "text/plain": [
       "True"
      ]
     },
     "execution_count": 89,
     "metadata": {},
     "output_type": "execute_result"
    }
   ],
   "source": [
    "#Write a Python program to count the number of strings \n",
    "# having length more than 2 and are palindrome in a list using loop.\n",
    "#Input:- ['ab', 'abc', 'aba', 'xyz', '1991']\n",
    "#Output:- 2\n",
    "\n",
    "lst = ['ab', 'abc', 'aba', 'xyz', '1991']\n",
    "sum([True for i in lst if (len(i) >2) and (i == i[::-1])])\n",
    "\n",
    "\n",
    "# i = 'aba'\n",
    "# i == i[::-1]\n",
    "'aba' == 'aba'"
   ]
  },
  {
   "cell_type": "code",
   "execution_count": 90,
   "id": "c3c727d4",
   "metadata": {
    "ExecuteTime": {
     "end_time": "2022-01-21T15:52:12.234616Z",
     "start_time": "2022-01-21T15:52:12.220899Z"
    }
   },
   "outputs": [
    {
     "name": "stdout",
     "output_type": "stream",
     "text": [
      "['much', 'wood', 'would', 'woodchuck', 'chuck', 'could']\n"
     ]
    },
    {
     "data": {
      "text/plain": [
       "['How',\n",
       " 'much',\n",
       " 'wood',\n",
       " 'would',\n",
       " 'a',\n",
       " 'woodchuck',\n",
       " 'chuck',\n",
       " 'if',\n",
       " 'a',\n",
       " 'woodchuck',\n",
       " 'could',\n",
       " 'chuck',\n",
       " 'wood']"
      ]
     },
     "execution_count": 90,
     "metadata": {},
     "output_type": "execute_result"
    }
   ],
   "source": [
    "#Write a Python program to find the list of words that are longer than or equal to 4 from a given string.\n",
    "#Input:- 'How much wood would a woodchuck chuck if a woodchuck could chuck wood'\n",
    "#Output:- ['much', 'wood', 'would', 'woodchuck', 'chuck', 'could']\n",
    "#Note:- Duplicate should be avoided.\n",
    "\n",
    "my_str = 'How much wood would a woodchuck chuck if a woodchuck could chuck wood'\n",
    "lst = []\n",
    "[lst.append(i) for i in my_str.split() if (len(i)>=4) and (i not in lst)]\n",
    "print(lst)\n",
    "\n",
    "my_str.split()\n",
    "\n"
   ]
  },
  {
   "cell_type": "code",
   "execution_count": 81,
   "id": "5c9567c9",
   "metadata": {
    "ExecuteTime": {
     "end_time": "2022-01-21T15:35:16.213738Z",
     "start_time": "2022-01-21T15:35:16.200171Z"
    }
   },
   "outputs": [
    {
     "data": {
      "text/plain": [
       "[[0, 0, 0, 0], [0, 1, 2, 3], [0, 2, 4, 6], [0, 3, 6, 9]]"
      ]
     },
     "execution_count": 81,
     "metadata": {},
     "output_type": "execute_result"
    }
   ],
   "source": [
    "# Write a Python program to create a 4X4 2D matrix with below elements using loop and list comprehension both.\n",
    "# Output:- [[0,0,0,0],[0,1,2,3],[0,2,4,6],[0,3,6,9]]\n",
    "\n",
    "# print([[0,0,0,0],[0,1,2,3],[0,2,4,6],[0,3,6,9]])\n",
    "\n",
    "# One outer list\n",
    "# Outer list has four inner lists\n",
    "# and each inner list has four element\n",
    "# Each element has some value\n",
    "\n",
    "out_lst = []\n",
    "for i in range(4):\n",
    "    in_lst= []\n",
    "    for j in range(4):\n",
    "        in_lst.append(i*j)\n",
    "    out_lst.append(in_lst)\n",
    "    \n",
    "print(out_lst)\n",
    "\n",
    "\n",
    "[[i*j for j in range(4)] for i in range(4)]\n",
    "\n",
    "\n",
    "\n"
   ]
  },
  {
   "cell_type": "code",
   "execution_count": null,
   "id": "ed70982e",
   "metadata": {},
   "outputs": [],
   "source": [
    "# Methods\n",
    "# Comprehension\n",
    "# Loop"
   ]
  },
  {
   "cell_type": "code",
   "execution_count": 87,
   "id": "3a0b0708",
   "metadata": {
    "ExecuteTime": {
     "end_time": "2022-01-21T15:47:35.558740Z",
     "start_time": "2022-01-21T15:47:35.546446Z"
    }
   },
   "outputs": [
    {
     "data": {
      "text/plain": [
       "60"
      ]
     },
     "execution_count": 87,
     "metadata": {},
     "output_type": "execute_result"
    }
   ],
   "source": [
    "sum([10,20,30])"
   ]
  },
  {
   "cell_type": "code",
   "execution_count": 88,
   "id": "b7c9590a",
   "metadata": {
    "ExecuteTime": {
     "end_time": "2022-01-21T15:47:52.288199Z",
     "start_time": "2022-01-21T15:47:52.267261Z"
    }
   },
   "outputs": [
    {
     "data": {
      "text/plain": [
       "2"
      ]
     },
     "execution_count": 88,
     "metadata": {},
     "output_type": "execute_result"
    }
   ],
   "source": [
    "True + True"
   ]
  },
  {
   "cell_type": "code",
   "execution_count": 91,
   "id": "b028497c",
   "metadata": {
    "ExecuteTime": {
     "end_time": "2022-01-21T15:53:11.317450Z",
     "start_time": "2022-01-21T15:53:11.310113Z"
    }
   },
   "outputs": [
    {
     "data": {
      "text/plain": [
       "'ssalc nohtyP si sihT'"
      ]
     },
     "execution_count": 91,
     "metadata": {},
     "output_type": "execute_result"
    }
   ],
   "source": [
    "my_str = 'This is Python class'\n",
    "\n",
    "out_str = 'sihT si nohtyP ss'\n",
    "\n",
    "my_str[::-1]"
   ]
  },
  {
   "cell_type": "code",
   "execution_count": null,
   "id": "64163ebf",
   "metadata": {},
   "outputs": [],
   "source": []
  },
  {
   "cell_type": "code",
   "execution_count": null,
   "id": "34c1c164",
   "metadata": {},
   "outputs": [],
   "source": []
  },
  {
   "cell_type": "code",
   "execution_count": null,
   "id": "85cf7a03",
   "metadata": {},
   "outputs": [],
   "source": []
  },
  {
   "cell_type": "code",
   "execution_count": null,
   "id": "dd102204",
   "metadata": {},
   "outputs": [],
   "source": []
  },
  {
   "cell_type": "code",
   "execution_count": null,
   "id": "46cecc9b",
   "metadata": {},
   "outputs": [],
   "source": []
  },
  {
   "cell_type": "code",
   "execution_count": null,
   "id": "aeaccdcf",
   "metadata": {},
   "outputs": [],
   "source": []
  },
  {
   "cell_type": "code",
   "execution_count": null,
   "id": "efb2f03c",
   "metadata": {},
   "outputs": [],
   "source": []
  },
  {
   "cell_type": "code",
   "execution_count": null,
   "id": "1985aec5",
   "metadata": {},
   "outputs": [],
   "source": []
  },
  {
   "cell_type": "code",
   "execution_count": null,
   "id": "39ed6ed2",
   "metadata": {},
   "outputs": [],
   "source": []
  },
  {
   "cell_type": "code",
   "execution_count": null,
   "id": "46a76f5c",
   "metadata": {},
   "outputs": [],
   "source": []
  },
  {
   "cell_type": "code",
   "execution_count": null,
   "id": "63f21e20",
   "metadata": {},
   "outputs": [],
   "source": []
  },
  {
   "cell_type": "code",
   "execution_count": null,
   "id": "9c64f83c",
   "metadata": {},
   "outputs": [],
   "source": []
  },
  {
   "cell_type": "code",
   "execution_count": null,
   "id": "d1762459",
   "metadata": {},
   "outputs": [],
   "source": []
  },
  {
   "cell_type": "code",
   "execution_count": null,
   "id": "486443b5",
   "metadata": {},
   "outputs": [],
   "source": []
  },
  {
   "cell_type": "code",
   "execution_count": null,
   "id": "1abb549d",
   "metadata": {},
   "outputs": [],
   "source": []
  },
  {
   "cell_type": "code",
   "execution_count": null,
   "id": "76c90d73",
   "metadata": {},
   "outputs": [],
   "source": []
  },
  {
   "cell_type": "code",
   "execution_count": null,
   "id": "bd3c9aca",
   "metadata": {},
   "outputs": [],
   "source": []
  },
  {
   "cell_type": "code",
   "execution_count": null,
   "id": "8bfa74f2",
   "metadata": {},
   "outputs": [],
   "source": []
  },
  {
   "cell_type": "code",
   "execution_count": null,
   "id": "b958156b",
   "metadata": {},
   "outputs": [],
   "source": []
  },
  {
   "cell_type": "code",
   "execution_count": null,
   "id": "ff834b5e",
   "metadata": {},
   "outputs": [],
   "source": []
  },
  {
   "cell_type": "code",
   "execution_count": null,
   "id": "e658d376",
   "metadata": {},
   "outputs": [],
   "source": []
  },
  {
   "cell_type": "code",
   "execution_count": null,
   "id": "47b7be3c",
   "metadata": {},
   "outputs": [],
   "source": []
  },
  {
   "cell_type": "code",
   "execution_count": null,
   "id": "30ae6b46",
   "metadata": {},
   "outputs": [],
   "source": []
  },
  {
   "cell_type": "code",
   "execution_count": null,
   "id": "bdb59866",
   "metadata": {},
   "outputs": [],
   "source": []
  },
  {
   "cell_type": "code",
   "execution_count": null,
   "id": "d86756bb",
   "metadata": {},
   "outputs": [],
   "source": []
  },
  {
   "cell_type": "code",
   "execution_count": null,
   "id": "0614218c",
   "metadata": {},
   "outputs": [],
   "source": []
  },
  {
   "cell_type": "code",
   "execution_count": null,
   "id": "78afed72",
   "metadata": {},
   "outputs": [],
   "source": []
  },
  {
   "cell_type": "code",
   "execution_count": null,
   "id": "7e576d2e",
   "metadata": {},
   "outputs": [],
   "source": []
  },
  {
   "cell_type": "code",
   "execution_count": null,
   "id": "da03ae75",
   "metadata": {},
   "outputs": [],
   "source": []
  },
  {
   "cell_type": "code",
   "execution_count": null,
   "id": "c7264219",
   "metadata": {},
   "outputs": [],
   "source": []
  },
  {
   "cell_type": "code",
   "execution_count": null,
   "id": "5183e0c6",
   "metadata": {},
   "outputs": [],
   "source": []
  },
  {
   "cell_type": "code",
   "execution_count": null,
   "id": "07473274",
   "metadata": {},
   "outputs": [],
   "source": []
  },
  {
   "cell_type": "code",
   "execution_count": null,
   "id": "4488de75",
   "metadata": {},
   "outputs": [],
   "source": []
  },
  {
   "cell_type": "code",
   "execution_count": null,
   "id": "7364ae67",
   "metadata": {},
   "outputs": [],
   "source": []
  },
  {
   "cell_type": "code",
   "execution_count": null,
   "id": "1cadc014",
   "metadata": {},
   "outputs": [],
   "source": []
  },
  {
   "cell_type": "code",
   "execution_count": null,
   "id": "965af3cc",
   "metadata": {},
   "outputs": [],
   "source": []
  },
  {
   "cell_type": "code",
   "execution_count": null,
   "id": "a7312f03",
   "metadata": {},
   "outputs": [],
   "source": []
  },
  {
   "cell_type": "code",
   "execution_count": null,
   "id": "637cf653",
   "metadata": {},
   "outputs": [],
   "source": []
  },
  {
   "cell_type": "code",
   "execution_count": null,
   "id": "95fc7836",
   "metadata": {},
   "outputs": [],
   "source": []
  },
  {
   "cell_type": "code",
   "execution_count": null,
   "id": "21282712",
   "metadata": {},
   "outputs": [],
   "source": []
  },
  {
   "cell_type": "code",
   "execution_count": null,
   "id": "298ca26a",
   "metadata": {},
   "outputs": [],
   "source": []
  },
  {
   "cell_type": "code",
   "execution_count": null,
   "id": "c50393bb",
   "metadata": {},
   "outputs": [],
   "source": []
  },
  {
   "cell_type": "code",
   "execution_count": null,
   "id": "ee4e8a84",
   "metadata": {},
   "outputs": [],
   "source": []
  },
  {
   "cell_type": "code",
   "execution_count": null,
   "id": "24621ddc",
   "metadata": {},
   "outputs": [],
   "source": []
  },
  {
   "cell_type": "code",
   "execution_count": null,
   "id": "72468fb6",
   "metadata": {},
   "outputs": [],
   "source": []
  },
  {
   "cell_type": "code",
   "execution_count": null,
   "id": "b3f95560",
   "metadata": {},
   "outputs": [],
   "source": []
  },
  {
   "cell_type": "code",
   "execution_count": null,
   "id": "26b37c82",
   "metadata": {},
   "outputs": [],
   "source": []
  },
  {
   "cell_type": "code",
   "execution_count": null,
   "id": "1edf3ce7",
   "metadata": {},
   "outputs": [],
   "source": []
  }
 ],
 "metadata": {
  "kernelspec": {
   "display_name": "Python 3",
   "language": "python",
   "name": "python3"
  },
  "language_info": {
   "codemirror_mode": {
    "name": "ipython",
    "version": 3
   },
   "file_extension": ".py",
   "mimetype": "text/x-python",
   "name": "python",
   "nbconvert_exporter": "python",
   "pygments_lexer": "ipython3",
   "version": "3.8.2"
  }
 },
 "nbformat": 4,
 "nbformat_minor": 5
}
