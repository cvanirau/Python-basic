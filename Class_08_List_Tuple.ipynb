{
 "cells": [
  {
   "cell_type": "code",
   "execution_count": 4,
   "id": "2ec8e6b7",
   "metadata": {
    "ExecuteTime": {
     "end_time": "2022-01-20T14:08:34.296481Z",
     "start_time": "2022-01-20T14:08:34.283479Z"
    }
   },
   "outputs": [
    {
     "name": "stdout",
     "output_type": "stream",
     "text": [
      ".sreppep delkcip fo kcep a dekcip repip retep\n"
     ]
    }
   ],
   "source": [
    "# Q. Write a python program to find below output using loop:-\n",
    "# Input:- 'peter piper picked a peck of pickled peppers.'\n",
    "# Output:- '.sreppep delkcip fo kcep a dekcip repip retep'\n",
    "\n",
    "my_str = 'peter piper picked a peck of pickled peppers.'\n",
    "# print(my_str[-1])\n",
    "# print(my_str[-len(my_str)])\n",
    "out_str = ''\n",
    "for ind in range(-1, -len(my_str)-1, -1):\n",
    "    out_str += my_str[ind]\n",
    "print(out_str)\n",
    "\n"
   ]
  },
  {
   "cell_type": "code",
   "execution_count": 2,
   "id": "5a7e7423",
   "metadata": {
    "ExecuteTime": {
     "end_time": "2022-01-20T14:07:25.571623Z",
     "start_time": "2022-01-20T14:07:25.553714Z"
    }
   },
   "outputs": [
    {
     "data": {
      "text/plain": [
       "45"
      ]
     },
     "execution_count": 2,
     "metadata": {},
     "output_type": "execute_result"
    }
   ],
   "source": [
    "len(my_str)"
   ]
  },
  {
   "cell_type": "code",
   "execution_count": 20,
   "id": "015e9f3d",
   "metadata": {
    "ExecuteTime": {
     "end_time": "2022-01-20T14:42:06.790406Z",
     "start_time": "2022-01-20T14:42:06.781112Z"
    }
   },
   "outputs": [
    {
     "name": "stdout",
     "output_type": "stream",
     "text": [
      "retep repip dekcip a kcep fo delkcip .sreppep\n"
     ]
    }
   ],
   "source": [
    "# Q. Write a python program to find below output using loop:-\n",
    "# Input:- 'peter piper picked a peck of pickled peppers.'\n",
    "# Output:- 'retep repip dekcip a kcep fo delkcip sreppep'\n",
    "\n",
    "my_str = 'peter piper picked a peck of pickled peppers.'\n",
    "# ' '.join(my_str[::-1].split()[::-1])\n",
    "my_str = 'peter piper picked a peck of pickled peppers.'\n",
    "out_word = ''\n",
    "my_word = ''\n",
    "sp_flag = 1\n",
    "for i in range(len(my_str)):\n",
    "    if my_str[i] == ' ':\n",
    "        if sp_flag == 1:\n",
    "            out_word += my_word\n",
    "            my_word = ''\n",
    "            sp_flag += 1\n",
    "        else:\n",
    "            out_word = out_word + ' ' + my_word\n",
    "            my_word = ''\n",
    "    else:\n",
    "        my_word = my_str[i] + my_word\n",
    "\n",
    "out_word = out_word + ' ' + my_word\n",
    "print(out_word)"
   ]
  },
  {
   "cell_type": "code",
   "execution_count": 10,
   "id": "07d08dff",
   "metadata": {},
   "outputs": [
    {
     "data": {
      "text/plain": [
       "'retep repip dekcip a kcep fo delkcip .sreppep'"
      ]
     },
     "execution_count": 10,
     "metadata": {},
     "output_type": "execute_result"
    }
   ],
   "source": [
    "my_str = 'peter piper picked a peck of pickled peppers.'\n",
    "' '.join(my_str[::-1].split()[::-1])"
   ]
  },
  {
   "cell_type": "code",
   "execution_count": 24,
   "id": "2a4b8b45",
   "metadata": {
    "ExecuteTime": {
     "end_time": "2022-01-20T14:28:53.999137Z",
     "start_time": "2022-01-20T14:28:53.984108Z"
    }
   },
   "outputs": [
    {
     "name": "stdout",
     "output_type": "stream",
     "text": [
      " retep repip dekcip a kcep fo delkcip .sreppep\n"
     ]
    }
   ],
   "source": [
    "my_str = 'peter piper picked a peck of pickled peppers.'\n",
    "out_str = ''\n",
    "buf_str = ''\n",
    "for i in range(len(my_str)):\n",
    "    if my_str[i] == ' ':\n",
    "        if not my_str[i]:\n",
    "            out_str = out_str + buf_str\n",
    "            buf_str = ''   ## these line are added since my_str == ' ' \n",
    "        else:\n",
    "            out_str = out_str + ' ' + buf_str\n",
    "            buf_str = ''   ## these line are added since my_str == ' ' \n",
    "    else:\n",
    "        buf_str = my_str[i] + buf_str\n",
    "# out_str = buf_str + ' ' + out_str  #  output -- .sreppep  retep repip dekcip a kcep fo delkcip: buffer string are added first \n",
    "out_str = out_str + ' ' + buf_str           \n",
    "print(out_str)\n",
    "               \n",
    "    "
   ]
  },
  {
   "cell_type": "code",
   "execution_count": 20,
   "id": "12d81722",
   "metadata": {
    "ExecuteTime": {
     "end_time": "2022-01-20T14:28:59.774511Z",
     "start_time": "2022-01-20T14:28:59.764395Z"
    }
   },
   "outputs": [
    {
     "data": {
      "text/plain": [
       "'eP'"
      ]
     },
     "execution_count": 20,
     "metadata": {},
     "output_type": "execute_result"
    }
   ],
   "source": [
    "'e' + 'P'"
   ]
  },
  {
   "cell_type": "code",
   "execution_count": 19,
   "id": "3095d628",
   "metadata": {
    "ExecuteTime": {
     "end_time": "2022-01-20T14:35:48.389820Z",
     "start_time": "2022-01-20T14:35:48.384508Z"
    }
   },
   "outputs": [],
   "source": [
    "if not 10:\n",
    "    print('Hi')"
   ]
  },
  {
   "cell_type": "code",
   "execution_count": 18,
   "id": "1fc5d04b",
   "metadata": {
    "ExecuteTime": {
     "end_time": "2022-01-20T14:35:37.654762Z",
     "start_time": "2022-01-20T14:35:37.645251Z"
    }
   },
   "outputs": [
    {
     "data": {
      "text/plain": [
       "False"
      ]
     },
     "execution_count": 18,
     "metadata": {},
     "output_type": "execute_result"
    }
   ],
   "source": [
    "not 10"
   ]
  },
  {
   "cell_type": "code",
   "execution_count": 25,
   "id": "feea1288",
   "metadata": {
    "ExecuteTime": {
     "end_time": "2022-01-20T14:55:53.783894Z",
     "start_time": "2022-01-20T14:55:53.778272Z"
    }
   },
   "outputs": [
    {
     "name": "stdout",
     "output_type": "stream",
     "text": [
      "*\n",
      "**\n",
      "***\n",
      "****\n",
      "*****\n"
     ]
    }
   ],
   "source": [
    "# *\n",
    "# **\n",
    "# ***\n",
    "# ****\n",
    "# *****\n",
    "\n",
    "for i in range(1, 6):\n",
    "    print('*'*i)"
   ]
  },
  {
   "cell_type": "code",
   "execution_count": 27,
   "id": "217649b5",
   "metadata": {
    "ExecuteTime": {
     "end_time": "2022-01-20T14:58:04.832582Z",
     "start_time": "2022-01-20T14:58:04.829765Z"
    }
   },
   "outputs": [
    {
     "name": "stdout",
     "output_type": "stream",
     "text": [
      "     *\n",
      "    **\n",
      "   ***\n",
      "  ****\n",
      " *****\n"
     ]
    }
   ],
   "source": [
    "#     *\n",
    "#    **\n",
    "#   ***\n",
    "#  ****\n",
    "# *****\n",
    "for i in range(1, 6):\n",
    "    print((' '*(6-i))+('*'*i))"
   ]
  },
  {
   "cell_type": "code",
   "execution_count": 111,
   "id": "e021fdeb",
   "metadata": {},
   "outputs": [
    {
     "name": "stdout",
     "output_type": "stream",
     "text": [
      "enter how many row of * want to print: 8\n",
      "      *\n",
      "     ***\n",
      "    *****\n",
      "   *******\n",
      "  *********\n",
      " ***********\n",
      "*************\n"
     ]
    }
   ],
   "source": [
    "#     *\n",
    "#    ***\n",
    "#   *****\n",
    "#  *******\n",
    "# *********\n",
    "x= int(input('enter how many row of * want to print: '))\n",
    "for i in range(1, 100):      # maximum 100 rows can be printed.\n",
    "    if i != x:\n",
    "        print((' '*(x-1-i)+'*'*i)+('*'*(i-1)))\n",
    "    else:\n",
    "        break"
   ]
  },
  {
   "cell_type": "code",
   "execution_count": 103,
   "id": "b87b19f4",
   "metadata": {},
   "outputs": [
    {
     "name": "stdout",
     "output_type": "stream",
     "text": [
      "    *\n",
      "   ***\n",
      "  *****\n",
      " *******\n",
      "*********\n"
     ]
    }
   ],
   "source": [
    "for i in range(1, 6):\n",
    "    print((' '*(5-i)+'*'*i)+('*'*(i-1)))"
   ]
  },
  {
   "cell_type": "code",
   "execution_count": 54,
   "id": "ce431897",
   "metadata": {},
   "outputs": [
    {
     "name": "stdout",
     "output_type": "stream",
     "text": [
      " *** \n",
      "*   *\n",
      "*   *\n",
      "*****\n",
      "*   *\n",
      "*   *\n",
      "*   *\n"
     ]
    }
   ],
   "source": [
    "#  ***\n",
    "# *   *\n",
    "# *   *\n",
    "# *****\n",
    "# *   *\n",
    "# *   *\n",
    "# *   *\n",
    "\n",
    "for i in range(1,8):\n",
    "    if i == 1:\n",
    "        print(' '+ '*'*3+ ' ')\n",
    "    elif i == 4:\n",
    "        print('*'*5)\n",
    "    else:\n",
    "        print('*'+ ' '*3+ '*')\n",
    "        \n",
    "    "
   ]
  },
  {
   "cell_type": "code",
   "execution_count": 63,
   "id": "31649ea2",
   "metadata": {},
   "outputs": [
    {
     "name": "stdout",
     "output_type": "stream",
     "text": [
      "enter final range number: 12\n",
      " ***** \n",
      "*     *\n",
      "*     *\n",
      "*     *\n",
      "*     *\n",
      "*******\n",
      "*     *\n",
      "*     *\n",
      "*     *\n",
      "*     *\n",
      "*     *\n"
     ]
    }
   ],
   "source": [
    "x= int(input('enter last number of range value: '))\n",
    "for i in range(1,x):\n",
    "    if i == 1:\n",
    "        print(' '+ '*'*((x//2)-1)+ ' ')\n",
    "    elif i == x//2:\n",
    "        print('*'*((x//2)+1))\n",
    "    else:\n",
    "        print('*'+ ' '*((x//2)-1)+ '*')"
   ]
  },
  {
   "cell_type": "markdown",
   "id": "08705a74",
   "metadata": {},
   "source": [
    "# List"
   ]
  },
  {
   "cell_type": "code",
   "execution_count": 29,
   "id": "52ea6194",
   "metadata": {
    "ExecuteTime": {
     "end_time": "2022-01-20T15:01:53.682728Z",
     "start_time": "2022-01-20T15:01:53.672189Z"
    }
   },
   "outputs": [
    {
     "name": "stdout",
     "output_type": "stream",
     "text": [
      "[10, 20, 10, 100, 10, 90, 10, 900, 10]\n"
     ]
    }
   ],
   "source": [
    "# Any data kept inside [] separated by ,\n",
    "\n",
    "# lst = [10, 10.20, 10+20j, 'Python', True, None, [1, 2, 3]]\n",
    "# print(lst, type(lst))\n",
    "\n",
    "lst = [10, 20, 10, 100,10,90,10, 900, 10]\n",
    "print(lst)\n",
    "\n",
    "\n",
    "# List properties\n",
    "# 1. List is a collection of heterogeneous data types - (Array)\n",
    "# 2. List can have duplicate elements - (set)\n",
    "# 3. List is a sequence - \n",
    "    # 1. It is an ordered collection of the elements\n",
    "    # 2. It supports +ve and -ve index both\n",
    "    # 3. +ve index starts from 0 from Left side\n",
    "    # 4. -ve index starts from -1 from right side\n",
    "    # 5. Basic Operation - Indexing, Slicing, Concatenation, Repetition\n",
    "# 4. List is a Mutable object\n",
    "#     1. Item assignment is possible\n",
    "#     2. The changes will be done to existong objects\n",
    "\n",
    "\n"
   ]
  },
  {
   "cell_type": "code",
   "execution_count": 31,
   "id": "6e87584f",
   "metadata": {
    "ExecuteTime": {
     "end_time": "2022-01-20T15:05:54.665663Z",
     "start_time": "2022-01-20T15:05:54.651852Z"
    }
   },
   "outputs": [
    {
     "name": "stdout",
     "output_type": "stream",
     "text": [
      "Before Operation\n",
      "[10, 20, 30, 40, 50, 60] 4513188288\n",
      "After operation\n",
      "[111, 20, 30, 40, 50, 60] 4513188288\n"
     ]
    }
   ],
   "source": [
    "# lst = [10, 20, 30, 40, 50, 60]\n",
    "# print('Before Operation')\n",
    "# print(lst, id(lst))\n",
    "# lst[0] = 111\n",
    "# print('After operation')\n",
    "# print(lst, id(lst))"
   ]
  },
  {
   "cell_type": "code",
   "execution_count": 35,
   "id": "17ce86ad",
   "metadata": {
    "ExecuteTime": {
     "end_time": "2022-01-20T15:07:56.214790Z",
     "start_time": "2022-01-20T15:07:56.201082Z"
    }
   },
   "outputs": [
    {
     "name": "stdout",
     "output_type": "stream",
     "text": [
      "Before Operation\n",
      "Python 4466329200\n",
      "After Operation\n",
      "Python 4466329200\n",
      "Jython 4513833264\n"
     ]
    }
   ],
   "source": [
    "my_str = 'Python'\n",
    "# my_str[0] = 'J' # TypeError: 'str' object does not support item assignment\n",
    "print('Before Operation')\n",
    "print(my_str, id(my_str))\n",
    "new_str = my_str.replace('P', 'J')\n",
    "print('After Operation')\n",
    "print(my_str, id(my_str))\n",
    "print(new_str, id(new_str))\n",
    "\n"
   ]
  },
  {
   "cell_type": "code",
   "execution_count": 57,
   "id": "2b162500",
   "metadata": {
    "ExecuteTime": {
     "end_time": "2022-01-20T15:46:17.572544Z",
     "start_time": "2022-01-20T15:46:17.565264Z"
    }
   },
   "outputs": [],
   "source": [
    "# Creation of list\n",
    "# 1. If we know the elements\n",
    "# lst = [10, 10.20, 10+20j, 'Python', True, None]\n",
    "# print(lst)\n",
    "\n",
    "# by using list(iterable)\n",
    "# lst1 = list('Python')\n",
    "# print(lst1)\n",
    "\n",
    "# lst1 = list([10, 20, 30, 40])\n",
    "# print(lst1)\n",
    "\n",
    "# lst1 = list((10, 20, 30, 40))\n",
    "# print(lst1)\n",
    "\n",
    "# lst1 = list({10, 20, 30, 40})\n",
    "# print(lst1)\n",
    "\n",
    "# lst1 = list({1:10, 2:20, 3:30, 4:40})\n",
    "# print(lst1)\n",
    "\n",
    "# By taking user input\n",
    "# inp_lst = eval(input('Enter a list: '))\n",
    "# print(inp_lst, type(inp_lst))\n",
    "\n",
    "# Using list comprehension\n",
    "# [expr for loop [if cond]]\n",
    "\n",
    "# Generate a list of numbers from 1 to 5\n",
    "# [i for i in range(1, 6)]\n",
    "\n",
    "# Generate a list of square of all numbers from 1 to 5\n",
    "# [1+i for i in range(1, 6)]\n",
    "\n",
    "# Generate a list of square of all even numbers from 1 to 10\n",
    "# [i**2 for i in range(2, 11, 2)]\n",
    "# [i**2 for i in range(1, 11) if i%2 == 0]\n",
    "\n",
    "# [1, 8, 9, 64, 25, 216, 48, 512, 81, 1000]\n",
    "\n",
    "# [i**2 if i%2 != 0 else i**3 for i in range(1, 11)]\n",
    "\n",
    "email_lst = ['abhishek@learnbay.co',\n",
    "            'krishna@learnbay.co',\n",
    "            'Aditya@learnbay.co',\n",
    "            'rahul@learnbay.co',\n",
    "            'ravi@learnbay.co',\n",
    "            'Nithish@learnbay.co']\n",
    "type_lst = ['Subscriber',\n",
    "           'Customer',\n",
    "           'Customer',\n",
    "           'Subscriber',\n",
    "           'Customer',\n",
    "           'Subscriber']\n",
    "\n",
    "# Extract the user name of those email id's where user type is Subscriber\n",
    "\n",
    "\n",
    "# [email_lst[i][:email_lst[i].index('@')] \n",
    "#  for i in range(len(email_lst)) if type_lst[i]=='Subscriber']\n"
   ]
  },
  {
   "cell_type": "code",
   "execution_count": 90,
   "id": "156960cc",
   "metadata": {},
   "outputs": [
    {
     "name": "stdout",
     "output_type": "stream",
     "text": [
      "['abhishek', 'rahul', 'Nithish']\n",
      "['krishna@hotmail', 'Aditya@gmail', 'ravi@outlook']\n"
     ]
    },
    {
     "data": {
      "text/plain": [
       "['<generator object <genexpr> at 0x000002E229E3D3C0>']"
      ]
     },
     "execution_count": 90,
     "metadata": {},
     "output_type": "execute_result"
    }
   ],
   "source": [
    "email_lst = ['abhishek@learnbay.co',\n",
    "            'krishna@hotmail.com',\n",
    "            'Aditya@gmail.com',\n",
    "            'rahul@yahoo.com',\n",
    "            'ravi@outlook.com',\n",
    "            'Nithish@learnbay.co']\n",
    "type_lst = ['Subscriber',\n",
    "           'Customer',\n",
    "           'Customer',\n",
    "           'Subscriber',\n",
    "           'Customer',\n",
    "           'Subscriber']\n",
    "print(list(email_lst[i].split('@')[0] for i in range(len(type_lst)) if type_lst[i] == 'Subscriber'))\n",
    "print(list(email_lst[i].split('.')[0] for i in range(len(type_lst)) if type_lst[i] == 'Customer'))\n",
    "# print(list(email_lst[i].split('.').split('@')[1] for i in range(len(type_lst)) if type_lst[i] == 'Customer')) # we can't split 2 times simultaneously\n",
    "a= str(email_lst[i].split('.')[0] for i in range(len(type_lst)) if type_lst[i] == 'Customer')\n",
    "a.split('@')   ## i want to know emal domain name 0f customer."
   ]
  },
  {
   "cell_type": "code",
   "execution_count": 64,
   "id": "1ce1c672",
   "metadata": {},
   "outputs": [
    {
     "data": {
      "text/plain": [
       "[4, 16, 36, 64, 100]"
      ]
     },
     "execution_count": 64,
     "metadata": {},
     "output_type": "execute_result"
    }
   ],
   "source": [
    "[i**2 for i in range(1, 11) if i%2 == 0]"
   ]
  },
  {
   "cell_type": "code",
   "execution_count": 53,
   "id": "594a4b9e",
   "metadata": {
    "ExecuteTime": {
     "end_time": "2022-01-20T15:21:16.116318Z",
     "start_time": "2022-01-20T15:21:16.105750Z"
    }
   },
   "outputs": [
    {
     "name": "stdout",
     "output_type": "stream",
     "text": [
      "0\n",
      "1\n",
      "2\n",
      "4\n"
     ]
    }
   ],
   "source": [
    "for i in range(5):\n",
    "    if i != 3:\n",
    "        print(i)\n",
    "    else:\n",
    "        print('Here i is 3')\n",
    "        continue"
   ]
  },
  {
   "cell_type": "code",
   "execution_count": null,
   "id": "4fb51faf",
   "metadata": {},
   "outputs": [],
   "source": [
    " -7    -6      -5     -4    -3      -2         -1\n",
    "[10, 109.20, 10+20j, True, None, 'Python', [1, 2, 3]]\n",
    "  0     1       2     3     4       5          6"
   ]
  },
  {
   "cell_type": "code",
   "execution_count": 66,
   "id": "f80fac06",
   "metadata": {
    "ExecuteTime": {
     "end_time": "2022-01-20T15:51:23.891927Z",
     "start_time": "2022-01-20T15:51:23.881527Z"
    }
   },
   "outputs": [
    {
     "name": "stdout",
     "output_type": "stream",
     "text": [
      "[10, True, [1, 2, 3]]\n",
      "[[1, 2, 3], True, 10]\n"
     ]
    }
   ],
   "source": [
    "lst = [10, 109.20, 10+20j, True, None, 'Python', [1, 2, 3]]\n",
    "# lst[5][1]\n",
    "# lst[-1][-1]\n",
    "\n",
    "# print(lst[::])\n",
    "# print(lst[::-1])\n",
    "\n",
    "# print(lst[::2])\n",
    "# print(lst[::-2])\n",
    "\n",
    "# print(lst[::3])\n",
    "# print(lst[::-3])\n",
    "\n",
    "# Default step is +1\n",
    "# If step is +ve the default start = 0 and stop = len(lst)\n",
    "# If step is -ve the default start = -1 and stop = -len(lst)-1\n",
    "\n",
    "# If step is +ve - start should be on left compared to your stop\n",
    "# If step is -ve - start should be on right compared to your stop\n",
    "\n"
   ]
  },
  {
   "cell_type": "code",
   "execution_count": 72,
   "id": "dda9e4cb",
   "metadata": {
    "ExecuteTime": {
     "end_time": "2022-01-20T15:54:07.624684Z",
     "start_time": "2022-01-20T15:54:07.620145Z"
    }
   },
   "outputs": [],
   "source": [
    "# Concatenation -> +\n",
    "# Both the operand should be list\n",
    "# It returns a new list object\n",
    "\n",
    "lst1 = [10,20,30]\n",
    "lst2 = [1, 2, 3]\n",
    "# print(lst1 + lst2)\n",
    "# print(lst1)\n",
    "# print(lst2)\n",
    "\n",
    "# lst1+ '10'\n"
   ]
  },
  {
   "cell_type": "code",
   "execution_count": 76,
   "id": "cee0cdb1",
   "metadata": {
    "ExecuteTime": {
     "end_time": "2022-01-20T15:54:53.953770Z",
     "start_time": "2022-01-20T15:54:53.949519Z"
    }
   },
   "outputs": [],
   "source": [
    "# Concatenation -> *\n",
    "# one of the operand should be list and other should be int\n",
    "# It returns a new list object\n",
    "\n",
    "# lst1 = [10,20,30]\n",
    "# print(lst1*3)"
   ]
  },
  {
   "cell_type": "code",
   "execution_count": 77,
   "id": "6b9e4a29",
   "metadata": {
    "ExecuteTime": {
     "end_time": "2022-01-20T15:55:09.264702Z",
     "start_time": "2022-01-20T15:55:09.252820Z"
    }
   },
   "outputs": [
    {
     "name": "stdout",
     "output_type": "stream",
     "text": [
      "['__add__', '__class__', '__contains__', '__delattr__', '__delitem__', '__dir__', '__doc__', '__eq__', '__format__', '__ge__', '__getattribute__', '__getitem__', '__gt__', '__hash__', '__iadd__', '__imul__', '__init__', '__init_subclass__', '__iter__', '__le__', '__len__', '__lt__', '__mul__', '__ne__', '__new__', '__reduce__', '__reduce_ex__', '__repr__', '__reversed__', '__rmul__', '__setattr__', '__setitem__', '__sizeof__', '__str__', '__subclasshook__', 'append', 'clear', 'copy', 'count', 'extend', 'index', 'insert', 'pop', 'remove', 'reverse', 'sort']\n"
     ]
    }
   ],
   "source": [
    "# List methods\n",
    "print(dir(list))\n",
    "\n",
    "# 'append', 'clear', 'copy', 'count', 'extend', 'index', 'insert', 'pop', 'remove', 'reverse', 'sort'\n"
   ]
  },
  {
   "cell_type": "code",
   "execution_count": 81,
   "id": "4a49f622",
   "metadata": {
    "ExecuteTime": {
     "end_time": "2022-01-20T15:58:48.501131Z",
     "start_time": "2022-01-20T15:58:48.494634Z"
    }
   },
   "outputs": [
    {
     "name": "stdout",
     "output_type": "stream",
     "text": [
      "[109.2, (10+20j)]\n",
      "[(10+20j), 109.2, 10]\n"
     ]
    }
   ],
   "source": [
    "lst = [10, 109.20, 10+20j, True, None, 'Python', [1, 2, 3]]\n",
    "print(lst[1:3])\n",
    "print(lst[-5:-8:-1])\n",
    "\n"
   ]
  },
  {
   "cell_type": "code",
   "execution_count": 102,
   "id": "14572418",
   "metadata": {
    "ExecuteTime": {
     "end_time": "2022-01-20T16:02:03.423520Z",
     "start_time": "2022-01-20T16:02:03.413012Z"
    }
   },
   "outputs": [
    {
     "name": "stdout",
     "output_type": "stream",
     "text": [
      "7\n",
      "[2, 11, 14, 26, 40, 46, 64]\n"
     ]
    }
   ],
   "source": [
    "my_str = \"Although 8 that way may not be obvious at first unless you're Dutch\"\n",
    "my_str1 = \"although 8 that way may not be obvious at first unless you're Dutch\"\n",
    "# Write the code to get the total count of 't' in above string. \n",
    "cont = 0\n",
    "for i in my_str:\n",
    "    if i == 't':\n",
    "        cont += 1\n",
    "print( cont)\n",
    "\n",
    "print(list(i for i in range(len(my_str)) if my_str[i] == 't'))"
   ]
  },
  {
   "cell_type": "code",
   "execution_count": 87,
   "id": "9cd57490",
   "metadata": {
    "ExecuteTime": {
     "end_time": "2022-01-20T16:02:11.514422Z",
     "start_time": "2022-01-20T16:02:11.509427Z"
    }
   },
   "outputs": [
    {
     "name": "stdout",
     "output_type": "stream",
     "text": [
      "False\n",
      "True\n"
     ]
    }
   ],
   "source": [
    "print(my_str == my_str1)\n",
    "print(my_str <= my_str1)"
   ]
  },
  {
   "cell_type": "code",
   "execution_count": null,
   "id": "5aa02d30",
   "metadata": {},
   "outputs": [],
   "source": [
    "is not, is "
   ]
  },
  {
   "cell_type": "code",
   "execution_count": null,
   "id": "01d934c9",
   "metadata": {},
   "outputs": [],
   "source": [
    "!=, =="
   ]
  },
  {
   "cell_type": "code",
   "execution_count": null,
   "id": "1e36b235",
   "metadata": {},
   "outputs": [],
   "source": []
  },
  {
   "cell_type": "code",
   "execution_count": null,
   "id": "f4c65ecd",
   "metadata": {},
   "outputs": [],
   "source": []
  },
  {
   "cell_type": "code",
   "execution_count": null,
   "id": "77adea58",
   "metadata": {},
   "outputs": [],
   "source": []
  },
  {
   "cell_type": "code",
   "execution_count": null,
   "id": "83a7e424",
   "metadata": {},
   "outputs": [],
   "source": []
  },
  {
   "cell_type": "code",
   "execution_count": null,
   "id": "75eb7dd6",
   "metadata": {},
   "outputs": [],
   "source": []
  },
  {
   "cell_type": "code",
   "execution_count": null,
   "id": "39d44be4",
   "metadata": {},
   "outputs": [],
   "source": []
  },
  {
   "cell_type": "code",
   "execution_count": null,
   "id": "c5fa22f2",
   "metadata": {},
   "outputs": [],
   "source": []
  },
  {
   "cell_type": "code",
   "execution_count": null,
   "id": "d5902c13",
   "metadata": {},
   "outputs": [],
   "source": []
  },
  {
   "cell_type": "code",
   "execution_count": null,
   "id": "fa28cc5d",
   "metadata": {},
   "outputs": [],
   "source": []
  },
  {
   "cell_type": "code",
   "execution_count": null,
   "id": "9635a7d1",
   "metadata": {},
   "outputs": [],
   "source": []
  },
  {
   "cell_type": "code",
   "execution_count": null,
   "id": "778d828d",
   "metadata": {},
   "outputs": [],
   "source": []
  },
  {
   "cell_type": "code",
   "execution_count": null,
   "id": "2ab44be3",
   "metadata": {},
   "outputs": [],
   "source": []
  },
  {
   "cell_type": "code",
   "execution_count": null,
   "id": "476e7ba1",
   "metadata": {},
   "outputs": [],
   "source": []
  },
  {
   "cell_type": "code",
   "execution_count": null,
   "id": "c52e8d91",
   "metadata": {},
   "outputs": [],
   "source": []
  },
  {
   "cell_type": "code",
   "execution_count": null,
   "id": "2996835d",
   "metadata": {},
   "outputs": [],
   "source": []
  },
  {
   "cell_type": "code",
   "execution_count": null,
   "id": "bf64fbdf",
   "metadata": {},
   "outputs": [],
   "source": []
  },
  {
   "cell_type": "code",
   "execution_count": null,
   "id": "5c469c6c",
   "metadata": {},
   "outputs": [],
   "source": []
  },
  {
   "cell_type": "code",
   "execution_count": null,
   "id": "ba8f08a3",
   "metadata": {},
   "outputs": [],
   "source": []
  },
  {
   "cell_type": "code",
   "execution_count": null,
   "id": "d91921c6",
   "metadata": {},
   "outputs": [],
   "source": []
  },
  {
   "cell_type": "code",
   "execution_count": null,
   "id": "eca33984",
   "metadata": {},
   "outputs": [],
   "source": []
  },
  {
   "cell_type": "code",
   "execution_count": null,
   "id": "d7fabe5a",
   "metadata": {},
   "outputs": [],
   "source": []
  },
  {
   "cell_type": "code",
   "execution_count": null,
   "id": "54bc28de",
   "metadata": {},
   "outputs": [],
   "source": []
  },
  {
   "cell_type": "code",
   "execution_count": null,
   "id": "730cd66e",
   "metadata": {},
   "outputs": [],
   "source": []
  },
  {
   "cell_type": "code",
   "execution_count": null,
   "id": "e1d9f4d6",
   "metadata": {},
   "outputs": [],
   "source": []
  },
  {
   "cell_type": "code",
   "execution_count": null,
   "id": "9bd829db",
   "metadata": {},
   "outputs": [],
   "source": []
  },
  {
   "cell_type": "code",
   "execution_count": null,
   "id": "aca78306",
   "metadata": {},
   "outputs": [],
   "source": []
  },
  {
   "cell_type": "code",
   "execution_count": null,
   "id": "f2542054",
   "metadata": {},
   "outputs": [],
   "source": []
  },
  {
   "cell_type": "code",
   "execution_count": null,
   "id": "25acdb0c",
   "metadata": {},
   "outputs": [],
   "source": []
  },
  {
   "cell_type": "code",
   "execution_count": null,
   "id": "588948f5",
   "metadata": {},
   "outputs": [],
   "source": []
  },
  {
   "cell_type": "code",
   "execution_count": null,
   "id": "040726d9",
   "metadata": {},
   "outputs": [],
   "source": []
  },
  {
   "cell_type": "code",
   "execution_count": null,
   "id": "32b40969",
   "metadata": {},
   "outputs": [],
   "source": []
  },
  {
   "cell_type": "code",
   "execution_count": null,
   "id": "8e187243",
   "metadata": {},
   "outputs": [],
   "source": []
  },
  {
   "cell_type": "code",
   "execution_count": null,
   "id": "09326dce",
   "metadata": {},
   "outputs": [],
   "source": []
  },
  {
   "cell_type": "code",
   "execution_count": null,
   "id": "7dd42f2a",
   "metadata": {},
   "outputs": [],
   "source": []
  },
  {
   "cell_type": "code",
   "execution_count": null,
   "id": "c7afc3e2",
   "metadata": {},
   "outputs": [],
   "source": []
  },
  {
   "cell_type": "code",
   "execution_count": null,
   "id": "6a6f9b7e",
   "metadata": {},
   "outputs": [],
   "source": []
  },
  {
   "cell_type": "code",
   "execution_count": null,
   "id": "219354f8",
   "metadata": {},
   "outputs": [],
   "source": []
  },
  {
   "cell_type": "code",
   "execution_count": null,
   "id": "3ac19df9",
   "metadata": {},
   "outputs": [],
   "source": []
  },
  {
   "cell_type": "code",
   "execution_count": null,
   "id": "056a19bc",
   "metadata": {},
   "outputs": [],
   "source": []
  },
  {
   "cell_type": "code",
   "execution_count": null,
   "id": "74c58a36",
   "metadata": {},
   "outputs": [],
   "source": []
  },
  {
   "cell_type": "code",
   "execution_count": null,
   "id": "63efc75a",
   "metadata": {},
   "outputs": [],
   "source": []
  },
  {
   "cell_type": "code",
   "execution_count": null,
   "id": "635dc31e",
   "metadata": {},
   "outputs": [],
   "source": []
  },
  {
   "cell_type": "code",
   "execution_count": null,
   "id": "e94ead65",
   "metadata": {},
   "outputs": [],
   "source": []
  },
  {
   "cell_type": "code",
   "execution_count": null,
   "id": "169744d2",
   "metadata": {},
   "outputs": [],
   "source": []
  },
  {
   "cell_type": "code",
   "execution_count": null,
   "id": "e7d16e36",
   "metadata": {},
   "outputs": [],
   "source": []
  },
  {
   "cell_type": "code",
   "execution_count": null,
   "id": "6178692b",
   "metadata": {},
   "outputs": [],
   "source": []
  },
  {
   "cell_type": "code",
   "execution_count": null,
   "id": "797f0b12",
   "metadata": {},
   "outputs": [],
   "source": []
  }
 ],
 "metadata": {
  "kernelspec": {
   "display_name": "Python 3 (ipykernel)",
   "language": "python",
   "name": "python3"
  },
  "language_info": {
   "codemirror_mode": {
    "name": "ipython",
    "version": 3
   },
   "file_extension": ".py",
   "mimetype": "text/x-python",
   "name": "python",
   "nbconvert_exporter": "python",
   "pygments_lexer": "ipython3",
   "version": "3.9.7"
  }
 },
 "nbformat": 4,
 "nbformat_minor": 5
}
