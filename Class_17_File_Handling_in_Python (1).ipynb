{
 "cells": [
  {
   "cell_type": "code",
   "execution_count": null,
   "id": "fb6a28c2",
   "metadata": {},
   "outputs": [],
   "source": [
    "# File Handling - \n",
    "\n",
    "# Text File\n",
    "# Binary File\n"
   ]
  },
  {
   "cell_type": "code",
   "execution_count": null,
   "id": "5a23423b",
   "metadata": {},
   "outputs": [],
   "source": [
    "# open\n",
    "\n",
    "# Operation - read, write, append\n",
    "\n",
    "# close"
   ]
  },
  {
   "cell_type": "code",
   "execution_count": null,
   "id": "6969f557",
   "metadata": {},
   "outputs": [],
   "source": [
    "# f = open('file_name.ext', 'mode')\n",
    "# f.read()\n",
    "# f.write()\n",
    "# f.close()"
   ]
  },
  {
   "cell_type": "code",
   "execution_count": null,
   "id": "4de7dcad",
   "metadata": {},
   "outputs": [],
   "source": [
    "# mode of operation on text file\n",
    "# Read mode - 'r'\n",
    "# Write mode - 'w'\n",
    "# Append mode - 'a'\n",
    "# Read and write mode - 'r+'\n",
    "# Write and read mode - 'w+'\n",
    "# Append and Read mode - 'a+'\n",
    "\n"
   ]
  },
  {
   "cell_type": "code",
   "execution_count": null,
   "id": "ff443fdd",
   "metadata": {},
   "outputs": [],
   "source": [
    "# mode of operation on binary file - image, pdf\n",
    "# Read mode - 'rb'\n",
    "# Write mode - 'wb'\n",
    "# Append mode - 'ab'\n",
    "# Read and write mode - 'r+b'\n",
    "# Write and read mode - 'w+b'\n",
    "# Append and Read mode - 'a+b'"
   ]
  },
  {
   "cell_type": "code",
   "execution_count": null,
   "id": "a5b4793b",
   "metadata": {},
   "outputs": [],
   "source": [
    "# Function to read from the file\n",
    "#     - read() - Reads the whole content of the file from current cursor position and \n",
    "#         returns a string object\n",
    "#     - read(no of char) - Reads the specified no of characters from the file from \n",
    "#         current cursor position and returns a string object\n",
    "#     - readline() - reads the current line from current cursor position and \n",
    "#         returns a string object\n",
    "#     - readline(no of char) - reads the specified no of characters in the current line \n",
    "#         from current cursor position and returns a string object\n",
    "#     - readlines() - reads the whole content of the file and returns a list of string \n",
    "#         where each string is a line\n",
    "\n",
    "\n"
   ]
  },
  {
   "cell_type": "code",
   "execution_count": null,
   "id": "65c9b30d",
   "metadata": {},
   "outputs": [],
   "source": [
    "# Functions to write into the file\n",
    "#     - write('String') - writes the string object in the file as a single line\n",
    "#     - writelines(['Str1\\n', 'Str2\\n', 'Str3\\n'...]) - writes the each string object in the file \n",
    "#         as a single line\n"
   ]
  },
  {
   "cell_type": "code",
   "execution_count": null,
   "id": "6c2ac2fe",
   "metadata": {},
   "outputs": [],
   "source": [
    "# seek(index_pos) - It moves the cursor to specified position\n",
    "# tell() - Current cursor position"
   ]
  },
  {
   "cell_type": "code",
   "execution_count": 9,
   "id": "7acdbcd2",
   "metadata": {
    "ExecuteTime": {
     "end_time": "2022-02-04T14:40:16.235262Z",
     "start_time": "2022-02-04T14:40:16.228685Z"
    }
   },
   "outputs": [],
   "source": [
    "# Read mode - 'r'\n",
    "# If the file exists then it will open the file in read mode and places the cursor at the begining of the file\n",
    "# If the file does not exists then it will raise FileNotFoundError\n",
    "# It allows only to read from the file but does not allow to write into the file\n",
    "\n",
    "# f = open('my_mod.py', 'r') # FileNotFoundError: [Errno 2] No such file or directory: 'my_mod.py'\n",
    "# f.close()\n",
    "\n",
    "\n",
    "# f = open('my_math.py', 'r')\n",
    "# print(f.tell())\n",
    "# content = f.read()\n",
    "# print(content, type(content))\n",
    "# f.close()\n",
    "\n",
    "\n",
    "# f = open('my_math.py', 'r')\n",
    "# print(f.tell())\n",
    "# content = f.read()\n",
    "# print(content, type(content))\n",
    "# f.write('Hello')   # UnsupportedOperation: not writable\n",
    "# f.close()\n",
    "\n"
   ]
  },
  {
   "cell_type": "code",
   "execution_count": 8,
   "id": "8025ca44",
   "metadata": {
    "ExecuteTime": {
     "end_time": "2022-02-04T14:40:07.620468Z",
     "start_time": "2022-02-04T14:40:07.616032Z"
    }
   },
   "outputs": [],
   "source": [
    "# Read and write mode - 'r+'\n",
    "# If the file exists then it will open the file in read mode and places the cursor at the begining of the file\n",
    "# If the file does not exists then it will raise FileNotFoundError\n",
    "# It allows to read and write both\n",
    "\n",
    "# f = open('my_math.py', 'r+')\n",
    "# print(f.tell())\n",
    "# content = f.read()\n",
    "# print(content, type(content))\n",
    "# f.write('\\nHello')   \n",
    "# f.close()\n",
    "\n",
    "# f = open('my_math.py', 'r+')\n",
    "# print('In the begining')\n",
    "# print(f.tell())\n",
    "# print()\n",
    "# content = f.read()\n",
    "# print('After reading')\n",
    "# print(f.tell())\n",
    "# print()\n",
    "# print(content, type(content))\n",
    "# f.seek(0)\n",
    "# print('After moving the cursor to the begining')\n",
    "# print(f.tell())\n",
    "# f.write('Hello')   \n",
    "# f.close()\n",
    "\n"
   ]
  },
  {
   "cell_type": "code",
   "execution_count": 14,
   "id": "a5669553",
   "metadata": {
    "ExecuteTime": {
     "end_time": "2022-02-04T14:47:45.010379Z",
     "start_time": "2022-02-04T14:47:44.995431Z"
    }
   },
   "outputs": [],
   "source": [
    "# Write mode - 'w'\n",
    "# If the file exists then first it will delete the content of teh file and \n",
    "#     places the curor at thebegining of the file after opening the file in write mode\n",
    "# If the file does not exists then it will create a file with the given name\n",
    "# It allows only to write into the file but does not allow to read from the file\n",
    "\n",
    "# f = open('my_mod.py', 'w') \n",
    "# f.close()\n",
    "\n",
    "\n",
    "# f = open('my_mod.py', 'w')\n",
    "# print(f.tell())\n",
    "# f.write('Hello')\n",
    "# f.close()\n",
    "\n",
    "\n",
    "# f = open('my_mod.py', 'w')\n",
    "# print(f.tell())\n",
    "# f.write('Hello')\n",
    "# f.seek(0)\n",
    "# print(f.read()) # UnsupportedOperation: not readable\n",
    "# f.close()\n",
    "\n"
   ]
  },
  {
   "cell_type": "code",
   "execution_count": 15,
   "id": "e87ac4d0",
   "metadata": {
    "ExecuteTime": {
     "end_time": "2022-02-04T14:48:00.040889Z",
     "start_time": "2022-02-04T14:48:00.014761Z"
    }
   },
   "outputs": [
    {
     "name": "stdout",
     "output_type": "stream",
     "text": [
      "0\n",
      "Hello\n"
     ]
    }
   ],
   "source": [
    "# Write and read mode - 'w+'\n",
    "# If the file exists then first it will delete the content of teh file and \n",
    "#     places the curor at thebegining of the file after opening the file in write mode\n",
    "# If the file does not exists then it will create a file with the given name\n",
    "# It allows to read and write both\n",
    "\n",
    "\n",
    "f = open('my_mod.py', 'w+')\n",
    "print(f.tell())\n",
    "f.write('Hello')\n",
    "f.seek(0)\n",
    "print(f.read()) \n",
    "f.close()\n",
    "\n"
   ]
  },
  {
   "cell_type": "code",
   "execution_count": 23,
   "id": "e213fc0f",
   "metadata": {
    "ExecuteTime": {
     "end_time": "2022-02-04T14:52:24.520521Z",
     "start_time": "2022-02-04T14:52:24.515298Z"
    }
   },
   "outputs": [],
   "source": [
    "# Append mode - 'a'\n",
    "# If the file exists then it opens the file in append mode and places the cursor at the end of the file\n",
    "# If the file does not exists then it will create a file with the given name\n",
    "# It allows only to append into the file but does not allow to read from the file\n",
    "\n",
    "# f = open('my_module.txt', 'a') \n",
    "# f.close()\n",
    "\n",
    "# f = open('my_math.py', 'a')\n",
    "# print('While opening the file')\n",
    "# print(f.tell())\n",
    "# f.write('\\nNew line')\n",
    "# f.close()\n",
    "\n",
    "# f = open('my_math.py', 'a')\n",
    "# print('While opening the file')\n",
    "# print(f.tell())\n",
    "# f.seek(100)\n",
    "# print('after seeking')\n",
    "# print(f.tell())\n",
    "# f.write('\\nAfter seeking')\n",
    "# f.close()\n",
    "\n",
    "\n",
    "# f = open('my_math.py', 'a')\n",
    "# print('While opening the file')\n",
    "# print(f.tell())\n",
    "# f.write('\\nNew line')\n",
    "# f.seek(0)\n",
    "# print(f.read())   # UnsupportedOperation: not readable\n",
    "# f.close()\n",
    "\n",
    "\n"
   ]
  },
  {
   "cell_type": "code",
   "execution_count": 24,
   "id": "23845b15",
   "metadata": {
    "ExecuteTime": {
     "end_time": "2022-02-04T14:54:16.181504Z",
     "start_time": "2022-02-04T14:54:16.167854Z"
    }
   },
   "outputs": [
    {
     "name": "stdout",
     "output_type": "stream",
     "text": [
      "While opening the file\n",
      "682\n",
      "Hello0\n",
      "b = 20\n",
      "\n",
      "def add(a, b):\n",
      "    return a+b\n",
      "\n",
      "def sub(a, b):\n",
      "    return a-b\n",
      "\n",
      "def mul(a, b):\n",
      "    return a*b\n",
      "\n",
      "def true_div(a, b):\n",
      "    return a/b\n",
      "\n",
      "def floor_div(a, b):\n",
      "    return a//b\n",
      "\n",
      "def mod_div(a,b):\n",
      "    return a%b\n",
      "\n",
      "def dom(x, y):\n",
      "    return x*y\n",
      "\n",
      "def my_func():\n",
      "    print('This is a test function')\n",
      "    \n",
      "print(__name__)\n",
      "\n",
      "\n",
      "# Value of __name__ is set to '__main__' when you execute the file directly\n",
      "# Value of __name__ is set to 'my_math' when you import the module\n",
      "\n",
      "\n",
      "\n",
      "def main():\n",
      "    print(a, b)\n",
      "    my_func()\n",
      "    print(add(10, 20))\n",
      "    print(sub(100, 90))\n",
      "    print(mul(89, 9))\n",
      "    print(true_div(90, 7))\n",
      "\n",
      "if __name__ == '__main__':\n",
      "    main()\n",
      "Hello\n",
      "New line\n",
      "After seeking\n",
      "New line\n",
      "New line\n"
     ]
    }
   ],
   "source": [
    "# Append and read mode - 'a+'\n",
    "# If the file exists then it opens the file in append mode and places the cursor at the end of the file\n",
    "# If the file does not exists then it will create a file with the given name\n",
    "# It allows to read and write both\n",
    "\n",
    "f = open('my_math.py', 'a+')\n",
    "print('While opening the file')\n",
    "print(f.tell())\n",
    "f.write('\\nNew line')\n",
    "f.seek(0)\n",
    "print(f.read())   \n",
    "f.close()\n",
    "\n"
   ]
  },
  {
   "cell_type": "code",
   "execution_count": null,
   "id": "b9d3ea44",
   "metadata": {},
   "outputs": [],
   "source": [
    "# Function to read from the file\n",
    "#     - read() - Reads the whole content of the file from current cursor position and \n",
    "#         returns a string object\n",
    "#     - read(no of char) - Reads the specified no of characters from the file from \n",
    "#         current cursor position and returns a string object\n",
    "#     - readline() - reads the current line from current cursor position and \n",
    "#         returns a string object\n",
    "#     - readline(no of char) - reads the specified no of characters in the current line \n",
    "#         from current cursor position and returns a string object\n",
    "#     - readlines() - reads the whole content of the file and returns a list of string \n",
    "#         where each string is a line"
   ]
  },
  {
   "cell_type": "code",
   "execution_count": 1,
   "id": "3a56beaf",
   "metadata": {
    "ExecuteTime": {
     "end_time": "2022-02-04T14:59:46.607703Z",
     "start_time": "2022-02-04T14:59:46.594255Z"
    }
   },
   "outputs": [
    {
     "ename": "FileNotFoundError",
     "evalue": "[Errno 2] No such file or directory: 'my_math.py'",
     "output_type": "error",
     "traceback": [
      "\u001b[1;31m---------------------------------------------------------------------------\u001b[0m",
      "\u001b[1;31mFileNotFoundError\u001b[0m                         Traceback (most recent call last)",
      "\u001b[1;32m~\\AppData\\Local\\Temp/ipykernel_22784/203342130.py\u001b[0m in \u001b[0;36m<module>\u001b[1;34m\u001b[0m\n\u001b[1;32m----> 1\u001b[1;33m \u001b[0mf\u001b[0m \u001b[1;33m=\u001b[0m \u001b[0mopen\u001b[0m\u001b[1;33m(\u001b[0m\u001b[1;34m'my_math.py'\u001b[0m\u001b[1;33m,\u001b[0m \u001b[1;34m'r'\u001b[0m\u001b[1;33m)\u001b[0m\u001b[1;33m\u001b[0m\u001b[1;33m\u001b[0m\u001b[0m\n\u001b[0m\u001b[0;32m      2\u001b[0m \u001b[1;31m# content = f.read()\u001b[0m\u001b[1;33m\u001b[0m\u001b[1;33m\u001b[0m\u001b[0m\n\u001b[0;32m      3\u001b[0m \u001b[1;31m# print(\"While opening the file\")\u001b[0m\u001b[1;33m\u001b[0m\u001b[1;33m\u001b[0m\u001b[0m\n\u001b[0;32m      4\u001b[0m \u001b[1;31m# print(f.tell())\u001b[0m\u001b[1;33m\u001b[0m\u001b[1;33m\u001b[0m\u001b[0m\n\u001b[0;32m      5\u001b[0m \u001b[1;31m# f.seek(85)\u001b[0m\u001b[1;33m\u001b[0m\u001b[1;33m\u001b[0m\u001b[0m\n",
      "\u001b[1;31mFileNotFoundError\u001b[0m: [Errno 2] No such file or directory: 'my_math.py'"
     ]
    }
   ],
   "source": [
    "f = open('my_math.py', 'r')\n",
    "# content = f.read()\n",
    "# print(\"While opening the file\")\n",
    "# print(f.tell())\n",
    "# f.seek(85)\n",
    "# print('After seeking the postion')\n",
    "# print(f.tell())\n",
    "# content = f.read(100)\n",
    "# content = f.readline()\n",
    "# content = f.readline(100)\n",
    "content = f.readlines()\n",
    "print(content)\n",
    "# print()\n",
    "# print(type(content))\n",
    "f.close()"
   ]
  },
  {
   "cell_type": "code",
   "execution_count": null,
   "id": "4bcf0ddb",
   "metadata": {},
   "outputs": [],
   "source": [
    "# Functions to write into the file\n",
    "#     - write('String') - writes the string object in the file as a single line\n",
    "#     - writelines(['Str1\\n', 'Str2\\n', 'Str3\\n'...]) - writes the each string object in the file \n",
    "#         as a single line\n"
   ]
  },
  {
   "cell_type": "code",
   "execution_count": 31,
   "id": "e83112fc",
   "metadata": {
    "ExecuteTime": {
     "end_time": "2022-02-04T15:02:54.872106Z",
     "start_time": "2022-02-04T15:02:54.855602Z"
    }
   },
   "outputs": [
    {
     "name": "stdout",
     "output_type": "stream",
     "text": [
      "While Opening the file\n"
     ]
    }
   ],
   "source": [
    "f = open('my_mod.py', 'w+')\n",
    "print('While Opening the file')\n",
    "f.tell()\n",
    "f.writelines(['Hello0\\n', 'b = 20\\n', '\\n', 'def add(a, b):\\n', '    return a+b\\n', '\\n', 'def sub(a, b):\\n', '    return a-b\\n', '\\n', 'def mul(a, b):\\n', '    return a*b\\n', '\\n', 'def true_div(a, b):\\n', '    return a/b\\n', '\\n', 'def floor_div(a, b):\\n', '    return a//b\\n', '\\n', 'def mod_div(a,b):\\n', '    return a%b\\n', '\\n', 'def dom(x, y):\\n', '    return x*y\\n', '\\n', 'def my_func():\\n', \"    print('This is a test function')\\n\", '    \\n', 'print(__name__)\\n', '\\n', '\\n', \"# Value of __name__ is set to '__main__' when you execute the file directly\\n\", \"# Value of __name__ is set to 'my_math' when you import the module\\n\", '\\n', '\\n', '\\n', 'def main():\\n', '    print(a, b)\\n', '    my_func()\\n', '    print(add(10, 20))\\n', '    print(sub(100, 90))\\n', '    print(mul(89, 9))\\n', '    print(true_div(90, 7))\\n', '\\n', \"if __name__ == '__main__':\\n\", '    main()\\n', 'Hello\\n', 'New line\\n', 'After seeking\\n', 'New line\\n', 'New line'])\n",
    "f.close()\n"
   ]
  },
  {
   "cell_type": "code",
   "execution_count": 36,
   "id": "ddfbc879",
   "metadata": {
    "ExecuteTime": {
     "end_time": "2022-02-04T15:29:01.124044Z",
     "start_time": "2022-02-04T15:29:01.111529Z"
    }
   },
   "outputs": [
    {
     "name": "stdout",
     "output_type": "stream",
     "text": [
      "No of characters -  1228\n",
      "No of words -  204\n",
      "No of lines -  10\n"
     ]
    }
   ],
   "source": [
    "# 1. WAP which counts the no of characters, no of words and no of lines from the file\n",
    "\n",
    "with open('my_module.py', 'r') as f:\n",
    "    content = f.read()\n",
    "    print('No of characters - ', len(content))\n",
    "    print('No of words - ', len(content.split()))\n",
    "    f.seek(0)\n",
    "    content = f.readlines()\n",
    "    print('No of lines - ', len(content))\n",
    "\n",
    "\n"
   ]
  },
  {
   "cell_type": "code",
   "execution_count": null,
   "id": "7948fe9f",
   "metadata": {},
   "outputs": [],
   "source": [
    "# 2. WAP which adds below line at the line no 6\n",
    "#     'Function to read from the file'\n",
    "# Output\n",
    "\n",
    "# What is Lorem Ipsum?\n",
    "# Lorem Ipsum is simply dummy text of the printing and typesetting industry. \n",
    "# Lorem Ipsum has been the industrys standard dummy text ever since the 1500s, when an unknown printer took a galley of type and scrambled it to make a type specimen book. \n",
    "# It has survived not only five centuries, but also the leap into electronic typesetting, remaining essentially unchanged. \n",
    "# It was popularised in the 1960s with the release of Letraset sheets containing Lorem Ipsum passages, and more recently with desktop publishing software like Aldus PageMaker including versions of Lorem Ipsum.\n",
    "# Function to read from the file\n",
    "# Why do we use it?\n",
    "# It is a long established fact that a reader will be distracted by the readable content of a page when looking at its layout. \n",
    "# The point of using Lorem Ipsum is that it has a more-or-less normal distribution of letters, as opposed to using Content here, content here, making it look like readable English. \n",
    "# Many desktop publishing packages and web page editors now use Lorem Ipsum as their default model text, and a search for lorem ipsum will uncover many web sites still in their infancy. \n",
    "# Various versions have evolved over the years, sometimes by accident, sometimes on purpose (injected humour and the like).\n",
    "\n",
    "\n",
    "\n",
    "\n",
    "\n",
    "\n"
   ]
  },
  {
   "cell_type": "code",
   "execution_count": 37,
   "id": "ffe45f78",
   "metadata": {
    "ExecuteTime": {
     "end_time": "2022-02-04T15:29:55.554714Z",
     "start_time": "2022-02-04T15:29:55.536542Z"
    }
   },
   "outputs": [],
   "source": [
    "# WAP which copies the content from python.jpeg to new.png\n",
    "\n",
    "with open('python.jpeg', 'rb') as f1:\n",
    "    with open('new.png', 'wb') as f2:\n",
    "        f2.write(f1.read())\n",
    "\n"
   ]
  },
  {
   "cell_type": "code",
   "execution_count": null,
   "id": "3c6a1060",
   "metadata": {},
   "outputs": [],
   "source": [
    "# "
   ]
  },
  {
   "cell_type": "code",
   "execution_count": 33,
   "id": "d1ac116f",
   "metadata": {
    "ExecuteTime": {
     "end_time": "2022-02-04T15:11:35.080030Z",
     "start_time": "2022-02-04T15:11:35.076954Z"
    }
   },
   "outputs": [],
   "source": [
    "# f = open('my_module.py', 'r+')\n",
    "# print(f.read())\n",
    "# f.write('\\nHello')\n",
    "# 'Hello'.append(0)\n",
    "# f.close()"
   ]
  },
  {
   "cell_type": "code",
   "execution_count": 34,
   "id": "20dbf578",
   "metadata": {
    "ExecuteTime": {
     "end_time": "2022-02-04T15:12:35.057583Z",
     "start_time": "2022-02-04T15:12:35.035807Z"
    }
   },
   "outputs": [
    {
     "name": "stdout",
     "output_type": "stream",
     "text": [
      "\n"
     ]
    },
    {
     "ename": "AttributeError",
     "evalue": "'str' object has no attribute 'append'",
     "output_type": "error",
     "traceback": [
      "\u001b[0;31m---------------------------------------------------------------------------\u001b[0m",
      "\u001b[0;31mAttributeError\u001b[0m                            Traceback (most recent call last)",
      "\u001b[0;32m<ipython-input-34-d41e840a96df>\u001b[0m in \u001b[0;36m<module>\u001b[0;34m\u001b[0m\n\u001b[1;32m      2\u001b[0m     \u001b[0mprint\u001b[0m\u001b[0;34m(\u001b[0m\u001b[0mf\u001b[0m\u001b[0;34m.\u001b[0m\u001b[0mread\u001b[0m\u001b[0;34m(\u001b[0m\u001b[0;34m)\u001b[0m\u001b[0;34m)\u001b[0m\u001b[0;34m\u001b[0m\u001b[0;34m\u001b[0m\u001b[0m\n\u001b[1;32m      3\u001b[0m     \u001b[0mf\u001b[0m\u001b[0;34m.\u001b[0m\u001b[0mwrite\u001b[0m\u001b[0;34m(\u001b[0m\u001b[0;34m'\\nHello'\u001b[0m\u001b[0;34m)\u001b[0m\u001b[0;34m\u001b[0m\u001b[0;34m\u001b[0m\u001b[0m\n\u001b[0;32m----> 4\u001b[0;31m     \u001b[0;34m'Hello'\u001b[0m\u001b[0;34m.\u001b[0m\u001b[0mappend\u001b[0m\u001b[0;34m(\u001b[0m\u001b[0;36m0\u001b[0m\u001b[0;34m)\u001b[0m\u001b[0;34m\u001b[0m\u001b[0;34m\u001b[0m\u001b[0m\n\u001b[0m",
      "\u001b[0;31mAttributeError\u001b[0m: 'str' object has no attribute 'append'"
     ]
    }
   ],
   "source": [
    "with open('my_module.py', 'r+') as f1:\n",
    "    print(f.read())\n",
    "    f.write('\\nHello')\n",
    "    'Hello'.append(0)"
   ]
  },
  {
   "cell_type": "code",
   "execution_count": null,
   "id": "fa8db1a4",
   "metadata": {},
   "outputs": [],
   "source": [
    "Sauveer"
   ]
  },
  {
   "cell_type": "code",
   "execution_count": 38,
   "id": "1fb7ea85",
   "metadata": {
    "ExecuteTime": {
     "end_time": "2022-02-04T15:32:05.882679Z",
     "start_time": "2022-02-04T15:32:05.877826Z"
    }
   },
   "outputs": [],
   "source": [
    "# Pickle\n",
    "# pickle.dump()\n",
    "# pickle.load()"
   ]
  },
  {
   "cell_type": "code",
   "execution_count": null,
   "id": "41943e98",
   "metadata": {},
   "outputs": [],
   "source": []
  },
  {
   "cell_type": "code",
   "execution_count": null,
   "id": "69fd2ec0",
   "metadata": {},
   "outputs": [],
   "source": []
  },
  {
   "cell_type": "code",
   "execution_count": null,
   "id": "ba554b82",
   "metadata": {},
   "outputs": [],
   "source": []
  },
  {
   "cell_type": "code",
   "execution_count": null,
   "id": "9357997b",
   "metadata": {},
   "outputs": [],
   "source": []
  },
  {
   "cell_type": "code",
   "execution_count": null,
   "id": "1676e646",
   "metadata": {},
   "outputs": [],
   "source": []
  },
  {
   "cell_type": "code",
   "execution_count": null,
   "id": "2effc157",
   "metadata": {},
   "outputs": [],
   "source": []
  },
  {
   "cell_type": "code",
   "execution_count": null,
   "id": "7970b4e7",
   "metadata": {},
   "outputs": [],
   "source": []
  },
  {
   "cell_type": "code",
   "execution_count": null,
   "id": "53ad791f",
   "metadata": {},
   "outputs": [],
   "source": []
  },
  {
   "cell_type": "code",
   "execution_count": null,
   "id": "61e0e57b",
   "metadata": {},
   "outputs": [],
   "source": []
  },
  {
   "cell_type": "code",
   "execution_count": null,
   "id": "7ae60431",
   "metadata": {},
   "outputs": [],
   "source": []
  },
  {
   "cell_type": "code",
   "execution_count": null,
   "id": "f1408075",
   "metadata": {},
   "outputs": [],
   "source": []
  },
  {
   "cell_type": "code",
   "execution_count": null,
   "id": "39bbfdcb",
   "metadata": {},
   "outputs": [],
   "source": []
  },
  {
   "cell_type": "code",
   "execution_count": null,
   "id": "5b9a2cd3",
   "metadata": {},
   "outputs": [],
   "source": []
  },
  {
   "cell_type": "code",
   "execution_count": null,
   "id": "7c510a4f",
   "metadata": {},
   "outputs": [],
   "source": []
  },
  {
   "cell_type": "code",
   "execution_count": null,
   "id": "420a1668",
   "metadata": {},
   "outputs": [],
   "source": []
  },
  {
   "cell_type": "code",
   "execution_count": null,
   "id": "7963e432",
   "metadata": {},
   "outputs": [],
   "source": []
  },
  {
   "cell_type": "code",
   "execution_count": null,
   "id": "35b86802",
   "metadata": {},
   "outputs": [],
   "source": []
  },
  {
   "cell_type": "code",
   "execution_count": null,
   "id": "b0510194",
   "metadata": {},
   "outputs": [],
   "source": []
  },
  {
   "cell_type": "code",
   "execution_count": null,
   "id": "f13d8b77",
   "metadata": {},
   "outputs": [],
   "source": []
  },
  {
   "cell_type": "code",
   "execution_count": null,
   "id": "223f6740",
   "metadata": {},
   "outputs": [],
   "source": []
  },
  {
   "cell_type": "code",
   "execution_count": null,
   "id": "23cb1e41",
   "metadata": {},
   "outputs": [],
   "source": []
  },
  {
   "cell_type": "code",
   "execution_count": null,
   "id": "eb39db19",
   "metadata": {},
   "outputs": [],
   "source": []
  },
  {
   "cell_type": "code",
   "execution_count": null,
   "id": "fe0a6636",
   "metadata": {},
   "outputs": [],
   "source": []
  },
  {
   "cell_type": "code",
   "execution_count": null,
   "id": "130b96c4",
   "metadata": {},
   "outputs": [],
   "source": []
  },
  {
   "cell_type": "code",
   "execution_count": null,
   "id": "b40759b2",
   "metadata": {},
   "outputs": [],
   "source": []
  },
  {
   "cell_type": "code",
   "execution_count": null,
   "id": "4d767b0c",
   "metadata": {},
   "outputs": [],
   "source": []
  },
  {
   "cell_type": "code",
   "execution_count": null,
   "id": "99137207",
   "metadata": {},
   "outputs": [],
   "source": []
  },
  {
   "cell_type": "code",
   "execution_count": null,
   "id": "dfd9f297",
   "metadata": {},
   "outputs": [],
   "source": []
  },
  {
   "cell_type": "code",
   "execution_count": null,
   "id": "60a37740",
   "metadata": {},
   "outputs": [],
   "source": []
  },
  {
   "cell_type": "code",
   "execution_count": null,
   "id": "cb1ea869",
   "metadata": {},
   "outputs": [],
   "source": []
  },
  {
   "cell_type": "code",
   "execution_count": null,
   "id": "b29dd795",
   "metadata": {},
   "outputs": [],
   "source": []
  },
  {
   "cell_type": "code",
   "execution_count": null,
   "id": "6e511d5b",
   "metadata": {},
   "outputs": [],
   "source": []
  },
  {
   "cell_type": "code",
   "execution_count": null,
   "id": "e0ecf89e",
   "metadata": {},
   "outputs": [],
   "source": []
  },
  {
   "cell_type": "code",
   "execution_count": null,
   "id": "c749da1a",
   "metadata": {},
   "outputs": [],
   "source": []
  },
  {
   "cell_type": "code",
   "execution_count": null,
   "id": "3e61fece",
   "metadata": {},
   "outputs": [],
   "source": []
  },
  {
   "cell_type": "code",
   "execution_count": null,
   "id": "3980d38f",
   "metadata": {},
   "outputs": [],
   "source": []
  },
  {
   "cell_type": "code",
   "execution_count": null,
   "id": "03d4776b",
   "metadata": {},
   "outputs": [],
   "source": []
  },
  {
   "cell_type": "code",
   "execution_count": null,
   "id": "fc6ee10e",
   "metadata": {},
   "outputs": [],
   "source": []
  },
  {
   "cell_type": "code",
   "execution_count": null,
   "id": "38adaa68",
   "metadata": {},
   "outputs": [],
   "source": []
  },
  {
   "cell_type": "code",
   "execution_count": null,
   "id": "d940048e",
   "metadata": {},
   "outputs": [],
   "source": []
  },
  {
   "cell_type": "code",
   "execution_count": null,
   "id": "877b98a0",
   "metadata": {},
   "outputs": [],
   "source": []
  },
  {
   "cell_type": "code",
   "execution_count": null,
   "id": "be9c3b39",
   "metadata": {},
   "outputs": [],
   "source": []
  },
  {
   "cell_type": "code",
   "execution_count": null,
   "id": "d101ac69",
   "metadata": {},
   "outputs": [],
   "source": []
  },
  {
   "cell_type": "code",
   "execution_count": null,
   "id": "02af4238",
   "metadata": {},
   "outputs": [],
   "source": []
  },
  {
   "cell_type": "code",
   "execution_count": null,
   "id": "14fde4e2",
   "metadata": {},
   "outputs": [],
   "source": []
  },
  {
   "cell_type": "code",
   "execution_count": null,
   "id": "e5f05c2a",
   "metadata": {},
   "outputs": [],
   "source": []
  },
  {
   "cell_type": "code",
   "execution_count": null,
   "id": "0106dd89",
   "metadata": {},
   "outputs": [],
   "source": []
  },
  {
   "cell_type": "code",
   "execution_count": null,
   "id": "49198efc",
   "metadata": {},
   "outputs": [],
   "source": []
  },
  {
   "cell_type": "code",
   "execution_count": null,
   "id": "50ea8c5d",
   "metadata": {},
   "outputs": [],
   "source": []
  },
  {
   "cell_type": "code",
   "execution_count": null,
   "id": "f380490c",
   "metadata": {},
   "outputs": [],
   "source": []
  },
  {
   "cell_type": "code",
   "execution_count": null,
   "id": "9205d473",
   "metadata": {},
   "outputs": [],
   "source": []
  },
  {
   "cell_type": "code",
   "execution_count": null,
   "id": "4780faf7",
   "metadata": {},
   "outputs": [],
   "source": []
  },
  {
   "cell_type": "code",
   "execution_count": null,
   "id": "ec3745a0",
   "metadata": {},
   "outputs": [],
   "source": []
  },
  {
   "cell_type": "code",
   "execution_count": null,
   "id": "6f004c3f",
   "metadata": {},
   "outputs": [],
   "source": []
  },
  {
   "cell_type": "code",
   "execution_count": null,
   "id": "770972a0",
   "metadata": {},
   "outputs": [],
   "source": []
  },
  {
   "cell_type": "code",
   "execution_count": null,
   "id": "05da7584",
   "metadata": {},
   "outputs": [],
   "source": []
  },
  {
   "cell_type": "code",
   "execution_count": null,
   "id": "c8c918ca",
   "metadata": {},
   "outputs": [],
   "source": []
  },
  {
   "cell_type": "code",
   "execution_count": null,
   "id": "895de535",
   "metadata": {},
   "outputs": [],
   "source": []
  },
  {
   "cell_type": "code",
   "execution_count": null,
   "id": "8fcf431b",
   "metadata": {},
   "outputs": [],
   "source": []
  }
 ],
 "metadata": {
  "kernelspec": {
   "display_name": "Python 3 (ipykernel)",
   "language": "python",
   "name": "python3"
  },
  "language_info": {
   "codemirror_mode": {
    "name": "ipython",
    "version": 3
   },
   "file_extension": ".py",
   "mimetype": "text/x-python",
   "name": "python",
   "nbconvert_exporter": "python",
   "pygments_lexer": "ipython3",
   "version": "3.9.7"
  }
 },
 "nbformat": 4,
 "nbformat_minor": 5
}
